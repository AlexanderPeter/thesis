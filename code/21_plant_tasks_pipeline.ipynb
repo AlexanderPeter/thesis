{
 "cells": [
  {
   "cell_type": "code",
   "execution_count": 10,
   "metadata": {},
   "outputs": [],
   "source": [
    "import numpy as np\n",
    "import os\n",
    "import pandas as pd\n",
    "import torch\n",
    "import torch.nn as nn\n",
    "import torch.utils.data as data\n",
    "from sklearn.model_selection import train_test_split\n",
    "from torchvision import datasets, transforms\n",
    "from torchvision.models import resnet50"
   ]
  },
  {
   "cell_type": "code",
   "execution_count": 11,
   "metadata": {},
   "outputs": [],
   "source": [
    "seed = 19\n",
    "img_size = 224\n",
    "batch_size = 16\n",
    "split_ratio_1 = 0.2  # (validation+test) / (train+validation+test)\n",
    "split_ratio_2 = 0.5  # (test) / (validation+test)\n",
    "\n",
    "configuration_csv_path = \"configs/plant-tasks-configuration.csv\""
   ]
  },
  {
   "cell_type": "code",
   "execution_count": 12,
   "metadata": {},
   "outputs": [
    {
     "data": {
      "text/plain": [
       "<torch._C.Generator at 0x1e1c8c6bfb0>"
      ]
     },
     "execution_count": 12,
     "metadata": {},
     "output_type": "execute_result"
    }
   ],
   "source": [
    "torch.manual_seed(seed)"
   ]
  },
  {
   "cell_type": "code",
   "execution_count": 13,
   "metadata": {},
   "outputs": [
    {
     "name": "stdout",
     "output_type": "stream",
     "text": [
      "NVIDIA GeForce GTX 960\n"
     ]
    }
   ],
   "source": [
    "assert torch.cuda.is_available()\n",
    "n_devices = torch.cuda.device_count()\n",
    "for i in range(0, n_devices):\n",
    "    print(torch.cuda.get_device_name(i))\n",
    "\n",
    "device = torch.device(\"cuda\")\n",
    "\n",
    "# Duration of cassava mini:\n",
    "# 3m 39.1s on cpu\n",
    "# 0m 58.2s on gpu\n",
    "# 0m 30.4s on gpu"
   ]
  },
  {
   "cell_type": "code",
   "execution_count": 14,
   "metadata": {},
   "outputs": [],
   "source": [
    "def load_model(model_architecture, num_classes_weights, checkpoint_path):\n",
    "    model = None\n",
    "\n",
    "    if model_architecture == \"resnet50\":\n",
    "        model = resnet50(weights=None)\n",
    "        if num_classes_weights == 0:\n",
    "            model.fc = nn.Sequential()\n",
    "        else:\n",
    "            model.fc = nn.Linear(model.fc.in_features, num_classes_weights)\n",
    "        # print(f\"model.fc.in_features: {model.fc.in_features}\")\n",
    "        checkpoint = torch.load(checkpoint_path, map_location=torch.device(\"cpu\"))\n",
    "        model.load_state_dict(checkpoint)\n",
    "        # print(f\"model.fc.out_features: {model.fc.out_features}\")\n",
    "        model.fc = nn.Sequential()\n",
    "    elif model_architecture == \"swin_t\":\n",
    "        model = torch.hub.load(\n",
    "            \"SharanSMenon/swin-transformer-hub:main\",\n",
    "            \"swin_tiny_patch4_window7_224\",\n",
    "            pretrained=False,\n",
    "        )\n",
    "        model.head = nn.Linear(model.head.in_features, num_classes_weights)\n",
    "        # print(f\"model.head.in_features: {model.head.in_features}\")\n",
    "        checkpoint = torch.load(checkpoint_path, map_location=torch.device(\"cpu\"))\n",
    "        model.load_state_dict(checkpoint, strict=False)\n",
    "        # print(f\"model.head.out_features: {model.head.out_features}\")\n",
    "        model.head = nn.Sequential()\n",
    "    elif model_architecture == \"vit_b16\":\n",
    "        model = torch.hub.load(\n",
    "            \"facebookresearch/dino:main\",\n",
    "            \"dino_vitb16\",\n",
    "            pretrained=False,\n",
    "        )\n",
    "        checkpoint = torch.load(checkpoint_path, map_location=torch.device(\"cpu\"))\n",
    "        model.load_state_dict(checkpoint, strict=False)\n",
    "    else:\n",
    "        print(f\"Unknown model architecture: {model_architecture}\")\n",
    "\n",
    "    for param in model.parameters():\n",
    "        param.requires_grad = False\n",
    "    return model"
   ]
  },
  {
   "cell_type": "code",
   "execution_count": 15,
   "metadata": {},
   "outputs": [],
   "source": [
    "def load_dataloader(data_dir):\n",
    "    transform = transforms.Compose(\n",
    "        [\n",
    "            transforms.Resize(img_size),\n",
    "            transforms.CenterCrop(img_size),\n",
    "            transforms.ToTensor(),\n",
    "        ]\n",
    "    )\n",
    "    ds_full = datasets.ImageFolder(data_dir, transform=transform)\n",
    "\n",
    "    dl_full = data.DataLoader(\n",
    "        ds_full,\n",
    "        batch_size=batch_size,\n",
    "        shuffle=False,\n",
    "        num_workers=0,\n",
    "    )\n",
    "    return dl_full"
   ]
  },
  {
   "cell_type": "code",
   "execution_count": 16,
   "metadata": {},
   "outputs": [],
   "source": [
    "def calculate_features(model, dl_full):\n",
    "    model = model.to(device)\n",
    "    target_list = []\n",
    "    features_list = []\n",
    "\n",
    "    for i, (images, targets) in enumerate(dl_full):\n",
    "        # print(f\"Batch {i}\")\n",
    "        images = images.to(device)\n",
    "        outputs = model(images)\n",
    "        target_list.append(targets.numpy())\n",
    "        features_list.append(outputs.cpu().numpy())\n",
    "\n",
    "    print(f\"Number of batches: {len(target_list)}\")\n",
    "    np_target = np.concatenate(target_list)\n",
    "    np_features = np.concatenate(features_list)\n",
    "    df_full = pd.DataFrame(np_features)\n",
    "    df_full[\"target\"] = pd.Series(np_target)\n",
    "    return df_full"
   ]
  },
  {
   "cell_type": "code",
   "execution_count": 17,
   "metadata": {},
   "outputs": [],
   "source": [
    "def split_and_save_dataframe(df_full, csv_path):\n",
    "    df_train, df_valid_test = train_test_split(\n",
    "        df_full,\n",
    "        test_size=split_ratio_1,\n",
    "        stratify=df_full[\"target\"],\n",
    "        random_state=seed,\n",
    "    )\n",
    "    df_valid, df_test = train_test_split(\n",
    "        df_valid_test,\n",
    "        test_size=split_ratio_2,\n",
    "        stratify=df_valid_test[\"target\"],\n",
    "        random_state=seed,\n",
    "    )\n",
    "    df_train[\"set\"] = \"train\"\n",
    "    df_valid[\"set\"] = \"valid\"\n",
    "    df_test[\"set\"] = \"test\"\n",
    "\n",
    "    df_full = pd.concat([df_train, df_valid, df_test]).sort_index()\n",
    "\n",
    "    cols = df_full.columns.tolist()\n",
    "    cols = cols[-2:] + cols[:-2]\n",
    "    df_full = df_full[cols]\n",
    "    df_full.to_csv(csv_path)\n",
    "    print(f\"Csv file saved: {feature_path}\")"
   ]
  },
  {
   "cell_type": "code",
   "execution_count": 19,
   "metadata": {},
   "outputs": [
    {
     "name": "stdout",
     "output_type": "stream",
     "text": [
      "Csv file already exists: ../datasets/intermediate-features/Cassava_Mini-ResNet50-Random_19.csv\n",
      "Csv file already exists: ../datasets/intermediate-features/Cassava_Mini-ResNet50-Random_20.csv\n",
      "Csv file already exists: ../datasets/intermediate-features/Cassava_Mini-ResNet50-Random_21.csv\n",
      "Csv file already exists: ../datasets/intermediate-features/Cassava_Mini-ResNet50-ImageNet_v1.csv\n",
      "Csv file already exists: ../datasets/intermediate-features/Cassava_Mini-ResNet50-ImageNet_v2.csv\n",
      "Csv file already exists: ../datasets/intermediate-features/Cassava_Mini-ResNet50-ImageNet_SSL.csv\n",
      "Csv file already exists: ../datasets/intermediate-features/Cassava_Mini-ResNet50-PDDD.csv\n",
      "Csv file already exists: ../datasets/intermediate-features/Cassava_Mini-ViT_B16-Random_19.csv\n",
      "Csv file already exists: ../datasets/intermediate-features/Cassava_Mini-ViT_B16-Random_20.csv\n",
      "Csv file already exists: ../datasets/intermediate-features/Cassava_Mini-ViT_B16-Random_21.csv\n",
      "Csv file already exists: ../datasets/intermediate-features/Cassava_Mini-ViT_B16-ImageNet_v1.csv\n",
      "Csv file already exists: ../datasets/intermediate-features/Cassava_Mini-ViT_B16-ImageNet_v2.csv\n",
      "Csv file already exists: ../datasets/intermediate-features/Cassava_Mini-ViT_B16-ImageNet_v3.csv\n",
      "Csv file already exists: ../datasets/intermediate-features/Cassava_Mini-ViT_B16-ImageNet_SSL.csv\n",
      "Csv file already exists: ../datasets/intermediate-features/Cassava_Mini-ViT_B16-PDDD_96.csv\n",
      "Csv file already exists: ../datasets/intermediate-features/Cassava_Mini-ViT_B16-PDDD_197.csv\n",
      "Csv file already exists: ../datasets/intermediate-features/PlantDoc-ResNet50-Random_19.csv\n",
      "Csv file already exists: ../datasets/intermediate-features/PlantDoc-ResNet50-Random_20.csv\n",
      "Csv file already exists: ../datasets/intermediate-features/PlantDoc-ResNet50-Random_21.csv\n",
      "Csv file already exists: ../datasets/intermediate-features/PlantDoc-ResNet50-ImageNet_v1.csv\n",
      "Csv file already exists: ../datasets/intermediate-features/PlantDoc-ResNet50-ImageNet_v2.csv\n",
      "Csv file already exists: ../datasets/intermediate-features/PlantDoc-ResNet50-ImageNet_SSL.csv\n",
      "Csv file already exists: ../datasets/intermediate-features/PlantDoc-ResNet50-PDDD.csv\n",
      "Csv file already exists: ../datasets/intermediate-features/PlantDoc-ViT_B16-Random_19.csv\n",
      "Csv file already exists: ../datasets/intermediate-features/PlantDoc-ViT_B16-Random_20.csv\n",
      "Csv file already exists: ../datasets/intermediate-features/PlantDoc-ViT_B16-Random_21.csv\n",
      "Csv file already exists: ../datasets/intermediate-features/PlantDoc-ViT_B16-ImageNet_v1.csv\n",
      "Csv file already exists: ../datasets/intermediate-features/PlantDoc-ViT_B16-ImageNet_v2.csv\n",
      "Csv file already exists: ../datasets/intermediate-features/PlantDoc-ViT_B16-ImageNet_v3.csv\n",
      "Csv file already exists: ../datasets/intermediate-features/PlantDoc-ViT_B16-ImageNet_SSL.csv\n",
      "Csv file already exists: ../datasets/intermediate-features/PlantDoc-ViT_B16-PDDD_96.csv\n",
      "Csv file already exists: ../datasets/intermediate-features/PlantDoc-ViT_B16-PDDD_197.csv\n"
     ]
    }
   ],
   "source": [
    "df_config = pd.read_csv(configuration_csv_path, index_col=0)\n",
    "\n",
    "for index, row in df_config.iterrows():\n",
    "    architecture = row[\"architecture\"]\n",
    "    weigths_path = row[\"weigths_path\"]\n",
    "    weigths_num_classes = row[\"weigths_num_classes\"]\n",
    "    feature_path = row[\"feature_path\"]\n",
    "    dataset_path = row[\"dataset_path\"]\n",
    "    # assert architecture in weigths_path.lower()\n",
    "    assert architecture in feature_path.lower()\n",
    "    if os.path.exists(feature_path):\n",
    "        print(f\"Csv file already exists: {feature_path}\")\n",
    "    else:\n",
    "        model = load_model(architecture, weigths_num_classes, weigths_path)\n",
    "        dataloader = load_dataloader(dataset_path)\n",
    "        df_features = calculate_features(model, dataloader)\n",
    "        split_and_save_dataframe(df_features, feature_path)"
   ]
  }
 ],
 "metadata": {
  "kernelspec": {
   "display_name": "Python 3.9.7 ('.venv': venv)",
   "language": "python",
   "name": "python3"
  },
  "language_info": {
   "codemirror_mode": {
    "name": "ipython",
    "version": 3
   },
   "file_extension": ".py",
   "mimetype": "text/x-python",
   "name": "python",
   "nbconvert_exporter": "python",
   "pygments_lexer": "ipython3",
   "version": "3.8.10"
  },
  "orig_nbformat": 4,
  "vscode": {
   "interpreter": {
    "hash": "412f64844b7b8af74bdbb265a073648c443bf75ef51a1e949163ab9198702ceb"
   }
  }
 },
 "nbformat": 4,
 "nbformat_minor": 2
}
