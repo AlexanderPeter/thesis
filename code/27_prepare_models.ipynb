{
 "cells": [
  {
   "cell_type": "code",
   "execution_count": 2,
   "metadata": {},
   "outputs": [],
   "source": [
    "import numpy as np\n",
    "import sys\n",
    "import torch\n",
    "import os\n",
    "from torchvision.models import resnet50, ResNet50_Weights\n",
    "from transformers import ViTForImageClassification\n",
    "from transformers import ViTModel\n",
    "import torch.nn as nn\n",
    "import timm\n",
    "import pathlib\n",
    "\n",
    "temp = pathlib.PosixPath\n",
    "\n",
    "sys.path.append(\"ssl_library\")\n",
    "from src.pkg.embedder import Embedder\n",
    "from src.pkg.wrappers import ViTWrapper, Wrapper\n",
    "\n",
    "sys.path.append(\"local_python\")\n",
    "from local_utils import print_parameters"
   ]
  },
  {
   "cell_type": "code",
   "execution_count": 3,
   "metadata": {},
   "outputs": [],
   "source": [
    "seed = 19"
   ]
  },
  {
   "cell_type": "code",
   "execution_count": 71,
   "metadata": {},
   "outputs": [],
   "source": [
    "torch.manual_seed(seed)\n",
    "torch.cuda.manual_seed_all(seed)\n",
    "np.random.seed(seed)\n",
    "\n",
    "# NOTE: ssl_library is not windows compatible in itself\n",
    "# https://stackoverflow.com/questions/57286486/i-cant-load-my-model-because-i-cant-put-a-posixpath\n",
    "\n",
    "pathlib.PosixPath = pathlib.WindowsPath"
   ]
  },
  {
   "cell_type": "code",
   "execution_count": 108,
   "metadata": {},
   "outputs": [],
   "source": [
    "def print_checkpoint_keys(model_dir, n=5):\n",
    "    checkpoint_keys = list(\n",
    "        torch.load(model_dir, map_location=torch.device(\"cpu\")).keys()\n",
    "    )\n",
    "    print(\n",
    "        f\"{len(checkpoint_keys)} keys in total. First {n} keys: {checkpoint_keys[:n]}\"\n",
    "    )"
   ]
  },
  {
   "cell_type": "code",
   "execution_count": 127,
   "metadata": {},
   "outputs": [
    {
     "name": "stdout",
     "output_type": "stream",
     "text": [
      "File ../model_weights/resnet50/ResNet50-PDDD_raw.pth already exists\n",
      "File ../model_weights/resnet50/ResNet50-PDDD_headless.pth already exists\n",
      "318 keys in total. First 5 keys: ['model.0.weight', 'model.1.weight', 'model.1.bias', 'model.1.running_mean', 'model.1.running_var']\n"
     ]
    }
   ],
   "source": [
    "model_dir = \"../model_weights/resnet50/ResNet50-PDDD_raw.pth\"\n",
    "if os.path.exists(model_dir):\n",
    "    print(f\"File {model_dir} already exists\")\n",
    "else:\n",
    "    model_url = \"https://zenodo.org/records/7890438/files/ResNet50-Plant-model-80.pth\"\n",
    "    torch.hub.download_url_to_file(model_url, model_dir, progress=True)\n",
    "\n",
    "raw_path = model_dir\n",
    "model_dir = \"../model_weights/resnet50/ResNet50-PDDD_headless.pth\"\n",
    "if os.path.exists(model_dir):\n",
    "    print(f\"File {model_dir} already exists\")\n",
    "else:\n",
    "    model = Embedder.load_pretrained(\"resnet50_random\")\n",
    "    num_classes_weights = 120\n",
    "\n",
    "    model = resnet50(weights=None)\n",
    "\n",
    "    model.fc = nn.Linear(model.fc.in_features, num_classes_weights)\n",
    "\n",
    "    print(f\"model.fc.in_features: {model.fc.in_features}\")\n",
    "\n",
    "    checkpoint = torch.load(raw_path, map_location=torch.device(\"cpu\"))\n",
    "\n",
    "    model.load_state_dict(checkpoint, strict=True)\n",
    "\n",
    "    print(f\"model.fc.out_features: {model.fc.out_features}\")\n",
    "\n",
    "    # NOTE: The Wrapper from the ssl_library adds a prefic to the dictionary keys (replace_ckp_str=\"model.\")\n",
    "    model = torch.nn.Sequential(*list(model.children())[:-1])\n",
    "    model = Wrapper(model=model)\n",
    "\n",
    "    print_parameters(model)  # 23'508'032\n",
    "\n",
    "    torch.save(model.state_dict(), model_dir)\n",
    "\n",
    "    print(f\"File {model_dir} saved\")\n",
    "print_checkpoint_keys(model_dir)"
   ]
  },
  {
   "cell_type": "code",
   "execution_count": 129,
   "metadata": {},
   "outputs": [
    {
     "name": "stdout",
     "output_type": "stream",
     "text": [
      "File ../model_weights/resnet50/ResNet50-Random_headless.pth already exists\n",
      "318 keys in total. First 5 keys: ['model.0.weight', 'model.1.weight', 'model.1.bias', 'model.1.running_mean', 'model.1.running_var']\n"
     ]
    }
   ],
   "source": [
    "model_dir = \"../model_weights/resnet50/ResNet50-Random_headless.pth\"\n",
    "if os.path.exists(model_dir):\n",
    "    print(f\"File {model_dir} already exists\")\n",
    "else:\n",
    "    # NOTE: uses ResNet50_Weights.IMAGENET1K_V1 instead of default ResNet50_Weights.IMAGENET1K_V2\n",
    "    model = Embedder.load_pretrained(\"resnet50_random\")\n",
    "    model.fc = nn.Sequential()\n",
    "    print_parameters(model)  # 23'508'032\n",
    "    torch.save(model.state_dict(), model_dir)\n",
    "    print(f\"File {model_dir} saved\")\n",
    "print_checkpoint_keys(model_dir)"
   ]
  },
  {
   "cell_type": "code",
   "execution_count": 131,
   "metadata": {},
   "outputs": [
    {
     "name": "stdout",
     "output_type": "stream",
     "text": [
      "File ../model_weights/resnet50/ResNet50-ImageNet_1k_SL_V1_headless.pth already exists\n",
      "318 keys in total. First 5 keys: ['model.0.weight', 'model.1.weight', 'model.1.bias', 'model.1.running_mean', 'model.1.running_var']\n"
     ]
    }
   ],
   "source": [
    "model_dir = \"../model_weights/resnet50/ResNet50-ImageNet_1k_SL_V1_headless.pth\"\n",
    "if os.path.exists(model_dir):\n",
    "    print(f\"File {model_dir} already exists\")\n",
    "else:\n",
    "    model = Embedder.load_pretrained(\"imagenet\")\n",
    "    model.fc = nn.Sequential()\n",
    "    print_parameters(model)  # 23'508'032\n",
    "    torch.save(model.state_dict(), model_dir)\n",
    "    print(f\"File {model_dir} saved\")\n",
    "print_checkpoint_keys(model_dir)"
   ]
  },
  {
   "cell_type": "code",
   "execution_count": 142,
   "metadata": {},
   "outputs": [
    {
     "name": "stdout",
     "output_type": "stream",
     "text": [
      "File ../model_weights/resnet50/ResNet50-ImageNet_1k_SSL_SimCLR_raw.pth already exists\n"
     ]
    },
    {
     "name": "stderr",
     "output_type": "stream",
     "text": [
      "\u001b[32m2024-08-18 19:28:00.077\u001b[0m | \u001b[34m\u001b[1mDEBUG   \u001b[0m | \u001b[36msrc.pkg.embedder\u001b[0m:\u001b[36mrestart_from_checkpoint\u001b[0m:\u001b[36m670\u001b[0m - \u001b[34m\u001b[1m=> Found `convnet.` in state_dict, trying to transform.\u001b[0m\n",
      "\u001b[32m2024-08-18 19:28:00.101\u001b[0m | \u001b[34m\u001b[1mDEBUG   \u001b[0m | \u001b[36msrc.pkg.embedder\u001b[0m:\u001b[36mrestart_from_checkpoint\u001b[0m:\u001b[36m683\u001b[0m - \u001b[34m\u001b[1m=> loaded 'state_dict' from checkpoint '../model_weights/resnet50/ResNet50-ImageNet_1k_SSL_SimCLR_raw.pth' with msg _IncompatibleKeys(missing_keys=[], unexpected_keys=['projection.fc1.weight', 'projection.bn1.weight', 'projection.bn1.bias', 'projection.bn1.running_mean', 'projection.bn1.running_var', 'projection.bn1.num_batches_tracked', 'projection.fc2.weight', 'projection.bn2.weight', 'projection.bn2.bias', 'projection.bn2.running_mean', 'projection.bn2.running_var', 'projection.bn2.num_batches_tracked'])\u001b[0m\n"
     ]
    },
    {
     "name": "stdout",
     "output_type": "stream",
     "text": [
      "Total parameters: 23508032\n",
      "Required parameters: 23508032 \n",
      "File ../model_weights/resnet50/ResNet50-ImageNet_1k_SSL_SimCLR_headless.pth saved\n",
      "318 keys in total. First 5 keys: ['model.0.weight', 'model.1.weight', 'model.1.bias', 'model.1.running_mean', 'model.1.running_var']\n"
     ]
    }
   ],
   "source": [
    "model_dir = \"../model_weights/resnet50/ResNet50-ImageNet_1k_SSL_SimCLR_raw.pth\"\n",
    "if os.path.exists(model_dir):\n",
    "    print(f\"File {model_dir} already exists\")\n",
    "else:\n",
    "    model_url = \"https://github.com/vm02-self-supervised-dermatology/self-supervised-models/tree/main/simclr_imagenet/resnet50_imagenet_bs2k_epochs600.pth.tar\"\n",
    "    torch.hub.download_url_to_file(model_url, model_dir, progress=True)\n",
    "\n",
    "raw_path = model_dir\n",
    "model_dir = \"../model_weights/resnet50/ResNet50-ImageNet_1k_SSL_SimCLR_headless.pth\"\n",
    "if os.path.exists(model_dir):\n",
    "    print(f\"File {model_dir} already exists\")\n",
    "else:\n",
    "    # NOTE: This model is not wrapped in ssl_library!\n",
    "    # Therefore it get wrapped here to use common dictionary keys (replace_ckp_str=\"model.\")\n",
    "    model = Embedder.load_simclr_imagenet(raw_path)\n",
    "    model = Wrapper(model=model)\n",
    "    print_parameters(model)  # 23'508'032\n",
    "    torch.save(model.state_dict(), model_dir)\n",
    "    print(f\"File {model_dir} saved\")\n",
    "print_checkpoint_keys(model_dir)"
   ]
  },
  {
   "cell_type": "code",
   "execution_count": 144,
   "metadata": {},
   "outputs": [
    {
     "name": "stdout",
     "output_type": "stream",
     "text": [
      "File ../model_weights/resnet50/ResNet50-Derma_SSL_SimCLR_raw.pth already exists\n"
     ]
    },
    {
     "name": "stderr",
     "output_type": "stream",
     "text": [
      "\u001b[32m2024-08-18 19:29:17.347\u001b[0m | \u001b[34m\u001b[1mDEBUG   \u001b[0m | \u001b[36msrc.pkg.embedder\u001b[0m:\u001b[36mrestart_from_checkpoint\u001b[0m:\u001b[36m670\u001b[0m - \u001b[34m\u001b[1m=> Found `model.` in state_dict, trying to transform.\u001b[0m\n",
      "\u001b[32m2024-08-18 19:29:17.369\u001b[0m | \u001b[34m\u001b[1mDEBUG   \u001b[0m | \u001b[36msrc.pkg.embedder\u001b[0m:\u001b[36mrestart_from_checkpoint\u001b[0m:\u001b[36m683\u001b[0m - \u001b[34m\u001b[1m=> loaded 'state_dict' from checkpoint '../model_weights/resnet50/ResNet50-Derma_SSL_SimCLR_raw.pth' with msg _IncompatibleKeys(missing_keys=[], unexpected_keys=['dense1.weight', 'dense1.bias', 'dense2.weight', 'dense2.bias'])\u001b[0m\n"
     ]
    },
    {
     "name": "stdout",
     "output_type": "stream",
     "text": [
      "Total parameters: 23508032\n",
      "Required parameters: 23508032 \n",
      "File ../model_weights/resnet50/ResNet50-Derma_SSL_SimCLR_headless.pth saved\n",
      "318 keys in total. First 5 keys: ['model.0.weight', 'model.1.weight', 'model.1.bias', 'model.1.running_mean', 'model.1.running_var']\n"
     ]
    }
   ],
   "source": [
    "model_dir = \"../model_weights/resnet50/ResNet50-Derma_SSL_SimCLR_raw.pth\"\n",
    "if os.path.exists(model_dir):\n",
    "    print(f\"File {model_dir} already exists\")\n",
    "else:\n",
    "    model_url = \"https://github.com/vm02-self-supervised-dermatology/self-supervised-models/raw/main/simclr/checkpoint-epoch100.pth\"\n",
    "    torch.hub.download_url_to_file(model_url, model_dir, progress=True)\n",
    "\n",
    "raw_path = model_dir\n",
    "model_dir = \"../model_weights/resnet50/ResNet50-Derma_SSL_SimCLR_headless.pth\"\n",
    "if os.path.exists(model_dir):\n",
    "    print(f\"File {model_dir} already exists\")\n",
    "else:\n",
    "    # NOTE: This model is not wrapped in ssl_library!\n",
    "    # Therefore it get wrapped here to use common dictionary keys (replace_ckp_str=\"model.\")\n",
    "    model = Embedder.load_simclr(raw_path)\n",
    "    model = Wrapper(model=model)\n",
    "    print_parameters(model)  # 23'508'032\n",
    "    torch.save(model.state_dict(), model_dir)\n",
    "    print(f\"File {model_dir} saved\")\n",
    "print_checkpoint_keys(model_dir)"
   ]
  },
  {
   "cell_type": "code",
   "execution_count": 145,
   "metadata": {},
   "outputs": [
    {
     "data": {
      "text/plain": [
       "<All keys matched successfully>"
      ]
     },
     "execution_count": 145,
     "metadata": {},
     "output_type": "execute_result"
    }
   ],
   "source": [
    "model = resnet50(weights=None)\n",
    "model = torch.nn.Sequential(*list(model.children())[:-1])\n",
    "model = Wrapper(model=model)\n",
    "\n",
    "checkpoint = torch.load(model_dir, map_location=torch.device(\"cpu\"))\n",
    "model.load_state_dict(checkpoint, strict=True)"
   ]
  },
  {
   "cell_type": "code",
   "execution_count": 135,
   "metadata": {},
   "outputs": [
    {
     "name": "stdout",
     "output_type": "stream",
     "text": [
      "File ../model_weights/vit_t16_v1/ViT_T16-ImageNet_1k_SL_WinKawaks_headless.pth already exists\n",
      "200 keys in total. First 5 keys: ['model.embeddings.cls_token', 'model.embeddings.position_embeddings', 'model.embeddings.patch_embeddings.projection.weight', 'model.embeddings.patch_embeddings.projection.bias', 'model.encoder.layer.0.attention.attention.query.weight']\n"
     ]
    }
   ],
   "source": [
    "model_dir = \"../model_weights/vit_t16_v1/ViT_T16-ImageNet_1k_SL_WinKawaks_headless.pth\"\n",
    "if os.path.exists(model_dir):\n",
    "    print(f\"File {model_dir} already exists\")\n",
    "else:\n",
    "    model = Embedder.load_pretrained(\"imagenet_vit_tiny\")\n",
    "    model.head = nn.Sequential()\n",
    "    print_parameters(model)  # 5'561'472\n",
    "    torch.save(model.state_dict(), model_dir)\n",
    "    print(f\"File {model_dir} saved\")\n",
    "print_checkpoint_keys(model_dir)"
   ]
  },
  {
   "cell_type": "code",
   "execution_count": 114,
   "metadata": {},
   "outputs": [
    {
     "name": "stdout",
     "output_type": "stream",
     "text": [
      "File ../model_weights/vit_t16_v2/ViT_T16-ImageNet_1k_SSL_Dino_raw.pth already exists\n",
      "File ../model_weights/vit_t16_v2/ViT_T16-ImageNet_1k_SSL_Dino_headless.pth already exists\n",
      "150 keys in total. First 5 keys: ['model.cls_token', 'model.pos_embed', 'model.patch_embed.proj.weight', 'model.patch_embed.proj.bias', 'model.blocks.0.norm1.weight']\n"
     ]
    }
   ],
   "source": [
    "model_dir = \"../model_weights/vit_t16_v2/ViT_T16-ImageNet_1k_SSL_Dino_raw.pth\"\n",
    "if os.path.exists(model_dir):\n",
    "    print(f\"File {model_dir} already exists\")\n",
    "else:\n",
    "    model_url = \"https://github.com/vm02-self-supervised-dermatology/self-supervised-models/raw/main/imagenet_dino/checkpoint-epoch100.pth\"\n",
    "    torch.hub.download_url_to_file(model_url, model_dir, progress=True)\n",
    "\n",
    "raw_path = model_dir\n",
    "model_dir = \"../model_weights/vit_t16_v2/ViT_T16-ImageNet_1k_SSL_Dino_headless.pth\"\n",
    "if os.path.exists(model_dir):\n",
    "    print(f\"File {model_dir} already exists\")\n",
    "else:\n",
    "    model = Embedder.load_dino(raw_path)\n",
    "    model.head = nn.Sequential()\n",
    "    print_parameters(model)  # 5'524'416\n",
    "    torch.save(model.state_dict(), model_dir)\n",
    "    print(f\"File {model_dir} saved\")\n",
    "print_checkpoint_keys(model_dir)"
   ]
  },
  {
   "cell_type": "code",
   "execution_count": 5,
   "metadata": {},
   "outputs": [
    {
     "name": "stdout",
     "output_type": "stream",
     "text": [
      "Total parameters: 5717416\n",
      "Required parameters: 5717416 \n",
      "File ../model_weights/vit_t16_v3/ViT_T16-ImageNet_AugReg_headless.pth saved\n"
     ]
    }
   ],
   "source": [
    "model_dir = \"../model_weights/vit_t16_v3/ViT_T16-ImageNet_AugReg_headless.pth\"\n",
    "if os.path.exists(model_dir):\n",
    "    print(f\"File {model_dir} already exists\")\n",
    "else:\n",
    "    model = timm.create_model(\"vit_tiny_patch16_224\", pretrained=True)\n",
    "    model = ViTWrapper(model)\n",
    "    model.head = nn.Sequential()\n",
    "    print_parameters(model)  # 5'524'416 -> 5'717'416\n",
    "    torch.save(model.state_dict(), model_dir)\n",
    "    print(f\"File {model_dir} saved\")"
   ]
  },
  {
   "cell_type": "code",
   "execution_count": 115,
   "metadata": {},
   "outputs": [
    {
     "name": "stdout",
     "output_type": "stream",
     "text": [
      "File ../model_weights/vit_t16_v2/ViT_T16-Plant_SSL_Dino_headless.pth already exists\n",
      "150 keys in total. First 5 keys: ['model.cls_token', 'model.pos_embed', 'model.patch_embed.proj.weight', 'model.patch_embed.proj.bias', 'model.blocks.0.norm1.weight']\n"
     ]
    }
   ],
   "source": [
    "raw_path = \"../model_weights/vit_t16_v2/model_best 1.pth\"\n",
    "model_dir = \"../model_weights/vit_t16_v2/ViT_T16-Plant_SSL_Dino_headless.pth\"\n",
    "if os.path.exists(model_dir):\n",
    "    print(f\"File {model_dir} already exists\")\n",
    "else:\n",
    "    model = Embedder.load_dino(raw_path)\n",
    "    model.head = nn.Sequential()\n",
    "    print_parameters(model)  # 5'524'416\n",
    "    torch.save(model.state_dict(), model_dir)\n",
    "    print(f\"File {model_dir} saved\")\n",
    "print_checkpoint_keys(model_dir)"
   ]
  },
  {
   "cell_type": "code",
   "execution_count": 116,
   "metadata": {},
   "outputs": [
    {
     "name": "stdout",
     "output_type": "stream",
     "text": [
      "File ../model_weights/vit_t16_v2/ViT_T16-Random_headless.pth already exists\n",
      "150 keys in total. First 5 keys: ['model.cls_token', 'model.pos_embed', 'model.patch_embed.proj.weight', 'model.patch_embed.proj.bias', 'model.blocks.0.norm1.weight']\n"
     ]
    }
   ],
   "source": [
    "model_dir = \"../model_weights/vit_t16_v2/ViT_T16-Random_headless.pth\"\n",
    "if os.path.exists(model_dir):\n",
    "    print(f\"File {model_dir} already exists\")\n",
    "else:\n",
    "    model = Embedder.load_pretrained(\"vit_tiny_random\")\n",
    "    model.head = nn.Sequential()\n",
    "    print_parameters(model)  # 5'524'416\n",
    "    torch.save(model.state_dict(), model_dir)\n",
    "    print(f\"File {model_dir} saved\")\n",
    "print_checkpoint_keys(model_dir)"
   ]
  },
  {
   "cell_type": "code",
   "execution_count": 117,
   "metadata": {},
   "outputs": [
    {
     "name": "stdout",
     "output_type": "stream",
     "text": [
      "File ../model_weights/vit_t16_v2/ViT_T16-Derma_SSL_Dino_raw.pth already exists\n",
      "File ../model_weights/vit_t16_v2/ViT_T16-Derma_SSL_Dino_headless.pth already exists\n",
      "150 keys in total. First 5 keys: ['model.cls_token', 'model.pos_embed', 'model.patch_embed.proj.weight', 'model.patch_embed.proj.bias', 'model.blocks.0.norm1.weight']\n"
     ]
    }
   ],
   "source": [
    "model_dir = \"../model_weights/vit_t16_v2/ViT_T16-Derma_SSL_Dino_raw.pth\"\n",
    "if os.path.exists(model_dir):\n",
    "    print(f\"File {model_dir} already exists\")\n",
    "else:\n",
    "    model_url = \"https://github.com/vm02-self-supervised-dermatology/self-supervised-models/raw/main/dino/checkpoint-epoch100.pth\"\n",
    "    torch.hub.download_url_to_file(model_url, model_dir, progress=True)\n",
    "\n",
    "\n",
    "raw_path = model_dir\n",
    "model_dir = \"../model_weights/vit_t16_v2/ViT_T16-Derma_SSL_Dino_headless.pth\"\n",
    "if os.path.exists(model_dir):\n",
    "    print(f\"File {model_dir} already exists\")\n",
    "else:\n",
    "    model = Embedder.load_dino(raw_path)\n",
    "    model.head = nn.Sequential()\n",
    "    print_parameters(model)  # 5'524'416\n",
    "    torch.save(model.state_dict(), model_dir)\n",
    "    print(f\"File {model_dir} saved\")\n",
    "print_checkpoint_keys(model_dir)"
   ]
  },
  {
   "cell_type": "code",
   "execution_count": 17,
   "metadata": {},
   "outputs": [],
   "source": [
    "pathlib.PosixPath = temp  # revert back to Linux"
   ]
  }
 ],
 "metadata": {
  "kernelspec": {
   "display_name": "Python 3.9.7 ('.venv': venv)",
   "language": "python",
   "name": "python3"
  },
  "language_info": {
   "codemirror_mode": {
    "name": "ipython",
    "version": 3
   },
   "file_extension": ".py",
   "mimetype": "text/x-python",
   "name": "python",
   "nbconvert_exporter": "python",
   "pygments_lexer": "ipython3",
   "version": "3.8.10"
  },
  "orig_nbformat": 4,
  "vscode": {
   "interpreter": {
    "hash": "412f64844b7b8af74bdbb265a073648c443bf75ef51a1e949163ab9198702ceb"
   }
  }
 },
 "nbformat": 4,
 "nbformat_minor": 2
}
