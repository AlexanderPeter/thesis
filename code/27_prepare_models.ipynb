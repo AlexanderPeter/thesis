{
 "cells": [
  {
   "cell_type": "code",
   "execution_count": 1,
   "metadata": {},
   "outputs": [],
   "source": [
    "import numpy as np\n",
    "import sys\n",
    "import torch\n",
    "import os\n",
    "from torchvision.models import resnet50, ResNet50_Weights\n",
    "from transformers import ViTForImageClassification\n",
    "from transformers import ViTModel\n",
    "import torch.nn as nn\n",
    "import timm\n",
    "import pathlib\n",
    "\n",
    "temp = pathlib.PosixPath\n",
    "\n",
    "sys.path.append(\"ssl_library\")\n",
    "from src.pkg.embedder import Embedder\n",
    "from src.pkg.wrappers import ViTWrapper, Wrapper\n",
    "\n",
    "sys.path.append(\"local_python\")\n",
    "from local_utils import print_parameters"
   ]
  },
  {
   "cell_type": "code",
   "execution_count": 2,
   "metadata": {},
   "outputs": [],
   "source": [
    "seed = 19"
   ]
  },
  {
   "cell_type": "code",
   "execution_count": 3,
   "metadata": {},
   "outputs": [],
   "source": [
    "torch.manual_seed(seed)\n",
    "torch.cuda.manual_seed_all(seed)\n",
    "np.random.seed(seed)\n",
    "\n",
    "# NOTE: ssl_library is not windows compatible in itself\n",
    "# https://stackoverflow.com/questions/57286486/i-cant-load-my-model-because-i-cant-put-a-posixpath\n",
    "\n",
    "pathlib.PosixPath = pathlib.WindowsPath"
   ]
  },
  {
   "cell_type": "code",
   "execution_count": 49,
   "metadata": {},
   "outputs": [],
   "source": [
    "def print_checkpoint_keys(model_dir, n=0, depth=2):\n",
    "    checkpoint = torch.load(model_dir, map_location=torch.device(\"cpu\"))\n",
    "    checkpoint_keys = list(checkpoint.keys())\n",
    "    print(f\"Key prefixes: {sorted(set('.'.join(x.split('.')[:depth]) for x in checkpoint_keys))}\")\n",
    "    # print(f\"Key prefixes: {set(x.split('.')[0] for x in checkpoint_keys)}\")\n",
    "    if n <= 0:\n",
    "        print(f\"{len(checkpoint_keys)} keys in total.\")\n",
    "        return\n",
    "    print(f\"{len(checkpoint_keys)} keys in total. First {n} keys: \")\n",
    "    for key in checkpoint_keys[:n]:\n",
    "        value = checkpoint[key]\n",
    "        if 100 < len(str(value)):\n",
    "            value = type(value)\n",
    "        print(f\"{key}: {value}\")\n",
    "    # return checkpoint"
   ]
  },
  {
   "cell_type": "code",
   "execution_count": 54,
   "metadata": {},
   "outputs": [
    {
     "name": "stdout",
     "output_type": "stream",
     "text": [
      "File ../model_weights/resnet50/ResNet50-PDDD_raw.pth already exists\n",
      "File ../model_weights/resnet50/ResNet50-PDDD_headless.pth already exists\n",
      "Key prefixes: ['model.0', 'model.1', 'model.4', 'model.5', 'model.6', 'model.7']\n",
      "318 keys in total.\n"
     ]
    }
   ],
   "source": [
    "model_dir = \"../model_weights/resnet50/ResNet50-PDDD_raw.pth\"\n",
    "if os.path.exists(model_dir):\n",
    "    print(f\"File {model_dir} already exists\")\n",
    "else:\n",
    "    model_url = \"https://zenodo.org/records/7890438/files/ResNet50-Plant-model-80.pth\"\n",
    "    torch.hub.download_url_to_file(model_url, model_dir, progress=True)\n",
    "\n",
    "raw_path = model_dir\n",
    "model_dir = \"../model_weights/resnet50/ResNet50-PDDD_headless.pth\"\n",
    "if os.path.exists(model_dir):\n",
    "    print(f\"File {model_dir} already exists\")\n",
    "else:\n",
    "    model = Embedder.load_pretrained(\"resnet50_random\")\n",
    "    num_classes_weights = 120\n",
    "    model = resnet50(weights=None)\n",
    "    model.fc = nn.Linear(model.fc.in_features, num_classes_weights)\n",
    "    print(f\"model.fc.in_features: {model.fc.in_features}\")\n",
    "    checkpoint = torch.load(raw_path, map_location=torch.device(\"cpu\"))\n",
    "    model.load_state_dict(checkpoint, strict=True)\n",
    "    print(f\"model.fc.out_features: {model.fc.out_features}\")\n",
    "    # NOTE: The Wrapper from the ssl_library adds a prefic to the dictionary keys (replace_ckp_str=\"model.\")\n",
    "    model = torch.nn.Sequential(*list(model.children())[:-1])\n",
    "    model = Wrapper(model=model)\n",
    "    print_parameters(model)  # 23'508'032\n",
    "    torch.save(model.state_dict(), model_dir)\n",
    "    print(f\"File {model_dir} saved\")\n",
    "print_checkpoint_keys(model_dir)"
   ]
  },
  {
   "cell_type": "code",
   "execution_count": 55,
   "metadata": {},
   "outputs": [
    {
     "name": "stdout",
     "output_type": "stream",
     "text": [
      "File ../model_weights/resnet50/ResNet50-Random_headless.pth already exists\n",
      "Key prefixes: ['model.0', 'model.1', 'model.4', 'model.5', 'model.6', 'model.7']\n",
      "318 keys in total.\n"
     ]
    }
   ],
   "source": [
    "model_dir = \"../model_weights/resnet50/ResNet50-Random_headless.pth\"\n",
    "if os.path.exists(model_dir):\n",
    "    print(f\"File {model_dir} already exists\")\n",
    "else:\n",
    "    # NOTE: uses ResNet50_Weights.IMAGENET1K_V1 instead of default ResNet50_Weights.IMAGENET1K_V2\n",
    "    model = Embedder.load_pretrained(\"resnet50_random\")\n",
    "    model.fc = nn.Sequential()\n",
    "    print_parameters(model)  # 23'508'032\n",
    "    torch.save(model.state_dict(), model_dir)\n",
    "    print(f\"File {model_dir} saved\")\n",
    "print_checkpoint_keys(model_dir)"
   ]
  },
  {
   "cell_type": "code",
   "execution_count": 56,
   "metadata": {},
   "outputs": [
    {
     "name": "stdout",
     "output_type": "stream",
     "text": [
      "File ../model_weights/resnet50/ResNet50-ImageNet_1k_SL_V1_headless.pth already exists\n",
      "Key prefixes: ['model.0', 'model.1', 'model.4', 'model.5', 'model.6', 'model.7']\n",
      "318 keys in total.\n"
     ]
    }
   ],
   "source": [
    "model_dir = \"../model_weights/resnet50/ResNet50-ImageNet_1k_SL_V1_headless.pth\"\n",
    "if os.path.exists(model_dir):\n",
    "    print(f\"File {model_dir} already exists\")\n",
    "else:\n",
    "    model = Embedder.load_pretrained(\"imagenet\")\n",
    "    model.fc = nn.Sequential()\n",
    "    print_parameters(model)  # 23'508'032\n",
    "    torch.save(model.state_dict(), model_dir)\n",
    "    print(f\"File {model_dir} saved\")\n",
    "print_checkpoint_keys(model_dir)"
   ]
  },
  {
   "cell_type": "code",
   "execution_count": 57,
   "metadata": {},
   "outputs": [
    {
     "name": "stdout",
     "output_type": "stream",
     "text": [
      "File ../model_weights/resnet50/ResNet50-ImageNet_1k_SSL_SimCLR_raw.pth already exists\n",
      "File ../model_weights/resnet50/ResNet50-ImageNet_1k_SSL_SimCLR_headless.pth already exists\n",
      "Key prefixes: ['model.0', 'model.1', 'model.4', 'model.5', 'model.6', 'model.7']\n",
      "318 keys in total.\n"
     ]
    }
   ],
   "source": [
    "model_dir = \"../model_weights/resnet50/ResNet50-ImageNet_1k_SSL_SimCLR_raw.pth\"\n",
    "if os.path.exists(model_dir):\n",
    "    print(f\"File {model_dir} already exists\")\n",
    "else:\n",
    "    model_url = \"https://github.com/vm02-self-supervised-dermatology/self-supervised-models/tree/main/simclr_imagenet/resnet50_imagenet_bs2k_epochs600.pth.tar\"\n",
    "    torch.hub.download_url_to_file(model_url, model_dir, progress=True)\n",
    "\n",
    "raw_path = model_dir\n",
    "model_dir = \"../model_weights/resnet50/ResNet50-ImageNet_1k_SSL_SimCLR_headless.pth\"\n",
    "if os.path.exists(model_dir):\n",
    "    print(f\"File {model_dir} already exists\")\n",
    "else:\n",
    "    # NOTE: This model is not wrapped in ssl_library!\n",
    "    # Therefore it get wrapped here to use common dictionary keys (replace_ckp_str=\"model.\")\n",
    "    model = Embedder.load_simclr_imagenet(raw_path)\n",
    "    model = Wrapper(model=model)\n",
    "    print_parameters(model)  # 23'508'032\n",
    "    torch.save(model.state_dict(), model_dir)\n",
    "    print(f\"File {model_dir} saved\")\n",
    "print_checkpoint_keys(model_dir)"
   ]
  },
  {
   "cell_type": "code",
   "execution_count": 58,
   "metadata": {},
   "outputs": [
    {
     "name": "stdout",
     "output_type": "stream",
     "text": [
      "File ../model_weights/resnet50/ResNet50-Derma_SSL_SimCLR_raw.pth already exists\n",
      "File ../model_weights/resnet50/ResNet50-Derma_SSL_SimCLR_headless.pth already exists\n",
      "Key prefixes: ['model.0', 'model.1', 'model.4', 'model.5', 'model.6', 'model.7']\n",
      "318 keys in total.\n"
     ]
    }
   ],
   "source": [
    "model_dir = \"../model_weights/resnet50/ResNet50-Derma_SSL_SimCLR_raw.pth\"\n",
    "if os.path.exists(model_dir):\n",
    "    print(f\"File {model_dir} already exists\")\n",
    "else:\n",
    "    model_url = \"https://github.com/vm02-self-supervised-dermatology/self-supervised-models/raw/main/simclr/checkpoint-epoch100.pth\"\n",
    "    torch.hub.download_url_to_file(model_url, model_dir, progress=True)\n",
    "\n",
    "raw_path = model_dir\n",
    "model_dir = \"../model_weights/resnet50/ResNet50-Derma_SSL_SimCLR_headless.pth\"\n",
    "if os.path.exists(model_dir):\n",
    "    print(f\"File {model_dir} already exists\")\n",
    "else:\n",
    "    # NOTE: This model is not wrapped in ssl_library!\n",
    "    # Therefore it get wrapped here to use common dictionary keys (replace_ckp_str=\"model.\")\n",
    "    model = Embedder.load_simclr(raw_path)\n",
    "    model = Wrapper(model=model)\n",
    "    print_parameters(model)  # 23'508'032\n",
    "    torch.save(model.state_dict(), model_dir)\n",
    "    print(f\"File {model_dir} saved\")\n",
    "print_checkpoint_keys(model_dir)"
   ]
  },
  {
   "cell_type": "code",
   "execution_count": 59,
   "metadata": {},
   "outputs": [
    {
     "data": {
      "text/plain": [
       "<All keys matched successfully>"
      ]
     },
     "execution_count": 59,
     "metadata": {},
     "output_type": "execute_result"
    }
   ],
   "source": [
    "model = resnet50(weights=None)\n",
    "model = torch.nn.Sequential(*list(model.children())[:-1])\n",
    "model = Wrapper(model=model)\n",
    "\n",
    "checkpoint = torch.load(model_dir, map_location=torch.device(\"cpu\"))\n",
    "# msg = \n",
    "model.load_state_dict(checkpoint, strict=True)\n",
    "# msg.unexpected_keys"
   ]
  },
  {
   "cell_type": "code",
   "execution_count": 68,
   "metadata": {},
   "outputs": [
    {
     "name": "stdout",
     "output_type": "stream",
     "text": [
      "File ../model_weights/vit_t16_v1/ViT_T16-ImageNet_1k_SL_WinKawaks_headless.pth already exists\n",
      "Key prefixes: ['model.embeddings', 'model.encoder', 'model.layernorm', 'model.pooler']\n",
      "200 keys in total.\n"
     ]
    }
   ],
   "source": [
    "model_dir = \"../model_weights/vit_t16_v1/ViT_T16-ImageNet_1k_SL_WinKawaks_headless.pth\"\n",
    "if os.path.exists(model_dir):\n",
    "    print(f\"File {model_dir} already exists\")\n",
    "else:\n",
    "    model = Embedder.load_pretrained(\"imagenet_vit_tiny\")\n",
    "    model.head = nn.Sequential()\n",
    "    print_parameters(model)  # 5'561'472\n",
    "    torch.save(model.state_dict(), model_dir)\n",
    "    print(f\"File {model_dir} saved\")\n",
    "print_checkpoint_keys(model_dir)\n",
    "# TODO: teacher?"
   ]
  },
  {
   "cell_type": "code",
   "execution_count": 70,
   "metadata": {},
   "outputs": [
    {
     "name": "stdout",
     "output_type": "stream",
     "text": [
      "File ../model_weights/vit_t16_v2/ViT_T16-ImageNet_1k_SSL_Dino_raw.pth already exists\n"
     ]
    },
    {
     "name": "stderr",
     "output_type": "stream",
     "text": [
      "\u001b[32m2024-08-29 04:06:02.688\u001b[0m | \u001b[1mINFO    \u001b[0m | \u001b[36msrc.pkg.embedder\u001b[0m:\u001b[36mrestart_from_checkpoint\u001b[0m:\u001b[36m659\u001b[0m - \u001b[1mFound checkpoint at ../model_weights/vit_t16_v2/ViT_T16-ImageNet_1k_SSL_Dino_raw.pth\u001b[0m\n"
     ]
    },
    {
     "name": "stdout",
     "output_type": "stream",
     "text": [
      "Key prefixes: ['arch', 'config', 'epoch', 'loss', 'optimizer', 'student', 'teacher']\n",
      "7 keys in total.\n",
      "File ../model_weights/vit_t16_v2/ViT_T16-ImageNet_1k_SSL_Dino_headless.pth already exists\n",
      "Key prefixes: ['model.blocks', 'model.cls_token', 'model.norm', 'model.patch_embed', 'model.pos_embed']\n",
      "150 keys in total.\n",
      "ckp_path: ../model_weights/vit_t16_v2/ViT_T16-ImageNet_1k_SSL_Dino_raw.pth\n",
      "kwargs keys: []\n",
      "base_model: vit_tiny\n",
      "Keys to load dummy model: ['out_dim', 'emb_dim', 'base_model', 'model_type', 'use_bn_in_head', 'norm_last_layer', 'student', 'teacher', 'eval']\n"
     ]
    },
    {
     "name": "stderr",
     "output_type": "stream",
     "text": [
      "\u001b[32m2024-08-29 04:06:03.016\u001b[0m | \u001b[1mINFO    \u001b[0m | \u001b[36msrc.pkg.embedder\u001b[0m:\u001b[36mrestart_from_checkpoint\u001b[0m:\u001b[36m659\u001b[0m - \u001b[1mFound checkpoint at ../model_weights/vit_t16_v2/ViT_T16-ImageNet_1k_SSL_Dino_raw.pth\u001b[0m\n",
      "\u001b[32m2024-08-29 04:06:03.128\u001b[0m | \u001b[34m\u001b[1mDEBUG   \u001b[0m | \u001b[36msrc.pkg.embedder\u001b[0m:\u001b[36mrestart_from_checkpoint\u001b[0m:\u001b[36m680\u001b[0m - \u001b[34m\u001b[1m=> Found `backbone.` in teacher, trying to transform.\u001b[0m\n",
      "\u001b[32m2024-08-29 04:06:03.139\u001b[0m | \u001b[34m\u001b[1mDEBUG   \u001b[0m | \u001b[36msrc.pkg.embedder\u001b[0m:\u001b[36mrestart_from_checkpoint\u001b[0m:\u001b[36m694\u001b[0m - \u001b[34m\u001b[1m=> loaded 'teacher' from checkpoint '../model_weights/vit_t16_v2/ViT_T16-ImageNet_1k_SSL_Dino_raw.pth' with msg _IncompatibleKeys(missing_keys=[], unexpected_keys=['head.mlp.0.weight', 'head.mlp.0.bias', 'head.mlp.2.weight', 'head.mlp.2.bias', 'head.mlp.4.weight', 'head.mlp.4.bias', 'head.last_layer.weight_g', 'head.last_layer.weight_v'])\u001b[0m\n"
     ]
    },
    {
     "name": "stdout",
     "output_type": "stream",
     "text": [
      "Given keys: ['teacher']\n",
      "Assigned empty model to key: teacher\n",
      "kwargs keys: ['teacher']\n",
      "Loading key: teacher\n",
      "Key size: 158\n",
      "Key size: 158\n"
     ]
    },
    {
     "name": "stderr",
     "output_type": "stream",
     "text": [
      "c:\\workspace\\thesis\\.venv\\lib\\site-packages\\torch\\nn\\utils\\weight_norm.py:28: UserWarning: torch.nn.utils.weight_norm is deprecated in favor of torch.nn.utils.parametrizations.weight_norm.\n",
      "  warnings.warn(\"torch.nn.utils.weight_norm is deprecated in favor of torch.nn.utils.parametrizations.weight_norm.\")\n",
      "\u001b[32m2024-08-29 04:06:03.255\u001b[0m | \u001b[1mINFO    \u001b[0m | \u001b[36msrc.pkg.embedder\u001b[0m:\u001b[36mrestart_from_checkpoint\u001b[0m:\u001b[36m659\u001b[0m - \u001b[1mFound checkpoint at ../model_weights/vit_t16_v2/ViT_T16-ImageNet_1k_SSL_Dino_raw.pth\u001b[0m\n",
      "\u001b[32m2024-08-29 04:06:03.372\u001b[0m | \u001b[34m\u001b[1mDEBUG   \u001b[0m | \u001b[36msrc.pkg.embedder\u001b[0m:\u001b[36mrestart_from_checkpoint\u001b[0m:\u001b[36m694\u001b[0m - \u001b[34m\u001b[1m=> loaded 'teacher' from checkpoint '../model_weights/vit_t16_v2/ViT_T16-ImageNet_1k_SSL_Dino_raw.pth' with msg _IncompatibleKeys(missing_keys=['mlp.0.weight', 'mlp.0.bias', 'mlp.2.weight', 'mlp.2.bias', 'mlp.4.weight', 'mlp.4.bias', 'last_layer.weight_g', 'last_layer.weight_v'], unexpected_keys=['backbone.cls_token', 'backbone.pos_embed', 'backbone.patch_embed.proj.weight', 'backbone.patch_embed.proj.bias', 'backbone.blocks.0.norm1.weight', 'backbone.blocks.0.norm1.bias', 'backbone.blocks.0.attn.qkv.weight', 'backbone.blocks.0.attn.qkv.bias', 'backbone.blocks.0.attn.proj.weight', 'backbone.blocks.0.attn.proj.bias', 'backbone.blocks.0.norm2.weight', 'backbone.blocks.0.norm2.bias', 'backbone.blocks.0.mlp.fc1.weight', 'backbone.blocks.0.mlp.fc1.bias', 'backbone.blocks.0.mlp.fc2.weight', 'backbone.blocks.0.mlp.fc2.bias', 'backbone.blocks.1.norm1.weight', 'backbone.blocks.1.norm1.bias', 'backbone.blocks.1.attn.qkv.weight', 'backbone.blocks.1.attn.qkv.bias', 'backbone.blocks.1.attn.proj.weight', 'backbone.blocks.1.attn.proj.bias', 'backbone.blocks.1.norm2.weight', 'backbone.blocks.1.norm2.bias', 'backbone.blocks.1.mlp.fc1.weight', 'backbone.blocks.1.mlp.fc1.bias', 'backbone.blocks.1.mlp.fc2.weight', 'backbone.blocks.1.mlp.fc2.bias', 'backbone.blocks.2.norm1.weight', 'backbone.blocks.2.norm1.bias', 'backbone.blocks.2.attn.qkv.weight', 'backbone.blocks.2.attn.qkv.bias', 'backbone.blocks.2.attn.proj.weight', 'backbone.blocks.2.attn.proj.bias', 'backbone.blocks.2.norm2.weight', 'backbone.blocks.2.norm2.bias', 'backbone.blocks.2.mlp.fc1.weight', 'backbone.blocks.2.mlp.fc1.bias', 'backbone.blocks.2.mlp.fc2.weight', 'backbone.blocks.2.mlp.fc2.bias', 'backbone.blocks.3.norm1.weight', 'backbone.blocks.3.norm1.bias', 'backbone.blocks.3.attn.qkv.weight', 'backbone.blocks.3.attn.qkv.bias', 'backbone.blocks.3.attn.proj.weight', 'backbone.blocks.3.attn.proj.bias', 'backbone.blocks.3.norm2.weight', 'backbone.blocks.3.norm2.bias', 'backbone.blocks.3.mlp.fc1.weight', 'backbone.blocks.3.mlp.fc1.bias', 'backbone.blocks.3.mlp.fc2.weight', 'backbone.blocks.3.mlp.fc2.bias', 'backbone.blocks.4.norm1.weight', 'backbone.blocks.4.norm1.bias', 'backbone.blocks.4.attn.qkv.weight', 'backbone.blocks.4.attn.qkv.bias', 'backbone.blocks.4.attn.proj.weight', 'backbone.blocks.4.attn.proj.bias', 'backbone.blocks.4.norm2.weight', 'backbone.blocks.4.norm2.bias', 'backbone.blocks.4.mlp.fc1.weight', 'backbone.blocks.4.mlp.fc1.bias', 'backbone.blocks.4.mlp.fc2.weight', 'backbone.blocks.4.mlp.fc2.bias', 'backbone.blocks.5.norm1.weight', 'backbone.blocks.5.norm1.bias', 'backbone.blocks.5.attn.qkv.weight', 'backbone.blocks.5.attn.qkv.bias', 'backbone.blocks.5.attn.proj.weight', 'backbone.blocks.5.attn.proj.bias', 'backbone.blocks.5.norm2.weight', 'backbone.blocks.5.norm2.bias', 'backbone.blocks.5.mlp.fc1.weight', 'backbone.blocks.5.mlp.fc1.bias', 'backbone.blocks.5.mlp.fc2.weight', 'backbone.blocks.5.mlp.fc2.bias', 'backbone.blocks.6.norm1.weight', 'backbone.blocks.6.norm1.bias', 'backbone.blocks.6.attn.qkv.weight', 'backbone.blocks.6.attn.qkv.bias', 'backbone.blocks.6.attn.proj.weight', 'backbone.blocks.6.attn.proj.bias', 'backbone.blocks.6.norm2.weight', 'backbone.blocks.6.norm2.bias', 'backbone.blocks.6.mlp.fc1.weight', 'backbone.blocks.6.mlp.fc1.bias', 'backbone.blocks.6.mlp.fc2.weight', 'backbone.blocks.6.mlp.fc2.bias', 'backbone.blocks.7.norm1.weight', 'backbone.blocks.7.norm1.bias', 'backbone.blocks.7.attn.qkv.weight', 'backbone.blocks.7.attn.qkv.bias', 'backbone.blocks.7.attn.proj.weight', 'backbone.blocks.7.attn.proj.bias', 'backbone.blocks.7.norm2.weight', 'backbone.blocks.7.norm2.bias', 'backbone.blocks.7.mlp.fc1.weight', 'backbone.blocks.7.mlp.fc1.bias', 'backbone.blocks.7.mlp.fc2.weight', 'backbone.blocks.7.mlp.fc2.bias', 'backbone.blocks.8.norm1.weight', 'backbone.blocks.8.norm1.bias', 'backbone.blocks.8.attn.qkv.weight', 'backbone.blocks.8.attn.qkv.bias', 'backbone.blocks.8.attn.proj.weight', 'backbone.blocks.8.attn.proj.bias', 'backbone.blocks.8.norm2.weight', 'backbone.blocks.8.norm2.bias', 'backbone.blocks.8.mlp.fc1.weight', 'backbone.blocks.8.mlp.fc1.bias', 'backbone.blocks.8.mlp.fc2.weight', 'backbone.blocks.8.mlp.fc2.bias', 'backbone.blocks.9.norm1.weight', 'backbone.blocks.9.norm1.bias', 'backbone.blocks.9.attn.qkv.weight', 'backbone.blocks.9.attn.qkv.bias', 'backbone.blocks.9.attn.proj.weight', 'backbone.blocks.9.attn.proj.bias', 'backbone.blocks.9.norm2.weight', 'backbone.blocks.9.norm2.bias', 'backbone.blocks.9.mlp.fc1.weight', 'backbone.blocks.9.mlp.fc1.bias', 'backbone.blocks.9.mlp.fc2.weight', 'backbone.blocks.9.mlp.fc2.bias', 'backbone.blocks.10.norm1.weight', 'backbone.blocks.10.norm1.bias', 'backbone.blocks.10.attn.qkv.weight', 'backbone.blocks.10.attn.qkv.bias', 'backbone.blocks.10.attn.proj.weight', 'backbone.blocks.10.attn.proj.bias', 'backbone.blocks.10.norm2.weight', 'backbone.blocks.10.norm2.bias', 'backbone.blocks.10.mlp.fc1.weight', 'backbone.blocks.10.mlp.fc1.bias', 'backbone.blocks.10.mlp.fc2.weight', 'backbone.blocks.10.mlp.fc2.bias', 'backbone.blocks.11.norm1.weight', 'backbone.blocks.11.norm1.bias', 'backbone.blocks.11.attn.qkv.weight', 'backbone.blocks.11.attn.qkv.bias', 'backbone.blocks.11.attn.proj.weight', 'backbone.blocks.11.attn.proj.bias', 'backbone.blocks.11.norm2.weight', 'backbone.blocks.11.norm2.bias', 'backbone.blocks.11.mlp.fc1.weight', 'backbone.blocks.11.mlp.fc1.bias', 'backbone.blocks.11.mlp.fc2.weight', 'backbone.blocks.11.mlp.fc2.bias', 'backbone.norm.weight', 'backbone.norm.bias', 'head.mlp.0.weight', 'head.mlp.0.bias', 'head.mlp.2.weight', 'head.mlp.2.bias', 'head.mlp.4.weight', 'head.mlp.4.bias', 'head.last_layer.weight_g', 'head.last_layer.weight_v'])\u001b[0m\n"
     ]
    },
    {
     "name": "stdout",
     "output_type": "stream",
     "text": [
      "kwargs keys: ['teacher']\n",
      "Loading key: teacher\n",
      "Key size: 158\n",
      "Total parameters: 5524416\n",
      "Required parameters: 5524416 \n",
      "File ../model_weights/vit_t16_v2/ViT_T16-ImageNet_1k_SSL_Dino_teacher_headless.pth saved\n",
      "Key prefixes: ['model.blocks', 'model.cls_token', 'model.norm', 'model.patch_embed', 'model.pos_embed']\n",
      "150 keys in total.\n"
     ]
    }
   ],
   "source": [
    "model_dir = \"../model_weights/vit_t16_v2/ViT_T16-ImageNet_1k_SSL_Dino_raw.pth\"\n",
    "if os.path.exists(model_dir):\n",
    "    print(f\"File {model_dir} already exists\")\n",
    "else:\n",
    "    model_url = \"https://github.com/vm02-self-supervised-dermatology/self-supervised-models/raw/main/imagenet_dino/checkpoint-epoch100.pth\"\n",
    "    torch.hub.download_url_to_file(model_url, model_dir, progress=True)\n",
    "print_checkpoint_keys(model_dir)\n",
    "\n",
    "raw_path = model_dir\n",
    "model_dir = \"../model_weights/vit_t16_v2/ViT_T16-ImageNet_1k_SSL_Dino_headless.pth\"\n",
    "if os.path.exists(model_dir):\n",
    "    print(f\"File {model_dir} already exists\")\n",
    "else:\n",
    "    model = Embedder.load_dino(raw_path)\n",
    "    model.head = nn.Sequential()\n",
    "    print_parameters(model)  # 5'524'416\n",
    "    torch.save(model.state_dict(), model_dir)\n",
    "    print(f\"File {model_dir} saved\")\n",
    "print_checkpoint_keys(model_dir)\n",
    "\n",
    "model_dir = \"../model_weights/vit_t16_v2/ViT_T16-ImageNet_1k_SSL_Dino_teacher_headless.pth\"\n",
    "if os.path.exists(model_dir):\n",
    "    print(f\"File {model_dir} already exists\")\n",
    "else:\n",
    "    model = Embedder.load_dino(raw_path, model_key=\"teacher\")\n",
    "    model.head = nn.Sequential()\n",
    "    print_parameters(model)  # 5'524'416\n",
    "    torch.save(model.state_dict(), model_dir)\n",
    "    print(f\"File {model_dir} saved\")\n",
    "print_checkpoint_keys(model_dir)"
   ]
  },
  {
   "cell_type": "code",
   "execution_count": 12,
   "metadata": {},
   "outputs": [
    {
     "name": "stdout",
     "output_type": "stream",
     "text": [
      "7 keys in total. First 7 keys: \n",
      "arch: DistributedDataParallel\n",
      "epoch: 100\n",
      "student: <class 'collections.OrderedDict'>\n",
      "teacher: <class 'collections.OrderedDict'>\n",
      "optimizer: <class 'dict'>\n",
      "config: <class 'dict'>\n",
      "loss: OrderedDict([('center', tensor([[-0.2820, -0.2820, -0.2820,  ..., -0.2820, -0.2820, -0.2820]]))])\n"
     ]
    }
   ],
   "source": [
    "model_dir = \"../model_weights/vit_t16_v2/ViT_T16-ImageNet_1k_SSL_Dino_raw.pth\"\n",
    "config = print_checkpoint_keys(model_dir, 7)\n",
    "# config[\"model\"].keys()\n",
    "# \"configs\" in config[\"model\"].keys()\n",
    "# config[\"model\"][\"student\"]\n",
    "# model = Embedder.load_dino(raw_path)\n",
    "# assert config[\"student\"].keys() == config[\"teacher\"].keys()\n",
    "# print(config[\"config\"][\"model\"][\"student\"])\n",
    "# print(config[\"config\"][\"model\"][\"teacher\"])\n",
    "raw_path = model_dir\n",
    "debug = True\n",
    "\n",
    "# model = Embedder.load_dino(raw_path, model_key=\"student\", debug=debug)\n",
    "# print(model.model.blocks[0].mlp.fc1.weight[0][:5].data) #tensor([-0.0018, -0.0013, -0.0218, -0.0328,  0.0131])\n",
    "# print(model.model.head[0]) #\n",
    "\n",
    "\n",
    "# model = Embedder.load_dino(raw_path, model_key=\"teacher\", debug=debug)\n",
    "# print(model.model.blocks[0].mlp.fc1.weight[0][:5].data) # tensor([-0.0020, -0.0020, -0.0233, -0.0349,  0.0140])\n",
    "\n",
    "# Embedder.restart_from_checkpoint(\n",
    "#     ckp_path,\n",
    "#     student=None,\n",
    "#     replace_ckp_str=\"head.\",\n",
    "#     hide_logs=False,\n",
    "# )"
   ]
  },
  {
   "cell_type": "code",
   "execution_count": 60,
   "metadata": {},
   "outputs": [],
   "source": [
    "# [x for x in dir(msg) if not x.startswith(\"_\")]\n",
    "# [x for x in dir(checkpoint) if not x.startswith(\"_\")]\n",
    "# [x for x in dir(model) if  x.startswith(\"_\")]"
   ]
  },
  {
   "cell_type": "code",
   "execution_count": 21,
   "metadata": {},
   "outputs": [
    {
     "data": {
      "text/plain": [
       "['use_bn_in_head']"
      ]
     },
     "execution_count": 21,
     "metadata": {},
     "output_type": "execute_result"
    }
   ],
   "source": [
    "# config[\"config\"]\n",
    "# [x for x in config[\"config\"].keys() if \"head\" in x]\n",
    "# [x for x in config[\"config\"][\"model\"].keys() if \"head\" in x]"
   ]
  },
  {
   "cell_type": "code",
   "execution_count": 15,
   "metadata": {},
   "outputs": [
    {
     "data": {
      "text/plain": [
       "['head.mlp.0.weight',\n",
       " 'head.mlp.0.bias',\n",
       " 'head.mlp.2.weight',\n",
       " 'head.mlp.2.bias',\n",
       " 'head.mlp.4.weight',\n",
       " 'head.mlp.4.bias',\n",
       " 'head.last_layer.weight_g',\n",
       " 'head.last_layer.weight_v']"
      ]
     },
     "execution_count": 15,
     "metadata": {},
     "output_type": "execute_result"
    }
   ],
   "source": [
    "# [x for x in config[\"student\"].keys() if x.startswith(\"head\")]"
   ]
  },
  {
   "cell_type": "code",
   "execution_count": 16,
   "metadata": {},
   "outputs": [
    {
     "data": {
      "text/plain": [
       "['head.mlp.0.weight',\n",
       " 'head.mlp.0.bias',\n",
       " 'head.mlp.2.weight',\n",
       " 'head.mlp.2.bias',\n",
       " 'head.mlp.4.weight',\n",
       " 'head.mlp.4.bias',\n",
       " 'head.last_layer.weight_g',\n",
       " 'head.last_layer.weight_v']"
      ]
     },
     "execution_count": 16,
     "metadata": {},
     "output_type": "execute_result"
    }
   ],
   "source": [
    "# [x for x in config[\"teacher\"].keys() if x.startswith(\"head\")]"
   ]
  },
  {
   "cell_type": "code",
   "execution_count": 72,
   "metadata": {},
   "outputs": [
    {
     "name": "stdout",
     "output_type": "stream",
     "text": [
      "File ../model_weights/vit_t16_v3/ViT_T16-ImageNet_AugReg_headless.pth already exists\n",
      "Key prefixes: ['model.blocks', 'model.cls_token', 'model.head', 'model.norm', 'model.patch_embed', 'model.pos_embed']\n",
      "152 keys in total.\n"
     ]
    }
   ],
   "source": [
    "model_dir = \"../model_weights/vit_t16_v3/ViT_T16-ImageNet_AugReg_headless.pth\"\n",
    "if os.path.exists(model_dir):\n",
    "    print(f\"File {model_dir} already exists\")\n",
    "else:\n",
    "    model = timm.create_model(\"vit_tiny_patch16_224\", pretrained=True)\n",
    "    model = ViTWrapper(model)\n",
    "    model.head = nn.Sequential()\n",
    "    print_parameters(model)  # 5'524'416 -> 5'717'416\n",
    "    torch.save(model.state_dict(), model_dir)\n",
    "    print(f\"File {model_dir} saved\")\n",
    "print_checkpoint_keys(model_dir)"
   ]
  },
  {
   "cell_type": "code",
   "execution_count": 77,
   "metadata": {},
   "outputs": [
    {
     "name": "stderr",
     "output_type": "stream",
     "text": [
      "\u001b[32m2024-08-29 04:11:55.686\u001b[0m | \u001b[1mINFO    \u001b[0m | \u001b[36msrc.pkg.embedder\u001b[0m:\u001b[36mrestart_from_checkpoint\u001b[0m:\u001b[36m659\u001b[0m - \u001b[1mFound checkpoint at ../model_weights/vit_t16_v2/model_best 1.pth\u001b[0m\n"
     ]
    },
    {
     "name": "stdout",
     "output_type": "stream",
     "text": [
      "Key prefixes: ['arch', 'config', 'epoch', 'loss', 'optimizer', 'student', 'teacher']\n",
      "7 keys in total.\n",
      "File ../model_weights/vit_t16_v2/ViT_T16-Plant_SSL_Dino_headless.pth already exists\n",
      "Key prefixes: ['model.blocks', 'model.cls_token', 'model.norm', 'model.patch_embed', 'model.pos_embed']\n",
      "150 keys in total.\n",
      "ckp_path: ../model_weights/vit_t16_v2/model_best 1.pth\n"
     ]
    },
    {
     "name": "stderr",
     "output_type": "stream",
     "text": [
      "\u001b[32m2024-08-29 04:11:56.021\u001b[0m | \u001b[1mINFO    \u001b[0m | \u001b[36msrc.pkg.embedder\u001b[0m:\u001b[36mrestart_from_checkpoint\u001b[0m:\u001b[36m659\u001b[0m - \u001b[1mFound checkpoint at ../model_weights/vit_t16_v2/model_best 1.pth\u001b[0m\n"
     ]
    },
    {
     "name": "stdout",
     "output_type": "stream",
     "text": [
      "kwargs keys: []\n",
      "base_model: vit_tiny\n",
      "Keys to load dummy model: ['out_dim', 'emb_dim', 'base_model', 'model_type', 'use_bn_in_head', 'norm_last_layer', 'student', 'teacher', 'eval']\n",
      "Given keys: ['teacher']\n",
      "Assigned empty model to key: teacher\n"
     ]
    },
    {
     "name": "stderr",
     "output_type": "stream",
     "text": [
      "\u001b[32m2024-08-29 04:11:56.127\u001b[0m | \u001b[34m\u001b[1mDEBUG   \u001b[0m | \u001b[36msrc.pkg.embedder\u001b[0m:\u001b[36mrestart_from_checkpoint\u001b[0m:\u001b[36m680\u001b[0m - \u001b[34m\u001b[1m=> Found `backbone.` in teacher, trying to transform.\u001b[0m\n",
      "\u001b[32m2024-08-29 04:11:56.137\u001b[0m | \u001b[34m\u001b[1mDEBUG   \u001b[0m | \u001b[36msrc.pkg.embedder\u001b[0m:\u001b[36mrestart_from_checkpoint\u001b[0m:\u001b[36m694\u001b[0m - \u001b[34m\u001b[1m=> loaded 'teacher' from checkpoint '../model_weights/vit_t16_v2/model_best 1.pth' with msg _IncompatibleKeys(missing_keys=[], unexpected_keys=['head.mlp.0.weight', 'head.mlp.0.bias', 'head.mlp.2.weight', 'head.mlp.2.bias', 'head.mlp.4.weight', 'head.mlp.4.bias', 'head.last_layer.weight_g', 'head.last_layer.weight_v'])\u001b[0m\n",
      "c:\\workspace\\thesis\\.venv\\lib\\site-packages\\torch\\nn\\utils\\weight_norm.py:28: UserWarning: torch.nn.utils.weight_norm is deprecated in favor of torch.nn.utils.parametrizations.weight_norm.\n",
      "  warnings.warn(\"torch.nn.utils.weight_norm is deprecated in favor of torch.nn.utils.parametrizations.weight_norm.\")\n",
      "\u001b[32m2024-08-29 04:11:56.229\u001b[0m | \u001b[1mINFO    \u001b[0m | \u001b[36msrc.pkg.embedder\u001b[0m:\u001b[36mrestart_from_checkpoint\u001b[0m:\u001b[36m659\u001b[0m - \u001b[1mFound checkpoint at ../model_weights/vit_t16_v2/model_best 1.pth\u001b[0m\n"
     ]
    },
    {
     "name": "stdout",
     "output_type": "stream",
     "text": [
      "kwargs keys: ['teacher']\n",
      "Loading key: teacher\n",
      "Key size: 158\n",
      "Key size: 158\n",
      "kwargs keys: ['teacher']\n",
      "Loading key: teacher\n",
      "Key size: 158\n"
     ]
    },
    {
     "name": "stderr",
     "output_type": "stream",
     "text": [
      "\u001b[32m2024-08-29 04:11:56.324\u001b[0m | \u001b[34m\u001b[1mDEBUG   \u001b[0m | \u001b[36msrc.pkg.embedder\u001b[0m:\u001b[36mrestart_from_checkpoint\u001b[0m:\u001b[36m694\u001b[0m - \u001b[34m\u001b[1m=> loaded 'teacher' from checkpoint '../model_weights/vit_t16_v2/model_best 1.pth' with msg _IncompatibleKeys(missing_keys=['mlp.0.weight', 'mlp.0.bias', 'mlp.2.weight', 'mlp.2.bias', 'mlp.4.weight', 'mlp.4.bias', 'last_layer.weight_g', 'last_layer.weight_v'], unexpected_keys=['backbone.cls_token', 'backbone.pos_embed', 'backbone.patch_embed.proj.weight', 'backbone.patch_embed.proj.bias', 'backbone.blocks.0.norm1.weight', 'backbone.blocks.0.norm1.bias', 'backbone.blocks.0.attn.qkv.weight', 'backbone.blocks.0.attn.qkv.bias', 'backbone.blocks.0.attn.proj.weight', 'backbone.blocks.0.attn.proj.bias', 'backbone.blocks.0.norm2.weight', 'backbone.blocks.0.norm2.bias', 'backbone.blocks.0.mlp.fc1.weight', 'backbone.blocks.0.mlp.fc1.bias', 'backbone.blocks.0.mlp.fc2.weight', 'backbone.blocks.0.mlp.fc2.bias', 'backbone.blocks.1.norm1.weight', 'backbone.blocks.1.norm1.bias', 'backbone.blocks.1.attn.qkv.weight', 'backbone.blocks.1.attn.qkv.bias', 'backbone.blocks.1.attn.proj.weight', 'backbone.blocks.1.attn.proj.bias', 'backbone.blocks.1.norm2.weight', 'backbone.blocks.1.norm2.bias', 'backbone.blocks.1.mlp.fc1.weight', 'backbone.blocks.1.mlp.fc1.bias', 'backbone.blocks.1.mlp.fc2.weight', 'backbone.blocks.1.mlp.fc2.bias', 'backbone.blocks.2.norm1.weight', 'backbone.blocks.2.norm1.bias', 'backbone.blocks.2.attn.qkv.weight', 'backbone.blocks.2.attn.qkv.bias', 'backbone.blocks.2.attn.proj.weight', 'backbone.blocks.2.attn.proj.bias', 'backbone.blocks.2.norm2.weight', 'backbone.blocks.2.norm2.bias', 'backbone.blocks.2.mlp.fc1.weight', 'backbone.blocks.2.mlp.fc1.bias', 'backbone.blocks.2.mlp.fc2.weight', 'backbone.blocks.2.mlp.fc2.bias', 'backbone.blocks.3.norm1.weight', 'backbone.blocks.3.norm1.bias', 'backbone.blocks.3.attn.qkv.weight', 'backbone.blocks.3.attn.qkv.bias', 'backbone.blocks.3.attn.proj.weight', 'backbone.blocks.3.attn.proj.bias', 'backbone.blocks.3.norm2.weight', 'backbone.blocks.3.norm2.bias', 'backbone.blocks.3.mlp.fc1.weight', 'backbone.blocks.3.mlp.fc1.bias', 'backbone.blocks.3.mlp.fc2.weight', 'backbone.blocks.3.mlp.fc2.bias', 'backbone.blocks.4.norm1.weight', 'backbone.blocks.4.norm1.bias', 'backbone.blocks.4.attn.qkv.weight', 'backbone.blocks.4.attn.qkv.bias', 'backbone.blocks.4.attn.proj.weight', 'backbone.blocks.4.attn.proj.bias', 'backbone.blocks.4.norm2.weight', 'backbone.blocks.4.norm2.bias', 'backbone.blocks.4.mlp.fc1.weight', 'backbone.blocks.4.mlp.fc1.bias', 'backbone.blocks.4.mlp.fc2.weight', 'backbone.blocks.4.mlp.fc2.bias', 'backbone.blocks.5.norm1.weight', 'backbone.blocks.5.norm1.bias', 'backbone.blocks.5.attn.qkv.weight', 'backbone.blocks.5.attn.qkv.bias', 'backbone.blocks.5.attn.proj.weight', 'backbone.blocks.5.attn.proj.bias', 'backbone.blocks.5.norm2.weight', 'backbone.blocks.5.norm2.bias', 'backbone.blocks.5.mlp.fc1.weight', 'backbone.blocks.5.mlp.fc1.bias', 'backbone.blocks.5.mlp.fc2.weight', 'backbone.blocks.5.mlp.fc2.bias', 'backbone.blocks.6.norm1.weight', 'backbone.blocks.6.norm1.bias', 'backbone.blocks.6.attn.qkv.weight', 'backbone.blocks.6.attn.qkv.bias', 'backbone.blocks.6.attn.proj.weight', 'backbone.blocks.6.attn.proj.bias', 'backbone.blocks.6.norm2.weight', 'backbone.blocks.6.norm2.bias', 'backbone.blocks.6.mlp.fc1.weight', 'backbone.blocks.6.mlp.fc1.bias', 'backbone.blocks.6.mlp.fc2.weight', 'backbone.blocks.6.mlp.fc2.bias', 'backbone.blocks.7.norm1.weight', 'backbone.blocks.7.norm1.bias', 'backbone.blocks.7.attn.qkv.weight', 'backbone.blocks.7.attn.qkv.bias', 'backbone.blocks.7.attn.proj.weight', 'backbone.blocks.7.attn.proj.bias', 'backbone.blocks.7.norm2.weight', 'backbone.blocks.7.norm2.bias', 'backbone.blocks.7.mlp.fc1.weight', 'backbone.blocks.7.mlp.fc1.bias', 'backbone.blocks.7.mlp.fc2.weight', 'backbone.blocks.7.mlp.fc2.bias', 'backbone.blocks.8.norm1.weight', 'backbone.blocks.8.norm1.bias', 'backbone.blocks.8.attn.qkv.weight', 'backbone.blocks.8.attn.qkv.bias', 'backbone.blocks.8.attn.proj.weight', 'backbone.blocks.8.attn.proj.bias', 'backbone.blocks.8.norm2.weight', 'backbone.blocks.8.norm2.bias', 'backbone.blocks.8.mlp.fc1.weight', 'backbone.blocks.8.mlp.fc1.bias', 'backbone.blocks.8.mlp.fc2.weight', 'backbone.blocks.8.mlp.fc2.bias', 'backbone.blocks.9.norm1.weight', 'backbone.blocks.9.norm1.bias', 'backbone.blocks.9.attn.qkv.weight', 'backbone.blocks.9.attn.qkv.bias', 'backbone.blocks.9.attn.proj.weight', 'backbone.blocks.9.attn.proj.bias', 'backbone.blocks.9.norm2.weight', 'backbone.blocks.9.norm2.bias', 'backbone.blocks.9.mlp.fc1.weight', 'backbone.blocks.9.mlp.fc1.bias', 'backbone.blocks.9.mlp.fc2.weight', 'backbone.blocks.9.mlp.fc2.bias', 'backbone.blocks.10.norm1.weight', 'backbone.blocks.10.norm1.bias', 'backbone.blocks.10.attn.qkv.weight', 'backbone.blocks.10.attn.qkv.bias', 'backbone.blocks.10.attn.proj.weight', 'backbone.blocks.10.attn.proj.bias', 'backbone.blocks.10.norm2.weight', 'backbone.blocks.10.norm2.bias', 'backbone.blocks.10.mlp.fc1.weight', 'backbone.blocks.10.mlp.fc1.bias', 'backbone.blocks.10.mlp.fc2.weight', 'backbone.blocks.10.mlp.fc2.bias', 'backbone.blocks.11.norm1.weight', 'backbone.blocks.11.norm1.bias', 'backbone.blocks.11.attn.qkv.weight', 'backbone.blocks.11.attn.qkv.bias', 'backbone.blocks.11.attn.proj.weight', 'backbone.blocks.11.attn.proj.bias', 'backbone.blocks.11.norm2.weight', 'backbone.blocks.11.norm2.bias', 'backbone.blocks.11.mlp.fc1.weight', 'backbone.blocks.11.mlp.fc1.bias', 'backbone.blocks.11.mlp.fc2.weight', 'backbone.blocks.11.mlp.fc2.bias', 'backbone.norm.weight', 'backbone.norm.bias', 'head.mlp.0.weight', 'head.mlp.0.bias', 'head.mlp.2.weight', 'head.mlp.2.bias', 'head.mlp.4.weight', 'head.mlp.4.bias', 'head.last_layer.weight_g', 'head.last_layer.weight_v'])\u001b[0m\n"
     ]
    },
    {
     "name": "stdout",
     "output_type": "stream",
     "text": [
      "Total parameters: 5524416\n",
      "Required parameters: 5524416 \n",
      "File ../model_weights/vit_t16_v2/ViT_T16-Plant_SSL_Dino_teacher_headless.pth saved\n",
      "Key prefixes: ['model.blocks', 'model.cls_token', 'model.norm', 'model.patch_embed', 'model.pos_embed']\n",
      "150 keys in total.\n"
     ]
    }
   ],
   "source": [
    "raw_path = \"../model_weights/vit_t16_v2/model_best 1.pth\"\n",
    "print_checkpoint_keys(raw_path)\n",
    "\n",
    "model_dir = \"../model_weights/vit_t16_v2/ViT_T16-Plant_SSL_Dino_headless.pth\"\n",
    "if os.path.exists(model_dir):\n",
    "    print(f\"File {model_dir} already exists\")\n",
    "else:\n",
    "    model = Embedder.load_dino(raw_path)\n",
    "    model.head = nn.Sequential()\n",
    "    print_parameters(model)  # 5'524'416\n",
    "    torch.save(model.state_dict(), model_dir)\n",
    "    print(f\"File {model_dir} saved\")\n",
    "print_checkpoint_keys(model_dir)\n",
    "\n",
    "model_dir = \"../model_weights/vit_t16_v2/ViT_T16-Plant_SSL_Dino_teacher_headless.pth\"\n",
    "if os.path.exists(model_dir):\n",
    "    print(f\"File {model_dir} already exists\")\n",
    "else:\n",
    "    model = Embedder.load_dino(raw_path, model_key=\"teacher\")\n",
    "    model.head = nn.Sequential()\n",
    "    print_parameters(model)  # 5'524'416\n",
    "    torch.save(model.state_dict(), model_dir)\n",
    "    print(f\"File {model_dir} saved\")\n",
    "print_checkpoint_keys(model_dir)\n"
   ]
  },
  {
   "cell_type": "code",
   "execution_count": 79,
   "metadata": {},
   "outputs": [
    {
     "name": "stdout",
     "output_type": "stream",
     "text": [
      "File ../model_weights/vit_t16_v2/ViT_T16-Random_headless.pth already exists\n",
      "Key prefixes: ['model.blocks', 'model.cls_token', 'model.norm', 'model.patch_embed', 'model.pos_embed']\n",
      "150 keys in total.\n"
     ]
    }
   ],
   "source": [
    "model_dir = \"../model_weights/vit_t16_v2/ViT_T16-Random_headless.pth\"\n",
    "if os.path.exists(model_dir):\n",
    "    print(f\"File {model_dir} already exists\")\n",
    "else:\n",
    "    model = Embedder.load_pretrained(\"vit_tiny_random\")\n",
    "    model.head = nn.Sequential()\n",
    "    print_parameters(model)  # 5'524'416\n",
    "    torch.save(model.state_dict(), model_dir)\n",
    "    print(f\"File {model_dir} saved\")\n",
    "print_checkpoint_keys(model_dir)"
   ]
  },
  {
   "cell_type": "code",
   "execution_count": 82,
   "metadata": {},
   "outputs": [
    {
     "name": "stderr",
     "output_type": "stream",
     "text": [
      "\u001b[32m2024-08-29 04:14:57.518\u001b[0m | \u001b[1mINFO    \u001b[0m | \u001b[36msrc.pkg.embedder\u001b[0m:\u001b[36mrestart_from_checkpoint\u001b[0m:\u001b[36m659\u001b[0m - \u001b[1mFound checkpoint at ../model_weights/vit_t16_v2/ViT_T16-Derma_SSL_Dino_raw.pth\u001b[0m\n"
     ]
    },
    {
     "name": "stdout",
     "output_type": "stream",
     "text": [
      "File ../model_weights/vit_t16_v2/ViT_T16-Derma_SSL_Dino_raw.pth already exists\n",
      "Key prefixes: ['arch', 'config', 'epoch', 'loss', 'optimizer', 'student', 'teacher']\n",
      "7 keys in total.\n",
      "File ../model_weights/vit_t16_v2/ViT_T16-Derma_SSL_Dino_headless.pth already exists\n",
      "Key prefixes: ['model.blocks', 'model.cls_token', 'model.norm', 'model.patch_embed', 'model.pos_embed']\n",
      "150 keys in total.\n",
      "ckp_path: ../model_weights/vit_t16_v2/ViT_T16-Derma_SSL_Dino_raw.pth\n"
     ]
    },
    {
     "name": "stderr",
     "output_type": "stream",
     "text": [
      "\u001b[32m2024-08-29 04:14:57.713\u001b[0m | \u001b[1mINFO    \u001b[0m | \u001b[36msrc.pkg.embedder\u001b[0m:\u001b[36mrestart_from_checkpoint\u001b[0m:\u001b[36m659\u001b[0m - \u001b[1mFound checkpoint at ../model_weights/vit_t16_v2/ViT_T16-Derma_SSL_Dino_raw.pth\u001b[0m\n"
     ]
    },
    {
     "name": "stdout",
     "output_type": "stream",
     "text": [
      "kwargs keys: []\n",
      "base_model: vit_tiny\n",
      "Keys to load dummy model: ['out_dim', 'emb_dim', 'base_model', 'model_type', 'use_bn_in_head', 'norm_last_layer', 'student', 'teacher', 'eval']\n",
      "Given keys: ['teacher']\n",
      "Assigned empty model to key: teacher\n"
     ]
    },
    {
     "name": "stderr",
     "output_type": "stream",
     "text": [
      "\u001b[32m2024-08-29 04:14:57.961\u001b[0m | \u001b[34m\u001b[1mDEBUG   \u001b[0m | \u001b[36msrc.pkg.embedder\u001b[0m:\u001b[36mrestart_from_checkpoint\u001b[0m:\u001b[36m680\u001b[0m - \u001b[34m\u001b[1m=> Found `backbone.` in teacher, trying to transform.\u001b[0m\n",
      "\u001b[32m2024-08-29 04:14:57.975\u001b[0m | \u001b[34m\u001b[1mDEBUG   \u001b[0m | \u001b[36msrc.pkg.embedder\u001b[0m:\u001b[36mrestart_from_checkpoint\u001b[0m:\u001b[36m694\u001b[0m - \u001b[34m\u001b[1m=> loaded 'teacher' from checkpoint '../model_weights/vit_t16_v2/ViT_T16-Derma_SSL_Dino_raw.pth' with msg _IncompatibleKeys(missing_keys=[], unexpected_keys=['head.mlp.0.weight', 'head.mlp.0.bias', 'head.mlp.2.weight', 'head.mlp.2.bias', 'head.mlp.4.weight', 'head.mlp.4.bias', 'head.last_layer.weight_g', 'head.last_layer.weight_v'])\u001b[0m\n",
      "\u001b[32m2024-08-29 04:14:58.079\u001b[0m | \u001b[1mINFO    \u001b[0m | \u001b[36msrc.pkg.embedder\u001b[0m:\u001b[36mrestart_from_checkpoint\u001b[0m:\u001b[36m659\u001b[0m - \u001b[1mFound checkpoint at ../model_weights/vit_t16_v2/ViT_T16-Derma_SSL_Dino_raw.pth\u001b[0m\n"
     ]
    },
    {
     "name": "stdout",
     "output_type": "stream",
     "text": [
      "kwargs keys: ['teacher']\n",
      "Loading key: teacher\n",
      "Key size: 158\n",
      "Key size: 158\n",
      "kwargs keys: ['teacher']\n",
      "Loading key: teacher\n",
      "Key size: 158\n"
     ]
    },
    {
     "name": "stderr",
     "output_type": "stream",
     "text": [
      "\u001b[32m2024-08-29 04:14:58.170\u001b[0m | \u001b[34m\u001b[1mDEBUG   \u001b[0m | \u001b[36msrc.pkg.embedder\u001b[0m:\u001b[36mrestart_from_checkpoint\u001b[0m:\u001b[36m694\u001b[0m - \u001b[34m\u001b[1m=> loaded 'teacher' from checkpoint '../model_weights/vit_t16_v2/ViT_T16-Derma_SSL_Dino_raw.pth' with msg _IncompatibleKeys(missing_keys=['mlp.0.weight', 'mlp.0.bias', 'mlp.2.weight', 'mlp.2.bias', 'mlp.4.weight', 'mlp.4.bias', 'last_layer.weight_g', 'last_layer.weight_v'], unexpected_keys=['backbone.cls_token', 'backbone.pos_embed', 'backbone.patch_embed.proj.weight', 'backbone.patch_embed.proj.bias', 'backbone.blocks.0.norm1.weight', 'backbone.blocks.0.norm1.bias', 'backbone.blocks.0.attn.qkv.weight', 'backbone.blocks.0.attn.qkv.bias', 'backbone.blocks.0.attn.proj.weight', 'backbone.blocks.0.attn.proj.bias', 'backbone.blocks.0.norm2.weight', 'backbone.blocks.0.norm2.bias', 'backbone.blocks.0.mlp.fc1.weight', 'backbone.blocks.0.mlp.fc1.bias', 'backbone.blocks.0.mlp.fc2.weight', 'backbone.blocks.0.mlp.fc2.bias', 'backbone.blocks.1.norm1.weight', 'backbone.blocks.1.norm1.bias', 'backbone.blocks.1.attn.qkv.weight', 'backbone.blocks.1.attn.qkv.bias', 'backbone.blocks.1.attn.proj.weight', 'backbone.blocks.1.attn.proj.bias', 'backbone.blocks.1.norm2.weight', 'backbone.blocks.1.norm2.bias', 'backbone.blocks.1.mlp.fc1.weight', 'backbone.blocks.1.mlp.fc1.bias', 'backbone.blocks.1.mlp.fc2.weight', 'backbone.blocks.1.mlp.fc2.bias', 'backbone.blocks.2.norm1.weight', 'backbone.blocks.2.norm1.bias', 'backbone.blocks.2.attn.qkv.weight', 'backbone.blocks.2.attn.qkv.bias', 'backbone.blocks.2.attn.proj.weight', 'backbone.blocks.2.attn.proj.bias', 'backbone.blocks.2.norm2.weight', 'backbone.blocks.2.norm2.bias', 'backbone.blocks.2.mlp.fc1.weight', 'backbone.blocks.2.mlp.fc1.bias', 'backbone.blocks.2.mlp.fc2.weight', 'backbone.blocks.2.mlp.fc2.bias', 'backbone.blocks.3.norm1.weight', 'backbone.blocks.3.norm1.bias', 'backbone.blocks.3.attn.qkv.weight', 'backbone.blocks.3.attn.qkv.bias', 'backbone.blocks.3.attn.proj.weight', 'backbone.blocks.3.attn.proj.bias', 'backbone.blocks.3.norm2.weight', 'backbone.blocks.3.norm2.bias', 'backbone.blocks.3.mlp.fc1.weight', 'backbone.blocks.3.mlp.fc1.bias', 'backbone.blocks.3.mlp.fc2.weight', 'backbone.blocks.3.mlp.fc2.bias', 'backbone.blocks.4.norm1.weight', 'backbone.blocks.4.norm1.bias', 'backbone.blocks.4.attn.qkv.weight', 'backbone.blocks.4.attn.qkv.bias', 'backbone.blocks.4.attn.proj.weight', 'backbone.blocks.4.attn.proj.bias', 'backbone.blocks.4.norm2.weight', 'backbone.blocks.4.norm2.bias', 'backbone.blocks.4.mlp.fc1.weight', 'backbone.blocks.4.mlp.fc1.bias', 'backbone.blocks.4.mlp.fc2.weight', 'backbone.blocks.4.mlp.fc2.bias', 'backbone.blocks.5.norm1.weight', 'backbone.blocks.5.norm1.bias', 'backbone.blocks.5.attn.qkv.weight', 'backbone.blocks.5.attn.qkv.bias', 'backbone.blocks.5.attn.proj.weight', 'backbone.blocks.5.attn.proj.bias', 'backbone.blocks.5.norm2.weight', 'backbone.blocks.5.norm2.bias', 'backbone.blocks.5.mlp.fc1.weight', 'backbone.blocks.5.mlp.fc1.bias', 'backbone.blocks.5.mlp.fc2.weight', 'backbone.blocks.5.mlp.fc2.bias', 'backbone.blocks.6.norm1.weight', 'backbone.blocks.6.norm1.bias', 'backbone.blocks.6.attn.qkv.weight', 'backbone.blocks.6.attn.qkv.bias', 'backbone.blocks.6.attn.proj.weight', 'backbone.blocks.6.attn.proj.bias', 'backbone.blocks.6.norm2.weight', 'backbone.blocks.6.norm2.bias', 'backbone.blocks.6.mlp.fc1.weight', 'backbone.blocks.6.mlp.fc1.bias', 'backbone.blocks.6.mlp.fc2.weight', 'backbone.blocks.6.mlp.fc2.bias', 'backbone.blocks.7.norm1.weight', 'backbone.blocks.7.norm1.bias', 'backbone.blocks.7.attn.qkv.weight', 'backbone.blocks.7.attn.qkv.bias', 'backbone.blocks.7.attn.proj.weight', 'backbone.blocks.7.attn.proj.bias', 'backbone.blocks.7.norm2.weight', 'backbone.blocks.7.norm2.bias', 'backbone.blocks.7.mlp.fc1.weight', 'backbone.blocks.7.mlp.fc1.bias', 'backbone.blocks.7.mlp.fc2.weight', 'backbone.blocks.7.mlp.fc2.bias', 'backbone.blocks.8.norm1.weight', 'backbone.blocks.8.norm1.bias', 'backbone.blocks.8.attn.qkv.weight', 'backbone.blocks.8.attn.qkv.bias', 'backbone.blocks.8.attn.proj.weight', 'backbone.blocks.8.attn.proj.bias', 'backbone.blocks.8.norm2.weight', 'backbone.blocks.8.norm2.bias', 'backbone.blocks.8.mlp.fc1.weight', 'backbone.blocks.8.mlp.fc1.bias', 'backbone.blocks.8.mlp.fc2.weight', 'backbone.blocks.8.mlp.fc2.bias', 'backbone.blocks.9.norm1.weight', 'backbone.blocks.9.norm1.bias', 'backbone.blocks.9.attn.qkv.weight', 'backbone.blocks.9.attn.qkv.bias', 'backbone.blocks.9.attn.proj.weight', 'backbone.blocks.9.attn.proj.bias', 'backbone.blocks.9.norm2.weight', 'backbone.blocks.9.norm2.bias', 'backbone.blocks.9.mlp.fc1.weight', 'backbone.blocks.9.mlp.fc1.bias', 'backbone.blocks.9.mlp.fc2.weight', 'backbone.blocks.9.mlp.fc2.bias', 'backbone.blocks.10.norm1.weight', 'backbone.blocks.10.norm1.bias', 'backbone.blocks.10.attn.qkv.weight', 'backbone.blocks.10.attn.qkv.bias', 'backbone.blocks.10.attn.proj.weight', 'backbone.blocks.10.attn.proj.bias', 'backbone.blocks.10.norm2.weight', 'backbone.blocks.10.norm2.bias', 'backbone.blocks.10.mlp.fc1.weight', 'backbone.blocks.10.mlp.fc1.bias', 'backbone.blocks.10.mlp.fc2.weight', 'backbone.blocks.10.mlp.fc2.bias', 'backbone.blocks.11.norm1.weight', 'backbone.blocks.11.norm1.bias', 'backbone.blocks.11.attn.qkv.weight', 'backbone.blocks.11.attn.qkv.bias', 'backbone.blocks.11.attn.proj.weight', 'backbone.blocks.11.attn.proj.bias', 'backbone.blocks.11.norm2.weight', 'backbone.blocks.11.norm2.bias', 'backbone.blocks.11.mlp.fc1.weight', 'backbone.blocks.11.mlp.fc1.bias', 'backbone.blocks.11.mlp.fc2.weight', 'backbone.blocks.11.mlp.fc2.bias', 'backbone.norm.weight', 'backbone.norm.bias', 'head.mlp.0.weight', 'head.mlp.0.bias', 'head.mlp.2.weight', 'head.mlp.2.bias', 'head.mlp.4.weight', 'head.mlp.4.bias', 'head.last_layer.weight_g', 'head.last_layer.weight_v'])\u001b[0m\n"
     ]
    },
    {
     "name": "stdout",
     "output_type": "stream",
     "text": [
      "Total parameters: 5524416\n",
      "Required parameters: 5524416 \n",
      "File ../model_weights/vit_t16_v2/ViT_T16-Derma_SSL_Dino_teacher_headless.pth saved\n",
      "Key prefixes: ['model.blocks', 'model.cls_token', 'model.norm', 'model.patch_embed', 'model.pos_embed']\n",
      "150 keys in total.\n"
     ]
    }
   ],
   "source": [
    "model_dir = \"../model_weights/vit_t16_v2/ViT_T16-Derma_SSL_Dino_raw.pth\"\n",
    "if os.path.exists(model_dir):\n",
    "    print(f\"File {model_dir} already exists\")\n",
    "else:\n",
    "    model_url = \"https://github.com/vm02-self-supervised-dermatology/self-supervised-models/raw/main/dino/checkpoint-epoch100.pth\"\n",
    "    torch.hub.download_url_to_file(model_url, model_dir, progress=True)\n",
    "print_checkpoint_keys(model_dir)\n",
    "\n",
    "raw_path = model_dir\n",
    "model_dir = \"../model_weights/vit_t16_v2/ViT_T16-Derma_SSL_Dino_headless.pth\"\n",
    "if os.path.exists(model_dir):\n",
    "    print(f\"File {model_dir} already exists\")\n",
    "else:\n",
    "    model = Embedder.load_dino(raw_path)\n",
    "    model.head = nn.Sequential()\n",
    "    print_parameters(model)  # 5'524'416\n",
    "    torch.save(model.state_dict(), model_dir)\n",
    "    print(f\"File {model_dir} saved\")\n",
    "print_checkpoint_keys(model_dir)\n",
    "\n",
    "model_dir = \"../model_weights/vit_t16_v2/ViT_T16-Derma_SSL_Dino_teacher_headless.pth\"\n",
    "if os.path.exists(model_dir):\n",
    "    print(f\"File {model_dir} already exists\")\n",
    "else:\n",
    "    model = Embedder.load_dino(raw_path, model_key=\"teacher\")\n",
    "    model.head = nn.Sequential()\n",
    "    print_parameters(model)  # 5'524'416\n",
    "    torch.save(model.state_dict(), model_dir)\n",
    "    print(f\"File {model_dir} saved\")\n",
    "print_checkpoint_keys(model_dir)"
   ]
  },
  {
   "cell_type": "code",
   "execution_count": 83,
   "metadata": {},
   "outputs": [],
   "source": [
    "pathlib.PosixPath = temp  # revert back to Linux"
   ]
  }
 ],
 "metadata": {
  "kernelspec": {
   "display_name": "Python 3.9.7 ('.venv': venv)",
   "language": "python",
   "name": "python3"
  },
  "language_info": {
   "codemirror_mode": {
    "name": "ipython",
    "version": 3
   },
   "file_extension": ".py",
   "mimetype": "text/x-python",
   "name": "python",
   "nbconvert_exporter": "python",
   "pygments_lexer": "ipython3",
   "version": "3.8.10"
  },
  "orig_nbformat": 4,
  "vscode": {
   "interpreter": {
    "hash": "412f64844b7b8af74bdbb265a073648c443bf75ef51a1e949163ab9198702ceb"
   }
  }
 },
 "nbformat": 4,
 "nbformat_minor": 2
}
