{
 "cells": [
  {
   "cell_type": "markdown",
   "metadata": {},
   "source": [
    "# Split datasets\n"
   ]
  },
  {
   "cell_type": "code",
   "execution_count": 1,
   "metadata": {},
   "outputs": [],
   "source": [
    "from glob import glob\n",
    "import os\n",
    "import shutil"
   ]
  },
  {
   "cell_type": "code",
   "execution_count": 2,
   "metadata": {},
   "outputs": [
    {
     "name": "stdout",
     "output_type": "stream",
     "text": [
      "alstonia_scholaris_diseased\n",
      "alstonia_scholaris_healthy\n",
      "apple_black_rot\n",
      "apple_cedar_apple_rust\n",
      "apple_complex\n",
      "apple_frog_eye_leaf_spot\n",
      "apple_healthy\n",
      "apple_powdery_mildew\n",
      "apple_rust\n",
      "apple_scab\n",
      "arjun_diseased\n",
      "arjun_healthy\n",
      "bael_diseased\n",
      "banana_cordana\n",
      "banana_healthy\n",
      "banana_pestalotiopsis\n",
      "banana_sigatoka\n",
      "basil_healthy\n",
      "bean_angular_leaf_spot\n",
      "bean_healthy\n",
      "bean_rust\n",
      "blueberry_healthy\n",
      "cauliflower_bacterial_spot_rot\n",
      "cauliflower_black_rot\n",
      "cauliflower_downy_mildew\n",
      "cauliflower_healthy\n",
      "cherry_healthy\n",
      "cherry_powdery_mildew\n",
      "chinar_diseased\n",
      "chinar_healthy\n",
      "citrus_black_spot\n",
      "citrus_canker\n",
      "citrus_greening\n",
      "citrus_healthy\n",
      "coffee_healthy\n",
      "coffee_miner\n",
      "coffee_red_spider_mite\n",
      "coffee_rust\n",
      "corn_blight\n",
      "corn_common_rust\n",
      "corn_diseased\n",
      "corn_gray_leaf_spot\n",
      "corn_healthy\n",
      "corn_northern_leaf_blight\n",
      "cotton_diseased\n",
      "cotton_healthy\n",
      "cucumber_diseased\n",
      "cucumber_healthy\n",
      "gauva_diseased\n",
      "gauva_healthy\n",
      "grape_black_measles\n",
      "grape_black_rot\n",
      "grape_healthy\n",
      "grape_leaf_blight\n",
      "hops_downy\n",
      "hops_healthy\n",
      "hops_powdery\n",
      "jamun_diseased\n",
      "jamun_healthy\n",
      "jatropha_diseased\n",
      "jatropha_healthy\n",
      "lemon_diseased\n",
      "lemon_healthy\n",
      "mango_diseased\n",
      "mango_healthy\n",
      "okra_diseased\n",
      "okra_healthy\n",
      "orange_haunglongbing\n",
      "peach_bacterial_spot\n",
      "peach_healthy\n",
      "pepper_bacterial_spot\n",
      "pepper_healthy\n",
      "pomegranate_diseased\n",
      "pomegranate_healthy\n",
      "pongamia_pinnata_diseased\n",
      "pongamia_pinnata_healthy\n",
      "potato_early_blight\n",
      "potato_healthy\n",
      "potato_late_blight\n",
      "raspberry_healthy\n",
      "rice_brown_spot\n",
      "rice_healthy\n",
      "rice_hispa\n",
      "rice_leaf_blast\n",
      "rice_neck_blast\n",
      "soyabean_healthy\n",
      "squash_powdery_mildew\n",
      "strawberry_calciumdeficiency\n",
      "strawberry_healthy\n",
      "strawberry_leaf_scorch\n",
      "sugarcane_diseased\n",
      "sugarcane_healthy\n",
      "sunflower_downy_mildew\n",
      "sunflower_fresh_leaf\n",
      "sunflower_gray_mold\n",
      "sunflower_leaf_scars\n",
      "tea_algal_leaf\n",
      "tea_anthracnose\n",
      "tea_bird_eye_spot\n",
      "tea_brown_blight\n",
      "tea_gray_light\n",
      "tea_healthy\n",
      "tea_red_leaf_spot\n",
      "tea_white_spot\n",
      "tomato_bacterial_spot\n",
      "tomato_early_blight\n",
      "tomato_healthy\n",
      "tomato_late_blight\n",
      "tomato_leaf_mold\n",
      "tomato_mosaic_virus\n",
      "tomato_septoria_leaf_spot\n",
      "tomato_spider_mites\n",
      "tomato_target_spot\n",
      "tomato_yellow_leaf_curl_virus\n",
      "wheat_brown_rust\n",
      "wheat_diseased\n",
      "wheat_healthy\n",
      "wheat_septoria\n",
      "wheat_stripe_rust\n",
      "wheat_yellow_rust\n",
      "Done! Check the result.csv file for output.331308\n"
     ]
    }
   ],
   "source": [
    "# 导入os和csv模块\n",
    "import os\n",
    "import csv\n",
    "\n",
    "# 定义文件夹路径和csv文件名\n",
    "folder_path = \"C:/datasets/pddd/PlantDiseased/train\"\n",
    "csv_file = \"result.csv\"\n",
    "\n",
    "# 创建一个空列表来存储子文件夹名称和文件数\n",
    "subfolders = []\n",
    "\n",
    "# 定义一个元组来存储需要统计的后缀名\n",
    "extensions = (\".jpg\", \".JPG\", \".png\", \".PNG\")\n",
    "\n",
    "count = 0\n",
    "\n",
    "# 遍历文件夹中的所有子文件夹\n",
    "for name in os.listdir(folder_path):\n",
    "    # 检查是否是子文件夹\n",
    "    if os.path.isdir(os.path.join(folder_path, name)):\n",
    "        # 获取子文件夹中的所有文件\n",
    "        files = [\n",
    "            f\n",
    "            for f in os.listdir(os.path.join(folder_path, name))\n",
    "            if os.path.isfile(os.path.join(folder_path, name, f))\n",
    "        ]\n",
    "        # 计算子文件夹中符合后缀名要求的文件数\n",
    "        file_count = len([f for f in files if f.endswith(extensions)])\n",
    "        if file_count >= 10:\n",
    "            print(name)\n",
    "            # 将子文件夹名称和文件数添加到列表中\n",
    "            subfolders.append([name, file_count])\n",
    "            count = count + file_count\n",
    "\n",
    "# 打开csv文件并写入结果\n",
    "with open(csv_file, \"w\", encoding=\"utf-8\", newline=\"\") as f:\n",
    "    # 创建一个csv写入对象\n",
    "    writer = csv.writer(f)\n",
    "    # 写入表头\n",
    "    writer.writerow([\"Subfolder Name\", \"File Count\"])\n",
    "    # 写入数据\n",
    "    writer.writerows(subfolders)\n",
    "\n",
    "# 打印完成信息\n",
    "print(\"Done! Check the result.csv file for output.\" + str(count))"
   ]
  },
  {
   "cell_type": "code",
   "execution_count": 42,
   "metadata": {},
   "outputs": [],
   "source": [
    "source_folders = {\n",
    "    \"../datasets/pddd/PlantDiseased/\": \"pddd\",\n",
    "    \"../datasets/darma/train_split/\": \"darma\",\n",
    "    \"../datasets/darma/test_split/raw_split_test_pass_0_with_unannotated_annotations/\": \"darma\",\n",
    "    \"../datasets/darma/train_extra_web_images/\": \"darma\",\n",
    "}\n",
    "\n",
    "target_folder = \"../datasets/ssl_images/\""
   ]
  },
  {
   "cell_type": "code",
   "execution_count": 61,
   "metadata": {},
   "outputs": [
    {
     "name": "stdout",
     "output_type": "stream",
     "text": [
      "{}\n"
     ]
    }
   ],
   "source": [
    "counters = {}\n",
    "print(counters)"
   ]
  },
  {
   "cell_type": "code",
   "execution_count": 66,
   "metadata": {},
   "outputs": [
    {
     "name": "stdout",
     "output_type": "stream",
     "text": [
      "Copying from: ../datasets/pddd/PlantDiseased/\n",
      "Copying from: ../datasets/darma/train_split/\n",
      "Copying from: ../datasets/darma/test_split/raw_split_test_pass_0_with_unannotated_annotations/\n",
      "Copying from: ../datasets/darma/train_extra_web_images/\n"
     ]
    }
   ],
   "source": [
    "for source_folder in source_folders:\n",
    "    print(f\"Copying from: {source_folder}\")\n",
    "    folder_prefix = source_folders[source_folder]\n",
    "    for subfolder in glob(source_folder + \"*/*\", recursive=True):\n",
    "        # print(f\"Copying from: {subfolder}\")\n",
    "        disease_class = os.path.basename(subfolder)\n",
    "        disease_class = disease_class.lower().replace(\" \", \"_\")\n",
    "        if disease_class not in counters:\n",
    "            counters[disease_class] = 0\n",
    "        for file in list(os.scandir(subfolder)):\n",
    "            file_extension = os.path.splitext(file)[1].lower()\n",
    "            if (file_extension) in [\".jpg\", \".jpeg\", \".png\"]:\n",
    "                target_file = os.path.join(\n",
    "                    target_folder, f\"{folder_prefix}-{disease_class}-{counters[disease_class]}{file_extension}\"\n",
    "                )\n",
    "                if not os.path.exists(target_file):\n",
    "                    shutil.copy(file, target_file)\n",
    "                    counters[disease_class] += 1\n",
    "            elif (file_extension) not in [\".xml\", \".120tore\", \".webp\"]:\n",
    "                print(file_extension)\n",
    "\n",
    "        # break"
   ]
  },
  {
   "cell_type": "code",
   "execution_count": 74,
   "metadata": {},
   "outputs": [
    {
     "name": "stdout",
     "output_type": "stream",
     "text": [
      "Total classes: 1120\n",
      "Total files: 652575\n"
     ]
    }
   ],
   "source": [
    "print(f\"Total classes: {len(counters)}\")\n",
    "print(f\"Total files: {len(list(os.scandir(target_folder)))}\")"
   ]
  },
  {
   "cell_type": "code",
   "execution_count": 72,
   "metadata": {},
   "outputs": [
    {
     "name": "stdout",
     "output_type": "stream",
     "text": [
      "1305150\n"
     ]
    }
   ],
   "source": [
    "total_sum = 0\n",
    "for key in list(counters)[:]:\n",
    "    total_sum += counters[key]\n",
    "print(total_sum)\n",
    "\n",
    "# pddd counter: 842322\n",
    "# darma counter: 462828\n",
    "# total counter: 1305150\n",
    "\n",
    "# darma items: 231414\n",
    "# pddd items: 421161\n",
    "# total items: 652575"
   ]
  }
 ],
 "metadata": {
  "kernelspec": {
   "display_name": "Python 3.9.7 ('.venv': venv)",
   "language": "python",
   "name": "python3"
  },
  "language_info": {
   "codemirror_mode": {
    "name": "ipython",
    "version": 3
   },
   "file_extension": ".py",
   "mimetype": "text/x-python",
   "name": "python",
   "nbconvert_exporter": "python",
   "pygments_lexer": "ipython3",
   "version": "3.8.10"
  },
  "orig_nbformat": 4,
  "vscode": {
   "interpreter": {
    "hash": "412f64844b7b8af74bdbb265a073648c443bf75ef51a1e949163ab9198702ceb"
   }
  }
 },
 "nbformat": 4,
 "nbformat_minor": 2
}
