{
 "cells": [
  {
   "cell_type": "code",
   "execution_count": 6,
   "metadata": {},
   "outputs": [],
   "source": [
    "import sys\n",
    "\n",
    "sys.path.append(\"python\")\n",
    "from utils import print_parameters\n",
    "\n",
    "import os\n",
    "import torch\n",
    "from torchvision.models import resnet50, ResNet50_Weights, swin_t, Swin_T_Weights"
   ]
  },
  {
   "cell_type": "code",
   "execution_count": 7,
   "metadata": {},
   "outputs": [],
   "source": [
    "seed = 19\n",
    "# weights_path = \"../model_weights/random/ResNet50-Random.pth\"\n",
    "# weights = None\n",
    "\n",
    "# weights_path = \"../model_weights/imagenet/ResNet50-ImageNet.pth\"\n",
    "# weights = weights = ResNet50_Weights.IMAGENET1K_V2\n",
    "\n",
    "# weights_path = \"../model_weights/random/Swin_T-Random.pth\"\n",
    "# weights = weights = None\n",
    "\n",
    "weights_path = \"../model_weights/imagenet/Swin_T-ImageNet.pth\"\n",
    "weights = weights = Swin_T_Weights.IMAGENET1K_V1"
   ]
  },
  {
   "cell_type": "code",
   "execution_count": 8,
   "metadata": {},
   "outputs": [
    {
     "data": {
      "text/plain": [
       "<torch._C.Generator at 0x28c0353ae50>"
      ]
     },
     "execution_count": 8,
     "metadata": {},
     "output_type": "execute_result"
    }
   ],
   "source": [
    "torch.manual_seed(seed)"
   ]
  },
  {
   "cell_type": "code",
   "execution_count": 9,
   "metadata": {},
   "outputs": [
    {
     "name": "stdout",
     "output_type": "stream",
     "text": [
      "Total parameters: 28288354\n",
      "Required parameters: 28288354 \n"
     ]
    }
   ],
   "source": [
    "model = swin_t(weights=weights) # resnet50 / swin_t\n",
    "print_parameters(model) # 25557032 / 28288354\n",
    "\n",
    "if not os.path.exists(weights_path):\n",
    "    torch.save(model.state_dict(), weights_path)\n",
    "else:\n",
    "    print(f\"File {weights_path} already exists\")"
   ]
  }
 ],
 "metadata": {
  "kernelspec": {
   "display_name": "Python 3.9.7 ('.venv': venv)",
   "language": "python",
   "name": "python3"
  },
  "language_info": {
   "codemirror_mode": {
    "name": "ipython",
    "version": 3
   },
   "file_extension": ".py",
   "mimetype": "text/x-python",
   "name": "python",
   "nbconvert_exporter": "python",
   "pygments_lexer": "ipython3",
   "version": "3.9.7"
  },
  "orig_nbformat": 4,
  "vscode": {
   "interpreter": {
    "hash": "412f64844b7b8af74bdbb265a073648c443bf75ef51a1e949163ab9198702ceb"
   }
  }
 },
 "nbformat": 4,
 "nbformat_minor": 2
}
