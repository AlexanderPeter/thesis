{
 "cells": [
  {
   "cell_type": "code",
   "execution_count": 1,
   "metadata": {},
   "outputs": [],
   "source": [
    "import json\n",
    "import os\n",
    "import pandas as pd\n",
    "\n",
    "from sklearn.model_selection import train_test_split\n",
    "from tqdm import tqdm\n",
    "\n",
    "from local_python.feature_evaluation import (\n",
    "    evaluate_with_knn, evaluate_with_lr, calculate_scores\n",
    ")\n",
    "from local_python.general_utils import (\n",
    "    set_seed,\n",
    ")"
   ]
  },
  {
   "cell_type": "code",
   "execution_count": 2,
   "metadata": {},
   "outputs": [],
   "source": [
    "csv_source_directory = \"../datasets/intermediate-features/\"\n",
    "metric_target_directory = \"../runs/\"\n",
    "master_file_name = \"master-metrics-resnet-plant.txt\"\n",
    "\n",
    "seed_list = range(100)\n",
    "max_neighbors = 200\n",
    "max_iter = 10_000\n",
    "best_k_f1_score_average = \"macro\"  # \"weighted\"\n",
    "knn_metric = \"cosine\"\n",
    "\n",
    "detail_selection_config = {  # number of samples and seeds\n",
    "    1: seed_list,\n",
    "    3: seed_list,\n",
    "    10: seed_list,\n",
    "    30: seed_list,\n",
    "    100: seed_list,\n",
    "    None: [None],\n",
    "}\n",
    "\n",
    "master_selection_config = {\n",
    "    None: range(10),\n",
    "}\n",
    "\n",
    "dataset_prefixes = [\n",
    "    # \"DDI-ViT_T16-student\",\n",
    "    # \"PAD_UFES_20-ViT_T16-student\",\n",
    "    # \"HAM10000-ViT_T16-student\",\n",
    "    # \"Fitzpatrick17k-ViT_T16-student\",\n",
    "    # \"PlantDoc-ViT_T16-student\",\n",
    "    # \"PlantDataset-ViT_T16-student\",\n",
    "    # \"Cassava-ViT_T16-student\",\n",
    "    # \"PlantVillage-ViT_T16-student\",\n",
    "    # \"DDI-ResNet50\",\n",
    "    # \"PAD_UFES_20-ResNet50\",\n",
    "    # \"HAM10000-ResNet50\",\n",
    "    # \"Fitzpatrick17k-ResNet50\",\n",
    "    \"PlantDoc-ResNet50\",\n",
    "    \"PlantDataset-ResNet50\",\n",
    "    \"Cassava-ResNet50\",\n",
    "    \"PlantVillage-ResNet50\",\n",
    "    # \"DDI-ViT_T16-teacher\",\n",
    "    # \"PAD_UFES_20-ViT_T16-teacher\",\n",
    "    # \"HAM10000-ViT_T16-teacher\",\n",
    "    # \"Fitzpatrick17k-ViT_T16-teacher\",\n",
    "    # \"PlantDoc-ViT_T16-teacher\",\n",
    "    # \"PlantDataset-ViT_T16-teacher\",\n",
    "    # \"Cassava-ViT_T16-teacher\",\n",
    "    # \"PlantVillage-ViT_T16-teacher\",\n",
    "]"
   ]
  },
  {
   "cell_type": "code",
   "execution_count": 3,
   "metadata": {},
   "outputs": [],
   "source": [
    "def calculate_scores_of_dataframe(\n",
    "    df_full, number_of_samples, selection_seed, csv_path, evaluations\n",
    "):\n",
    "    df_training = df_full[df_full[\"set\"] == \"train\"]\n",
    "    df_devel = df_full[(df_full[\"set\"] == \"train\") | (df_full[\"set\"] == \"valid\")]\n",
    "    df_train, df_valid = train_test_split(\n",
    "        df_devel, train_size=len(df_training), stratify=df_devel[\"target_code\"], random_state=selection_seed\n",
    "    )\n",
    "    df_test = df_full[df_full[\"set\"] == \"test\"]\n",
    "\n",
    "    if number_of_samples is not None:\n",
    "        target_group = df_train.groupby(\"target_code\")\n",
    "        max_samples_possible = target_group[\"set\"].count().min()\n",
    "        if max_samples_possible < number_of_samples:\n",
    "            # abort because this is impossible\n",
    "            return\n",
    "        df_train = target_group.sample(\n",
    "            number_of_samples, random_state=selection_seed, replace=False\n",
    "        )\n",
    "    features = (\n",
    "        df_train.loc[:, ~df_train.columns.isin([\"target_code\", \"set\"])],\n",
    "        df_valid.loc[:, ~df_valid.columns.isin([\"target_code\", \"set\"])],\n",
    "        df_test.loc[:, ~df_test.columns.isin([\"target_code\", \"set\"])],\n",
    "    )\n",
    "    targets = (\n",
    "        df_train[\"target_code\"].to_numpy(),\n",
    "        df_valid[\"target_code\"].to_numpy(),\n",
    "        df_test[\"target_code\"].to_numpy(),\n",
    "    )\n",
    "\n",
    "    entries = []\n",
    "    for evaluation in evaluations:\n",
    "        entry = {}\n",
    "        entry[\"feature_identifier\"] = csv_path\n",
    "        entry[\"selection_seed\"] = selection_seed\n",
    "        entry[\"number_of_samples\"] = number_of_samples\n",
    "        entry[\"model_name\"] = evaluation\n",
    "\n",
    "        if evaluation == \"lr\":\n",
    "            entry = evaluate_with_lr(\n",
    "                features,\n",
    "                targets,\n",
    "                entry,\n",
    "                seed=selection_seed,\n",
    "                max_iter=max_iter,\n",
    "            )\n",
    "        elif evaluation == \"knn\":\n",
    "            entry = evaluate_with_knn(\n",
    "                features,\n",
    "                targets,\n",
    "                entry,\n",
    "                number_of_samples,\n",
    "                knn_metric=knn_metric,\n",
    "                max_neighbors=max_neighbors,\n",
    "                best_k_f1_score_average=best_k_f1_score_average,\n",
    "            )\n",
    "        else:\n",
    "            print(f\"Unknown evaluation method {evaluation}\")\n",
    "        entries.append(entry)\n",
    "    return entries\n",
    "\n",
    "def calculate_scores_of_file(csv_path, metric_file_path, sample_selection_config):\n",
    "    df_full = pd.read_csv(csv_path, index_col=0)\n",
    "    for number_of_samples in sample_selection_config:\n",
    "        # print(f\"number_of_samples: {number_of_samples}\")\n",
    "        selection_seeds = sample_selection_config[number_of_samples]\n",
    "        for selection_seed in tqdm(selection_seeds):\n",
    "            set_seed(selection_seed, verbose=False)\n",
    "            entries = calculate_scores_of_dataframe(\n",
    "                df_full, number_of_samples, selection_seed, csv_path, [\"lr\", \"knn\"]\n",
    "            )\n",
    "            with open(metric_file_path, \"a\") as detaillog:\n",
    "                for entry in entries:\n",
    "                    # print(entry)\n",
    "                    json.dump(entry, detaillog, indent=2)\n"
   ]
  },
  {
   "cell_type": "code",
   "execution_count": 4,
   "metadata": {},
   "outputs": [
    {
     "name": "stdout",
     "output_type": "stream",
     "text": [
      "'PlantDoc-ResNet50' has 5 source files and 1 target files\n",
      "'PlantDataset-ResNet50' has 5 source files and 1 target files\n",
      "'Cassava-ResNet50' has 5 source files and 1 target files\n",
      "'PlantVillage-ResNet50' has 5 source files and 1 target files\n",
      "Source files 112\n",
      "Target files 34\n"
     ]
    }
   ],
   "source": [
    "csv_files = set(os.listdir(path=csv_source_directory))\n",
    "metric_files = set(os.listdir(path=metric_target_directory))\n",
    "\n",
    "# configuration check\n",
    "covered_csv_files = set()\n",
    "covered_metric_files = set()\n",
    "\n",
    "for dataset_prefix in dataset_prefixes:\n",
    "    matches_source = [x for x in csv_files if x.startswith(dataset_prefix)]\n",
    "    if 0 == len(matches_source):\n",
    "        print(f\"Warn: No source file with prefix '{dataset_prefix}' found\")\n",
    "        continue\n",
    "    else:\n",
    "        covered_csv_files.update(matches_source)\n",
    "\n",
    "    matches_target = [x for x in metric_files if x.startswith(dataset_prefix)]\n",
    "    if 1 < len(matches_target):\n",
    "        print(\n",
    "            f\"Warn: {len(matches_target)} target files found with prefix '{dataset_prefix}'\"\n",
    "        )\n",
    "        print(matches_target)\n",
    "\n",
    "    print(\n",
    "        f\"'{dataset_prefix}' has {len(matches_source)} source files and {len(matches_target)} target files\"\n",
    "    )\n",
    "    covered_metric_files.update(matches_target)\n",
    "\n",
    "\n",
    "print(f\"Source files {len(csv_files)}\")\n",
    "print(f\"Target files {len(metric_files)}\")\n",
    "# uncovered_csv_files = csv_files - covered_csv_files\n",
    "# uncovered_metric_files = metric_files - covered_metric_files"
   ]
  },
  {
   "cell_type": "code",
   "execution_count": 5,
   "metadata": {},
   "outputs": [
    {
     "name": "stdout",
     "output_type": "stream",
     "text": [
      "Calculating 'PlantDoc-ResNet50' to '../runs/master-metrics-resnet-plant.txt'\n",
      "- Processing: PlantDoc-ResNet50-Random.csv\n"
     ]
    },
    {
     "name": "stderr",
     "output_type": "stream",
     "text": [
      "  0%|          | 0/10 [00:00<?, ?it/s]c:\\workspace\\thesis\\.venv\\lib\\site-packages\\sklearn\\linear_model\\_logistic.py:460: ConvergenceWarning: lbfgs failed to converge (status=1):\n",
      "STOP: TOTAL NO. of ITERATIONS REACHED LIMIT.\n",
      "\n",
      "Increase the number of iterations (max_iter) or scale the data as shown in:\n",
      "    https://scikit-learn.org/stable/modules/preprocessing.html\n",
      "Please also refer to the documentation for alternative solver options:\n",
      "    https://scikit-learn.org/stable/modules/linear_model.html#logistic-regression\n",
      "  n_iter_i = _check_optimize_result(\n",
      " 10%|█         | 1/10 [03:35<32:17, 215.25s/it]c:\\workspace\\thesis\\.venv\\lib\\site-packages\\sklearn\\linear_model\\_logistic.py:460: ConvergenceWarning: lbfgs failed to converge (status=1):\n",
      "STOP: TOTAL NO. of ITERATIONS REACHED LIMIT.\n",
      "\n",
      "Increase the number of iterations (max_iter) or scale the data as shown in:\n",
      "    https://scikit-learn.org/stable/modules/preprocessing.html\n",
      "Please also refer to the documentation for alternative solver options:\n",
      "    https://scikit-learn.org/stable/modules/linear_model.html#logistic-regression\n",
      "  n_iter_i = _check_optimize_result(\n",
      " 20%|██        | 2/10 [07:00<27:56, 209.57s/it]c:\\workspace\\thesis\\.venv\\lib\\site-packages\\sklearn\\linear_model\\_logistic.py:460: ConvergenceWarning: lbfgs failed to converge (status=1):\n",
      "STOP: TOTAL NO. of ITERATIONS REACHED LIMIT.\n",
      "\n",
      "Increase the number of iterations (max_iter) or scale the data as shown in:\n",
      "    https://scikit-learn.org/stable/modules/preprocessing.html\n",
      "Please also refer to the documentation for alternative solver options:\n",
      "    https://scikit-learn.org/stable/modules/linear_model.html#logistic-regression\n",
      "  n_iter_i = _check_optimize_result(\n",
      " 30%|███       | 3/10 [10:25<24:12, 207.50s/it]c:\\workspace\\thesis\\.venv\\lib\\site-packages\\sklearn\\linear_model\\_logistic.py:460: ConvergenceWarning: lbfgs failed to converge (status=1):\n",
      "STOP: TOTAL NO. of ITERATIONS REACHED LIMIT.\n",
      "\n",
      "Increase the number of iterations (max_iter) or scale the data as shown in:\n",
      "    https://scikit-learn.org/stable/modules/preprocessing.html\n",
      "Please also refer to the documentation for alternative solver options:\n",
      "    https://scikit-learn.org/stable/modules/linear_model.html#logistic-regression\n",
      "  n_iter_i = _check_optimize_result(\n",
      " 40%|████      | 4/10 [13:50<20:38, 206.35s/it]c:\\workspace\\thesis\\.venv\\lib\\site-packages\\sklearn\\linear_model\\_logistic.py:460: ConvergenceWarning: lbfgs failed to converge (status=1):\n",
      "STOP: TOTAL NO. of ITERATIONS REACHED LIMIT.\n",
      "\n",
      "Increase the number of iterations (max_iter) or scale the data as shown in:\n",
      "    https://scikit-learn.org/stable/modules/preprocessing.html\n",
      "Please also refer to the documentation for alternative solver options:\n",
      "    https://scikit-learn.org/stable/modules/linear_model.html#logistic-regression\n",
      "  n_iter_i = _check_optimize_result(\n",
      " 50%|█████     | 5/10 [17:15<17:09, 205.99s/it]c:\\workspace\\thesis\\.venv\\lib\\site-packages\\sklearn\\linear_model\\_logistic.py:460: ConvergenceWarning: lbfgs failed to converge (status=1):\n",
      "STOP: TOTAL NO. of ITERATIONS REACHED LIMIT.\n",
      "\n",
      "Increase the number of iterations (max_iter) or scale the data as shown in:\n",
      "    https://scikit-learn.org/stable/modules/preprocessing.html\n",
      "Please also refer to the documentation for alternative solver options:\n",
      "    https://scikit-learn.org/stable/modules/linear_model.html#logistic-regression\n",
      "  n_iter_i = _check_optimize_result(\n",
      " 60%|██████    | 6/10 [20:40<13:42, 205.62s/it]c:\\workspace\\thesis\\.venv\\lib\\site-packages\\sklearn\\linear_model\\_logistic.py:460: ConvergenceWarning: lbfgs failed to converge (status=1):\n",
      "STOP: TOTAL NO. of ITERATIONS REACHED LIMIT.\n",
      "\n",
      "Increase the number of iterations (max_iter) or scale the data as shown in:\n",
      "    https://scikit-learn.org/stable/modules/preprocessing.html\n",
      "Please also refer to the documentation for alternative solver options:\n",
      "    https://scikit-learn.org/stable/modules/linear_model.html#logistic-regression\n",
      "  n_iter_i = _check_optimize_result(\n",
      " 70%|███████   | 7/10 [24:06<10:16, 205.54s/it]c:\\workspace\\thesis\\.venv\\lib\\site-packages\\sklearn\\linear_model\\_logistic.py:460: ConvergenceWarning: lbfgs failed to converge (status=1):\n",
      "STOP: TOTAL NO. of ITERATIONS REACHED LIMIT.\n",
      "\n",
      "Increase the number of iterations (max_iter) or scale the data as shown in:\n",
      "    https://scikit-learn.org/stable/modules/preprocessing.html\n",
      "Please also refer to the documentation for alternative solver options:\n",
      "    https://scikit-learn.org/stable/modules/linear_model.html#logistic-regression\n",
      "  n_iter_i = _check_optimize_result(\n",
      " 80%|████████  | 8/10 [27:31<06:51, 205.57s/it]c:\\workspace\\thesis\\.venv\\lib\\site-packages\\sklearn\\linear_model\\_logistic.py:460: ConvergenceWarning: lbfgs failed to converge (status=1):\n",
      "STOP: TOTAL NO. of ITERATIONS REACHED LIMIT.\n",
      "\n",
      "Increase the number of iterations (max_iter) or scale the data as shown in:\n",
      "    https://scikit-learn.org/stable/modules/preprocessing.html\n",
      "Please also refer to the documentation for alternative solver options:\n",
      "    https://scikit-learn.org/stable/modules/linear_model.html#logistic-regression\n",
      "  n_iter_i = _check_optimize_result(\n",
      " 90%|█████████ | 9/10 [30:56<03:25, 205.34s/it]c:\\workspace\\thesis\\.venv\\lib\\site-packages\\sklearn\\linear_model\\_logistic.py:460: ConvergenceWarning: lbfgs failed to converge (status=1):\n",
      "STOP: TOTAL NO. of ITERATIONS REACHED LIMIT.\n",
      "\n",
      "Increase the number of iterations (max_iter) or scale the data as shown in:\n",
      "    https://scikit-learn.org/stable/modules/preprocessing.html\n",
      "Please also refer to the documentation for alternative solver options:\n",
      "    https://scikit-learn.org/stable/modules/linear_model.html#logistic-regression\n",
      "  n_iter_i = _check_optimize_result(\n",
      "100%|██████████| 10/10 [34:21<00:00, 206.19s/it]\n"
     ]
    },
    {
     "name": "stdout",
     "output_type": "stream",
     "text": [
      "- Processing: PlantDoc-ResNet50-ImageNet_1k_SSL_SimCLR.csv\n"
     ]
    },
    {
     "name": "stderr",
     "output_type": "stream",
     "text": [
      "100%|██████████| 10/10 [15:02<00:00, 90.26s/it]\n"
     ]
    },
    {
     "name": "stdout",
     "output_type": "stream",
     "text": [
      "- Processing: PlantDoc-ResNet50-Derma_SSL_SimCLR.csv\n"
     ]
    },
    {
     "name": "stderr",
     "output_type": "stream",
     "text": [
      "100%|██████████| 10/10 [04:43<00:00, 28.37s/it]\n"
     ]
    },
    {
     "name": "stdout",
     "output_type": "stream",
     "text": [
      "- Processing: PlantDoc-ResNet50-ImageNet_1k_SL_V1.csv\n"
     ]
    },
    {
     "name": "stderr",
     "output_type": "stream",
     "text": [
      "100%|██████████| 10/10 [08:54<00:00, 53.41s/it]\n"
     ]
    },
    {
     "name": "stdout",
     "output_type": "stream",
     "text": [
      "- Processing: PlantDoc-ResNet50-PDDD.csv\n"
     ]
    },
    {
     "name": "stderr",
     "output_type": "stream",
     "text": [
      "100%|██████████| 10/10 [04:51<00:00, 29.18s/it]\n"
     ]
    },
    {
     "name": "stdout",
     "output_type": "stream",
     "text": [
      "Calculating 'PlantDataset-ResNet50' to '../runs/master-metrics-resnet-plant.txt'\n",
      "- Processing: PlantDataset-ResNet50-Random.csv\n"
     ]
    },
    {
     "name": "stderr",
     "output_type": "stream",
     "text": [
      "  0%|          | 0/10 [00:00<?, ?it/s]c:\\workspace\\thesis\\.venv\\lib\\site-packages\\sklearn\\linear_model\\_logistic.py:460: ConvergenceWarning: lbfgs failed to converge (status=1):\n",
      "STOP: TOTAL NO. of ITERATIONS REACHED LIMIT.\n",
      "\n",
      "Increase the number of iterations (max_iter) or scale the data as shown in:\n",
      "    https://scikit-learn.org/stable/modules/preprocessing.html\n",
      "Please also refer to the documentation for alternative solver options:\n",
      "    https://scikit-learn.org/stable/modules/linear_model.html#logistic-regression\n",
      "  n_iter_i = _check_optimize_result(\n",
      " 10%|█         | 1/10 [05:57<53:34, 357.18s/it]c:\\workspace\\thesis\\.venv\\lib\\site-packages\\sklearn\\linear_model\\_logistic.py:460: ConvergenceWarning: lbfgs failed to converge (status=1):\n",
      "STOP: TOTAL NO. of ITERATIONS REACHED LIMIT.\n",
      "\n",
      "Increase the number of iterations (max_iter) or scale the data as shown in:\n",
      "    https://scikit-learn.org/stable/modules/preprocessing.html\n",
      "Please also refer to the documentation for alternative solver options:\n",
      "    https://scikit-learn.org/stable/modules/linear_model.html#logistic-regression\n",
      "  n_iter_i = _check_optimize_result(\n",
      " 20%|██        | 2/10 [11:56<47:45, 358.23s/it]c:\\workspace\\thesis\\.venv\\lib\\site-packages\\sklearn\\linear_model\\_logistic.py:460: ConvergenceWarning: lbfgs failed to converge (status=1):\n",
      "STOP: TOTAL NO. of ITERATIONS REACHED LIMIT.\n",
      "\n",
      "Increase the number of iterations (max_iter) or scale the data as shown in:\n",
      "    https://scikit-learn.org/stable/modules/preprocessing.html\n",
      "Please also refer to the documentation for alternative solver options:\n",
      "    https://scikit-learn.org/stable/modules/linear_model.html#logistic-regression\n",
      "  n_iter_i = _check_optimize_result(\n",
      " 30%|███       | 3/10 [17:55<41:51, 358.73s/it]c:\\workspace\\thesis\\.venv\\lib\\site-packages\\sklearn\\linear_model\\_logistic.py:460: ConvergenceWarning: lbfgs failed to converge (status=1):\n",
      "STOP: TOTAL NO. of ITERATIONS REACHED LIMIT.\n",
      "\n",
      "Increase the number of iterations (max_iter) or scale the data as shown in:\n",
      "    https://scikit-learn.org/stable/modules/preprocessing.html\n",
      "Please also refer to the documentation for alternative solver options:\n",
      "    https://scikit-learn.org/stable/modules/linear_model.html#logistic-regression\n",
      "  n_iter_i = _check_optimize_result(\n",
      " 40%|████      | 4/10 [24:09<36:29, 364.93s/it]c:\\workspace\\thesis\\.venv\\lib\\site-packages\\sklearn\\linear_model\\_logistic.py:460: ConvergenceWarning: lbfgs failed to converge (status=1):\n",
      "STOP: TOTAL NO. of ITERATIONS REACHED LIMIT.\n",
      "\n",
      "Increase the number of iterations (max_iter) or scale the data as shown in:\n",
      "    https://scikit-learn.org/stable/modules/preprocessing.html\n",
      "Please also refer to the documentation for alternative solver options:\n",
      "    https://scikit-learn.org/stable/modules/linear_model.html#logistic-regression\n",
      "  n_iter_i = _check_optimize_result(\n",
      " 50%|█████     | 5/10 [30:01<29:59, 359.95s/it]c:\\workspace\\thesis\\.venv\\lib\\site-packages\\sklearn\\linear_model\\_logistic.py:460: ConvergenceWarning: lbfgs failed to converge (status=1):\n",
      "STOP: TOTAL NO. of ITERATIONS REACHED LIMIT.\n",
      "\n",
      "Increase the number of iterations (max_iter) or scale the data as shown in:\n",
      "    https://scikit-learn.org/stable/modules/preprocessing.html\n",
      "Please also refer to the documentation for alternative solver options:\n",
      "    https://scikit-learn.org/stable/modules/linear_model.html#logistic-regression\n",
      "  n_iter_i = _check_optimize_result(\n",
      " 60%|██████    | 6/10 [35:44<23:37, 354.28s/it]c:\\workspace\\thesis\\.venv\\lib\\site-packages\\sklearn\\linear_model\\_logistic.py:460: ConvergenceWarning: lbfgs failed to converge (status=1):\n",
      "STOP: TOTAL NO. of ITERATIONS REACHED LIMIT.\n",
      "\n",
      "Increase the number of iterations (max_iter) or scale the data as shown in:\n",
      "    https://scikit-learn.org/stable/modules/preprocessing.html\n",
      "Please also refer to the documentation for alternative solver options:\n",
      "    https://scikit-learn.org/stable/modules/linear_model.html#logistic-regression\n",
      "  n_iter_i = _check_optimize_result(\n",
      " 70%|███████   | 7/10 [41:36<17:40, 353.65s/it]c:\\workspace\\thesis\\.venv\\lib\\site-packages\\sklearn\\linear_model\\_logistic.py:460: ConvergenceWarning: lbfgs failed to converge (status=1):\n",
      "STOP: TOTAL NO. of ITERATIONS REACHED LIMIT.\n",
      "\n",
      "Increase the number of iterations (max_iter) or scale the data as shown in:\n",
      "    https://scikit-learn.org/stable/modules/preprocessing.html\n",
      "Please also refer to the documentation for alternative solver options:\n",
      "    https://scikit-learn.org/stable/modules/linear_model.html#logistic-regression\n",
      "  n_iter_i = _check_optimize_result(\n",
      " 80%|████████  | 8/10 [47:23<11:43, 351.61s/it]c:\\workspace\\thesis\\.venv\\lib\\site-packages\\sklearn\\linear_model\\_logistic.py:460: ConvergenceWarning: lbfgs failed to converge (status=1):\n",
      "STOP: TOTAL NO. of ITERATIONS REACHED LIMIT.\n",
      "\n",
      "Increase the number of iterations (max_iter) or scale the data as shown in:\n",
      "    https://scikit-learn.org/stable/modules/preprocessing.html\n",
      "Please also refer to the documentation for alternative solver options:\n",
      "    https://scikit-learn.org/stable/modules/linear_model.html#logistic-regression\n",
      "  n_iter_i = _check_optimize_result(\n",
      " 90%|█████████ | 9/10 [52:57<05:45, 345.87s/it]c:\\workspace\\thesis\\.venv\\lib\\site-packages\\sklearn\\linear_model\\_logistic.py:460: ConvergenceWarning: lbfgs failed to converge (status=1):\n",
      "STOP: TOTAL NO. of ITERATIONS REACHED LIMIT.\n",
      "\n",
      "Increase the number of iterations (max_iter) or scale the data as shown in:\n",
      "    https://scikit-learn.org/stable/modules/preprocessing.html\n",
      "Please also refer to the documentation for alternative solver options:\n",
      "    https://scikit-learn.org/stable/modules/linear_model.html#logistic-regression\n",
      "  n_iter_i = _check_optimize_result(\n",
      "100%|██████████| 10/10 [58:59<00:00, 353.96s/it]\n"
     ]
    },
    {
     "name": "stdout",
     "output_type": "stream",
     "text": [
      "- Processing: PlantDataset-ResNet50-PDDD.csv\n"
     ]
    },
    {
     "name": "stderr",
     "output_type": "stream",
     "text": [
      "100%|██████████| 10/10 [11:00<00:00, 66.05s/it]\n"
     ]
    },
    {
     "name": "stdout",
     "output_type": "stream",
     "text": [
      "- Processing: PlantDataset-ResNet50-ImageNet_1k_SL_V1.csv\n"
     ]
    },
    {
     "name": "stderr",
     "output_type": "stream",
     "text": [
      "100%|██████████| 10/10 [18:56<00:00, 113.66s/it]\n"
     ]
    },
    {
     "name": "stdout",
     "output_type": "stream",
     "text": [
      "- Processing: PlantDataset-ResNet50-ImageNet_1k_SSL_SimCLR.csv\n"
     ]
    },
    {
     "name": "stderr",
     "output_type": "stream",
     "text": [
      "100%|██████████| 10/10 [44:36<00:00, 267.63s/it]\n"
     ]
    },
    {
     "name": "stdout",
     "output_type": "stream",
     "text": [
      "- Processing: PlantDataset-ResNet50-Derma_SSL_SimCLR.csv\n"
     ]
    },
    {
     "name": "stderr",
     "output_type": "stream",
     "text": [
      "100%|██████████| 10/10 [10:17<00:00, 61.73s/it]\n"
     ]
    },
    {
     "name": "stdout",
     "output_type": "stream",
     "text": [
      "Calculating 'Cassava-ResNet50' to '../runs/master-metrics-resnet-plant.txt'\n",
      "- Processing: Cassava-ResNet50-Derma_SSL_SimCLR.csv\n"
     ]
    },
    {
     "name": "stderr",
     "output_type": "stream",
     "text": [
      "100%|██████████| 10/10 [1:29:20<00:00, 536.08s/it]\n"
     ]
    },
    {
     "name": "stdout",
     "output_type": "stream",
     "text": [
      "- Processing: Cassava-ResNet50-Random.csv\n"
     ]
    },
    {
     "name": "stderr",
     "output_type": "stream",
     "text": [
      "  0%|          | 0/10 [00:00<?, ?it/s]c:\\workspace\\thesis\\.venv\\lib\\site-packages\\sklearn\\linear_model\\_logistic.py:460: ConvergenceWarning: lbfgs failed to converge (status=1):\n",
      "STOP: TOTAL NO. of ITERATIONS REACHED LIMIT.\n",
      "\n",
      "Increase the number of iterations (max_iter) or scale the data as shown in:\n",
      "    https://scikit-learn.org/stable/modules/preprocessing.html\n",
      "Please also refer to the documentation for alternative solver options:\n",
      "    https://scikit-learn.org/stable/modules/linear_model.html#logistic-regression\n",
      "  n_iter_i = _check_optimize_result(\n",
      " 10%|█         | 1/10 [24:47<3:43:10, 1487.87s/it]c:\\workspace\\thesis\\.venv\\lib\\site-packages\\sklearn\\linear_model\\_logistic.py:460: ConvergenceWarning: lbfgs failed to converge (status=1):\n",
      "STOP: TOTAL NO. of ITERATIONS REACHED LIMIT.\n",
      "\n",
      "Increase the number of iterations (max_iter) or scale the data as shown in:\n",
      "    https://scikit-learn.org/stable/modules/preprocessing.html\n",
      "Please also refer to the documentation for alternative solver options:\n",
      "    https://scikit-learn.org/stable/modules/linear_model.html#logistic-regression\n",
      "  n_iter_i = _check_optimize_result(\n",
      " 20%|██        | 2/10 [47:54<3:10:25, 1428.21s/it]c:\\workspace\\thesis\\.venv\\lib\\site-packages\\sklearn\\linear_model\\_logistic.py:460: ConvergenceWarning: lbfgs failed to converge (status=1):\n",
      "STOP: TOTAL NO. of ITERATIONS REACHED LIMIT.\n",
      "\n",
      "Increase the number of iterations (max_iter) or scale the data as shown in:\n",
      "    https://scikit-learn.org/stable/modules/preprocessing.html\n",
      "Please also refer to the documentation for alternative solver options:\n",
      "    https://scikit-learn.org/stable/modules/linear_model.html#logistic-regression\n",
      "  n_iter_i = _check_optimize_result(\n",
      " 30%|███       | 3/10 [1:10:45<2:43:34, 1402.03s/it]c:\\workspace\\thesis\\.venv\\lib\\site-packages\\sklearn\\linear_model\\_logistic.py:460: ConvergenceWarning: lbfgs failed to converge (status=1):\n",
      "STOP: TOTAL NO. of ITERATIONS REACHED LIMIT.\n",
      "\n",
      "Increase the number of iterations (max_iter) or scale the data as shown in:\n",
      "    https://scikit-learn.org/stable/modules/preprocessing.html\n",
      "Please also refer to the documentation for alternative solver options:\n",
      "    https://scikit-learn.org/stable/modules/linear_model.html#logistic-regression\n",
      "  n_iter_i = _check_optimize_result(\n",
      " 40%|████      | 4/10 [1:31:40<2:14:25, 1344.30s/it]c:\\workspace\\thesis\\.venv\\lib\\site-packages\\sklearn\\linear_model\\_logistic.py:460: ConvergenceWarning: lbfgs failed to converge (status=1):\n",
      "STOP: TOTAL NO. of ITERATIONS REACHED LIMIT.\n",
      "\n",
      "Increase the number of iterations (max_iter) or scale the data as shown in:\n",
      "    https://scikit-learn.org/stable/modules/preprocessing.html\n",
      "Please also refer to the documentation for alternative solver options:\n",
      "    https://scikit-learn.org/stable/modules/linear_model.html#logistic-regression\n",
      "  n_iter_i = _check_optimize_result(\n",
      " 50%|█████     | 5/10 [1:52:02<1:48:19, 1299.89s/it]c:\\workspace\\thesis\\.venv\\lib\\site-packages\\sklearn\\linear_model\\_logistic.py:460: ConvergenceWarning: lbfgs failed to converge (status=1):\n",
      "STOP: TOTAL NO. of ITERATIONS REACHED LIMIT.\n",
      "\n",
      "Increase the number of iterations (max_iter) or scale the data as shown in:\n",
      "    https://scikit-learn.org/stable/modules/preprocessing.html\n",
      "Please also refer to the documentation for alternative solver options:\n",
      "    https://scikit-learn.org/stable/modules/linear_model.html#logistic-regression\n",
      "  n_iter_i = _check_optimize_result(\n",
      " 60%|██████    | 6/10 [2:12:42<1:25:18, 1279.68s/it]c:\\workspace\\thesis\\.venv\\lib\\site-packages\\sklearn\\linear_model\\_logistic.py:460: ConvergenceWarning: lbfgs failed to converge (status=1):\n",
      "STOP: TOTAL NO. of ITERATIONS REACHED LIMIT.\n",
      "\n",
      "Increase the number of iterations (max_iter) or scale the data as shown in:\n",
      "    https://scikit-learn.org/stable/modules/preprocessing.html\n",
      "Please also refer to the documentation for alternative solver options:\n",
      "    https://scikit-learn.org/stable/modules/linear_model.html#logistic-regression\n",
      "  n_iter_i = _check_optimize_result(\n",
      " 70%|███████   | 7/10 [2:33:58<1:03:54, 1278.30s/it]c:\\workspace\\thesis\\.venv\\lib\\site-packages\\sklearn\\linear_model\\_logistic.py:460: ConvergenceWarning: lbfgs failed to converge (status=1):\n",
      "STOP: TOTAL NO. of ITERATIONS REACHED LIMIT.\n",
      "\n",
      "Increase the number of iterations (max_iter) or scale the data as shown in:\n",
      "    https://scikit-learn.org/stable/modules/preprocessing.html\n",
      "Please also refer to the documentation for alternative solver options:\n",
      "    https://scikit-learn.org/stable/modules/linear_model.html#logistic-regression\n",
      "  n_iter_i = _check_optimize_result(\n",
      " 80%|████████  | 8/10 [2:56:44<43:32, 1306.31s/it]  c:\\workspace\\thesis\\.venv\\lib\\site-packages\\sklearn\\linear_model\\_logistic.py:460: ConvergenceWarning: lbfgs failed to converge (status=1):\n",
      "STOP: TOTAL NO. of ITERATIONS REACHED LIMIT.\n",
      "\n",
      "Increase the number of iterations (max_iter) or scale the data as shown in:\n",
      "    https://scikit-learn.org/stable/modules/preprocessing.html\n",
      "Please also refer to the documentation for alternative solver options:\n",
      "    https://scikit-learn.org/stable/modules/linear_model.html#logistic-regression\n",
      "  n_iter_i = _check_optimize_result(\n",
      " 90%|█████████ | 9/10 [3:19:57<22:13, 1333.40s/it]"
     ]
    }
   ],
   "source": [
    "metric_file_path = os.path.join(metric_target_directory, master_file_name)\n",
    "if not os.path.exists(metric_file_path):\n",
    "    for dataset_prefix in dataset_prefixes: # [:1]\n",
    "        if \"-teacher\" in dataset_prefix:\n",
    "            continue\n",
    "        dataset_prefix = dataset_prefix.replace(\n",
    "            \"-student\", \"\"\n",
    "        )\n",
    "        print(f\"Calculating '{dataset_prefix}' to '{metric_file_path}'\")\n",
    "        for i, csv_file in enumerate(csv_files):\n",
    "            if \"-teacher\" in csv_file:\n",
    "                continue\n",
    "            if csv_file.startswith(dataset_prefix):\n",
    "                print(f\"- Processing: {csv_file}\")\n",
    "                csv_path = os.path.join(csv_source_directory, csv_file)\n",
    "                calculate_scores_of_file(csv_path, metric_file_path, master_selection_config)"
   ]
  },
  {
   "cell_type": "code",
   "execution_count": null,
   "metadata": {},
   "outputs": [
    {
     "name": "stdout",
     "output_type": "stream",
     "text": [
      "Metric file already exists: ../runs/DDI-ResNet50-metrics.txt\n",
      "Metric file already exists: ../runs/PAD_UFES_20-ResNet50-metrics.txt\n",
      "Metric file already exists: ../runs/HAM10000-ResNet50-metrics.txt\n",
      "Metric file already exists: ../runs/Fitzpatrick17k-ResNet50-metrics.txt\n"
     ]
    }
   ],
   "source": [
    "for dataset_prefix in dataset_prefixes:\n",
    "    metric_file_path = os.path.join(\n",
    "        metric_target_directory, f\"{dataset_prefix}-metrics.txt\"\n",
    "    )\n",
    "    if os.path.exists(metric_file_path):\n",
    "        print(f\"Metric file already exists: {metric_file_path}\")\n",
    "        continue\n",
    "\n",
    "    dataset_prefix = dataset_prefix.replace(\"-student\", \"\")  # NOTE: dirty workaround\n",
    "    print(f\"Calculating '{dataset_prefix}' to '{metric_file_path}'\")\n",
    "    for i, csv_file in enumerate(csv_files):\n",
    "        if (\"teacher\" in csv_file) and (\n",
    "            \"teacher\" not in dataset_prefix\n",
    "        ):  # NOTE: dirty workaround\n",
    "            continue\n",
    "        if csv_file.startswith(dataset_prefix):\n",
    "            print(f\"- Processing: {csv_file}\")\n",
    "            csv_path = os.path.join(csv_source_directory, csv_file)\n",
    "            calculate_scores_of_file(csv_path, metric_file_path, detail_selection_config)"
   ]
  }
 ],
 "metadata": {
  "kernelspec": {
   "display_name": "Python 3.9.7 ('.venv': venv)",
   "language": "python",
   "name": "python3"
  },
  "language_info": {
   "codemirror_mode": {
    "name": "ipython",
    "version": 3
   },
   "file_extension": ".py",
   "mimetype": "text/x-python",
   "name": "python",
   "nbconvert_exporter": "python",
   "pygments_lexer": "ipython3",
   "version": "3.8.10"
  },
  "orig_nbformat": 4,
  "vscode": {
   "interpreter": {
    "hash": "412f64844b7b8af74bdbb265a073648c443bf75ef51a1e949163ab9198702ceb"
   }
  }
 },
 "nbformat": 4,
 "nbformat_minor": 2
}
