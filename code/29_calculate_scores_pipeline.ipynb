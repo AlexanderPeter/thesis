{
 "cells": [
  {
   "cell_type": "code",
   "execution_count": 8,
   "metadata": {},
   "outputs": [],
   "source": [
    "import json\n",
    "import os\n",
    "import pandas as pd\n",
    "\n",
    "from sklearn.model_selection import train_test_split\n",
    "from tqdm import tqdm\n",
    "\n",
    "from local_python.feature_evaluation import (\n",
    "    evaluate_with_knn, evaluate_with_lr, evaluate_with_dc, calculate_scores\n",
    ")\n",
    "from local_python.general_utils import (\n",
    "    set_seed,\n",
    "    load_pd_from_json,\n",
    ")"
   ]
  },
  {
   "cell_type": "code",
   "execution_count": 9,
   "metadata": {},
   "outputs": [],
   "source": [
    "csv_source_directory = \"../datasets/intermediate-features/\"\n",
    "metric_target_directory = \"../runs/\"\n",
    "master_file_name = \"master-metrics-baseline.txt\"\n",
    "# master_file_name = \"master-metrics-remaining.txt\"\n",
    "# previous_file_name = \"master-metrics-vit-derma.txt\"\n",
    "# previous_file_name = \"master-metrics-vit-plant.txt\"\n",
    "# previous_file_name = \"master-metrics-resnet-derma.txt\"\n",
    "# previous_file_name = \"master-metrics-resnet-plant.txt\"\n",
    "previous_file_name = \"empty.txt\"\n",
    "\n",
    "seed_list = range(100)\n",
    "max_neighbors = 200\n",
    "max_iter = 10_000\n",
    "knn_metric = \"cosine\"\n",
    "\n",
    "detail_selection_config = {  # number of samples and seeds\n",
    "    1: seed_list,\n",
    "    3: seed_list,\n",
    "    10: seed_list,\n",
    "    30: seed_list,\n",
    "    100: seed_list,\n",
    "    None: [None],\n",
    "}\n",
    "\n",
    "master_selection_config = {\n",
    "    None: range(10),\n",
    "}\n",
    "\n",
    "dataset_prefixes = [\n",
    "    \"DDI-ViT_T16-student\",\n",
    "    \"PAD_UFES_20-ViT_T16-student\",\n",
    "    \"HAM10000-ViT_T16-student\",\n",
    "    \"Fitzpatrick17k-ViT_T16-student\",\n",
    "    \"PlantDoc-ViT_T16-student\",\n",
    "    \"PlantDataset-ViT_T16-student\",\n",
    "    \"Cassava-ViT_T16-student\",\n",
    "    \"PlantVillage-ViT_T16-student\",\n",
    "\n",
    "    \"DDI-ResNet50\",\n",
    "    \"PAD_UFES_20-ResNet50\",\n",
    "    \"HAM10000-ResNet50\",\n",
    "    \"Fitzpatrick17k-ResNet50\",\n",
    "    \"PlantDoc-ResNet50\",\n",
    "    \"PlantDataset-ResNet50\",\n",
    "    \"Cassava-ResNet50\",\n",
    "    \"PlantVillage-ResNet50\",\n",
    "\n",
    "    # \"DDI-ViT_T16-teacher\",\n",
    "    # \"PAD_UFES_20-ViT_T16-teacher\",\n",
    "    # \"HAM10000-ViT_T16-teacher\",\n",
    "    # \"Fitzpatrick17k-ViT_T16-teacher\",\n",
    "    # \"PlantDoc-ViT_T16-teacher\",\n",
    "    # \"PlantDataset-ViT_T16-teacher\",\n",
    "    # \"Cassava-ViT_T16-teacher\",\n",
    "    # \"PlantVillage-ViT_T16-teacher\",\n",
    "]"
   ]
  },
  {
   "cell_type": "code",
   "execution_count": 10,
   "metadata": {},
   "outputs": [
    {
     "name": "stdout",
     "output_type": "stream",
     "text": [
      "Read 1 entries from empty.txt\n"
     ]
    }
   ],
   "source": [
    "df_previous = load_pd_from_json(os.path.join(metric_target_directory, previous_file_name)).astype(str)"
   ]
  },
  {
   "cell_type": "code",
   "execution_count": 11,
   "metadata": {},
   "outputs": [],
   "source": [
    "# import numpy as np\n",
    "# train_features = np.array([1,2,2.5,3,4,5,6])\n",
    "# train_targets = np.array([1,2,2,3,4,6,5])\n",
    "# test_features = np.array([1.1,1.3,1.4,1.5,1.6,1.7,1.8])\n",
    "\n",
    "# model_dc = DummyClassifier(random_state=19)\n",
    "# model_dc.fit(train_features, train_targets)\n",
    "# test_pred = model_dc.predict(test_features)\n",
    "# test_pred"
   ]
  },
  {
   "cell_type": "code",
   "execution_count": 12,
   "metadata": {},
   "outputs": [],
   "source": [
    "def calculate_scores_of_dataframe(\n",
    "    df_full, number_of_samples, selection_seed, csv_path, evaluations\n",
    "):\n",
    "    df_training = df_full[df_full[\"set\"] == \"train\"]\n",
    "    df_devel = df_full[(df_full[\"set\"] == \"train\") | (df_full[\"set\"] == \"valid\")]\n",
    "    df_train, df_valid = train_test_split(\n",
    "        df_devel, train_size=len(df_training), stratify=df_devel[\"target_code\"], random_state=selection_seed\n",
    "    )\n",
    "    df_test = df_full[df_full[\"set\"] == \"test\"]\n",
    "    if number_of_samples is not None:\n",
    "        target_group = df_train.groupby(\"target_code\")\n",
    "        max_samples_possible = target_group[\"set\"].count().min()\n",
    "        if max_samples_possible < number_of_samples:\n",
    "            # abort because this is impossible\n",
    "            return\n",
    "        df_train = target_group.sample(\n",
    "            number_of_samples, random_state=selection_seed, replace=False\n",
    "        )\n",
    "    features = (\n",
    "        df_train.loc[:, ~df_train.columns.isin([\"target_code\", \"set\"])],\n",
    "        df_valid.loc[:, ~df_valid.columns.isin([\"target_code\", \"set\"])],\n",
    "        df_test.loc[:, ~df_test.columns.isin([\"target_code\", \"set\"])],\n",
    "    )\n",
    "    targets = (\n",
    "        df_train[\"target_code\"].to_numpy(),\n",
    "        df_valid[\"target_code\"].to_numpy(),\n",
    "        df_test[\"target_code\"].to_numpy(),\n",
    "    )\n",
    "\n",
    "    best_k_f1_score_average = \"macro\" if 2 < len(df_full[\"target_code\"].unique()) else \"binary\"\n",
    "    entries = []\n",
    "    for evaluation in evaluations:\n",
    "        entry = {}\n",
    "        entry[\"feature_identifier\"] = csv_path\n",
    "        entry[\"selection_seed\"] = selection_seed\n",
    "        entry[\"number_of_samples\"] = number_of_samples\n",
    "        entry[\"model_name\"] = evaluation\n",
    "\n",
    "        if evaluation == \"lr\":\n",
    "            entry = evaluate_with_lr(\n",
    "                features,\n",
    "                targets,\n",
    "                entry,\n",
    "                seed=selection_seed,\n",
    "                max_iter=max_iter,\n",
    "            )\n",
    "        elif evaluation == \"knn\":\n",
    "            entry = evaluate_with_knn(\n",
    "                features,\n",
    "                targets,\n",
    "                entry,\n",
    "                number_of_samples,\n",
    "                knn_metric=knn_metric,\n",
    "                max_neighbors=max_neighbors,\n",
    "                best_k_f1_score_average=best_k_f1_score_average,\n",
    "            )\n",
    "        elif evaluation == \"dc\":\n",
    "            entry = evaluate_with_dc(\n",
    "                features,\n",
    "                targets,\n",
    "                entry,\n",
    "                seed=selection_seed,\n",
    "            )\n",
    "        else:\n",
    "            print(f\"Unknown evaluation method {evaluation}\")\n",
    "        entries.append(entry)\n",
    "    return entries\n",
    "\n",
    "def calculate_scores_of_file(csv_path, metric_file_path, sample_selection_config):\n",
    "    evaluations = [\"dc\"] # \"lr\", \"knn\", \n",
    "    df_full = None\n",
    "    for number_of_samples in sample_selection_config:\n",
    "        selection_seeds = sample_selection_config[number_of_samples]\n",
    "        number_of_existing_entries = sum((df_previous[\"feature_identifier\"]==csv_path) & (df_previous[\"number_of_samples\"]==str(number_of_samples)))\n",
    "        if len(selection_seeds) * len(evaluations) <= number_of_existing_entries:\n",
    "            continue\n",
    "        if df_full is None:\n",
    "            print(f\"- Processing: {csv_file}\")\n",
    "            df_full = pd.read_csv(csv_path, index_col=0)\n",
    "        for selection_seed in tqdm(selection_seeds):\n",
    "            if selection_seed is None:\n",
    "                set_seed(19, verbose=False)\n",
    "            else:\n",
    "                set_seed(selection_seed, verbose=False)\n",
    "            entries = calculate_scores_of_dataframe(\n",
    "                df_full, number_of_samples, selection_seed, csv_path, evaluations\n",
    "            )\n",
    "            with open(metric_file_path, \"a\") as detaillog:\n",
    "                for entry in entries:\n",
    "                    json.dump(entry, detaillog, indent=2)\n"
   ]
  },
  {
   "cell_type": "code",
   "execution_count": 13,
   "metadata": {},
   "outputs": [
    {
     "name": "stdout",
     "output_type": "stream",
     "text": [
      "Warn: No source file with prefix 'DDI-ViT_T16-student' found\n",
      "Warn: No source file with prefix 'PAD_UFES_20-ViT_T16-student' found\n",
      "Warn: No source file with prefix 'HAM10000-ViT_T16-student' found\n",
      "Warn: No source file with prefix 'Fitzpatrick17k-ViT_T16-student' found\n",
      "Warn: No source file with prefix 'PlantDoc-ViT_T16-student' found\n",
      "Warn: No source file with prefix 'PlantDataset-ViT_T16-student' found\n",
      "Warn: No source file with prefix 'Cassava-ViT_T16-student' found\n",
      "Warn: No source file with prefix 'PlantVillage-ViT_T16-student' found\n",
      "'DDI-ResNet50' has 5 source files and 1 target files\n",
      "'PAD_UFES_20-ResNet50' has 5 source files and 1 target files\n",
      "'HAM10000-ResNet50' has 5 source files and 1 target files\n",
      "'Fitzpatrick17k-ResNet50' has 5 source files and 1 target files\n",
      "'PlantDoc-ResNet50' has 5 source files and 1 target files\n",
      "'PlantDataset-ResNet50' has 5 source files and 1 target files\n",
      "'Cassava-ResNet50' has 5 source files and 1 target files\n",
      "'PlantVillage-ResNet50' has 5 source files and 1 target files\n",
      "Source files 112\n",
      "Target files 36\n"
     ]
    }
   ],
   "source": [
    "csv_files = set(os.listdir(path=csv_source_directory))\n",
    "metric_files = set(os.listdir(path=metric_target_directory))\n",
    "\n",
    "# configuration check\n",
    "covered_csv_files = set()\n",
    "covered_metric_files = set()\n",
    "\n",
    "for dataset_prefix in dataset_prefixes:\n",
    "    matches_source = [x for x in csv_files if x.startswith(dataset_prefix)]\n",
    "    if 0 == len(matches_source):\n",
    "        print(f\"Warn: No source file with prefix '{dataset_prefix}' found\")\n",
    "        continue\n",
    "    else:\n",
    "        covered_csv_files.update(matches_source)\n",
    "\n",
    "    matches_target = [x for x in metric_files if x.startswith(dataset_prefix)]\n",
    "    if 1 < len(matches_target):\n",
    "        print(\n",
    "            f\"Warn: {len(matches_target)} target files found with prefix '{dataset_prefix}'\"\n",
    "        )\n",
    "        print(matches_target)\n",
    "\n",
    "    print(\n",
    "        f\"'{dataset_prefix}' has {len(matches_source)} source files and {len(matches_target)} target files\"\n",
    "    )\n",
    "    covered_metric_files.update(matches_target)\n",
    "\n",
    "\n",
    "print(f\"Source files {len(csv_files)}\")\n",
    "print(f\"Target files {len(metric_files)}\")\n",
    "# uncovered_csv_files = csv_files - covered_csv_files\n",
    "# uncovered_metric_files = metric_files - covered_metric_files"
   ]
  },
  {
   "cell_type": "code",
   "execution_count": 14,
   "metadata": {},
   "outputs": [
    {
     "name": "stdout",
     "output_type": "stream",
     "text": [
      "Calculating 'DDI-ViT_T16' to '../runs/master-metrics-baseline.txt'\n",
      "- Processing: DDI-ViT_T16-Derma.csv\n"
     ]
    },
    {
     "name": "stderr",
     "output_type": "stream",
     "text": [
      "100%|██████████| 10/10 [00:00<00:00, 32.93it/s]\n"
     ]
    },
    {
     "name": "stdout",
     "output_type": "stream",
     "text": [
      "- Processing: DDI-ViT_T16-Plant.csv\n"
     ]
    },
    {
     "name": "stderr",
     "output_type": "stream",
     "text": [
      "100%|██████████| 10/10 [00:00<00:00, 32.86it/s]\n"
     ]
    },
    {
     "name": "stdout",
     "output_type": "stream",
     "text": [
      "- Processing: DDI-ViT_T16-ImageNet_1k_SSL_Dino.csv\n"
     ]
    },
    {
     "name": "stderr",
     "output_type": "stream",
     "text": [
      "100%|██████████| 10/10 [00:00<00:00, 29.51it/s]\n"
     ]
    },
    {
     "name": "stdout",
     "output_type": "stream",
     "text": [
      "- Processing: DDI-ViT_T16-ImageNet_AugReg.csv\n"
     ]
    },
    {
     "name": "stderr",
     "output_type": "stream",
     "text": [
      "100%|██████████| 10/10 [00:00<00:00, 33.02it/s]\n"
     ]
    },
    {
     "name": "stdout",
     "output_type": "stream",
     "text": [
      "- Processing: DDI-ViT_T16-Random.csv\n"
     ]
    },
    {
     "name": "stderr",
     "output_type": "stream",
     "text": [
      "100%|██████████| 10/10 [00:00<00:00, 38.43it/s]\n"
     ]
    },
    {
     "name": "stdout",
     "output_type": "stream",
     "text": [
      "- Processing: DDI-ViT_T16-ImageNet_1k_SL_WinKawaks.csv\n"
     ]
    },
    {
     "name": "stderr",
     "output_type": "stream",
     "text": [
      "100%|██████████| 10/10 [00:00<00:00, 35.88it/s]\n"
     ]
    },
    {
     "name": "stdout",
     "output_type": "stream",
     "text": [
      "Calculating 'PAD_UFES_20-ViT_T16' to '../runs/master-metrics-baseline.txt'\n",
      "- Processing: PAD_UFES_20-ViT_T16-ImageNet_1k_SSL_Dino.csv\n"
     ]
    },
    {
     "name": "stderr",
     "output_type": "stream",
     "text": [
      "100%|██████████| 10/10 [00:00<00:00, 17.20it/s]\n"
     ]
    },
    {
     "name": "stdout",
     "output_type": "stream",
     "text": [
      "- Processing: PAD_UFES_20-ViT_T16-Random.csv\n"
     ]
    },
    {
     "name": "stderr",
     "output_type": "stream",
     "text": [
      "100%|██████████| 10/10 [00:00<00:00, 16.53it/s]\n"
     ]
    },
    {
     "name": "stdout",
     "output_type": "stream",
     "text": [
      "- Processing: PAD_UFES_20-ViT_T16-ImageNet_AugReg.csv\n"
     ]
    },
    {
     "name": "stderr",
     "output_type": "stream",
     "text": [
      "100%|██████████| 10/10 [00:00<00:00, 18.63it/s]\n"
     ]
    },
    {
     "name": "stdout",
     "output_type": "stream",
     "text": [
      "- Processing: PAD_UFES_20-ViT_T16-Plant.csv\n"
     ]
    },
    {
     "name": "stderr",
     "output_type": "stream",
     "text": [
      "100%|██████████| 10/10 [00:00<00:00, 16.42it/s]\n"
     ]
    },
    {
     "name": "stdout",
     "output_type": "stream",
     "text": [
      "- Processing: PAD_UFES_20-ViT_T16-Derma.csv\n"
     ]
    },
    {
     "name": "stderr",
     "output_type": "stream",
     "text": [
      "100%|██████████| 10/10 [00:00<00:00, 19.88it/s]\n"
     ]
    },
    {
     "name": "stdout",
     "output_type": "stream",
     "text": [
      "- Processing: PAD_UFES_20-ViT_T16-ImageNet_1k_SL_WinKawaks.csv\n"
     ]
    },
    {
     "name": "stderr",
     "output_type": "stream",
     "text": [
      "100%|██████████| 10/10 [00:00<00:00, 19.66it/s]\n"
     ]
    },
    {
     "name": "stdout",
     "output_type": "stream",
     "text": [
      "Calculating 'HAM10000-ViT_T16' to '../runs/master-metrics-baseline.txt'\n",
      "- Processing: HAM10000-ViT_T16-Random.csv\n"
     ]
    },
    {
     "name": "stderr",
     "output_type": "stream",
     "text": [
      "100%|██████████| 10/10 [00:02<00:00,  4.35it/s]\n"
     ]
    },
    {
     "name": "stdout",
     "output_type": "stream",
     "text": [
      "- Processing: HAM10000-ViT_T16-ImageNet_AugReg.csv\n"
     ]
    },
    {
     "name": "stderr",
     "output_type": "stream",
     "text": [
      "100%|██████████| 10/10 [00:01<00:00,  5.36it/s]\n"
     ]
    },
    {
     "name": "stdout",
     "output_type": "stream",
     "text": [
      "- Processing: HAM10000-ViT_T16-Derma.csv\n"
     ]
    },
    {
     "name": "stderr",
     "output_type": "stream",
     "text": [
      "100%|██████████| 10/10 [00:01<00:00,  5.48it/s]\n"
     ]
    },
    {
     "name": "stdout",
     "output_type": "stream",
     "text": [
      "- Processing: HAM10000-ViT_T16-Plant.csv\n"
     ]
    },
    {
     "name": "stderr",
     "output_type": "stream",
     "text": [
      "100%|██████████| 10/10 [00:01<00:00,  5.40it/s]\n"
     ]
    },
    {
     "name": "stdout",
     "output_type": "stream",
     "text": [
      "- Processing: HAM10000-ViT_T16-ImageNet_1k_SSL_Dino.csv\n"
     ]
    },
    {
     "name": "stderr",
     "output_type": "stream",
     "text": [
      "100%|██████████| 10/10 [00:01<00:00,  5.52it/s]\n"
     ]
    },
    {
     "name": "stdout",
     "output_type": "stream",
     "text": [
      "- Processing: HAM10000-ViT_T16-ImageNet_1k_SL_WinKawaks.csv\n"
     ]
    },
    {
     "name": "stderr",
     "output_type": "stream",
     "text": [
      "100%|██████████| 10/10 [00:01<00:00,  5.68it/s]\n"
     ]
    },
    {
     "name": "stdout",
     "output_type": "stream",
     "text": [
      "Calculating 'Fitzpatrick17k-ViT_T16' to '../runs/master-metrics-baseline.txt'\n",
      "- Processing: Fitzpatrick17k-ViT_T16-Derma.csv\n"
     ]
    },
    {
     "name": "stderr",
     "output_type": "stream",
     "text": [
      "100%|██████████| 10/10 [00:02<00:00,  3.87it/s]\n"
     ]
    },
    {
     "name": "stdout",
     "output_type": "stream",
     "text": [
      "- Processing: Fitzpatrick17k-ViT_T16-ImageNet_1k_SSL_Dino.csv\n"
     ]
    },
    {
     "name": "stderr",
     "output_type": "stream",
     "text": [
      "100%|██████████| 10/10 [00:02<00:00,  3.40it/s]\n"
     ]
    },
    {
     "name": "stdout",
     "output_type": "stream",
     "text": [
      "- Processing: Fitzpatrick17k-ViT_T16-ImageNet_AugReg.csv\n"
     ]
    },
    {
     "name": "stderr",
     "output_type": "stream",
     "text": [
      "100%|██████████| 10/10 [00:03<00:00,  3.16it/s]\n"
     ]
    },
    {
     "name": "stdout",
     "output_type": "stream",
     "text": [
      "- Processing: Fitzpatrick17k-ViT_T16-ImageNet_1k_SL_WinKawaks.csv\n"
     ]
    },
    {
     "name": "stderr",
     "output_type": "stream",
     "text": [
      "100%|██████████| 10/10 [00:02<00:00,  3.74it/s]\n"
     ]
    },
    {
     "name": "stdout",
     "output_type": "stream",
     "text": [
      "- Processing: Fitzpatrick17k-ViT_T16-Random.csv\n"
     ]
    },
    {
     "name": "stderr",
     "output_type": "stream",
     "text": [
      "100%|██████████| 10/10 [00:02<00:00,  3.88it/s]\n"
     ]
    },
    {
     "name": "stdout",
     "output_type": "stream",
     "text": [
      "- Processing: Fitzpatrick17k-ViT_T16-Plant.csv\n"
     ]
    },
    {
     "name": "stderr",
     "output_type": "stream",
     "text": [
      "100%|██████████| 10/10 [00:03<00:00,  3.20it/s]\n"
     ]
    },
    {
     "name": "stdout",
     "output_type": "stream",
     "text": [
      "Calculating 'PlantDoc-ViT_T16' to '../runs/master-metrics-baseline.txt'\n",
      "- Processing: PlantDoc-ViT_T16-ImageNet_AugReg.csv\n"
     ]
    },
    {
     "name": "stderr",
     "output_type": "stream",
     "text": [
      "100%|██████████| 10/10 [00:00<00:00, 19.54it/s]\n"
     ]
    },
    {
     "name": "stdout",
     "output_type": "stream",
     "text": [
      "- Processing: PlantDoc-ViT_T16-ImageNet_1k_SL_WinKawaks.csv\n"
     ]
    },
    {
     "name": "stderr",
     "output_type": "stream",
     "text": [
      "100%|██████████| 10/10 [00:00<00:00, 18.73it/s]\n"
     ]
    },
    {
     "name": "stdout",
     "output_type": "stream",
     "text": [
      "- Processing: PlantDoc-ViT_T16-Random.csv\n"
     ]
    },
    {
     "name": "stderr",
     "output_type": "stream",
     "text": [
      "100%|██████████| 10/10 [00:00<00:00, 19.06it/s]\n"
     ]
    },
    {
     "name": "stdout",
     "output_type": "stream",
     "text": [
      "- Processing: PlantDoc-ViT_T16-ImageNet_1k_SSL_Dino.csv\n"
     ]
    },
    {
     "name": "stderr",
     "output_type": "stream",
     "text": [
      "100%|██████████| 10/10 [00:00<00:00, 18.71it/s]\n"
     ]
    },
    {
     "name": "stdout",
     "output_type": "stream",
     "text": [
      "- Processing: PlantDoc-ViT_T16-Derma.csv\n"
     ]
    },
    {
     "name": "stderr",
     "output_type": "stream",
     "text": [
      "100%|██████████| 10/10 [00:00<00:00, 11.42it/s]\n"
     ]
    },
    {
     "name": "stdout",
     "output_type": "stream",
     "text": [
      "- Processing: PlantDoc-ViT_T16-Plant.csv\n"
     ]
    },
    {
     "name": "stderr",
     "output_type": "stream",
     "text": [
      "100%|██████████| 10/10 [00:00<00:00, 18.54it/s]\n"
     ]
    },
    {
     "name": "stdout",
     "output_type": "stream",
     "text": [
      "Calculating 'PlantDataset-ViT_T16' to '../runs/master-metrics-baseline.txt'\n",
      "- Processing: PlantDataset-ViT_T16-Derma.csv\n"
     ]
    },
    {
     "name": "stderr",
     "output_type": "stream",
     "text": [
      "100%|██████████| 10/10 [00:00<00:00, 10.78it/s]\n"
     ]
    },
    {
     "name": "stdout",
     "output_type": "stream",
     "text": [
      "- Processing: PlantDataset-ViT_T16-Plant.csv\n"
     ]
    },
    {
     "name": "stderr",
     "output_type": "stream",
     "text": [
      "100%|██████████| 10/10 [00:00<00:00, 10.53it/s]\n"
     ]
    },
    {
     "name": "stdout",
     "output_type": "stream",
     "text": [
      "- Processing: PlantDataset-ViT_T16-ImageNet_1k_SL_WinKawaks.csv\n"
     ]
    },
    {
     "name": "stderr",
     "output_type": "stream",
     "text": [
      "100%|██████████| 10/10 [00:00<00:00, 10.18it/s]\n"
     ]
    },
    {
     "name": "stdout",
     "output_type": "stream",
     "text": [
      "- Processing: PlantDataset-ViT_T16-Random.csv\n"
     ]
    },
    {
     "name": "stderr",
     "output_type": "stream",
     "text": [
      "100%|██████████| 10/10 [00:01<00:00,  9.33it/s]\n"
     ]
    },
    {
     "name": "stdout",
     "output_type": "stream",
     "text": [
      "- Processing: PlantDataset-ViT_T16-ImageNet_AugReg.csv\n"
     ]
    },
    {
     "name": "stderr",
     "output_type": "stream",
     "text": [
      "100%|██████████| 10/10 [00:01<00:00,  8.70it/s]\n"
     ]
    },
    {
     "name": "stdout",
     "output_type": "stream",
     "text": [
      "- Processing: PlantDataset-ViT_T16-ImageNet_1k_SSL_Dino.csv\n"
     ]
    },
    {
     "name": "stderr",
     "output_type": "stream",
     "text": [
      "100%|██████████| 10/10 [00:01<00:00,  7.61it/s]\n"
     ]
    },
    {
     "name": "stdout",
     "output_type": "stream",
     "text": [
      "Calculating 'Cassava-ViT_T16' to '../runs/master-metrics-baseline.txt'\n",
      "- Processing: Cassava-ViT_T16-ImageNet_AugReg.csv\n"
     ]
    },
    {
     "name": "stderr",
     "output_type": "stream",
     "text": [
      "100%|██████████| 10/10 [00:02<00:00,  3.46it/s]\n"
     ]
    },
    {
     "name": "stdout",
     "output_type": "stream",
     "text": [
      "- Processing: Cassava-ViT_T16-ImageNet_1k_SSL_Dino.csv\n"
     ]
    },
    {
     "name": "stderr",
     "output_type": "stream",
     "text": [
      "100%|██████████| 10/10 [00:02<00:00,  3.40it/s]\n"
     ]
    },
    {
     "name": "stdout",
     "output_type": "stream",
     "text": [
      "- Processing: Cassava-ViT_T16-Plant.csv\n"
     ]
    },
    {
     "name": "stderr",
     "output_type": "stream",
     "text": [
      "100%|██████████| 10/10 [00:03<00:00,  3.32it/s]\n"
     ]
    },
    {
     "name": "stdout",
     "output_type": "stream",
     "text": [
      "- Processing: Cassava-ViT_T16-Derma.csv\n"
     ]
    },
    {
     "name": "stderr",
     "output_type": "stream",
     "text": [
      "100%|██████████| 10/10 [00:03<00:00,  3.25it/s]\n"
     ]
    },
    {
     "name": "stdout",
     "output_type": "stream",
     "text": [
      "- Processing: Cassava-ViT_T16-Random.csv\n"
     ]
    },
    {
     "name": "stderr",
     "output_type": "stream",
     "text": [
      "100%|██████████| 10/10 [00:03<00:00,  3.33it/s]\n"
     ]
    },
    {
     "name": "stdout",
     "output_type": "stream",
     "text": [
      "- Processing: Cassava-ViT_T16-ImageNet_1k_SL_WinKawaks.csv\n"
     ]
    },
    {
     "name": "stderr",
     "output_type": "stream",
     "text": [
      "100%|██████████| 10/10 [00:03<00:00,  2.99it/s]\n"
     ]
    },
    {
     "name": "stdout",
     "output_type": "stream",
     "text": [
      "Calculating 'PlantVillage-ViT_T16' to '../runs/master-metrics-baseline.txt'\n",
      "- Processing: PlantVillage-ViT_T16-Derma.csv\n"
     ]
    },
    {
     "name": "stderr",
     "output_type": "stream",
     "text": [
      "100%|██████████| 10/10 [00:09<00:00,  1.11it/s]\n"
     ]
    },
    {
     "name": "stdout",
     "output_type": "stream",
     "text": [
      "- Processing: PlantVillage-ViT_T16-ImageNet_1k_SSL_Dino.csv\n"
     ]
    },
    {
     "name": "stderr",
     "output_type": "stream",
     "text": [
      "100%|██████████| 10/10 [00:13<00:00,  1.35s/it]\n"
     ]
    },
    {
     "name": "stdout",
     "output_type": "stream",
     "text": [
      "- Processing: PlantVillage-ViT_T16-ImageNet_AugReg.csv\n"
     ]
    },
    {
     "name": "stderr",
     "output_type": "stream",
     "text": [
      "100%|██████████| 10/10 [00:11<00:00,  1.20s/it]\n"
     ]
    },
    {
     "name": "stdout",
     "output_type": "stream",
     "text": [
      "- Processing: PlantVillage-ViT_T16-ImageNet_1k_SL_WinKawaks.csv\n"
     ]
    },
    {
     "name": "stderr",
     "output_type": "stream",
     "text": [
      "100%|██████████| 10/10 [00:11<00:00,  1.14s/it]\n"
     ]
    },
    {
     "name": "stdout",
     "output_type": "stream",
     "text": [
      "- Processing: PlantVillage-ViT_T16-Random.csv\n"
     ]
    },
    {
     "name": "stderr",
     "output_type": "stream",
     "text": [
      "100%|██████████| 10/10 [00:09<00:00,  1.04it/s]\n"
     ]
    },
    {
     "name": "stdout",
     "output_type": "stream",
     "text": [
      "- Processing: PlantVillage-ViT_T16-Plant.csv\n"
     ]
    },
    {
     "name": "stderr",
     "output_type": "stream",
     "text": [
      "100%|██████████| 10/10 [00:08<00:00,  1.14it/s]\n"
     ]
    },
    {
     "name": "stdout",
     "output_type": "stream",
     "text": [
      "Calculating 'DDI-ResNet50' to '../runs/master-metrics-baseline.txt'\n",
      "- Processing: DDI-ResNet50-ImageNet_1k_SL_V1.csv\n"
     ]
    },
    {
     "name": "stderr",
     "output_type": "stream",
     "text": [
      "100%|██████████| 10/10 [00:00<00:00, 24.31it/s]\n"
     ]
    },
    {
     "name": "stdout",
     "output_type": "stream",
     "text": [
      "- Processing: DDI-ResNet50-Random.csv\n"
     ]
    },
    {
     "name": "stderr",
     "output_type": "stream",
     "text": [
      "100%|██████████| 10/10 [00:00<00:00, 24.98it/s]\n"
     ]
    },
    {
     "name": "stdout",
     "output_type": "stream",
     "text": [
      "- Processing: DDI-ResNet50-Derma_SSL_SimCLR.csv\n"
     ]
    },
    {
     "name": "stderr",
     "output_type": "stream",
     "text": [
      "100%|██████████| 10/10 [00:00<00:00, 24.38it/s]\n"
     ]
    },
    {
     "name": "stdout",
     "output_type": "stream",
     "text": [
      "- Processing: DDI-ResNet50-ImageNet_1k_SSL_SimCLR.csv\n"
     ]
    },
    {
     "name": "stderr",
     "output_type": "stream",
     "text": [
      "100%|██████████| 10/10 [00:00<00:00, 18.43it/s]\n"
     ]
    },
    {
     "name": "stdout",
     "output_type": "stream",
     "text": [
      "- Processing: DDI-ResNet50-PDDD.csv\n"
     ]
    },
    {
     "name": "stderr",
     "output_type": "stream",
     "text": [
      "100%|██████████| 10/10 [00:00<00:00, 23.32it/s]\n"
     ]
    },
    {
     "name": "stdout",
     "output_type": "stream",
     "text": [
      "Calculating 'PAD_UFES_20-ResNet50' to '../runs/master-metrics-baseline.txt'\n",
      "- Processing: PAD_UFES_20-ResNet50-ImageNet_1k_SL_V1.csv\n"
     ]
    },
    {
     "name": "stderr",
     "output_type": "stream",
     "text": [
      "100%|██████████| 10/10 [00:01<00:00,  9.82it/s]\n"
     ]
    },
    {
     "name": "stdout",
     "output_type": "stream",
     "text": [
      "- Processing: PAD_UFES_20-ResNet50-Derma_SSL_SimCLR.csv\n"
     ]
    },
    {
     "name": "stderr",
     "output_type": "stream",
     "text": [
      "100%|██████████| 10/10 [00:00<00:00, 10.44it/s]\n"
     ]
    },
    {
     "name": "stdout",
     "output_type": "stream",
     "text": [
      "- Processing: PAD_UFES_20-ResNet50-ImageNet_1k_SSL_SimCLR.csv\n"
     ]
    },
    {
     "name": "stderr",
     "output_type": "stream",
     "text": [
      "100%|██████████| 10/10 [00:01<00:00,  7.80it/s]\n"
     ]
    },
    {
     "name": "stdout",
     "output_type": "stream",
     "text": [
      "- Processing: PAD_UFES_20-ResNet50-PDDD.csv\n"
     ]
    },
    {
     "name": "stderr",
     "output_type": "stream",
     "text": [
      "100%|██████████| 10/10 [00:00<00:00, 10.12it/s]\n"
     ]
    },
    {
     "name": "stdout",
     "output_type": "stream",
     "text": [
      "- Processing: PAD_UFES_20-ResNet50-Random.csv\n"
     ]
    },
    {
     "name": "stderr",
     "output_type": "stream",
     "text": [
      "100%|██████████| 10/10 [00:00<00:00, 10.45it/s]\n"
     ]
    },
    {
     "name": "stdout",
     "output_type": "stream",
     "text": [
      "Calculating 'HAM10000-ResNet50' to '../runs/master-metrics-baseline.txt'\n",
      "- Processing: HAM10000-ResNet50-Random.csv\n"
     ]
    },
    {
     "name": "stderr",
     "output_type": "stream",
     "text": [
      "100%|██████████| 10/10 [00:04<00:00,  2.42it/s]\n"
     ]
    },
    {
     "name": "stdout",
     "output_type": "stream",
     "text": [
      "- Processing: HAM10000-ResNet50-ImageNet_1k_SSL_SimCLR.csv\n"
     ]
    },
    {
     "name": "stderr",
     "output_type": "stream",
     "text": [
      "100%|██████████| 10/10 [00:04<00:00,  2.17it/s]\n"
     ]
    },
    {
     "name": "stdout",
     "output_type": "stream",
     "text": [
      "- Processing: HAM10000-ResNet50-ImageNet_1k_SL_V1.csv\n"
     ]
    },
    {
     "name": "stderr",
     "output_type": "stream",
     "text": [
      "100%|██████████| 10/10 [00:04<00:00,  2.25it/s]\n"
     ]
    },
    {
     "name": "stdout",
     "output_type": "stream",
     "text": [
      "- Processing: HAM10000-ResNet50-Derma_SSL_SimCLR.csv\n"
     ]
    },
    {
     "name": "stderr",
     "output_type": "stream",
     "text": [
      "100%|██████████| 10/10 [00:04<00:00,  2.43it/s]\n"
     ]
    },
    {
     "name": "stdout",
     "output_type": "stream",
     "text": [
      "- Processing: HAM10000-ResNet50-PDDD.csv\n"
     ]
    },
    {
     "name": "stderr",
     "output_type": "stream",
     "text": [
      "100%|██████████| 10/10 [00:03<00:00,  2.59it/s]\n"
     ]
    },
    {
     "name": "stdout",
     "output_type": "stream",
     "text": [
      "Calculating 'Fitzpatrick17k-ResNet50' to '../runs/master-metrics-baseline.txt'\n",
      "- Processing: Fitzpatrick17k-ResNet50-Derma_SSL_SimCLR.csv\n"
     ]
    },
    {
     "name": "stderr",
     "output_type": "stream",
     "text": [
      "100%|██████████| 10/10 [00:06<00:00,  1.47it/s]\n"
     ]
    },
    {
     "name": "stdout",
     "output_type": "stream",
     "text": [
      "- Processing: Fitzpatrick17k-ResNet50-PDDD.csv\n"
     ]
    },
    {
     "name": "stderr",
     "output_type": "stream",
     "text": [
      "100%|██████████| 10/10 [00:06<00:00,  1.57it/s]\n"
     ]
    },
    {
     "name": "stdout",
     "output_type": "stream",
     "text": [
      "- Processing: Fitzpatrick17k-ResNet50-ImageNet_1k_SSL_SimCLR.csv\n"
     ]
    },
    {
     "name": "stderr",
     "output_type": "stream",
     "text": [
      "100%|██████████| 10/10 [00:06<00:00,  1.59it/s]\n"
     ]
    },
    {
     "name": "stdout",
     "output_type": "stream",
     "text": [
      "- Processing: Fitzpatrick17k-ResNet50-Random.csv\n"
     ]
    },
    {
     "name": "stderr",
     "output_type": "stream",
     "text": [
      "100%|██████████| 10/10 [00:06<00:00,  1.55it/s]\n"
     ]
    },
    {
     "name": "stdout",
     "output_type": "stream",
     "text": [
      "- Processing: Fitzpatrick17k-ResNet50-ImageNet_1k_SL_V1.csv\n"
     ]
    },
    {
     "name": "stderr",
     "output_type": "stream",
     "text": [
      "100%|██████████| 10/10 [00:06<00:00,  1.56it/s]\n"
     ]
    },
    {
     "name": "stdout",
     "output_type": "stream",
     "text": [
      "Calculating 'PlantDoc-ResNet50' to '../runs/master-metrics-baseline.txt'\n",
      "- Processing: PlantDoc-ResNet50-ImageNet_1k_SL_V1.csv\n"
     ]
    },
    {
     "name": "stderr",
     "output_type": "stream",
     "text": [
      "100%|██████████| 10/10 [00:01<00:00,  9.61it/s]\n"
     ]
    },
    {
     "name": "stdout",
     "output_type": "stream",
     "text": [
      "- Processing: PlantDoc-ResNet50-Random.csv\n"
     ]
    },
    {
     "name": "stderr",
     "output_type": "stream",
     "text": [
      "100%|██████████| 10/10 [00:01<00:00,  9.73it/s]\n"
     ]
    },
    {
     "name": "stdout",
     "output_type": "stream",
     "text": [
      "- Processing: PlantDoc-ResNet50-Derma_SSL_SimCLR.csv\n"
     ]
    },
    {
     "name": "stderr",
     "output_type": "stream",
     "text": [
      "100%|██████████| 10/10 [00:01<00:00,  9.09it/s]\n"
     ]
    },
    {
     "name": "stdout",
     "output_type": "stream",
     "text": [
      "- Processing: PlantDoc-ResNet50-PDDD.csv\n"
     ]
    },
    {
     "name": "stderr",
     "output_type": "stream",
     "text": [
      "100%|██████████| 10/10 [00:01<00:00,  9.07it/s]\n"
     ]
    },
    {
     "name": "stdout",
     "output_type": "stream",
     "text": [
      "- Processing: PlantDoc-ResNet50-ImageNet_1k_SSL_SimCLR.csv\n"
     ]
    },
    {
     "name": "stderr",
     "output_type": "stream",
     "text": [
      "100%|██████████| 10/10 [00:01<00:00,  9.49it/s]\n"
     ]
    },
    {
     "name": "stdout",
     "output_type": "stream",
     "text": [
      "Calculating 'PlantDataset-ResNet50' to '../runs/master-metrics-baseline.txt'\n",
      "- Processing: PlantDataset-ResNet50-Random.csv\n"
     ]
    },
    {
     "name": "stderr",
     "output_type": "stream",
     "text": [
      "100%|██████████| 10/10 [00:01<00:00,  5.15it/s]\n"
     ]
    },
    {
     "name": "stdout",
     "output_type": "stream",
     "text": [
      "- Processing: PlantDataset-ResNet50-Derma_SSL_SimCLR.csv\n"
     ]
    },
    {
     "name": "stderr",
     "output_type": "stream",
     "text": [
      "100%|██████████| 10/10 [00:02<00:00,  4.96it/s]\n"
     ]
    },
    {
     "name": "stdout",
     "output_type": "stream",
     "text": [
      "- Processing: PlantDataset-ResNet50-ImageNet_1k_SL_V1.csv\n"
     ]
    },
    {
     "name": "stderr",
     "output_type": "stream",
     "text": [
      "100%|██████████| 10/10 [00:01<00:00,  5.11it/s]\n"
     ]
    },
    {
     "name": "stdout",
     "output_type": "stream",
     "text": [
      "- Processing: PlantDataset-ResNet50-PDDD.csv\n"
     ]
    },
    {
     "name": "stderr",
     "output_type": "stream",
     "text": [
      "100%|██████████| 10/10 [00:01<00:00,  5.17it/s]\n"
     ]
    },
    {
     "name": "stdout",
     "output_type": "stream",
     "text": [
      "- Processing: PlantDataset-ResNet50-ImageNet_1k_SSL_SimCLR.csv\n"
     ]
    },
    {
     "name": "stderr",
     "output_type": "stream",
     "text": [
      "100%|██████████| 10/10 [00:02<00:00,  4.76it/s]\n"
     ]
    },
    {
     "name": "stdout",
     "output_type": "stream",
     "text": [
      "Calculating 'Cassava-ResNet50' to '../runs/master-metrics-baseline.txt'\n",
      "- Processing: Cassava-ResNet50-PDDD.csv\n"
     ]
    },
    {
     "name": "stderr",
     "output_type": "stream",
     "text": [
      "100%|██████████| 10/10 [00:07<00:00,  1.41it/s]\n"
     ]
    },
    {
     "name": "stdout",
     "output_type": "stream",
     "text": [
      "- Processing: Cassava-ResNet50-ImageNet_1k_SL_V1.csv\n"
     ]
    },
    {
     "name": "stderr",
     "output_type": "stream",
     "text": [
      "100%|██████████| 10/10 [00:07<00:00,  1.30it/s]\n"
     ]
    },
    {
     "name": "stdout",
     "output_type": "stream",
     "text": [
      "- Processing: Cassava-ResNet50-Derma_SSL_SimCLR.csv\n"
     ]
    },
    {
     "name": "stderr",
     "output_type": "stream",
     "text": [
      "100%|██████████| 10/10 [00:07<00:00,  1.42it/s]\n"
     ]
    },
    {
     "name": "stdout",
     "output_type": "stream",
     "text": [
      "- Processing: Cassava-ResNet50-ImageNet_1k_SSL_SimCLR.csv\n"
     ]
    },
    {
     "name": "stderr",
     "output_type": "stream",
     "text": [
      "100%|██████████| 10/10 [00:07<00:00,  1.38it/s]\n"
     ]
    },
    {
     "name": "stdout",
     "output_type": "stream",
     "text": [
      "- Processing: Cassava-ResNet50-Random.csv\n"
     ]
    },
    {
     "name": "stderr",
     "output_type": "stream",
     "text": [
      "100%|██████████| 10/10 [00:06<00:00,  1.44it/s]\n"
     ]
    },
    {
     "name": "stdout",
     "output_type": "stream",
     "text": [
      "Calculating 'PlantVillage-ResNet50' to '../runs/master-metrics-baseline.txt'\n",
      "- Processing: PlantVillage-ResNet50-PDDD.csv\n"
     ]
    },
    {
     "name": "stderr",
     "output_type": "stream",
     "text": [
      "100%|██████████| 10/10 [00:18<00:00,  1.88s/it]\n"
     ]
    },
    {
     "name": "stdout",
     "output_type": "stream",
     "text": [
      "- Processing: PlantVillage-ResNet50-Random.csv\n"
     ]
    },
    {
     "name": "stderr",
     "output_type": "stream",
     "text": [
      "100%|██████████| 10/10 [00:18<00:00,  1.90s/it]\n"
     ]
    },
    {
     "name": "stdout",
     "output_type": "stream",
     "text": [
      "- Processing: PlantVillage-ResNet50-ImageNet_1k_SL_V1.csv\n"
     ]
    },
    {
     "name": "stderr",
     "output_type": "stream",
     "text": [
      "100%|██████████| 10/10 [00:21<00:00,  2.11s/it]\n"
     ]
    },
    {
     "name": "stdout",
     "output_type": "stream",
     "text": [
      "- Processing: PlantVillage-ResNet50-ImageNet_1k_SSL_SimCLR.csv\n"
     ]
    },
    {
     "name": "stderr",
     "output_type": "stream",
     "text": [
      "100%|██████████| 10/10 [00:22<00:00,  2.22s/it]\n"
     ]
    },
    {
     "name": "stdout",
     "output_type": "stream",
     "text": [
      "- Processing: PlantVillage-ResNet50-Derma_SSL_SimCLR.csv\n"
     ]
    },
    {
     "name": "stderr",
     "output_type": "stream",
     "text": [
      "100%|██████████| 10/10 [00:20<00:00,  2.08s/it]\n"
     ]
    }
   ],
   "source": [
    "metric_file_path = os.path.join(metric_target_directory, master_file_name)\n",
    "if not os.path.exists(metric_file_path):\n",
    "    for dataset_prefix in dataset_prefixes: # [:1]\n",
    "        if \"-teacher\" in dataset_prefix:\n",
    "            continue\n",
    "        dataset_prefix = dataset_prefix.replace(\n",
    "            \"-student\", \"\"\n",
    "        )\n",
    "        print(f\"Calculating '{dataset_prefix}' to '{metric_file_path}'\")\n",
    "        for i, csv_file in enumerate(csv_files):\n",
    "            if \"-teacher\" in csv_file:\n",
    "                continue\n",
    "            if csv_file.startswith(dataset_prefix):\n",
    "                csv_path = os.path.join(csv_source_directory, csv_file)\n",
    "                calculate_scores_of_file(csv_path, metric_file_path, master_selection_config)"
   ]
  },
  {
   "cell_type": "code",
   "execution_count": 15,
   "metadata": {},
   "outputs": [
    {
     "name": "stdout",
     "output_type": "stream",
     "text": [
      "Metric file already exists: ../runs/DDI-ViT_T16-student-metrics.txt\n",
      "Metric file already exists: ../runs/PAD_UFES_20-ViT_T16-student-metrics.txt\n",
      "Metric file already exists: ../runs/HAM10000-ViT_T16-student-metrics.txt\n",
      "Metric file already exists: ../runs/Fitzpatrick17k-ViT_T16-student-metrics.txt\n",
      "Metric file already exists: ../runs/PlantDoc-ViT_T16-student-metrics.txt\n",
      "Metric file already exists: ../runs/PlantDataset-ViT_T16-student-metrics.txt\n",
      "Metric file already exists: ../runs/Cassava-ViT_T16-student-metrics.txt\n",
      "Metric file already exists: ../runs/PlantVillage-ViT_T16-student-metrics.txt\n",
      "Metric file already exists: ../runs/DDI-ResNet50-metrics.txt\n",
      "Metric file already exists: ../runs/PAD_UFES_20-ResNet50-metrics.txt\n",
      "Metric file already exists: ../runs/HAM10000-ResNet50-metrics.txt\n",
      "Metric file already exists: ../runs/Fitzpatrick17k-ResNet50-metrics.txt\n",
      "Metric file already exists: ../runs/PlantDoc-ResNet50-metrics.txt\n",
      "Metric file already exists: ../runs/PlantDataset-ResNet50-metrics.txt\n",
      "Metric file already exists: ../runs/Cassava-ResNet50-metrics.txt\n",
      "Metric file already exists: ../runs/PlantVillage-ResNet50-metrics.txt\n"
     ]
    }
   ],
   "source": [
    "for dataset_prefix in dataset_prefixes:\n",
    "    metric_file_path = os.path.join(\n",
    "        metric_target_directory, f\"{dataset_prefix}-metrics.txt\"\n",
    "    )\n",
    "    if os.path.exists(metric_file_path):\n",
    "        print(f\"Metric file already exists: {metric_file_path}\")\n",
    "        continue\n",
    "\n",
    "    dataset_prefix = dataset_prefix.replace(\"-student\", \"\")  # NOTE: dirty workaround\n",
    "    print(f\"Calculating '{dataset_prefix}' to '{metric_file_path}'\")\n",
    "    for i, csv_file in enumerate(csv_files):\n",
    "        if (\"teacher\" in csv_file) and (\n",
    "            \"teacher\" not in dataset_prefix\n",
    "        ):  # NOTE: dirty workaround\n",
    "            continue\n",
    "        if csv_file.startswith(dataset_prefix):\n",
    "            csv_path = os.path.join(csv_source_directory, csv_file)\n",
    "            calculate_scores_of_file(csv_path, metric_file_path, detail_selection_config)"
   ]
  }
 ],
 "metadata": {
  "kernelspec": {
   "display_name": ".venv",
   "language": "python",
   "name": "python3"
  },
  "language_info": {
   "codemirror_mode": {
    "name": "ipython",
    "version": 3
   },
   "file_extension": ".py",
   "mimetype": "text/x-python",
   "name": "python",
   "nbconvert_exporter": "python",
   "pygments_lexer": "ipython3",
   "version": "3.8.10"
  },
  "orig_nbformat": 4
 },
 "nbformat": 4,
 "nbformat_minor": 2
}
