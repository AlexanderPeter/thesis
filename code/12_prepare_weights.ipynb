{
 "cells": [
  {
   "cell_type": "code",
   "execution_count": 27,
   "metadata": {},
   "outputs": [],
   "source": [
    "import os\n",
    "import sys\n",
    "import torch\n",
    "import torch.nn as nn\n",
    "from torchvision.models import resnet50, ResNet50_Weights, vit_b_16, ViT_B_16_Weights\n",
    "\n",
    "sys.path.append(\"python\")\n",
    "from local_utils import print_parameters"
   ]
  },
  {
   "cell_type": "code",
   "execution_count": 39,
   "metadata": {},
   "outputs": [],
   "source": [
    "model_architecture = [\"resnet50\", \"swin_t\", \"vit_b16\"][2]\n",
    "seed = 19\n",
    "# checkpoint_path = \"../model_weights/PDDD/ResNet50-Plant-model-80.pth\"\n",
    "# checkpoint_path = \"../model_weights/PDDD/vit_base_patch16_224_in21k-model-197.pth\"\n",
    "# checkpoint_path = \"../model_weights/PDDD/swin_tiny_patch4_window7_224-model-97.pth\"\n",
    "# checkpoint_path = None\n",
    "num_classes = None\n",
    "# pretrained = True\n",
    "pretrained = False\n",
    "# num_classes = 120\n",
    "\n",
    "# weights_path = f\"../model_weights/random/ResNet50-Random_{seed}.pth\"\n",
    "# weights = None\n",
    "\n",
    "# weights_path = \"../model_weights/imagenet/ResNet50-ImageNet_v1.pth\"\n",
    "# weights_path = \"../model_weights/imagenet/ResNet50-ImageNet_v2.pth\"\n",
    "# weights = ResNet50_Weights.IMAGENET1K_V1\n",
    "# weights = ResNet50_Weights.IMAGENET1K_V2\n",
    "# weights = ViT_B_16_Weights.IMAGENET1K_V1\n",
    "# weights = ViT_B_16_Weights.IMAGENET1K_SWAG_E2E_V1\n",
    "weights = ViT_B_16_Weights.IMAGENET1K_SWAG_LINEAR_V1\n",
    "\n",
    "# weights_path = f\"../model_weights/random/Swin_T-Random_{seed}.pth\"\n",
    "# weights_path = \"../model_weights/imagenet/Swin_T-ImageNet.pth\"\n",
    "# weights_path = f\"../model_weights/random/ViT_B16-Random_{seed}.pth\"\n",
    "# weights_path = \"../model_weights/imagenet/ViT_B16-ImageNet_v1.pth\"\n",
    "# weights_path = \"../model_weights/imagenet/ViT_B16-ImageNet_v2.pth\"\n",
    "weights_path = \"../model_weights/imagenet/ViT_B16-ImageNet_v3.pth\"\n",
    "\n",
    "assert model_architecture in weights_path.lower()"
   ]
  },
  {
   "cell_type": "code",
   "execution_count": 40,
   "metadata": {},
   "outputs": [
    {
     "data": {
      "text/plain": [
       "<torch._C.Generator at 0x27042a2dad0>"
      ]
     },
     "execution_count": 40,
     "metadata": {},
     "output_type": "execute_result"
    }
   ],
   "source": [
    "torch.manual_seed(seed)"
   ]
  },
  {
   "cell_type": "code",
   "execution_count": 41,
   "metadata": {},
   "outputs": [
    {
     "name": "stdout",
     "output_type": "stream",
     "text": [
      "pretrained: False\n"
     ]
    },
    {
     "name": "stderr",
     "output_type": "stream",
     "text": [
      "Downloading: \"https://download.pytorch.org/models/vit_b_16_lc_swag-4e70ced5.pth\" to C:\\Users\\peter/.cache\\torch\\hub\\checkpoints\\vit_b_16_lc_swag-4e70ced5.pth\n",
      "100%|██████████| 330M/330M [00:05<00:00, 61.6MB/s] \n"
     ]
    },
    {
     "name": "stdout",
     "output_type": "stream",
     "text": [
      "Total parameters: 86567656\n",
      "Required parameters: 86567656 \n"
     ]
    },
    {
     "data": {
      "text/plain": [
       "(86567656, 86567656)"
      ]
     },
     "execution_count": 41,
     "metadata": {},
     "output_type": "execute_result"
    }
   ],
   "source": [
    "model = None\n",
    "\n",
    "if model_architecture == \"resnet50\":\n",
    "    model = resnet50(weights=weights)\n",
    "    print(f\"Output size: {model.fc.out_features}\")\n",
    "    if num_classes is not None:\n",
    "        model.fc = nn.Linear(model.fc.in_features, num_classes)\n",
    "\n",
    "elif model_architecture == \"swin_t\":\n",
    "    print(f\"pretrained: {pretrained}\")\n",
    "    model = torch.hub.load(\n",
    "        \"SharanSMenon/swin-transformer-hub:main\",\n",
    "        \"swin_tiny_patch4_window7_224\",\n",
    "        pretrained=pretrained,\n",
    "    )\n",
    "    print(f\"Output size: {model.head.out_features}\")\n",
    "    if num_classes is not None:\n",
    "        model.head = nn.Linear(model.head.in_features, num_classes)\n",
    "elif model_architecture == \"vit_b16\":\n",
    "    print(f\"pretrained: {pretrained}\")\n",
    "    # model = torch.hub.load(\n",
    "    #     \"facebookresearch/dino:main\",\n",
    "    #     \"dino_vitb16\",\n",
    "    #     pretrained=pretrained,\n",
    "    # )\n",
    "    model = vit_b_16(weights=weights)\n",
    "else:\n",
    "    print(f\"Unknown model architecture: {model_architecture}\")\n",
    "\n",
    "print_parameters(model)"
   ]
  },
  {
   "cell_type": "code",
   "execution_count": 42,
   "metadata": {},
   "outputs": [],
   "source": [
    "if checkpoint_path is not None:\n",
    "    checkpoint = torch.load(checkpoint_path, map_location=torch.device(\"cpu\"))\n",
    "    model.load_state_dict(checkpoint, strict=False)"
   ]
  },
  {
   "cell_type": "code",
   "execution_count": 43,
   "metadata": {},
   "outputs": [
    {
     "name": "stdout",
     "output_type": "stream",
     "text": [
      "Total parameters: 86567656\n",
      "Required parameters: 86567656 \n",
      "File ../model_weights/imagenet/ViT_B16-ImageNet_v3.pth saved\n"
     ]
    }
   ],
   "source": [
    "print_parameters(model)  # 25557032 / 28288354\n",
    "if os.path.exists(weights_path):\n",
    "    print(f\"File {weights_path} already exists\")\n",
    "else:\n",
    "    torch.save(model.state_dict(), weights_path)\n",
    "    print(f\"File {weights_path} saved\")"
   ]
  }
 ],
 "metadata": {
  "kernelspec": {
   "display_name": "Python 3.9.7 ('.venv': venv)",
   "language": "python",
   "name": "python3"
  },
  "language_info": {
   "codemirror_mode": {
    "name": "ipython",
    "version": 3
   },
   "file_extension": ".py",
   "mimetype": "text/x-python",
   "name": "python",
   "nbconvert_exporter": "python",
   "pygments_lexer": "ipython3",
   "version": "3.8.10"
  },
  "orig_nbformat": 4,
  "vscode": {
   "interpreter": {
    "hash": "412f64844b7b8af74bdbb265a073648c443bf75ef51a1e949163ab9198702ceb"
   }
  }
 },
 "nbformat": 4,
 "nbformat_minor": 2
}
