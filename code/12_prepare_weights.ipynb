{
 "cells": [
  {
   "cell_type": "code",
   "execution_count": 8,
   "metadata": {},
   "outputs": [],
   "source": [
    "import os\n",
    "import sys\n",
    "import torch\n",
    "import torch.nn as nn\n",
    "from torchvision.models import resnet50, ResNet50_Weights\n",
    "\n",
    "sys.path.append(\"python\")\n",
    "from utils import print_parameters"
   ]
  },
  {
   "cell_type": "code",
   "execution_count": 9,
   "metadata": {},
   "outputs": [],
   "source": [
    "model_architecture = [\"resnet\", \"swin\"][0]\n",
    "seed = 19\n",
    "# checkpoint_path = \"../model_weights/PDDD/ResNet50-Plant-model-80.pth\"\n",
    "# checkpoint_path = \"../model_weights/PDDD/swin_tiny_patch4_window7_224-model-97.pth\"\n",
    "checkpoint_path = None\n",
    "num_classes = None\n",
    "pretrained = True\n",
    "# num_classes = 120\n",
    "\n",
    "# weights_path = f\"../model_weights/random/ResNet50-Random_{seed}.pth\"\n",
    "# weights = None\n",
    "\n",
    "weights_path = \"../model_weights/imagenet/ResNet50-ImageNet_v1.pth\"\n",
    "# weights_path = \"../model_weights/imagenet/ResNet50-ImageNet_v2.pth\"\n",
    "weights = ResNet50_Weights.IMAGENET1K_V1\n",
    "# weights = ResNet50_Weights.IMAGENET1K_V2\n",
    "\n",
    "# weights_path = f\"../model_weights/random/Swin_T-Random_{seed}.pth\"\n",
    "# weights_path = \"../model_weights/imagenet/Swin_T-ImageNet.pth\"\n",
    "\n",
    "assert model_architecture in weights_path.lower()"
   ]
  },
  {
   "cell_type": "code",
   "execution_count": 10,
   "metadata": {},
   "outputs": [
    {
     "data": {
      "text/plain": [
       "<torch._C.Generator at 0x2eb3b45bab0>"
      ]
     },
     "execution_count": 10,
     "metadata": {},
     "output_type": "execute_result"
    }
   ],
   "source": [
    "torch.manual_seed(seed)"
   ]
  },
  {
   "cell_type": "code",
   "execution_count": 11,
   "metadata": {},
   "outputs": [
    {
     "name": "stdout",
     "output_type": "stream",
     "text": [
      "Output size: 1000\n",
      "Total parameters: 25557032\n",
      "Required parameters: 25557032 \n"
     ]
    },
    {
     "data": {
      "text/plain": [
       "(25557032, 25557032)"
      ]
     },
     "execution_count": 11,
     "metadata": {},
     "output_type": "execute_result"
    }
   ],
   "source": [
    "model = None\n",
    "\n",
    "if model_architecture == \"resnet\":\n",
    "    model = resnet50(weights=None)\n",
    "    print(f\"Output size: {model.fc.out_features}\")\n",
    "    if num_classes is not None:\n",
    "        model.fc = nn.Linear(model.fc.in_features, num_classes)\n",
    "\n",
    "elif model_architecture == \"swin\":\n",
    "    print(f\"pretrained: {pretrained}\")\n",
    "    model = torch.hub.load(\n",
    "        \"SharanSMenon/swin-transformer-hub:main\",\n",
    "        \"swin_tiny_patch4_window7_224\",\n",
    "        pretrained=pretrained,\n",
    "    )\n",
    "    print(f\"Output size: {model.head.out_features}\")\n",
    "    if num_classes is not None:\n",
    "        model.head = nn.Linear(model.head.in_features, num_classes)\n",
    "\n",
    "else:\n",
    "    print(f\"Unknown model architecture: {model_architecture}\")\n",
    "\n",
    "print_parameters(model)"
   ]
  },
  {
   "cell_type": "code",
   "execution_count": 12,
   "metadata": {},
   "outputs": [],
   "source": [
    "if checkpoint_path is not None:\n",
    "    checkpoint = torch.load(checkpoint_path, map_location=torch.device(\"cpu\"))\n",
    "    model.load_state_dict(checkpoint, strict=False)"
   ]
  },
  {
   "cell_type": "code",
   "execution_count": 14,
   "metadata": {},
   "outputs": [
    {
     "name": "stdout",
     "output_type": "stream",
     "text": [
      "Total parameters: 25557032\n",
      "Required parameters: 25557032 \n",
      "File ../model_weights/imagenet/ResNet50-ImageNet_v1.pth saved\n"
     ]
    }
   ],
   "source": [
    "print_parameters(model)  # 25557032 / 28288354\n",
    "if os.path.exists(weights_path):\n",
    "    print(f\"File {weights_path} already exists\")\n",
    "else:\n",
    "    torch.save(model.state_dict(), weights_path)\n",
    "    print(f\"File {weights_path} saved\")"
   ]
  }
 ],
 "metadata": {
  "kernelspec": {
   "display_name": "Python 3.9.7 ('.venv': venv)",
   "language": "python",
   "name": "python3"
  },
  "language_info": {
   "codemirror_mode": {
    "name": "ipython",
    "version": 3
   },
   "file_extension": ".py",
   "mimetype": "text/x-python",
   "name": "python",
   "nbconvert_exporter": "python",
   "pygments_lexer": "ipython3",
   "version": "3.8.10"
  },
  "orig_nbformat": 4,
  "vscode": {
   "interpreter": {
    "hash": "412f64844b7b8af74bdbb265a073648c443bf75ef51a1e949163ab9198702ceb"
   }
  }
 },
 "nbformat": 4,
 "nbformat_minor": 2
}
