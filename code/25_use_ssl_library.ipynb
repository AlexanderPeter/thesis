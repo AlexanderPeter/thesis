{
 "cells": [
  {
   "cell_type": "code",
   "execution_count": 1,
   "metadata": {},
   "outputs": [],
   "source": [
    "import sys\n",
    "import torch\n",
    "import os\n",
    "from transformers import ViTForImageClassification\n",
    "from transformers import ViTModel\n",
    "import torch.nn as nn\n",
    "import timm\n",
    "\n",
    "sys.path.append(\"ssl_library\")\n",
    "from src.pkg.embedder import Embedder\n",
    "\n",
    "sys.path.append(\"python\")\n",
    "from local_utils import print_parameters"
   ]
  },
  {
   "cell_type": "code",
   "execution_count": 32,
   "metadata": {},
   "outputs": [],
   "source": [
    "checkpoint_path = \"../model_weights/pddd/vit_tiny_patch16_224_ssl_raw.pth\"\n",
    "checkpoint_path = \"../model_weights/imagenet/augreg_Ti_16-i21k-300ep-lr_0.001-aug_none-wd_0.03-do_0.0-sd_0.0--imagenet2012-steps_20k-lr_0.03-res_384.npz\"\n",
    "checkpoint_path = \"../model_weights/imagenet/ViT_T16-ImageNet_headless.pth\"\n",
    "\n",
    "weights_path = \"../model_weights/pddd/vit_tiny_patch16_224_ssl_headless.pth\"\n",
    "weights_path = \"../model_weights/random/ViT_T16-Random_headless.pth\"\n",
    "weights_path = \"../model_weights/imagenet/ViT_T16-ImageNet_headless.pth\"\n",
    "\n",
    "model_dir = \"../model_weights/derma/dino_raw.pth\"\n",
    "\n",
    "# checkpoint_path = model_dir\n",
    "# weights_path = \"../model_weights/derma/dino_headless.pth\""
   ]
  },
  {
   "cell_type": "code",
   "execution_count": 3,
   "metadata": {},
   "outputs": [],
   "source": [
    "if not os.path.exists(model_dir):\n",
    "    model_url = \"https://github.com/vm02-self-supervised-dermatology/self-supervised-models/raw/main/dino/checkpoint-epoch100.pth\"\n",
    "    torch.hub.download_url_to_file(model_url, model_dir, progress=True)"
   ]
  },
  {
   "cell_type": "code",
   "execution_count": 33,
   "metadata": {},
   "outputs": [
    {
     "name": "stdout",
     "output_type": "stream",
     "text": [
      "File ../model_weights/imagenet/ViT_T16-ImageNet_headless.pth already exists\n"
     ]
    }
   ],
   "source": [
    "if os.path.exists(weights_path):\n",
    "    print(f\"File {weights_path} already exists\")\n",
    "else:\n",
    "    if \"imagenet\" in weights_path:\n",
    "        model = timm.create_model('vit_tiny_patch16_224', pretrained=True)\n",
    "        print(\"Pretrained loaded!\")\n",
    "    elif \"random\" in weights_path:\n",
    "        model = timm.create_model('vit_tiny_patch16_224', pretrained=False)\n",
    "        print(\"Random loaded!\")\n",
    "    else:\n",
    "        model = timm.create_model('vit_tiny_patch16_224', pretrained=False)\n",
    "        checkpoint = torch.load(checkpoint_path, map_location=torch.device(\"cpu\"))\n",
    "        model.load_state_dict(checkpoint, strict=True)\n",
    "        print(\"Checkpoint loaded!\")\n",
    "    model.head = nn.Sequential()\n",
    "    print_parameters(model) # 5'524'416\n",
    "\n",
    "    torch.save(model.state_dict(), weights_path)\n",
    "    print(f\"File {weights_path} saved\")\n"
   ]
  },
  {
   "cell_type": "code",
   "execution_count": 6,
   "metadata": {},
   "outputs": [
    {
     "name": "stderr",
     "output_type": "stream",
     "text": [
      "Using cache found in C:\\Users\\peter/.cache\\torch\\hub\\facebookresearch_dino_main\n"
     ]
    }
   ],
   "source": [
    "model = torch.hub.load(\n",
    "    \"facebookresearch/dino:main\",\n",
    "    \"dino_vitb16\",\n",
    "    pretrained=False,\n",
    ")"
   ]
  },
  {
   "cell_type": "code",
   "execution_count": 16,
   "metadata": {},
   "outputs": [],
   "source": [
    "# no missing keys\n",
    "# model = Embedder.load_pretrained(\"vit_tiny_random\")"
   ]
  },
  {
   "cell_type": "code",
   "execution_count": 25,
   "metadata": {},
   "outputs": [
    {
     "name": "stdout",
     "output_type": "stream",
     "text": [
      "File ../model_weights/imagenet/ViT_T16-ImageNet_WinKawaks.pth already exists\n"
     ]
    }
   ],
   "source": [
    "weights_path = \"../model_weights/imagenet/ViT_T16-ImageNet_WinKawaks.pth\"\n",
    "if os.path.exists(weights_path):\n",
    "    print(f\"File {weights_path} already exists\")\n",
    "else:\n",
    "    model = ViTModel.from_pretrained('WinKawaks/vit-tiny-patch16-224')\n",
    "    model.head = nn.Sequential()\n",
    "    print_parameters(model) # 5'561'472\n",
    "    torch.save(model.state_dict(), weights_path)\n",
    "    print(f\"File {weights_path} saved\")"
   ]
  },
  {
   "cell_type": "code",
   "execution_count": 18,
   "metadata": {},
   "outputs": [],
   "source": [
    "# model = timm.create_model('vit_tiny_patch16_224', pretrained=True)\n",
    "# print_parameters(model) # 5'717'416\n",
    "# model.head = nn.Sequential()\n",
    "# print_parameters(model) # 5'524'416"
   ]
  },
  {
   "cell_type": "code",
   "execution_count": 19,
   "metadata": {},
   "outputs": [],
   "source": [
    "# model = VisionTransformer(\n",
    "#     patch_size=patch_size,\n",
    "#     embed_dim=192,\n",
    "#     depth=12,\n",
    "#     num_heads=3,\n",
    "#     mlp_ratio=4,\n",
    "#     qkv_bias=True,\n",
    "#     norm_layer=partial(nn.LayerNorm, eps=1e-6),\n",
    "#     **kwargs\n",
    "# )"
   ]
  },
  {
   "cell_type": "code",
   "execution_count": 20,
   "metadata": {},
   "outputs": [
    {
     "name": "stdout",
     "output_type": "stream",
     "text": [
      "\n"
     ]
    }
   ],
   "source": [
    "# model = ViTForImageClassification.from_pretrained('google/vit-base-patch16-224')\n",
    "# print_parameters(model) # 86'567'656\n",
    "# model.head = nn.Sequential()\n",
    "# print_parameters(model) # 86'567'656\n",
    "\n",
    "# model = ViTForImageClassification.from_pretrained('WinKawaks/vit-tiny-patch16-224')\n",
    "# print_parameters(model) # 5'717'416\n",
    "# model.head = nn.Sequential()\n",
    "# print_parameters(model) # 5'717'416\n",
    "\n",
    "# model = ViTModel.from_pretrained('WinKawaks/vit-tiny-patch16-224')\n",
    "# print_parameters(model) # 5'561'472\n",
    "# model.head = nn.Sequential()\n",
    "# print_parameters(model) # 5'561'472\n",
    "\n",
    "# model = Embedder.load_pretrained(\"imagenet_vit_tiny\")\n",
    "# print_parameters(model) # 5'561'472\n",
    "# model.head = nn.Sequential()\n",
    "# print_parameters(model) # 5'561'472\n",
    "\n",
    "# model = Embedder.load_pretrained(\"vit_tiny_random\")\n",
    "# print_parameters(model) # 5'524'416 \n",
    "# model.head = nn.Sequential()\n",
    "# print_parameters(model) # 5'524'416\n",
    "\n",
    "# # model = Embedder.load_pretrained(\"dino\") # PermissionError: [Errno 13] Permission denied:\n",
    "# # print_parameters(model) # 11'820'224\n",
    "\n",
    "# model = Embedder.load_dino(model_dir)\n",
    "# print_parameters(model) # 11'820'224\n",
    "# model.head = nn.Sequential()\n",
    "# print_parameters(model) # 5'524'416\n",
    "\n",
    "# model = Embedder.load_dino(\"../model_weights/pddd/vit_tiny_patch16_224_ssl.pth\")\n",
    "# print_parameters(model) # 11'820'224\n",
    "# model.head = nn.Sequential()\n",
    "# print_parameters(model) # 5'524'416\n",
    "\n",
    "print(\"\")"
   ]
  },
  {
   "cell_type": "code",
   "execution_count": 21,
   "metadata": {},
   "outputs": [],
   "source": [
    "# model = Embedder.load_pretrained(\"dino\", debug=True)\n",
    "# print_parameters(model) \n",
    "\n",
    "# checkpoint = torch.load(checkpoint_path, map_location=torch.device(\"cpu\"))\n",
    "# model.load_state_dict(checkpoint, strict=False)"
   ]
  },
  {
   "cell_type": "code",
   "execution_count": 22,
   "metadata": {},
   "outputs": [],
   "source": [
    "\n",
    "# https://github.com/vm02-self-supervised-dermatology/self-supervised-models/raw/main"
   ]
  },
  {
   "cell_type": "code",
   "execution_count": 23,
   "metadata": {},
   "outputs": [],
   "source": [
    "# from ..models.encoders.vision_transformer import vit_base, vit_small, vit_tiny\n",
    "# Embedder.load_vit(\n",
    "# ViTHuggingFaceWrapper("
   ]
  },
  {
   "cell_type": "code",
   "execution_count": 24,
   "metadata": {},
   "outputs": [],
   "source": [
    "# torch.hub.download_url_to_file(model_url, tmp.name, progress=debug)\n",
    "# partial(\n",
    "#     Embedder.load_vit_imagenet,\n",
    "#     hf_name=\"WinKawaks/vit-tiny-patch16-224\",\n",
    "#     out_dim=768,\n",
    "# ),\n",
    "# Embedder.load_dino\n",
    "# Embedder.load_vit_tiny_rand\n",
    "# ViTWrapper"
   ]
  },
  {
   "cell_type": "code",
   "execution_count": null,
   "metadata": {},
   "outputs": [],
   "source": []
  },
  {
   "cell_type": "code",
   "execution_count": null,
   "metadata": {},
   "outputs": [],
   "source": []
  }
 ],
 "metadata": {
  "kernelspec": {
   "display_name": "Python 3.9.7 ('.venv': venv)",
   "language": "python",
   "name": "python3"
  },
  "language_info": {
   "codemirror_mode": {
    "name": "ipython",
    "version": 3
   },
   "file_extension": ".py",
   "mimetype": "text/x-python",
   "name": "python",
   "nbconvert_exporter": "python",
   "pygments_lexer": "ipython3",
   "version": "3.8.10"
  },
  "orig_nbformat": 4,
  "vscode": {
   "interpreter": {
    "hash": "412f64844b7b8af74bdbb265a073648c443bf75ef51a1e949163ab9198702ceb"
   }
  }
 },
 "nbformat": 4,
 "nbformat_minor": 2
}
