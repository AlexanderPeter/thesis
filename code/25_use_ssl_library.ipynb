{
 "cells": [
  {
   "cell_type": "code",
   "execution_count": 1,
   "metadata": {},
   "outputs": [],
   "source": [
    "import sys\n",
    "import torch\n",
    "import os\n",
    "from transformers import ViTForImageClassification\n",
    "from transformers import ViTModel\n",
    "import torch.nn as nn\n",
    "import timm\n",
    "\n",
    "sys.path.append(\"ssl_library\")\n",
    "from src.pkg.embedder import Embedder\n",
    "\n",
    "sys.path.append(\"python\")\n",
    "from local_utils import print_parameters"
   ]
  },
  {
   "cell_type": "code",
   "execution_count": 14,
   "metadata": {},
   "outputs": [],
   "source": [
    "raw_path = \"../model_weights/pddd/vit_tiny_patch16_224_ssl_raw.pth\"\n",
    "raw_path = \"../model_weights/imagenet/ViT_T16-ImageNet_headless.pth\"\n",
    "raw_path = \"../model_weights/imagenet/augreg_Ti_16-i21k-300ep-lr_0.001-aug_none-wd_0.03-do_0.0-sd_0.0--imagenet2012-steps_20k-lr_0.03-res_384.npz\"\n",
    "raw_path = \"../model_weights/imagenet/ViT_T16-ImageNet_1k_SSL_Dino_raw.pth\"\n",
    "raw_path = \"../model_weights/derma/ViT_T16-Derma_SSL_Dino_raw.pth\"\n",
    "\n",
    "headless_path = \"../model_weights/pddd/vit_tiny_patch16_224_ssl_headless.pth\"\n",
    "headless_path = \"../model_weights/random/ViT_T16-Random_headless.pth\"\n",
    "headless_path = \"../model_weights/imagenet/ViT_T16-ImageNet_AugReg_headless.pth\"\n",
    "headless_path = \"../model_weights/imagenet/ViT_T16-ImageNet_1k_SSL_Dino_headless.pth\"\n",
    "headless_path = \"../model_weights/derma/ViT_T16-Derma_SSL_Dino_headless.pth\"\n"
   ]
  },
  {
   "cell_type": "code",
   "execution_count": 3,
   "metadata": {},
   "outputs": [
    {
     "name": "stdout",
     "output_type": "stream",
     "text": [
      "File ../model_weights/derma/ViT_T16-Derma_SSL_Dino_raw.pth already exists\n",
      "File ../model_weights/imagenet/ViT_T16-ImageNet_1k_SSL_Dino_raw.pth already exists\n"
     ]
    }
   ],
   "source": [
    "# Download raw versions\n",
    "model_dir = \"../model_weights/derma/ViT_T16-Derma_SSL_Dino_raw.pth\"\n",
    "if os.path.exists(model_dir):\n",
    "    print(f\"File {model_dir} already exists\")\n",
    "else:\n",
    "    model_url = \"https://github.com/vm02-self-supervised-dermatology/self-supervised-models/raw/main/dino/checkpoint-epoch100.pth\"\n",
    "    torch.hub.download_url_to_file(model_url, model_dir, progress=True)\n",
    "\n",
    "model_dir = \"../model_weights/imagenet/ViT_T16-ImageNet_1k_SSL_Dino_raw.pth\"\n",
    "if os.path.exists(model_dir):\n",
    "    print(f\"File {model_dir} already exists\")\n",
    "else:\n",
    "    model_url = \"https://github.com/vm02-self-supervised-dermatology/self-supervised-models/raw/main/imagenet_dino/checkpoint-epoch100.pth\"\n",
    "    torch.hub.download_url_to_file(model_url, model_dir, progress=True)\n"
   ]
  },
  {
   "cell_type": "code",
   "execution_count": 4,
   "metadata": {},
   "outputs": [
    {
     "name": "stdout",
     "output_type": "stream",
     "text": [
      "File ../model_weights/imagenet/ViT_T16-ImageNet_1k_SL_WinKawaks_headless.pth already exists\n"
     ]
    }
   ],
   "source": [
    "model_dir = \"../model_weights/imagenet/ViT_T16-ImageNet_1k_SL_WinKawaks_headless.pth\"\n",
    "if os.path.exists(model_dir):\n",
    "    print(f\"File {model_dir} already exists\")\n",
    "else:\n",
    "    model = ViTModel.from_pretrained('WinKawaks/vit-tiny-patch16-224')\n",
    "    model.head = nn.Sequential()\n",
    "    print_parameters(model) # 5'561'472\n",
    "    torch.save(model.state_dict(), model_dir)\n",
    "    print(f\"File {model_dir} saved\")"
   ]
  },
  {
   "cell_type": "code",
   "execution_count": 16,
   "metadata": {},
   "outputs": [
    {
     "ename": "RuntimeError",
     "evalue": "Error(s) in loading state_dict for VisionTransformer:\n\tMissing key(s) in state_dict: \"cls_token\", \"pos_embed\", \"patch_embed.proj.weight\", \"patch_embed.proj.bias\", \"blocks.0.norm1.weight\", \"blocks.0.norm1.bias\", \"blocks.0.attn.qkv.weight\", \"blocks.0.attn.qkv.bias\", \"blocks.0.attn.proj.weight\", \"blocks.0.attn.proj.bias\", \"blocks.0.norm2.weight\", \"blocks.0.norm2.bias\", \"blocks.0.mlp.fc1.weight\", \"blocks.0.mlp.fc1.bias\", \"blocks.0.mlp.fc2.weight\", \"blocks.0.mlp.fc2.bias\", \"blocks.1.norm1.weight\", \"blocks.1.norm1.bias\", \"blocks.1.attn.qkv.weight\", \"blocks.1.attn.qkv.bias\", \"blocks.1.attn.proj.weight\", \"blocks.1.attn.proj.bias\", \"blocks.1.norm2.weight\", \"blocks.1.norm2.bias\", \"blocks.1.mlp.fc1.weight\", \"blocks.1.mlp.fc1.bias\", \"blocks.1.mlp.fc2.weight\", \"blocks.1.mlp.fc2.bias\", \"blocks.2.norm1.weight\", \"blocks.2.norm1.bias\", \"blocks.2.attn.qkv.weight\", \"blocks.2.attn.qkv.bias\", \"blocks.2.attn.proj.weight\", \"blocks.2.attn.proj.bias\", \"blocks.2.norm2.weight\", \"blocks.2.norm2.bias\", \"blocks.2.mlp.fc1.weight\", \"blocks.2.mlp.fc1.bias\", \"blocks.2.mlp.fc2.weight\", \"blocks.2.mlp.fc2.bias\", \"blocks.3.norm1.weight\", \"blocks.3.norm1.bias\", \"blocks.3.attn.qkv.weight\", \"blocks.3.attn.qkv.bias\", \"blocks.3.attn.proj.weight\", \"blocks.3.attn.proj.bias\", \"blocks.3.norm2.weight\", \"blocks.3.norm2.bias\", \"blocks.3.mlp.fc1.weight\", \"blocks.3.mlp.fc1.bias\", \"blocks.3.mlp.fc2.weight\", \"blocks.3.mlp.fc2.bias\", \"blocks.4.norm1.weight\", \"blocks.4.norm1.bias\", \"blocks.4.attn.qkv.weight\", \"blocks.4.attn.qkv.bias\", \"blocks.4.attn.proj.weight\", \"blocks.4.attn.proj.bias\", \"blocks.4.norm2.weight\", \"blocks.4.norm2.bias\", \"blocks.4.mlp.fc1.weight\", \"blocks.4.mlp.fc1.bias\", \"blocks.4.mlp.fc2.weight\", \"blocks.4.mlp.fc2.bias\", \"blocks.5.norm1.weight\", \"blocks.5.norm1.bias\", \"blocks.5.attn.qkv.weight\", \"blocks.5.attn.qkv.bias\", \"blocks.5.attn.proj.weight\", \"blocks.5.attn.proj.bias\", \"blocks.5.norm2.weight\", \"blocks.5.norm2.bias\", \"blocks.5.mlp.fc1.weight\", \"blocks.5.mlp.fc1.bias\", \"blocks.5.mlp.fc2.weight\", \"blocks.5.mlp.fc2.bias\", \"blocks.6.norm1.weight\", \"blocks.6.norm1.bias\", \"blocks.6.attn.qkv.weight\", \"blocks.6.attn.qkv.bias\", \"blocks.6.attn.proj.weight\", \"blocks.6.attn.proj.bias\", \"blocks.6.norm2.weight\", \"blocks.6.norm2.bias\", \"blocks.6.mlp.fc1.weight\", \"blocks.6.mlp.fc1.bias\", \"blocks.6.mlp.fc2.weight\", \"blocks.6.mlp.fc2.bias\", \"blocks.7.norm1.weight\", \"blocks.7.norm1.bias\", \"blocks.7.attn.qkv.weight\", \"blocks.7.attn.qkv.bias\", \"blocks.7.attn.proj.weight\", \"blocks.7.attn.proj.bias\", \"blocks.7.norm2.weight\", \"blocks.7.norm2.bias\", \"blocks.7.mlp.fc1.weight\", \"blocks.7.mlp.fc1.bias\", \"blocks.7.mlp.fc2.weight\", \"blocks.7.mlp.fc2.bias\", \"blocks.8.norm1.weight\", \"blocks.8.norm1.bias\", \"blocks.8.attn.qkv.weight\", \"blocks.8.attn.qkv.bias\", \"blocks.8.attn.proj.weight\", \"blocks.8.attn.proj.bias\", \"blocks.8.norm2.weight\", \"blocks.8.norm2.bias\", \"blocks.8.mlp.fc1.weight\", \"blocks.8.mlp.fc1.bias\", \"blocks.8.mlp.fc2.weight\", \"blocks.8.mlp.fc2.bias\", \"blocks.9.norm1.weight\", \"blocks.9.norm1.bias\", \"blocks.9.attn.qkv.weight\", \"blocks.9.attn.qkv.bias\", \"blocks.9.attn.proj.weight\", \"blocks.9.attn.proj.bias\", \"blocks.9.norm2.weight\", \"blocks.9.norm2.bias\", \"blocks.9.mlp.fc1.weight\", \"blocks.9.mlp.fc1.bias\", \"blocks.9.mlp.fc2.weight\", \"blocks.9.mlp.fc2.bias\", \"blocks.10.norm1.weight\", \"blocks.10.norm1.bias\", \"blocks.10.attn.qkv.weight\", \"blocks.10.attn.qkv.bias\", \"blocks.10.attn.proj.weight\", \"blocks.10.attn.proj.bias\", \"blocks.10.norm2.weight\", \"blocks.10.norm2.bias\", \"blocks.10.mlp.fc1.weight\", \"blocks.10.mlp.fc1.bias\", \"blocks.10.mlp.fc2.weight\", \"blocks.10.mlp.fc2.bias\", \"blocks.11.norm1.weight\", \"blocks.11.norm1.bias\", \"blocks.11.attn.qkv.weight\", \"blocks.11.attn.qkv.bias\", \"blocks.11.attn.proj.weight\", \"blocks.11.attn.proj.bias\", \"blocks.11.norm2.weight\", \"blocks.11.norm2.bias\", \"blocks.11.mlp.fc1.weight\", \"blocks.11.mlp.fc1.bias\", \"blocks.11.mlp.fc2.weight\", \"blocks.11.mlp.fc2.bias\", \"norm.weight\", \"norm.bias\", \"head.weight\", \"head.bias\". \n\tUnexpected key(s) in state_dict: \"arch\", \"epoch\", \"student\", \"teacher\", \"optimizer\", \"config\", \"loss\". ",
     "output_type": "error",
     "traceback": [
      "\u001b[1;31m---------------------------------------------------------------------------\u001b[0m",
      "\u001b[1;31mRuntimeError\u001b[0m                              Traceback (most recent call last)",
      "Cell \u001b[1;32mIn[16], line 8\u001b[0m\n\u001b[0;32m      6\u001b[0m     model \u001b[38;5;241m=\u001b[39m timm\u001b[38;5;241m.\u001b[39mcreate_model(\u001b[38;5;124m'\u001b[39m\u001b[38;5;124mvit_tiny_patch16_224\u001b[39m\u001b[38;5;124m'\u001b[39m, pretrained\u001b[38;5;241m=\u001b[39m\u001b[38;5;28;01mFalse\u001b[39;00m)\n\u001b[0;32m      7\u001b[0m     checkpoint \u001b[38;5;241m=\u001b[39m torch\u001b[38;5;241m.\u001b[39mload(raw_path, map_location\u001b[38;5;241m=\u001b[39mtorch\u001b[38;5;241m.\u001b[39mdevice(\u001b[38;5;124m\"\u001b[39m\u001b[38;5;124mcpu\u001b[39m\u001b[38;5;124m\"\u001b[39m))\n\u001b[1;32m----> 8\u001b[0m     \u001b[43mmodel\u001b[49m\u001b[38;5;241;43m.\u001b[39;49m\u001b[43mload_state_dict\u001b[49m\u001b[43m(\u001b[49m\u001b[43mcheckpoint\u001b[49m\u001b[43m,\u001b[49m\u001b[43m \u001b[49m\u001b[43mstrict\u001b[49m\u001b[38;5;241;43m=\u001b[39;49m\u001b[38;5;28;43;01mTrue\u001b[39;49;00m\u001b[43m)\u001b[49m\n\u001b[0;32m      9\u001b[0m     \u001b[38;5;28mprint\u001b[39m(\u001b[38;5;124m\"\u001b[39m\u001b[38;5;124mCheckpoint loaded!\u001b[39m\u001b[38;5;124m\"\u001b[39m)\n\u001b[0;32m     10\u001b[0m \u001b[38;5;28;01melif\u001b[39;00m \u001b[38;5;124m\"\u001b[39m\u001b[38;5;124mimagenet\u001b[39m\u001b[38;5;124m\"\u001b[39m \u001b[38;5;129;01min\u001b[39;00m headless_path:\n",
      "File \u001b[1;32mc:\\workspace\\thesis\\.venv\\lib\\site-packages\\torch\\nn\\modules\\module.py:2153\u001b[0m, in \u001b[0;36mModule.load_state_dict\u001b[1;34m(self, state_dict, strict, assign)\u001b[0m\n\u001b[0;32m   2148\u001b[0m         error_msgs\u001b[38;5;241m.\u001b[39minsert(\n\u001b[0;32m   2149\u001b[0m             \u001b[38;5;241m0\u001b[39m, \u001b[38;5;124m'\u001b[39m\u001b[38;5;124mMissing key(s) in state_dict: \u001b[39m\u001b[38;5;132;01m{}\u001b[39;00m\u001b[38;5;124m. \u001b[39m\u001b[38;5;124m'\u001b[39m\u001b[38;5;241m.\u001b[39mformat(\n\u001b[0;32m   2150\u001b[0m                 \u001b[38;5;124m'\u001b[39m\u001b[38;5;124m, \u001b[39m\u001b[38;5;124m'\u001b[39m\u001b[38;5;241m.\u001b[39mjoin(\u001b[38;5;124mf\u001b[39m\u001b[38;5;124m'\u001b[39m\u001b[38;5;124m\"\u001b[39m\u001b[38;5;132;01m{\u001b[39;00mk\u001b[38;5;132;01m}\u001b[39;00m\u001b[38;5;124m\"\u001b[39m\u001b[38;5;124m'\u001b[39m \u001b[38;5;28;01mfor\u001b[39;00m k \u001b[38;5;129;01min\u001b[39;00m missing_keys)))\n\u001b[0;32m   2152\u001b[0m \u001b[38;5;28;01mif\u001b[39;00m \u001b[38;5;28mlen\u001b[39m(error_msgs) \u001b[38;5;241m>\u001b[39m \u001b[38;5;241m0\u001b[39m:\n\u001b[1;32m-> 2153\u001b[0m     \u001b[38;5;28;01mraise\u001b[39;00m \u001b[38;5;167;01mRuntimeError\u001b[39;00m(\u001b[38;5;124m'\u001b[39m\u001b[38;5;124mError(s) in loading state_dict for \u001b[39m\u001b[38;5;132;01m{}\u001b[39;00m\u001b[38;5;124m:\u001b[39m\u001b[38;5;130;01m\\n\u001b[39;00m\u001b[38;5;130;01m\\t\u001b[39;00m\u001b[38;5;132;01m{}\u001b[39;00m\u001b[38;5;124m'\u001b[39m\u001b[38;5;241m.\u001b[39mformat(\n\u001b[0;32m   2154\u001b[0m                        \u001b[38;5;28mself\u001b[39m\u001b[38;5;241m.\u001b[39m\u001b[38;5;18m__class__\u001b[39m\u001b[38;5;241m.\u001b[39m\u001b[38;5;18m__name__\u001b[39m, \u001b[38;5;124m\"\u001b[39m\u001b[38;5;130;01m\\n\u001b[39;00m\u001b[38;5;130;01m\\t\u001b[39;00m\u001b[38;5;124m\"\u001b[39m\u001b[38;5;241m.\u001b[39mjoin(error_msgs)))\n\u001b[0;32m   2155\u001b[0m \u001b[38;5;28;01mreturn\u001b[39;00m _IncompatibleKeys(missing_keys, unexpected_keys)\n",
      "\u001b[1;31mRuntimeError\u001b[0m: Error(s) in loading state_dict for VisionTransformer:\n\tMissing key(s) in state_dict: \"cls_token\", \"pos_embed\", \"patch_embed.proj.weight\", \"patch_embed.proj.bias\", \"blocks.0.norm1.weight\", \"blocks.0.norm1.bias\", \"blocks.0.attn.qkv.weight\", \"blocks.0.attn.qkv.bias\", \"blocks.0.attn.proj.weight\", \"blocks.0.attn.proj.bias\", \"blocks.0.norm2.weight\", \"blocks.0.norm2.bias\", \"blocks.0.mlp.fc1.weight\", \"blocks.0.mlp.fc1.bias\", \"blocks.0.mlp.fc2.weight\", \"blocks.0.mlp.fc2.bias\", \"blocks.1.norm1.weight\", \"blocks.1.norm1.bias\", \"blocks.1.attn.qkv.weight\", \"blocks.1.attn.qkv.bias\", \"blocks.1.attn.proj.weight\", \"blocks.1.attn.proj.bias\", \"blocks.1.norm2.weight\", \"blocks.1.norm2.bias\", \"blocks.1.mlp.fc1.weight\", \"blocks.1.mlp.fc1.bias\", \"blocks.1.mlp.fc2.weight\", \"blocks.1.mlp.fc2.bias\", \"blocks.2.norm1.weight\", \"blocks.2.norm1.bias\", \"blocks.2.attn.qkv.weight\", \"blocks.2.attn.qkv.bias\", \"blocks.2.attn.proj.weight\", \"blocks.2.attn.proj.bias\", \"blocks.2.norm2.weight\", \"blocks.2.norm2.bias\", \"blocks.2.mlp.fc1.weight\", \"blocks.2.mlp.fc1.bias\", \"blocks.2.mlp.fc2.weight\", \"blocks.2.mlp.fc2.bias\", \"blocks.3.norm1.weight\", \"blocks.3.norm1.bias\", \"blocks.3.attn.qkv.weight\", \"blocks.3.attn.qkv.bias\", \"blocks.3.attn.proj.weight\", \"blocks.3.attn.proj.bias\", \"blocks.3.norm2.weight\", \"blocks.3.norm2.bias\", \"blocks.3.mlp.fc1.weight\", \"blocks.3.mlp.fc1.bias\", \"blocks.3.mlp.fc2.weight\", \"blocks.3.mlp.fc2.bias\", \"blocks.4.norm1.weight\", \"blocks.4.norm1.bias\", \"blocks.4.attn.qkv.weight\", \"blocks.4.attn.qkv.bias\", \"blocks.4.attn.proj.weight\", \"blocks.4.attn.proj.bias\", \"blocks.4.norm2.weight\", \"blocks.4.norm2.bias\", \"blocks.4.mlp.fc1.weight\", \"blocks.4.mlp.fc1.bias\", \"blocks.4.mlp.fc2.weight\", \"blocks.4.mlp.fc2.bias\", \"blocks.5.norm1.weight\", \"blocks.5.norm1.bias\", \"blocks.5.attn.qkv.weight\", \"blocks.5.attn.qkv.bias\", \"blocks.5.attn.proj.weight\", \"blocks.5.attn.proj.bias\", \"blocks.5.norm2.weight\", \"blocks.5.norm2.bias\", \"blocks.5.mlp.fc1.weight\", \"blocks.5.mlp.fc1.bias\", \"blocks.5.mlp.fc2.weight\", \"blocks.5.mlp.fc2.bias\", \"blocks.6.norm1.weight\", \"blocks.6.norm1.bias\", \"blocks.6.attn.qkv.weight\", \"blocks.6.attn.qkv.bias\", \"blocks.6.attn.proj.weight\", \"blocks.6.attn.proj.bias\", \"blocks.6.norm2.weight\", \"blocks.6.norm2.bias\", \"blocks.6.mlp.fc1.weight\", \"blocks.6.mlp.fc1.bias\", \"blocks.6.mlp.fc2.weight\", \"blocks.6.mlp.fc2.bias\", \"blocks.7.norm1.weight\", \"blocks.7.norm1.bias\", \"blocks.7.attn.qkv.weight\", \"blocks.7.attn.qkv.bias\", \"blocks.7.attn.proj.weight\", \"blocks.7.attn.proj.bias\", \"blocks.7.norm2.weight\", \"blocks.7.norm2.bias\", \"blocks.7.mlp.fc1.weight\", \"blocks.7.mlp.fc1.bias\", \"blocks.7.mlp.fc2.weight\", \"blocks.7.mlp.fc2.bias\", \"blocks.8.norm1.weight\", \"blocks.8.norm1.bias\", \"blocks.8.attn.qkv.weight\", \"blocks.8.attn.qkv.bias\", \"blocks.8.attn.proj.weight\", \"blocks.8.attn.proj.bias\", \"blocks.8.norm2.weight\", \"blocks.8.norm2.bias\", \"blocks.8.mlp.fc1.weight\", \"blocks.8.mlp.fc1.bias\", \"blocks.8.mlp.fc2.weight\", \"blocks.8.mlp.fc2.bias\", \"blocks.9.norm1.weight\", \"blocks.9.norm1.bias\", \"blocks.9.attn.qkv.weight\", \"blocks.9.attn.qkv.bias\", \"blocks.9.attn.proj.weight\", \"blocks.9.attn.proj.bias\", \"blocks.9.norm2.weight\", \"blocks.9.norm2.bias\", \"blocks.9.mlp.fc1.weight\", \"blocks.9.mlp.fc1.bias\", \"blocks.9.mlp.fc2.weight\", \"blocks.9.mlp.fc2.bias\", \"blocks.10.norm1.weight\", \"blocks.10.norm1.bias\", \"blocks.10.attn.qkv.weight\", \"blocks.10.attn.qkv.bias\", \"blocks.10.attn.proj.weight\", \"blocks.10.attn.proj.bias\", \"blocks.10.norm2.weight\", \"blocks.10.norm2.bias\", \"blocks.10.mlp.fc1.weight\", \"blocks.10.mlp.fc1.bias\", \"blocks.10.mlp.fc2.weight\", \"blocks.10.mlp.fc2.bias\", \"blocks.11.norm1.weight\", \"blocks.11.norm1.bias\", \"blocks.11.attn.qkv.weight\", \"blocks.11.attn.qkv.bias\", \"blocks.11.attn.proj.weight\", \"blocks.11.attn.proj.bias\", \"blocks.11.norm2.weight\", \"blocks.11.norm2.bias\", \"blocks.11.mlp.fc1.weight\", \"blocks.11.mlp.fc1.bias\", \"blocks.11.mlp.fc2.weight\", \"blocks.11.mlp.fc2.bias\", \"norm.weight\", \"norm.bias\", \"head.weight\", \"head.bias\". \n\tUnexpected key(s) in state_dict: \"arch\", \"epoch\", \"student\", \"teacher\", \"optimizer\", \"config\", \"loss\". "
     ]
    }
   ],
   "source": [
    "if os.path.exists(headless_path):\n",
    "    print(f\"File {headless_path} already exists\")\n",
    "else:\n",
    "    if \"Derma\" in headless_path:\n",
    "        # model = Embedder.load_dino(raw_path)\n",
    "        model = timm.create_model('vit_tiny_patch16_224', pretrained=False)\n",
    "        checkpoint = torch.load(raw_path, map_location=torch.device(\"cpu\"))\n",
    "        model.load_state_dict(checkpoint, strict=True)\n",
    "        print(\"Checkpoint loaded!\")\n",
    "    elif \"imagenet\" in headless_path:\n",
    "        model = timm.create_model('vit_tiny_patch16_224', pretrained=True)\n",
    "        print(\"Pretrained loaded!\")\n",
    "    elif \"random\" in headless_path:\n",
    "        model = timm.create_model('vit_tiny_patch16_224', pretrained=False)\n",
    "        print(\"Random loaded!\")\n",
    "    else:\n",
    "        model = timm.create_model('vit_tiny_patch16_224', pretrained=False)\n",
    "        checkpoint = torch.load(raw_path, map_location=torch.device(\"cpu\"))\n",
    "        model.load_state_dict(checkpoint, strict=True)\n",
    "        print(\"Checkpoint loaded!\")\n",
    "    model.head = nn.Sequential()\n",
    "    print_parameters(model) # 5'524'416\n",
    "\n",
    "    torch.save(model.state_dict(), headless_path)\n",
    "    print(f\"File {headless_path} saved\")\n"
   ]
  },
  {
   "cell_type": "code",
   "execution_count": 7,
   "metadata": {},
   "outputs": [
    {
     "name": "stdout",
     "output_type": "stream",
     "text": [
      "ckp_path: ../model_weights/derma/ViT_T16-Derma_SSL_Dino_raw.pth\n",
      "base_model: vit_tiny\n"
     ]
    },
    {
     "name": "stderr",
     "output_type": "stream",
     "text": [
      "\u001b[32m2024-07-05 21:03:41.564\u001b[0m | \u001b[1mINFO    \u001b[0m | \u001b[36msrc.pkg.embedder\u001b[0m:\u001b[36mrestart_from_checkpoint\u001b[0m:\u001b[36m651\u001b[0m - \u001b[1mFound checkpoint at ../model_weights/derma/ViT_T16-Derma_SSL_Dino_raw.pth\u001b[0m\n",
      "\u001b[32m2024-07-05 21:03:41.672\u001b[0m | \u001b[34m\u001b[1mDEBUG   \u001b[0m | \u001b[36msrc.pkg.embedder\u001b[0m:\u001b[36mrestart_from_checkpoint\u001b[0m:\u001b[36m669\u001b[0m - \u001b[34m\u001b[1m=> Found `backbone.` in student, trying to transform.\u001b[0m\n",
      "\u001b[32m2024-07-05 21:03:41.674\u001b[0m | \u001b[34m\u001b[1mDEBUG   \u001b[0m | \u001b[36msrc.pkg.embedder\u001b[0m:\u001b[36mrestart_from_checkpoint\u001b[0m:\u001b[36m682\u001b[0m - \u001b[34m\u001b[1m=> loaded 'student' from checkpoint '../model_weights/derma/ViT_T16-Derma_SSL_Dino_raw.pth' with msg _IncompatibleKeys(missing_keys=[], unexpected_keys=['head.mlp.0.weight', 'head.mlp.0.bias', 'head.mlp.2.weight', 'head.mlp.2.bias', 'head.mlp.4.weight', 'head.mlp.4.bias', 'head.last_layer.weight_g', 'head.last_layer.weight_v'])\u001b[0m\n",
      "\u001b[32m2024-07-05 21:03:41.765\u001b[0m | \u001b[1mINFO    \u001b[0m | \u001b[36msrc.pkg.embedder\u001b[0m:\u001b[36mrestart_from_checkpoint\u001b[0m:\u001b[36m651\u001b[0m - \u001b[1mFound checkpoint at ../model_weights/derma/ViT_T16-Derma_SSL_Dino_raw.pth\u001b[0m\n",
      "\u001b[32m2024-07-05 21:03:41.857\u001b[0m | \u001b[34m\u001b[1mDEBUG   \u001b[0m | \u001b[36msrc.pkg.embedder\u001b[0m:\u001b[36mrestart_from_checkpoint\u001b[0m:\u001b[36m682\u001b[0m - \u001b[34m\u001b[1m=> loaded 'student' from checkpoint '../model_weights/derma/ViT_T16-Derma_SSL_Dino_raw.pth' with msg _IncompatibleKeys(missing_keys=['mlp.0.weight', 'mlp.0.bias', 'mlp.2.weight', 'mlp.2.bias', 'mlp.4.weight', 'mlp.4.bias', 'last_layer.weight_g', 'last_layer.weight_v'], unexpected_keys=['backbone.cls_token', 'backbone.pos_embed', 'backbone.patch_embed.proj.weight', 'backbone.patch_embed.proj.bias', 'backbone.blocks.0.norm1.weight', 'backbone.blocks.0.norm1.bias', 'backbone.blocks.0.attn.qkv.weight', 'backbone.blocks.0.attn.qkv.bias', 'backbone.blocks.0.attn.proj.weight', 'backbone.blocks.0.attn.proj.bias', 'backbone.blocks.0.norm2.weight', 'backbone.blocks.0.norm2.bias', 'backbone.blocks.0.mlp.fc1.weight', 'backbone.blocks.0.mlp.fc1.bias', 'backbone.blocks.0.mlp.fc2.weight', 'backbone.blocks.0.mlp.fc2.bias', 'backbone.blocks.1.norm1.weight', 'backbone.blocks.1.norm1.bias', 'backbone.blocks.1.attn.qkv.weight', 'backbone.blocks.1.attn.qkv.bias', 'backbone.blocks.1.attn.proj.weight', 'backbone.blocks.1.attn.proj.bias', 'backbone.blocks.1.norm2.weight', 'backbone.blocks.1.norm2.bias', 'backbone.blocks.1.mlp.fc1.weight', 'backbone.blocks.1.mlp.fc1.bias', 'backbone.blocks.1.mlp.fc2.weight', 'backbone.blocks.1.mlp.fc2.bias', 'backbone.blocks.2.norm1.weight', 'backbone.blocks.2.norm1.bias', 'backbone.blocks.2.attn.qkv.weight', 'backbone.blocks.2.attn.qkv.bias', 'backbone.blocks.2.attn.proj.weight', 'backbone.blocks.2.attn.proj.bias', 'backbone.blocks.2.norm2.weight', 'backbone.blocks.2.norm2.bias', 'backbone.blocks.2.mlp.fc1.weight', 'backbone.blocks.2.mlp.fc1.bias', 'backbone.blocks.2.mlp.fc2.weight', 'backbone.blocks.2.mlp.fc2.bias', 'backbone.blocks.3.norm1.weight', 'backbone.blocks.3.norm1.bias', 'backbone.blocks.3.attn.qkv.weight', 'backbone.blocks.3.attn.qkv.bias', 'backbone.blocks.3.attn.proj.weight', 'backbone.blocks.3.attn.proj.bias', 'backbone.blocks.3.norm2.weight', 'backbone.blocks.3.norm2.bias', 'backbone.blocks.3.mlp.fc1.weight', 'backbone.blocks.3.mlp.fc1.bias', 'backbone.blocks.3.mlp.fc2.weight', 'backbone.blocks.3.mlp.fc2.bias', 'backbone.blocks.4.norm1.weight', 'backbone.blocks.4.norm1.bias', 'backbone.blocks.4.attn.qkv.weight', 'backbone.blocks.4.attn.qkv.bias', 'backbone.blocks.4.attn.proj.weight', 'backbone.blocks.4.attn.proj.bias', 'backbone.blocks.4.norm2.weight', 'backbone.blocks.4.norm2.bias', 'backbone.blocks.4.mlp.fc1.weight', 'backbone.blocks.4.mlp.fc1.bias', 'backbone.blocks.4.mlp.fc2.weight', 'backbone.blocks.4.mlp.fc2.bias', 'backbone.blocks.5.norm1.weight', 'backbone.blocks.5.norm1.bias', 'backbone.blocks.5.attn.qkv.weight', 'backbone.blocks.5.attn.qkv.bias', 'backbone.blocks.5.attn.proj.weight', 'backbone.blocks.5.attn.proj.bias', 'backbone.blocks.5.norm2.weight', 'backbone.blocks.5.norm2.bias', 'backbone.blocks.5.mlp.fc1.weight', 'backbone.blocks.5.mlp.fc1.bias', 'backbone.blocks.5.mlp.fc2.weight', 'backbone.blocks.5.mlp.fc2.bias', 'backbone.blocks.6.norm1.weight', 'backbone.blocks.6.norm1.bias', 'backbone.blocks.6.attn.qkv.weight', 'backbone.blocks.6.attn.qkv.bias', 'backbone.blocks.6.attn.proj.weight', 'backbone.blocks.6.attn.proj.bias', 'backbone.blocks.6.norm2.weight', 'backbone.blocks.6.norm2.bias', 'backbone.blocks.6.mlp.fc1.weight', 'backbone.blocks.6.mlp.fc1.bias', 'backbone.blocks.6.mlp.fc2.weight', 'backbone.blocks.6.mlp.fc2.bias', 'backbone.blocks.7.norm1.weight', 'backbone.blocks.7.norm1.bias', 'backbone.blocks.7.attn.qkv.weight', 'backbone.blocks.7.attn.qkv.bias', 'backbone.blocks.7.attn.proj.weight', 'backbone.blocks.7.attn.proj.bias', 'backbone.blocks.7.norm2.weight', 'backbone.blocks.7.norm2.bias', 'backbone.blocks.7.mlp.fc1.weight', 'backbone.blocks.7.mlp.fc1.bias', 'backbone.blocks.7.mlp.fc2.weight', 'backbone.blocks.7.mlp.fc2.bias', 'backbone.blocks.8.norm1.weight', 'backbone.blocks.8.norm1.bias', 'backbone.blocks.8.attn.qkv.weight', 'backbone.blocks.8.attn.qkv.bias', 'backbone.blocks.8.attn.proj.weight', 'backbone.blocks.8.attn.proj.bias', 'backbone.blocks.8.norm2.weight', 'backbone.blocks.8.norm2.bias', 'backbone.blocks.8.mlp.fc1.weight', 'backbone.blocks.8.mlp.fc1.bias', 'backbone.blocks.8.mlp.fc2.weight', 'backbone.blocks.8.mlp.fc2.bias', 'backbone.blocks.9.norm1.weight', 'backbone.blocks.9.norm1.bias', 'backbone.blocks.9.attn.qkv.weight', 'backbone.blocks.9.attn.qkv.bias', 'backbone.blocks.9.attn.proj.weight', 'backbone.blocks.9.attn.proj.bias', 'backbone.blocks.9.norm2.weight', 'backbone.blocks.9.norm2.bias', 'backbone.blocks.9.mlp.fc1.weight', 'backbone.blocks.9.mlp.fc1.bias', 'backbone.blocks.9.mlp.fc2.weight', 'backbone.blocks.9.mlp.fc2.bias', 'backbone.blocks.10.norm1.weight', 'backbone.blocks.10.norm1.bias', 'backbone.blocks.10.attn.qkv.weight', 'backbone.blocks.10.attn.qkv.bias', 'backbone.blocks.10.attn.proj.weight', 'backbone.blocks.10.attn.proj.bias', 'backbone.blocks.10.norm2.weight', 'backbone.blocks.10.norm2.bias', 'backbone.blocks.10.mlp.fc1.weight', 'backbone.blocks.10.mlp.fc1.bias', 'backbone.blocks.10.mlp.fc2.weight', 'backbone.blocks.10.mlp.fc2.bias', 'backbone.blocks.11.norm1.weight', 'backbone.blocks.11.norm1.bias', 'backbone.blocks.11.attn.qkv.weight', 'backbone.blocks.11.attn.qkv.bias', 'backbone.blocks.11.attn.proj.weight', 'backbone.blocks.11.attn.proj.bias', 'backbone.blocks.11.norm2.weight', 'backbone.blocks.11.norm2.bias', 'backbone.blocks.11.mlp.fc1.weight', 'backbone.blocks.11.mlp.fc1.bias', 'backbone.blocks.11.mlp.fc2.weight', 'backbone.blocks.11.mlp.fc2.bias', 'backbone.norm.weight', 'backbone.norm.bias', 'head.mlp.0.weight', 'head.mlp.0.bias', 'head.mlp.2.weight', 'head.mlp.2.bias', 'head.mlp.4.weight', 'head.mlp.4.bias', 'head.last_layer.weight_g', 'head.last_layer.weight_v'])\u001b[0m\n"
     ]
    },
    {
     "name": "stdout",
     "output_type": "stream",
     "text": [
      "Total parameters: 11820224\n",
      "Required parameters: 11820224 \n",
      "Total parameters: 5524416\n",
      "Required parameters: 5524416 \n",
      "\n"
     ]
    }
   ],
   "source": [
    "# model = ViTForImageClassification.from_pretrained('google/vit-base-patch16-224')\n",
    "# print_parameters(model) # 86'567'656\n",
    "# model.head = nn.Sequential()\n",
    "# print_parameters(model) # 86'567'656\n",
    "\n",
    "# model = ViTForImageClassification.from_pretrained('WinKawaks/vit-tiny-patch16-224')\n",
    "# print_parameters(model) # 5'717'416\n",
    "# model.head = nn.Sequential()\n",
    "# print_parameters(model) # 5'717'416\n",
    "\n",
    "# model = ViTModel.from_pretrained('WinKawaks/vit-tiny-patch16-224')\n",
    "# print_parameters(model) # 5'561'472\n",
    "# model.head = nn.Sequential()\n",
    "# print_parameters(model) # 5'561'472\n",
    "\n",
    "# model = Embedder.load_pretrained(\"imagenet_vit_tiny\")\n",
    "# print_parameters(model) # 5'561'472\n",
    "# model.head = nn.Sequential()\n",
    "# print_parameters(model) # 5'561'472\n",
    "\n",
    "# model = Embedder.load_pretrained(\"vit_tiny_random\")\n",
    "# print_parameters(model) # 5'524'416 \n",
    "# model.head = nn.Sequential()\n",
    "# print_parameters(model) # 5'524'416\n",
    "\n",
    "# model = Embedder.load_pretrained(\"imagenet_dino\") # PermissionError: [Errno 13] Permission denied:\n",
    "# print_parameters(model)\n",
    "\n",
    "# model = Embedder.load_pretrained(\"dino\") # PermissionError: [Errno 13] Permission denied:\n",
    "# print_parameters(model)\n",
    "\n",
    "# model = Embedder.load_pretrained(\"dino\")\n",
    "\n",
    "# model = Embedder.load_dino(raw_path)\n",
    "# print_parameters(model) # 11'820'224\n",
    "# model.head = nn.Sequential()\n",
    "# print_parameters(model) # 5'524'416\n",
    "\n",
    "# model = Embedder.load_dino(\"../model_weights/pddd/vit_tiny_patch16_224_ssl.pth\")\n",
    "# print_parameters(model) # 11'820'224\n",
    "# model.head = nn.Sequential()\n",
    "# print_parameters(model) # 5'524'416\n",
    "\n",
    "print(\"\")"
   ]
  },
  {
   "cell_type": "code",
   "execution_count": 11,
   "metadata": {},
   "outputs": [
    {
     "name": "stdout",
     "output_type": "stream",
     "text": [
      "ckp_path: ../model_weights/derma/ViT_T16-Derma_SSL_Dino_raw.pth\n",
      "base_model: vit_tiny\n"
     ]
    },
    {
     "name": "stderr",
     "output_type": "stream",
     "text": [
      "\u001b[32m2024-07-05 21:08:04.698\u001b[0m | \u001b[1mINFO    \u001b[0m | \u001b[36msrc.pkg.embedder\u001b[0m:\u001b[36mrestart_from_checkpoint\u001b[0m:\u001b[36m651\u001b[0m - \u001b[1mFound checkpoint at ../model_weights/derma/ViT_T16-Derma_SSL_Dino_raw.pth\u001b[0m\n",
      "\u001b[32m2024-07-05 21:08:04.799\u001b[0m | \u001b[34m\u001b[1mDEBUG   \u001b[0m | \u001b[36msrc.pkg.embedder\u001b[0m:\u001b[36mrestart_from_checkpoint\u001b[0m:\u001b[36m669\u001b[0m - \u001b[34m\u001b[1m=> Found `backbone.` in student, trying to transform.\u001b[0m\n",
      "\u001b[32m2024-07-05 21:08:04.809\u001b[0m | \u001b[34m\u001b[1mDEBUG   \u001b[0m | \u001b[36msrc.pkg.embedder\u001b[0m:\u001b[36mrestart_from_checkpoint\u001b[0m:\u001b[36m682\u001b[0m - \u001b[34m\u001b[1m=> loaded 'student' from checkpoint '../model_weights/derma/ViT_T16-Derma_SSL_Dino_raw.pth' with msg _IncompatibleKeys(missing_keys=[], unexpected_keys=['head.mlp.0.weight', 'head.mlp.0.bias', 'head.mlp.2.weight', 'head.mlp.2.bias', 'head.mlp.4.weight', 'head.mlp.4.bias', 'head.last_layer.weight_g', 'head.last_layer.weight_v'])\u001b[0m\n",
      "c:\\workspace\\thesis\\.venv\\lib\\site-packages\\torch\\nn\\utils\\weight_norm.py:28: UserWarning: torch.nn.utils.weight_norm is deprecated in favor of torch.nn.utils.parametrizations.weight_norm.\n",
      "  warnings.warn(\"torch.nn.utils.weight_norm is deprecated in favor of torch.nn.utils.parametrizations.weight_norm.\")\n",
      "\u001b[32m2024-07-05 21:08:04.982\u001b[0m | \u001b[1mINFO    \u001b[0m | \u001b[36msrc.pkg.embedder\u001b[0m:\u001b[36mrestart_from_checkpoint\u001b[0m:\u001b[36m651\u001b[0m - \u001b[1mFound checkpoint at ../model_weights/derma/ViT_T16-Derma_SSL_Dino_raw.pth\u001b[0m\n",
      "\u001b[32m2024-07-05 21:08:05.073\u001b[0m | \u001b[34m\u001b[1mDEBUG   \u001b[0m | \u001b[36msrc.pkg.embedder\u001b[0m:\u001b[36mrestart_from_checkpoint\u001b[0m:\u001b[36m682\u001b[0m - \u001b[34m\u001b[1m=> loaded 'student' from checkpoint '../model_weights/derma/ViT_T16-Derma_SSL_Dino_raw.pth' with msg _IncompatibleKeys(missing_keys=['mlp.0.weight', 'mlp.0.bias', 'mlp.2.weight', 'mlp.2.bias', 'mlp.4.weight', 'mlp.4.bias', 'last_layer.weight_g', 'last_layer.weight_v'], unexpected_keys=['backbone.cls_token', 'backbone.pos_embed', 'backbone.patch_embed.proj.weight', 'backbone.patch_embed.proj.bias', 'backbone.blocks.0.norm1.weight', 'backbone.blocks.0.norm1.bias', 'backbone.blocks.0.attn.qkv.weight', 'backbone.blocks.0.attn.qkv.bias', 'backbone.blocks.0.attn.proj.weight', 'backbone.blocks.0.attn.proj.bias', 'backbone.blocks.0.norm2.weight', 'backbone.blocks.0.norm2.bias', 'backbone.blocks.0.mlp.fc1.weight', 'backbone.blocks.0.mlp.fc1.bias', 'backbone.blocks.0.mlp.fc2.weight', 'backbone.blocks.0.mlp.fc2.bias', 'backbone.blocks.1.norm1.weight', 'backbone.blocks.1.norm1.bias', 'backbone.blocks.1.attn.qkv.weight', 'backbone.blocks.1.attn.qkv.bias', 'backbone.blocks.1.attn.proj.weight', 'backbone.blocks.1.attn.proj.bias', 'backbone.blocks.1.norm2.weight', 'backbone.blocks.1.norm2.bias', 'backbone.blocks.1.mlp.fc1.weight', 'backbone.blocks.1.mlp.fc1.bias', 'backbone.blocks.1.mlp.fc2.weight', 'backbone.blocks.1.mlp.fc2.bias', 'backbone.blocks.2.norm1.weight', 'backbone.blocks.2.norm1.bias', 'backbone.blocks.2.attn.qkv.weight', 'backbone.blocks.2.attn.qkv.bias', 'backbone.blocks.2.attn.proj.weight', 'backbone.blocks.2.attn.proj.bias', 'backbone.blocks.2.norm2.weight', 'backbone.blocks.2.norm2.bias', 'backbone.blocks.2.mlp.fc1.weight', 'backbone.blocks.2.mlp.fc1.bias', 'backbone.blocks.2.mlp.fc2.weight', 'backbone.blocks.2.mlp.fc2.bias', 'backbone.blocks.3.norm1.weight', 'backbone.blocks.3.norm1.bias', 'backbone.blocks.3.attn.qkv.weight', 'backbone.blocks.3.attn.qkv.bias', 'backbone.blocks.3.attn.proj.weight', 'backbone.blocks.3.attn.proj.bias', 'backbone.blocks.3.norm2.weight', 'backbone.blocks.3.norm2.bias', 'backbone.blocks.3.mlp.fc1.weight', 'backbone.blocks.3.mlp.fc1.bias', 'backbone.blocks.3.mlp.fc2.weight', 'backbone.blocks.3.mlp.fc2.bias', 'backbone.blocks.4.norm1.weight', 'backbone.blocks.4.norm1.bias', 'backbone.blocks.4.attn.qkv.weight', 'backbone.blocks.4.attn.qkv.bias', 'backbone.blocks.4.attn.proj.weight', 'backbone.blocks.4.attn.proj.bias', 'backbone.blocks.4.norm2.weight', 'backbone.blocks.4.norm2.bias', 'backbone.blocks.4.mlp.fc1.weight', 'backbone.blocks.4.mlp.fc1.bias', 'backbone.blocks.4.mlp.fc2.weight', 'backbone.blocks.4.mlp.fc2.bias', 'backbone.blocks.5.norm1.weight', 'backbone.blocks.5.norm1.bias', 'backbone.blocks.5.attn.qkv.weight', 'backbone.blocks.5.attn.qkv.bias', 'backbone.blocks.5.attn.proj.weight', 'backbone.blocks.5.attn.proj.bias', 'backbone.blocks.5.norm2.weight', 'backbone.blocks.5.norm2.bias', 'backbone.blocks.5.mlp.fc1.weight', 'backbone.blocks.5.mlp.fc1.bias', 'backbone.blocks.5.mlp.fc2.weight', 'backbone.blocks.5.mlp.fc2.bias', 'backbone.blocks.6.norm1.weight', 'backbone.blocks.6.norm1.bias', 'backbone.blocks.6.attn.qkv.weight', 'backbone.blocks.6.attn.qkv.bias', 'backbone.blocks.6.attn.proj.weight', 'backbone.blocks.6.attn.proj.bias', 'backbone.blocks.6.norm2.weight', 'backbone.blocks.6.norm2.bias', 'backbone.blocks.6.mlp.fc1.weight', 'backbone.blocks.6.mlp.fc1.bias', 'backbone.blocks.6.mlp.fc2.weight', 'backbone.blocks.6.mlp.fc2.bias', 'backbone.blocks.7.norm1.weight', 'backbone.blocks.7.norm1.bias', 'backbone.blocks.7.attn.qkv.weight', 'backbone.blocks.7.attn.qkv.bias', 'backbone.blocks.7.attn.proj.weight', 'backbone.blocks.7.attn.proj.bias', 'backbone.blocks.7.norm2.weight', 'backbone.blocks.7.norm2.bias', 'backbone.blocks.7.mlp.fc1.weight', 'backbone.blocks.7.mlp.fc1.bias', 'backbone.blocks.7.mlp.fc2.weight', 'backbone.blocks.7.mlp.fc2.bias', 'backbone.blocks.8.norm1.weight', 'backbone.blocks.8.norm1.bias', 'backbone.blocks.8.attn.qkv.weight', 'backbone.blocks.8.attn.qkv.bias', 'backbone.blocks.8.attn.proj.weight', 'backbone.blocks.8.attn.proj.bias', 'backbone.blocks.8.norm2.weight', 'backbone.blocks.8.norm2.bias', 'backbone.blocks.8.mlp.fc1.weight', 'backbone.blocks.8.mlp.fc1.bias', 'backbone.blocks.8.mlp.fc2.weight', 'backbone.blocks.8.mlp.fc2.bias', 'backbone.blocks.9.norm1.weight', 'backbone.blocks.9.norm1.bias', 'backbone.blocks.9.attn.qkv.weight', 'backbone.blocks.9.attn.qkv.bias', 'backbone.blocks.9.attn.proj.weight', 'backbone.blocks.9.attn.proj.bias', 'backbone.blocks.9.norm2.weight', 'backbone.blocks.9.norm2.bias', 'backbone.blocks.9.mlp.fc1.weight', 'backbone.blocks.9.mlp.fc1.bias', 'backbone.blocks.9.mlp.fc2.weight', 'backbone.blocks.9.mlp.fc2.bias', 'backbone.blocks.10.norm1.weight', 'backbone.blocks.10.norm1.bias', 'backbone.blocks.10.attn.qkv.weight', 'backbone.blocks.10.attn.qkv.bias', 'backbone.blocks.10.attn.proj.weight', 'backbone.blocks.10.attn.proj.bias', 'backbone.blocks.10.norm2.weight', 'backbone.blocks.10.norm2.bias', 'backbone.blocks.10.mlp.fc1.weight', 'backbone.blocks.10.mlp.fc1.bias', 'backbone.blocks.10.mlp.fc2.weight', 'backbone.blocks.10.mlp.fc2.bias', 'backbone.blocks.11.norm1.weight', 'backbone.blocks.11.norm1.bias', 'backbone.blocks.11.attn.qkv.weight', 'backbone.blocks.11.attn.qkv.bias', 'backbone.blocks.11.attn.proj.weight', 'backbone.blocks.11.attn.proj.bias', 'backbone.blocks.11.norm2.weight', 'backbone.blocks.11.norm2.bias', 'backbone.blocks.11.mlp.fc1.weight', 'backbone.blocks.11.mlp.fc1.bias', 'backbone.blocks.11.mlp.fc2.weight', 'backbone.blocks.11.mlp.fc2.bias', 'backbone.norm.weight', 'backbone.norm.bias', 'head.mlp.0.weight', 'head.mlp.0.bias', 'head.mlp.2.weight', 'head.mlp.2.bias', 'head.mlp.4.weight', 'head.mlp.4.bias', 'head.last_layer.weight_g', 'head.last_layer.weight_v'])\u001b[0m\n"
     ]
    },
    {
     "name": "stdout",
     "output_type": "stream",
     "text": [
      "Total parameters: 11820224\n",
      "Required parameters: 11820224 \n",
      "Total parameters: 5524416\n",
      "Required parameters: 5524416 \n"
     ]
    },
    {
     "data": {
      "text/plain": [
       "(5524416, 5524416)"
      ]
     },
     "execution_count": 11,
     "metadata": {},
     "output_type": "execute_result"
    }
   ],
   "source": [
    "model = Embedder.load_dino(raw_path)\n",
    "print_parameters(model)\n",
    "model.head = nn.Sequential()\n",
    "\n",
    "checkpoint = torch.load(headless_path, map_location=torch.device(\"cpu\"))\n",
    "model.load_state_dict(checkpoint, strict=True)\n",
    "print_parameters(model)"
   ]
  },
  {
   "cell_type": "code",
   "execution_count": 21,
   "metadata": {},
   "outputs": [],
   "source": [
    "# model = Embedder.load_pretrained(\"dino\", debug=True)\n",
    "# print_parameters(model) \n",
    "\n",
    "# checkpoint = torch.load(checkpoint_path, map_location=torch.device(\"cpu\"))\n",
    "# model.load_state_dict(checkpoint, strict=False)"
   ]
  },
  {
   "cell_type": "code",
   "execution_count": 22,
   "metadata": {},
   "outputs": [],
   "source": [
    "\n",
    "# https://github.com/vm02-self-supervised-dermatology/self-supervised-models/raw/main"
   ]
  },
  {
   "cell_type": "code",
   "execution_count": 23,
   "metadata": {},
   "outputs": [],
   "source": [
    "# from ..models.encoders.vision_transformer import vit_base, vit_small, vit_tiny\n",
    "# Embedder.load_vit(\n",
    "# ViTHuggingFaceWrapper("
   ]
  },
  {
   "cell_type": "code",
   "execution_count": 24,
   "metadata": {},
   "outputs": [],
   "source": [
    "# torch.hub.download_url_to_file(model_url, tmp.name, progress=debug)\n",
    "# partial(\n",
    "#     Embedder.load_vit_imagenet,\n",
    "#     hf_name=\"WinKawaks/vit-tiny-patch16-224\",\n",
    "#     out_dim=768,\n",
    "# ),\n",
    "# Embedder.load_dino\n",
    "# Embedder.load_vit_tiny_rand\n",
    "# ViTWrapper"
   ]
  },
  {
   "cell_type": "code",
   "execution_count": null,
   "metadata": {},
   "outputs": [],
   "source": []
  },
  {
   "cell_type": "code",
   "execution_count": null,
   "metadata": {},
   "outputs": [],
   "source": []
  }
 ],
 "metadata": {
  "kernelspec": {
   "display_name": "Python 3.9.7 ('.venv': venv)",
   "language": "python",
   "name": "python3"
  },
  "language_info": {
   "codemirror_mode": {
    "name": "ipython",
    "version": 3
   },
   "file_extension": ".py",
   "mimetype": "text/x-python",
   "name": "python",
   "nbconvert_exporter": "python",
   "pygments_lexer": "ipython3",
   "version": "3.8.10"
  },
  "orig_nbformat": 4,
  "vscode": {
   "interpreter": {
    "hash": "412f64844b7b8af74bdbb265a073648c443bf75ef51a1e949163ab9198702ceb"
   }
  }
 },
 "nbformat": 4,
 "nbformat_minor": 2
}
