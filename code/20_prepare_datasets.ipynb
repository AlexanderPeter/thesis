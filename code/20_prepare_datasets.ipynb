{
 "cells": [
  {
   "cell_type": "markdown",
   "metadata": {},
   "source": [
    "# Split datasets\n"
   ]
  },
  {
   "cell_type": "code",
   "execution_count": 2,
   "metadata": {},
   "outputs": [],
   "source": [
    "import json\n",
    "import os\n",
    "import shutil\n",
    "import pandas as pd\n",
    "import requests\n",
    "from sklearn.model_selection import train_test_split"
   ]
  },
  {
   "cell_type": "code",
   "execution_count": 3,
   "metadata": {},
   "outputs": [],
   "source": [
    "# label_map_csv = \"../datasets/cassava-leaf-disease-classification/train.csv\"\n",
    "# label_map_csv = \"../datasets/PAD-UFES-20/metadata.csv\"\n",
    "label_map_csv = \"../datasets/ddi-diverse-dermatology-images/ddi_metadata.csv\"\n",
    "images_root = \"../datasets/ddi-diverse-dermatology-images/\"\n",
    "split_column = \"malignant\"\n",
    "file_column = \"DDI_file\"\n",
    "image_type = \"\"\n",
    "\n",
    "label_map_csv = \"../datasets/ddi-diverse-dermatology-images/ddi_metadata.csv\"\n",
    "images_root = \"../datasets/ddi-diverse-dermatology-images/\"\n",
    "split_column = \"disease\"\n",
    "file_column = \"DDI_file\"\n",
    "image_type = \"\"\n",
    "\n",
    "label_map_csv = \"../datasets/HAM10000/HAM10000_metadata\"\n",
    "images_root = \"../datasets/HAM10000/images/\"\n",
    "split_column = \"dx\"\n",
    "file_column = \"image_id\"\n",
    "image_type = \".jpg\"\n",
    "\n",
    "label_map_csv = \"../datasets/PAD-UFES-20/metadata.csv\"\n",
    "images_root = \"../datasets/PAD-UFES-20/images/\"\n",
    "split_column = \"diagnostic\"\n",
    "file_column = \"img_id\"\n",
    "image_type = \"\"\n",
    "\n",
    "label_map_csv = \"../datasets/fitzpatrick17k/fitzpatrick17k.csv\"\n",
    "images_root = \"../datasets/fitzpatrick17k/images/\"\n",
    "split_column = \"nine_partition_label\"\n",
    "file_column = \"url\"\n",
    "image_type = \"\"\n",
    "# df_full[\"qc\"].unique() -> array([nan, '1 Diagnostic', '5 Potentially', '3 Wrongly labelled', '2 Characteristic', '4 Other'], dtype=object)"
   ]
  },
  {
   "cell_type": "code",
   "execution_count": 4,
   "metadata": {},
   "outputs": [
    {
     "data": {
      "text/plain": [
       "Index(['md5hash', 'fitzpatrick_scale', 'fitzpatrick_centaur', 'label',\n",
       "       'nine_partition_label', 'three_partition_label', 'qc', 'url',\n",
       "       'url_alphanum'],\n",
       "      dtype='object')"
      ]
     },
     "execution_count": 4,
     "metadata": {},
     "output_type": "execute_result"
    }
   ],
   "source": [
    "df_full = pd.read_csv(label_map_csv)\n",
    "df_full.columns"
   ]
  },
  {
   "cell_type": "code",
   "execution_count": 17,
   "metadata": {},
   "outputs": [],
   "source": [
    "for image_url in df_full[\"url\"]:\n",
    "    file_name = None\n",
    "    if str(image_url) == \"nan\":\n",
    "        # print(f\"image_url: {image_url}\")\n",
    "        # print(f\"file_name: {file_name}\")\n",
    "        continue\n",
    "    elif str(image_url).startswith(\"https://www.dermaamin.com\"):\n",
    "        continue\n",
    "    elif str(image_url).startswith(\"http://atlasdermatologico.com.br/img\"):\n",
    "        continue\n",
    "\n",
    "    file_name = os.path.basename(image_url)\n",
    "    file_name = file_name.replace(\"?\", \"\")\n",
    "    file_path = os.path.join(images_root, file_name)\n",
    "\n",
    "    if not os.path.exists(file_path):\n",
    "        response = requests.get(image_url, stream=True, headers={\"User-Agent\": \"XY\"})\n",
    "        if not response.ok:\n",
    "            print(f\"image_url: {image_url}\")\n",
    "            print(response)\n",
    "            continue\n",
    "\n",
    "        with open(file_path, \"wb\") as handle:\n",
    "            for block in response.iter_content(1024):\n",
    "                if not block:\n",
    "                    break\n",
    "                handle.write(block)"
   ]
  },
  {
   "cell_type": "code",
   "execution_count": 19,
   "metadata": {},
   "outputs": [
    {
     "name": "stdout",
     "output_type": "stream",
     "text": [
      "Copying to ../datasets/fitzpatrick17k/images/nine_partition_label\\inflammatory\n",
      "Copying to ../datasets/fitzpatrick17k/images/nine_partition_label\\benign dermal\n",
      "Copying to ../datasets/fitzpatrick17k/images/nine_partition_label\\malignant dermal\n",
      "Copying to ../datasets/fitzpatrick17k/images/nine_partition_label\\malignant melanoma\n",
      "Copying to ../datasets/fitzpatrick17k/images/nine_partition_label\\genodermatoses\n",
      "Copying to ../datasets/fitzpatrick17k/images/nine_partition_label\\malignant epidermal\n",
      "Copying to ../datasets/fitzpatrick17k/images/nine_partition_label\\benign epidermal\n",
      "Copying to ../datasets/fitzpatrick17k/images/nine_partition_label\\benign melanocyte\n",
      "Copying to ../datasets/fitzpatrick17k/images/nine_partition_label\\malignant cutaneous lymphoma\n"
     ]
    }
   ],
   "source": [
    "for value in df_full[split_column].unique():\n",
    "    subdirectory = os.path.join(images_root, split_column, str(value))\n",
    "    print(f\"Copying to {subdirectory}\")\n",
    "    os.makedirs(subdirectory, exist_ok=True)\n",
    "    for image_path in df_full[df_full[split_column] == value][file_column]:\n",
    "        if(str(image_path) == \"nan\"):\n",
    "            continue\n",
    "\n",
    "        image_name = os.path.basename(image_path)\n",
    "        image_name = image_name.replace(\"?\", \"\")\n",
    "        image_name += image_type\n",
    "        source_path = os.path.join(images_root, image_name)\n",
    "\n",
    "        if os.path.exists(source_path):\n",
    "            shutil.copy(source_path, f\"{subdirectory}/\")\n"
   ]
  },
  {
   "cell_type": "code",
   "execution_count": 26,
   "metadata": {},
   "outputs": [],
   "source": [
    "# df_train, df_test = train_test_split(\n",
    "#     df_full, test_size=test_ratio, stratify=df_full[\"label\"], random_state=seed\n",
    "# )\n",
    "# print(df_train[\"label\"].value_counts())\n",
    "# print(df_test[\"label\"].value_counts())\n",
    "\n",
    "# _, df_train_mini = train_test_split(\n",
    "#     df_train, test_size=0.1, stratify=df_train[\"label\"], random_state=seed\n",
    "# )\n",
    "# print(df_train_mini[\"label\"].value_counts())"
   ]
  },
  {
   "cell_type": "code",
   "execution_count": 27,
   "metadata": {},
   "outputs": [],
   "source": [
    "# entries = json.load(\n",
    "#     open(\n",
    "#         \"../datasets/cassava-leaf-disease-classification/label_num_to_disease_map.json\"\n",
    "#     )\n",
    "# )\n",
    "# entries"
   ]
  },
  {
   "cell_type": "code",
   "execution_count": 28,
   "metadata": {},
   "outputs": [],
   "source": [
    "# for key in entries:\n",
    "#     value = entries[key]\n",
    "#     os.makedirs(f\"../datasets/cassava-dataset/train/{value}/\", exist_ok=True)\n",
    "#     os.makedirs(f\"../datasets/cassava-dataset/test/{value}/\", exist_ok=True)\n",
    "#     os.makedirs(f\"../datasets/cassava-dataset/train-mini/{value}/\", exist_ok=True)"
   ]
  },
  {
   "cell_type": "code",
   "execution_count": 29,
   "metadata": {},
   "outputs": [],
   "source": [
    "# for index, row in df_test.iterrows():\n",
    "#     image_id = row[\"image_id\"]\n",
    "#     label_key = row[\"label\"]\n",
    "#     shutil.copy(\n",
    "#         f\"../datasets/cassava-leaf-disease-classification/train_images/{image_id}\",\n",
    "#         f\"../datasets/cassava-dataset/test/{entries[str(label_key)]}/\"\n",
    "#     )"
   ]
  },
  {
   "cell_type": "code",
   "execution_count": 30,
   "metadata": {},
   "outputs": [],
   "source": [
    "# for index, row in df_train.iterrows():\n",
    "#     image_id = row[\"image_id\"]\n",
    "#     label_key = row[\"label\"]\n",
    "#     shutil.copy(\n",
    "#         f\"../datasets/cassava-leaf-disease-classification/train_images/{image_id}\",\n",
    "#         f\"../datasets/cassava-dataset/train/{entries[str(label_key)]}/\"\n",
    "#     )"
   ]
  },
  {
   "cell_type": "code",
   "execution_count": 31,
   "metadata": {},
   "outputs": [],
   "source": [
    "# for index, row in df_train_mini.iterrows():\n",
    "#     image_id = row[\"image_id\"]\n",
    "#     label_key = row[\"label\"]\n",
    "#     shutil.copy(\n",
    "#         f\"../datasets/cassava-leaf-disease-classification/train_images/{image_id}\",\n",
    "#         f\"../datasets/cassava-dataset/train-mini/{entries[str(label_key)]}/\"\n",
    "#     )"
   ]
  }
 ],
 "metadata": {
  "kernelspec": {
   "display_name": "Python 3.9.7 ('.venv': venv)",
   "language": "python",
   "name": "python3"
  },
  "language_info": {
   "codemirror_mode": {
    "name": "ipython",
    "version": 3
   },
   "file_extension": ".py",
   "mimetype": "text/x-python",
   "name": "python",
   "nbconvert_exporter": "python",
   "pygments_lexer": "ipython3",
   "version": "3.8.10"
  },
  "orig_nbformat": 4,
  "vscode": {
   "interpreter": {
    "hash": "412f64844b7b8af74bdbb265a073648c443bf75ef51a1e949163ab9198702ceb"
   }
  }
 },
 "nbformat": 4,
 "nbformat_minor": 2
}
