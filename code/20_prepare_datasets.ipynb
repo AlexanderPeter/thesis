{
 "cells": [
  {
   "cell_type": "markdown",
   "metadata": {},
   "source": [
    "# Split datasets\n"
   ]
  },
  {
   "cell_type": "code",
   "execution_count": 1,
   "metadata": {},
   "outputs": [],
   "source": [
    "import json\n",
    "import os\n",
    "import shutil\n",
    "import pandas as pd\n",
    "from sklearn.model_selection import train_test_split"
   ]
  },
  {
   "cell_type": "code",
   "execution_count": 23,
   "metadata": {},
   "outputs": [],
   "source": [
    "# label_map_csv = \"../datasets/cassava-leaf-disease-classification/train.csv\"\n",
    "# label_map_csv = \"../datasets/PAD-UFES-20/metadata.csv\"\n",
    "label_map_csv = \"../datasets/ddi-diverse-dermatology-images/ddi_metadata.csv\"\n",
    "images_root = \"../datasets/ddi-diverse-dermatology-images/\"\n",
    "split_column = \"malignant\"\n",
    "file_column = \"DDI_file\"\n",
    "image_type = \"\"\n",
    "\n",
    "label_map_csv = \"../datasets/HAM10000/HAM10000_metadata\"\n",
    "images_root = \"../datasets/HAM10000/images/\"\n",
    "split_column = \"dx\"\n",
    "file_column = \"image_id\"\n",
    "image_type = \".jpg\"\n",
    "\n",
    "label_map_csv = \"../datasets/PAD-UFES-20/metadata.csv\"\n",
    "images_root = \"../datasets/PAD-UFES-20/images/\"\n",
    "split_column = \"diagnostic\"\n",
    "file_column = \"img_id\"\n",
    "image_type = \"\"\n",
    "\n",
    "label_map_csv = \"../datasets/ddi-diverse-dermatology-images/ddi_metadata.csv\"\n",
    "images_root = \"../datasets/ddi-diverse-dermatology-images/\"\n",
    "split_column = \"disease\"\n",
    "file_column = \"DDI_file\"\n",
    "image_type = \"\"\n"
   ]
  },
  {
   "cell_type": "code",
   "execution_count": 24,
   "metadata": {},
   "outputs": [
    {
     "data": {
      "text/plain": [
       "Index(['Unnamed: 0', 'DDI_ID', 'DDI_file', 'skin_tone', 'malignant',\n",
       "       'disease'],\n",
       "      dtype='object')"
      ]
     },
     "execution_count": 24,
     "metadata": {},
     "output_type": "execute_result"
    }
   ],
   "source": [
    "df_full = pd.read_csv(label_map_csv)\n",
    "df_full.columns"
   ]
  },
  {
   "cell_type": "code",
   "execution_count": 25,
   "metadata": {},
   "outputs": [
    {
     "name": "stdout",
     "output_type": "stream",
     "text": [
      "Copying to ../datasets/ddi-diverse-dermatology-images/disease\\melanoma-in-situ\n",
      "Copying to ../datasets/ddi-diverse-dermatology-images/disease\\mycosis-fungoides\n",
      "Copying to ../datasets/ddi-diverse-dermatology-images/disease\\squamous-cell-carcinoma-in-situ\n",
      "Copying to ../datasets/ddi-diverse-dermatology-images/disease\\basal-cell-carcinoma\n",
      "Copying to ../datasets/ddi-diverse-dermatology-images/disease\\squamous-cell-carcinoma\n",
      "Copying to ../datasets/ddi-diverse-dermatology-images/disease\\melanoma-acral-lentiginous\n",
      "Copying to ../datasets/ddi-diverse-dermatology-images/disease\\basal-cell-carcinoma-superficial\n",
      "Copying to ../datasets/ddi-diverse-dermatology-images/disease\\squamous-cell-carcinoma-keratoacanthoma\n",
      "Copying to ../datasets/ddi-diverse-dermatology-images/disease\\subcutaneous-t-cell-lymphoma\n",
      "Copying to ../datasets/ddi-diverse-dermatology-images/disease\\melanocytic-nevi\n",
      "Copying to ../datasets/ddi-diverse-dermatology-images/disease\\seborrheic-keratosis-irritated\n",
      "Copying to ../datasets/ddi-diverse-dermatology-images/disease\\focal-acral-hyperkeratosis\n",
      "Copying to ../datasets/ddi-diverse-dermatology-images/disease\\hyperpigmentation\n",
      "Copying to ../datasets/ddi-diverse-dermatology-images/disease\\lipoma\n",
      "Copying to ../datasets/ddi-diverse-dermatology-images/disease\\foreign-body-granuloma\n",
      "Copying to ../datasets/ddi-diverse-dermatology-images/disease\\blue-nevus\n",
      "Copying to ../datasets/ddi-diverse-dermatology-images/disease\\verruca-vulgaris\n",
      "Copying to ../datasets/ddi-diverse-dermatology-images/disease\\acrochordon\n",
      "Copying to ../datasets/ddi-diverse-dermatology-images/disease\\wart\n",
      "Copying to ../datasets/ddi-diverse-dermatology-images/disease\\abrasions-ulcerations-and-physical-injuries\n",
      "Copying to ../datasets/ddi-diverse-dermatology-images/disease\\basal-cell-carcinoma-nodular\n",
      "Copying to ../datasets/ddi-diverse-dermatology-images/disease\\epidermal-cyst\n",
      "Copying to ../datasets/ddi-diverse-dermatology-images/disease\\acquired-digital-fibrokeratoma\n",
      "Copying to ../datasets/ddi-diverse-dermatology-images/disease\\epidermal-nevus\n",
      "Copying to ../datasets/ddi-diverse-dermatology-images/disease\\seborrheic-keratosis\n",
      "Copying to ../datasets/ddi-diverse-dermatology-images/disease\\trichilemmoma\n",
      "Copying to ../datasets/ddi-diverse-dermatology-images/disease\\pyogenic-granuloma\n",
      "Copying to ../datasets/ddi-diverse-dermatology-images/disease\\neurofibroma\n",
      "Copying to ../datasets/ddi-diverse-dermatology-images/disease\\syringocystadenoma-papilliferum\n",
      "Copying to ../datasets/ddi-diverse-dermatology-images/disease\\nevus-lipomatosus-superficialis\n",
      "Copying to ../datasets/ddi-diverse-dermatology-images/disease\\benign-keratosis\n",
      "Copying to ../datasets/ddi-diverse-dermatology-images/disease\\inverted-follicular-keratosis\n",
      "Copying to ../datasets/ddi-diverse-dermatology-images/disease\\onychomycosis\n",
      "Copying to ../datasets/ddi-diverse-dermatology-images/disease\\dermatofibroma\n",
      "Copying to ../datasets/ddi-diverse-dermatology-images/disease\\trichofolliculoma\n",
      "Copying to ../datasets/ddi-diverse-dermatology-images/disease\\lymphocytic-infiltrations\n",
      "Copying to ../datasets/ddi-diverse-dermatology-images/disease\\prurigo-nodularis\n",
      "Copying to ../datasets/ddi-diverse-dermatology-images/disease\\kaposi-sarcoma\n",
      "Copying to ../datasets/ddi-diverse-dermatology-images/disease\\scar\n",
      "Copying to ../datasets/ddi-diverse-dermatology-images/disease\\eccrine-poroma\n",
      "Copying to ../datasets/ddi-diverse-dermatology-images/disease\\angioleiomyoma\n",
      "Copying to ../datasets/ddi-diverse-dermatology-images/disease\\keloid\n",
      "Copying to ../datasets/ddi-diverse-dermatology-images/disease\\hematoma\n",
      "Copying to ../datasets/ddi-diverse-dermatology-images/disease\\metastatic-carcinoma\n",
      "Copying to ../datasets/ddi-diverse-dermatology-images/disease\\melanoma\n",
      "Copying to ../datasets/ddi-diverse-dermatology-images/disease\\angioma\n",
      "Copying to ../datasets/ddi-diverse-dermatology-images/disease\\folliculitis\n",
      "Copying to ../datasets/ddi-diverse-dermatology-images/disease\\atypical-spindle-cell-nevus-of-reed\n",
      "Copying to ../datasets/ddi-diverse-dermatology-images/disease\\xanthogranuloma\n",
      "Copying to ../datasets/ddi-diverse-dermatology-images/disease\\eczema-spongiotic-dermatitis\n",
      "Copying to ../datasets/ddi-diverse-dermatology-images/disease\\arteriovenous-hemangioma\n",
      "Copying to ../datasets/ddi-diverse-dermatology-images/disease\\acne-cystic\n",
      "Copying to ../datasets/ddi-diverse-dermatology-images/disease\\verruciform-xanthoma\n",
      "Copying to ../datasets/ddi-diverse-dermatology-images/disease\\molluscum-contagiosum\n",
      "Copying to ../datasets/ddi-diverse-dermatology-images/disease\\condyloma-accuminatum\n",
      "Copying to ../datasets/ddi-diverse-dermatology-images/disease\\morphea\n",
      "Copying to ../datasets/ddi-diverse-dermatology-images/disease\\neuroma\n",
      "Copying to ../datasets/ddi-diverse-dermatology-images/disease\\dysplastic-nevus\n",
      "Copying to ../datasets/ddi-diverse-dermatology-images/disease\\nodular-melanoma-(nm)\n",
      "Copying to ../datasets/ddi-diverse-dermatology-images/disease\\actinic-keratosis\n",
      "Copying to ../datasets/ddi-diverse-dermatology-images/disease\\pigmented-spindle-cell-nevus-of-reed\n",
      "Copying to ../datasets/ddi-diverse-dermatology-images/disease\\dermatomyositis\n",
      "Copying to ../datasets/ddi-diverse-dermatology-images/disease\\glomangioma\n",
      "Copying to ../datasets/ddi-diverse-dermatology-images/disease\\cellular-neurothekeoma\n",
      "Copying to ../datasets/ddi-diverse-dermatology-images/disease\\fibrous-papule\n",
      "Copying to ../datasets/ddi-diverse-dermatology-images/disease\\graft-vs-host-disease\n",
      "Copying to ../datasets/ddi-diverse-dermatology-images/disease\\lichenoid-keratosis\n",
      "Copying to ../datasets/ddi-diverse-dermatology-images/disease\\reactive-lymphoid-hyperplasia\n",
      "Copying to ../datasets/ddi-diverse-dermatology-images/disease\\coccidioidomycosis\n",
      "Copying to ../datasets/ddi-diverse-dermatology-images/disease\\leukemia-cutis\n",
      "Copying to ../datasets/ddi-diverse-dermatology-images/disease\\sebaceous-carcinoma\n",
      "Copying to ../datasets/ddi-diverse-dermatology-images/disease\\chondroid-syringoma\n",
      "Copying to ../datasets/ddi-diverse-dermatology-images/disease\\tinea-pedis\n",
      "Copying to ../datasets/ddi-diverse-dermatology-images/disease\\solar-lentigo\n",
      "Copying to ../datasets/ddi-diverse-dermatology-images/disease\\clear-cell-acanthoma\n",
      "Copying to ../datasets/ddi-diverse-dermatology-images/disease\\abscess\n",
      "Copying to ../datasets/ddi-diverse-dermatology-images/disease\\blastic-plasmacytoid-dendritic-cell-neoplasm\n",
      "Copying to ../datasets/ddi-diverse-dermatology-images/disease\\acral-melanotic-macule\n"
     ]
    }
   ],
   "source": [
    "for value in df_full[split_column].unique():\n",
    "    subdirectory = os.path.join(images_root,split_column,str(value))\n",
    "    print(f\"Copying to {subdirectory}\")\n",
    "    os.makedirs(subdirectory, exist_ok=True)\n",
    "    for image_name in df_full[df_full[split_column] == value][file_column]:\n",
    "        image_name += image_type\n",
    "        shutil.copy(os.path.join(images_root,image_name), f\"{subdirectory}/\")"
   ]
  },
  {
   "cell_type": "code",
   "execution_count": 26,
   "metadata": {},
   "outputs": [],
   "source": [
    "# df_train, df_test = train_test_split(\n",
    "#     df_full, test_size=test_ratio, stratify=df_full[\"label\"], random_state=seed\n",
    "# )\n",
    "# print(df_train[\"label\"].value_counts())\n",
    "# print(df_test[\"label\"].value_counts())\n",
    "\n",
    "# _, df_train_mini = train_test_split(\n",
    "#     df_train, test_size=0.1, stratify=df_train[\"label\"], random_state=seed\n",
    "# )\n",
    "# print(df_train_mini[\"label\"].value_counts())"
   ]
  },
  {
   "cell_type": "code",
   "execution_count": 27,
   "metadata": {},
   "outputs": [],
   "source": [
    "# entries = json.load(\n",
    "#     open(\n",
    "#         \"../datasets/cassava-leaf-disease-classification/label_num_to_disease_map.json\"\n",
    "#     )\n",
    "# )\n",
    "# entries"
   ]
  },
  {
   "cell_type": "code",
   "execution_count": 28,
   "metadata": {},
   "outputs": [],
   "source": [
    "# for key in entries:\n",
    "#     value = entries[key]\n",
    "#     os.makedirs(f\"../datasets/cassava-dataset/train/{value}/\", exist_ok=True)\n",
    "#     os.makedirs(f\"../datasets/cassava-dataset/test/{value}/\", exist_ok=True)\n",
    "#     os.makedirs(f\"../datasets/cassava-dataset/train-mini/{value}/\", exist_ok=True)"
   ]
  },
  {
   "cell_type": "code",
   "execution_count": 29,
   "metadata": {},
   "outputs": [],
   "source": [
    "# for index, row in df_test.iterrows():\n",
    "#     image_id = row[\"image_id\"]\n",
    "#     label_key = row[\"label\"]\n",
    "#     shutil.copy(\n",
    "#         f\"../datasets/cassava-leaf-disease-classification/train_images/{image_id}\", \n",
    "#         f\"../datasets/cassava-dataset/test/{entries[str(label_key)]}/\"\n",
    "#     )"
   ]
  },
  {
   "cell_type": "code",
   "execution_count": 30,
   "metadata": {},
   "outputs": [],
   "source": [
    "# for index, row in df_train.iterrows():\n",
    "#     image_id = row[\"image_id\"]\n",
    "#     label_key = row[\"label\"]\n",
    "#     shutil.copy(\n",
    "#         f\"../datasets/cassava-leaf-disease-classification/train_images/{image_id}\", \n",
    "#         f\"../datasets/cassava-dataset/train/{entries[str(label_key)]}/\"\n",
    "#     )"
   ]
  },
  {
   "cell_type": "code",
   "execution_count": 31,
   "metadata": {},
   "outputs": [],
   "source": [
    "# for index, row in df_train_mini.iterrows():\n",
    "#     image_id = row[\"image_id\"]\n",
    "#     label_key = row[\"label\"]\n",
    "#     shutil.copy(\n",
    "#         f\"../datasets/cassava-leaf-disease-classification/train_images/{image_id}\", \n",
    "#         f\"../datasets/cassava-dataset/train-mini/{entries[str(label_key)]}/\"\n",
    "#     )"
   ]
  }
 ],
 "metadata": {
  "kernelspec": {
   "display_name": "Python 3.9.7 ('.venv': venv)",
   "language": "python",
   "name": "python3"
  },
  "language_info": {
   "codemirror_mode": {
    "name": "ipython",
    "version": 3
   },
   "file_extension": ".py",
   "mimetype": "text/x-python",
   "name": "python",
   "nbconvert_exporter": "python",
   "pygments_lexer": "ipython3",
   "version": "3.8.10"
  },
  "orig_nbformat": 4,
  "vscode": {
   "interpreter": {
    "hash": "412f64844b7b8af74bdbb265a073648c443bf75ef51a1e949163ab9198702ceb"
   }
  }
 },
 "nbformat": 4,
 "nbformat_minor": 2
}
