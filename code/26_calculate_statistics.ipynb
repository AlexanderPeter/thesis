{
 "cells": [
  {
   "cell_type": "markdown",
   "metadata": {},
   "source": [
    "# Calculate statistics\n"
   ]
  },
  {
   "cell_type": "code",
   "execution_count": 23,
   "metadata": {},
   "outputs": [],
   "source": [
    "import json\n",
    "import pandas as pd\n",
    "import numpy as np\n",
    "from scipy import stats"
   ]
  },
  {
   "cell_type": "code",
   "execution_count": 72,
   "metadata": {},
   "outputs": [],
   "source": [
    "alpha = 0.05\n",
    "configs = [\n",
    "    {\n",
    "        \"metric_file_path\": \"../runs/DDI_malignant-v1-metrics.txt\",  #\n",
    "        \"model_name\": \"lr\",  #\n",
    "        \"feature_identifier\": \"DDI_malignant-ViT_T16-ImageNet\",  #\n",
    "        \"number_of_samples\": \"100\", #\n",
    "    },\n",
    "    {\n",
    "        \"metric_file_path\": \"../runs/DDI_malignant-v1-metrics.txt\",  #\n",
    "        \"model_name\": \"lr\",  #\n",
    "        \"feature_identifier\": \"DDI_malignant-ViT_T16-Derma\",  #\n",
    "        \"number_of_samples\": \"100\", #\n",
    "    }\n",
    "]"
   ]
  },
  {
   "cell_type": "code",
   "execution_count": 73,
   "metadata": {},
   "outputs": [
    {
     "name": "stdout",
     "output_type": "stream",
     "text": [
      "mean1: 5.5, std1: 3.0276503540974917, nobs1: 10, mean2: 6.5, std2: 3.0276503540974917, nobs2: 10\n",
      "t_stat1: -0.7385489458759963, p_value1: 0.4697020728008008\n",
      "t_stat2: -0.7385489458759963, p_value2: 0.4697020728008008\n"
     ]
    }
   ],
   "source": [
    "a = np.array([1,2,3,4,5,6,7,8,9,10])\n",
    "b = np.array([2,3,4,5,6,7,8,9,10,11])\n",
    "# b = np.array([12,13,14,15,16,17,18,19,20,21])\n",
    "\n",
    "mean1 = np.mean(a)\n",
    "std1 = np.std(a, ddof=1)\n",
    "nobs1 = np.size(a)\n",
    "\n",
    "mean2 = np.mean(b)\n",
    "std2 = np.std(b, ddof=1)\n",
    "nobs2 = np.size(b)\n",
    "\n",
    "print(f\"mean1: {mean1}, std1: {std1}, nobs1: {nobs1}, mean2: {mean2}, std2: {std2}, nobs2: {nobs2}\")\n",
    "t_stat1, p_value1 = stats.ttest_ind_from_stats(mean1, std1, nobs1, mean2, std2, nobs2, equal_var=False)\n",
    "\n",
    "print(f\"t_stat1: {t_stat1}, p_value1: {p_value1}\")\n",
    "\n",
    "t_stat2, p_value2 = stats.ttest_ind(a, b, equal_var=False)\n",
    "print(f\"t_stat2: {t_stat2}, p_value2: {p_value2}\")\n",
    "\n",
    "assert t_stat1 == t_stat2\n",
    "assert p_value1 == p_value2\n"
   ]
  },
  {
   "cell_type": "code",
   "execution_count": 74,
   "metadata": {},
   "outputs": [
    {
     "name": "stdout",
     "output_type": "stream",
     "text": [
      "Read 20040 entries loaded\n",
      "model_name: ['lr']\n",
      "feature_identifier: ['../datasets/intermediate-features/DDI_malignant-ViT_T16-ImageNet.csv']\n",
      "number_of_samples: ['100']\n",
      "mean: 0.6065437529305175, std: 0.0594727895711101, nobs: 100\n",
      "Read 20040 entries loaded\n",
      "model_name: ['lr']\n",
      "feature_identifier: ['../datasets/intermediate-features/DDI_malignant-ViT_T16-Derma.csv']\n",
      "number_of_samples: ['100']\n",
      "mean: 0.48802751014885665, std: 0.06765575955127678, nobs: 100\n"
     ]
    }
   ],
   "source": [
    "def number_to_string(value):\n",
    "    if value == value:\n",
    "        return str(int(value))\n",
    "    else:  # NaN\n",
    "        return \"All\"\n",
    "\n",
    "stat_values = []\n",
    "for config in configs:\n",
    "    metric_file = open(config[\"metric_file_path\"], \"r\")\n",
    "    content = metric_file.read().replace(\"\\n\", \"\").replace(\"}{\", \"},{\")\n",
    "    entries = json.loads(\"[\" + content + \"]\")\n",
    "    print(f\"Read {len(entries)} entries loaded\")\n",
    "    df = pd.DataFrame.from_records(entries)\n",
    "    df[\"number_of_samples\"] = df[\"number_of_samples\"].apply(number_to_string)\n",
    "    for filter_name in [\"model_name\", \"feature_identifier\", \"number_of_samples\"]:\n",
    "        df = df[df[filter_name].str.contains(config[filter_name])]\n",
    "        distinct_values = df[filter_name].unique()\n",
    "        print(f\"{filter_name}: {distinct_values}\")\n",
    "        assert 1 == len(distinct_values)\n",
    "\n",
    "    mean = df[\"f1_macro\"].mean()\n",
    "    std = df[\"f1_macro\"].std(ddof=1)\n",
    "    nobs = df[\"f1_macro\"].size\n",
    "    print(f\"mean: {mean}, std: {std}, nobs: {nobs}\")\n",
    "    stat_values.append(mean)\n",
    "    stat_values.append(std)\n",
    "    stat_values.append(nobs)\n"
   ]
  },
  {
   "cell_type": "code",
   "execution_count": 75,
   "metadata": {},
   "outputs": [
    {
     "name": "stdout",
     "output_type": "stream",
     "text": [
      "t_stat: 13.156851012275656, p_value: 1.0507193653781663e-28\n",
      "Reject the null hypothesis. There is a significant difference between the two sets\n"
     ]
    }
   ],
   "source": [
    "t_stat, p_value = stats.ttest_ind_from_stats(*stat_values, equal_var=False)\n",
    "print(f\"t_stat: {t_stat}, p_value: {p_value}\")\n",
    "\n",
    "if alpha < p_value:\n",
    "    print(\"Fail to reject the null hypothesis. There is no significant difference between the two sets\")\n",
    "else:\n",
    "    print(\"Reject the null hypothesis. There is a significant difference between the two sets\")\n"
   ]
  }
 ],
 "metadata": {
  "kernelspec": {
   "display_name": "Python 3.9.7 ('.venv': venv)",
   "language": "python",
   "name": "python3"
  },
  "language_info": {
   "codemirror_mode": {
    "name": "ipython",
    "version": 3
   },
   "file_extension": ".py",
   "mimetype": "text/x-python",
   "name": "python",
   "nbconvert_exporter": "python",
   "pygments_lexer": "ipython3",
   "version": "3.8.10"
  },
  "orig_nbformat": 4,
  "vscode": {
   "interpreter": {
    "hash": "412f64844b7b8af74bdbb265a073648c443bf75ef51a1e949163ab9198702ceb"
   }
  }
 },
 "nbformat": 4,
 "nbformat_minor": 2
}
