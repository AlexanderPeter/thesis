{
 "cells": [
  {
   "cell_type": "markdown",
   "metadata": {},
   "source": [
    "# Split datasets\n"
   ]
  },
  {
   "cell_type": "code",
   "execution_count": 2,
   "metadata": {},
   "outputs": [],
   "source": [
    "import json\n",
    "import os\n",
    "import shutil\n",
    "import pandas as pd\n",
    "from sklearn.model_selection import train_test_split"
   ]
  },
  {
   "cell_type": "code",
   "execution_count": 3,
   "metadata": {},
   "outputs": [],
   "source": [
    "label_map_csv = \"../datasets/cassava-leaf-disease-classification/train.csv\"\n",
    "seed = 19\n",
    "batch_size = 16\n",
    "test_ratio = 0.2"
   ]
  },
  {
   "cell_type": "code",
   "execution_count": 4,
   "metadata": {},
   "outputs": [],
   "source": [
    "df_full = pd.read_csv(label_map_csv)"
   ]
  },
  {
   "cell_type": "code",
   "execution_count": 6,
   "metadata": {},
   "outputs": [
    {
     "name": "stdout",
     "output_type": "stream",
     "text": [
      "label\n",
      "3    10526\n",
      "4     2061\n",
      "2     1909\n",
      "1     1751\n",
      "0      870\n",
      "Name: count, dtype: int64\n",
      "label\n",
      "3    2632\n",
      "4     516\n",
      "2     477\n",
      "1     438\n",
      "0     217\n",
      "Name: count, dtype: int64\n",
      "label\n",
      "3    1053\n",
      "4     206\n",
      "2     191\n",
      "1     175\n",
      "0      87\n",
      "Name: count, dtype: int64\n"
     ]
    }
   ],
   "source": [
    "df_train, df_test = train_test_split(\n",
    "    df_full, test_size=test_ratio, stratify=df_full[\"label\"], random_state=seed\n",
    ")\n",
    "print(df_train[\"label\"].value_counts())\n",
    "print(df_test[\"label\"].value_counts())\n",
    "\n",
    "_, df_train_mini = train_test_split(\n",
    "    df_train, test_size=0.1, stratify=df_train[\"label\"], random_state=seed\n",
    ")\n",
    "print(df_train_mini[\"label\"].value_counts())"
   ]
  },
  {
   "cell_type": "code",
   "execution_count": 8,
   "metadata": {},
   "outputs": [
    {
     "data": {
      "text/plain": [
       "{'0': 'Cassava Bacterial Blight (CBB)',\n",
       " '1': 'Cassava Brown Streak Disease (CBSD)',\n",
       " '2': 'Cassava Green Mottle (CGM)',\n",
       " '3': 'Cassava Mosaic Disease (CMD)',\n",
       " '4': 'Healthy'}"
      ]
     },
     "execution_count": 8,
     "metadata": {},
     "output_type": "execute_result"
    }
   ],
   "source": [
    "entries = json.load(\n",
    "    open(\n",
    "        \"../datasets/cassava-leaf-disease-classification/label_num_to_disease_map.json\"\n",
    "    )\n",
    ")\n",
    "entries"
   ]
  },
  {
   "cell_type": "code",
   "execution_count": 9,
   "metadata": {},
   "outputs": [],
   "source": [
    "for key in entries:\n",
    "    value = entries[key]\n",
    "    os.makedirs(f\"../datasets/cassava-dataset/train/{value}/\", exist_ok=True)\n",
    "    os.makedirs(f\"../datasets/cassava-dataset/test/{value}/\", exist_ok=True)\n",
    "    os.makedirs(f\"../datasets/cassava-dataset/train-mini/{value}/\", exist_ok=True)"
   ]
  },
  {
   "cell_type": "code",
   "execution_count": 28,
   "metadata": {},
   "outputs": [],
   "source": [
    "for index, row in df_test.iterrows():\n",
    "    image_id = row[\"image_id\"]\n",
    "    label_key = row[\"label\"]\n",
    "    shutil.copy(\n",
    "        f\"../datasets/cassava-leaf-disease-classification/train_images/{image_id}\", \n",
    "        f\"../datasets/cassava-dataset/test/{entries[str(label_key)]}/\"\n",
    "    )"
   ]
  },
  {
   "cell_type": "code",
   "execution_count": 29,
   "metadata": {},
   "outputs": [],
   "source": [
    "for index, row in df_train.iterrows():\n",
    "    image_id = row[\"image_id\"]\n",
    "    label_key = row[\"label\"]\n",
    "    shutil.copy(\n",
    "        f\"../datasets/cassava-leaf-disease-classification/train_images/{image_id}\", \n",
    "        f\"../datasets/cassava-dataset/train/{entries[str(label_key)]}/\"\n",
    "    )"
   ]
  },
  {
   "cell_type": "code",
   "execution_count": 10,
   "metadata": {},
   "outputs": [],
   "source": [
    "for index, row in df_train_mini.iterrows():\n",
    "    image_id = row[\"image_id\"]\n",
    "    label_key = row[\"label\"]\n",
    "    shutil.copy(\n",
    "        f\"../datasets/cassava-leaf-disease-classification/train_images/{image_id}\", \n",
    "        f\"../datasets/cassava-dataset/train-mini/{entries[str(label_key)]}/\"\n",
    "    )"
   ]
  }
 ],
 "metadata": {
  "kernelspec": {
   "display_name": "Python 3.9.7 ('.venv': venv)",
   "language": "python",
   "name": "python3"
  },
  "language_info": {
   "codemirror_mode": {
    "name": "ipython",
    "version": 3
   },
   "file_extension": ".py",
   "mimetype": "text/x-python",
   "name": "python",
   "nbconvert_exporter": "python",
   "pygments_lexer": "ipython3",
   "version": "3.8.10"
  },
  "orig_nbformat": 4,
  "vscode": {
   "interpreter": {
    "hash": "412f64844b7b8af74bdbb265a073648c443bf75ef51a1e949163ab9198702ceb"
   }
  }
 },
 "nbformat": 4,
 "nbformat_minor": 2
}
