{
 "cells": [
  {
   "cell_type": "code",
   "execution_count": 10,
   "metadata": {},
   "outputs": [],
   "source": [
    "import os\n",
    "import sys\n",
    "import torch\n",
    "import torch.nn as nn\n",
    "from torchvision.models import resnet50\n",
    "\n",
    "sys.path.append(\"python\")\n",
    "from utils import print_parameters"
   ]
  },
  {
   "cell_type": "code",
   "execution_count": 12,
   "metadata": {},
   "outputs": [],
   "source": [
    "seed = 19\n",
    "# checkpoint_path = \"../model_weights/PDDD/ResNet50-Plant-model-80.pth\"\n",
    "checkpoint_path = \"../model_weights/PDDD/swin_tiny_patch4_window7_224-model-97.pth\"\n",
    "num_classes = 120\n",
    "\n",
    "# weights_path = \"../model_weights/random/ResNet50-Random.pth\"\n",
    "# weights = None\n",
    "\n",
    "# weights_path = \"../model_weights/imagenet/ResNet50-ImageNet.pth\"\n",
    "# weights = weights = ResNet50_Weights.IMAGENET1K_V2\n",
    "\n",
    "# weights_path = \"../model_weights/random/Swin_T-Random.pth\"\n",
    "weights_path = \"../model_weights/imagenet/Swin_T-ImageNet.pth\""
   ]
  },
  {
   "cell_type": "code",
   "execution_count": 6,
   "metadata": {},
   "outputs": [
    {
     "data": {
      "text/plain": [
       "<torch._C.Generator at 0x23453d1cab0>"
      ]
     },
     "execution_count": 6,
     "metadata": {},
     "output_type": "execute_result"
    }
   ],
   "source": [
    "torch.manual_seed(seed)"
   ]
  },
  {
   "cell_type": "code",
   "execution_count": 13,
   "metadata": {},
   "outputs": [
    {
     "name": "stderr",
     "output_type": "stream",
     "text": [
      "Using cache found in C:\\Users\\peter/.cache\\torch\\hub\\SharanSMenon_swin-transformer-hub_main\n",
      "Downloading: \"https://github.com/SwinTransformer/storage/releases/download/v1.0.0/swin_tiny_patch4_window7_224.pth\" to C:\\Users\\peter/.cache\\torch\\hub\\checkpoints\\swin_tiny_patch4_window7_224.pth\n",
      "100%|██████████| 109M/109M [00:01<00:00, 62.1MB/s] \n"
     ]
    },
    {
     "name": "stdout",
     "output_type": "stream",
     "text": [
      "Output size: 1000\n",
      "Total parameters: 28288354\n",
      "Required parameters: 28288354 \n"
     ]
    },
    {
     "data": {
      "text/plain": [
       "(28288354, 28288354)"
      ]
     },
     "execution_count": 13,
     "metadata": {},
     "output_type": "execute_result"
    }
   ],
   "source": [
    "# model = resnet50(weights=None)\n",
    "\n",
    "# model = swin_t(weights=None)\n",
    "# model = SwinModel.from_pretrained(\"microsoft/swin-tiny-patch4-window7-224\")\n",
    "model = torch.hub.load(\"SharanSMenon/swin-transformer-hub:main\", \"swin_tiny_patch4_window7_224\", pretrained=True)\n",
    "print(f\"Output size: {model.head.out_features}\")\n",
    "print_parameters(model)"
   ]
  },
  {
   "cell_type": "code",
   "execution_count": 5,
   "metadata": {},
   "outputs": [
    {
     "data": {
      "text/plain": [
       "_IncompatibleKeys(missing_keys=['layers.0.blocks.1.attn_mask', 'layers.1.blocks.1.attn_mask', 'layers.2.blocks.1.attn_mask', 'layers.2.blocks.3.attn_mask', 'layers.2.blocks.5.attn_mask'], unexpected_keys=[])"
      ]
     },
     "execution_count": 5,
     "metadata": {},
     "output_type": "execute_result"
    }
   ],
   "source": [
    "# model.fc = nn.Linear(model.fc.in_features, num_classes)\n",
    "model.head = nn.Linear(model.head.in_features, num_classes)\n",
    "print_parameters(model)\n",
    "checkpoint = torch.load(checkpoint_path, map_location=torch.device(\"cpu\"))\n",
    "model.load_state_dict(checkpoint, strict=False)"
   ]
  },
  {
   "cell_type": "code",
   "execution_count": 14,
   "metadata": {},
   "outputs": [
    {
     "name": "stdout",
     "output_type": "stream",
     "text": [
      "Total parameters: 28288354\n",
      "Required parameters: 28288354 \n",
      "File ../model_weights/imagenet/Swin_T-ImageNet.pth saved\n"
     ]
    }
   ],
   "source": [
    "print_parameters(model) # 25557032 / 28288354\n",
    "if os.path.exists(weights_path):\n",
    "    print(f\"File {weights_path} already exists\")\n",
    "else:\n",
    "    torch.save(model.state_dict(), weights_path)\n",
    "    print(f\"File {weights_path} saved\")"
   ]
  }
 ],
 "metadata": {
  "kernelspec": {
   "display_name": "Python 3.9.7 ('.venv': venv)",
   "language": "python",
   "name": "python3"
  },
  "language_info": {
   "codemirror_mode": {
    "name": "ipython",
    "version": 3
   },
   "file_extension": ".py",
   "mimetype": "text/x-python",
   "name": "python",
   "nbconvert_exporter": "python",
   "pygments_lexer": "ipython3",
   "version": "3.8.10"
  },
  "orig_nbformat": 4,
  "vscode": {
   "interpreter": {
    "hash": "412f64844b7b8af74bdbb265a073648c443bf75ef51a1e949163ab9198702ceb"
   }
  }
 },
 "nbformat": 4,
 "nbformat_minor": 2
}
