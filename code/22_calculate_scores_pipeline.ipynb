{
 "cells": [
  {
   "cell_type": "code",
   "execution_count": 22,
   "metadata": {},
   "outputs": [],
   "source": [
    "import json\n",
    "import os\n",
    "import pandas as pd\n",
    "from sklearn.linear_model import LogisticRegression\n",
    "from sklearn.metrics import accuracy_score, balanced_accuracy_score, f1_score\n",
    "from sklearn.neighbors import KNeighborsClassifier\n",
    "from sklearn.preprocessing import StandardScaler"
   ]
  },
  {
   "cell_type": "code",
   "execution_count": 23,
   "metadata": {},
   "outputs": [],
   "source": [
    "csv_root_path = \"../datasets/intermediate-features/\"\n",
    "sample_selection_config = {  # number of samples and seeds\n",
    "    1: [0, 1, 2, 3, 4, 5, 6, 7, 8, 9],\n",
    "    3: [0, 1, 2, 3, 4, 5, 6, 7, 8, 9],\n",
    "    10: [0, 1, 2, 3, 4, 5, 6, 7, 8, 9],\n",
    "    30: [0, 1, 2, 3, 4, 5, 6, 7, 8, 9],\n",
    "    # 100: [0, 1, 2, 3, 4, 5, 6, 7, 8, 9],\n",
    "    None: [None],\n",
    "}\n",
    "best_k_f1_score_average = \"macro\" #\"weighted\""
   ]
  },
  {
   "cell_type": "code",
   "execution_count": 24,
   "metadata": {},
   "outputs": [],
   "source": [
    "def calculate_scores(\n",
    "    targets,\n",
    "    predictions,\n",
    "    model_name=None,\n",
    "    feature_identifier=None,\n",
    "    number_of_samples=None,\n",
    "    selection_seed=None,\n",
    "):\n",
    "    accuracy = accuracy_score(targets, predictions)\n",
    "    balanced_accuracy = balanced_accuracy_score(targets, predictions)\n",
    "    f1_weighted = f1_score(targets, predictions, average=\"weighted\")\n",
    "    f1_micro = f1_score(targets, predictions, average=\"micro\")\n",
    "    f1_macro = f1_score(targets, predictions, average=\"macro\")\n",
    "    if model_name is None or feature_identifier is None:\n",
    "        print(f\"Accuracy: {accuracy}\")\n",
    "        print(f\"Balanced accuracy: {balanced_accuracy}\")\n",
    "        print(f\"F1-weighted: {f1_weighted}\")\n",
    "        print(f\"F1-micro: {f1_micro}\")\n",
    "        print(f\"F1-macro: {f1_macro}\")\n",
    "    else:\n",
    "        # print(f\"model_name={model_name}, feature_identifier={feature_identifier}\")\n",
    "        print(f\"model_name={model_name}\")\n",
    "        with open(\"../runs/metrics.txt\", \"a\") as detaillog:\n",
    "            line = {}\n",
    "            line[\"model_name\"] = model_name\n",
    "            line[\"feature_identifier\"] = feature_identifier\n",
    "            line[\"number_of_samples\"] = number_of_samples\n",
    "            line[\"selection_seed\"] = selection_seed\n",
    "            line[\"accuracy\"] = accuracy\n",
    "            line[\"balanced_accuracy\"] = balanced_accuracy\n",
    "            line[\"f1_weighted\"] = f1_weighted\n",
    "            line[\"f1_micro\"] = f1_micro\n",
    "            line[\"f1_macro\"] = f1_macro\n",
    "            json.dump(line, detaillog, indent=2)\n",
    "\n",
    "\n",
    "def calculate_scores_of_file(csv_path):\n",
    "    print(f\"loading: {csv_path}\")\n",
    "\n",
    "    df_full = pd.read_csv(csv_path, index_col=0)\n",
    "    for number_of_samples in sample_selection_config:\n",
    "        selection_seeds = sample_selection_config[number_of_samples]\n",
    "        for selection_seed in selection_seeds:\n",
    "            calculate_scores_of_dataframe(df_full, number_of_samples, selection_seed)\n",
    "\n",
    "\n",
    "def calculate_scores_of_dataframe(df_full, number_of_samples, selection_seed):\n",
    "    print(f\"number_of_samples={number_of_samples}, selection_seed={selection_seed}\")\n",
    "    df_train = df_full[df_full[\"set\"] == \"train\"]\n",
    "    df_valid = df_full[df_full[\"set\"] == \"valid\"]\n",
    "    df_test = df_full[df_full[\"set\"] == \"test\"]\n",
    "    if number_of_samples is not None:\n",
    "        target_group = df_train.groupby(\"target\")\n",
    "        df_train = target_group.sample(\n",
    "            number_of_samples, random_state=selection_seed, replace=True\n",
    "        )\n",
    "        # NOTE: First option still causes problems with plantdoc-dataset\n",
    "        # 1) min(len(target_group), number_of_samples)\n",
    "        # 2) replace=True\n",
    "\n",
    "    df_train_features = df_train.loc[:, ~df_train.columns.isin([\"target\", \"set\"])]\n",
    "    df_valid_features = df_valid.loc[:, ~df_valid.columns.isin([\"target\", \"set\"])]\n",
    "    df_test_features = df_test.loc[:, ~df_test.columns.isin([\"target\", \"set\"])]\n",
    "\n",
    "    scaler = StandardScaler()\n",
    "    train_features = scaler.fit_transform(df_train_features)\n",
    "    valid_features = scaler.transform(df_valid_features)\n",
    "    test_features = scaler.transform(df_test_features)\n",
    "\n",
    "    train_targets = df_train[\"target\"].to_numpy()\n",
    "    valid_targets = df_valid[\"target\"].to_numpy()\n",
    "    test_targets = df_test[\"target\"].to_numpy()\n",
    "\n",
    "    model_lr = LogisticRegression(max_iter=10000)\n",
    "    model_lr.fit(train_features, train_targets)\n",
    "\n",
    "    valid_pred = model_lr.predict(valid_features)\n",
    "    test_pred = model_lr.predict(test_features)\n",
    "    calculate_scores(\n",
    "        test_targets, test_pred, \"lr\", csv_path, number_of_samples, selection_seed\n",
    "    )\n",
    "\n",
    "    scores = {}\n",
    "    max_neighbors = 10\n",
    "    if number_of_samples is not None:\n",
    "        max_neighbors = min(max_neighbors, 1 + number_of_samples)\n",
    "\n",
    "    for k in range(1, max_neighbors):\n",
    "        model_knn = KNeighborsClassifier(n_neighbors=k)\n",
    "        model_knn.fit(train_features, train_targets)\n",
    "        valid_pred = model_knn.predict(valid_features)\n",
    "        score = f1_score(valid_targets, valid_pred, average=best_k_f1_score_average)\n",
    "        scores[k] = score\n",
    "    # print(f\"Scores {scores}\")\n",
    "\n",
    "    best_k = max(scores, key=scores.get)\n",
    "    model_knn = KNeighborsClassifier(n_neighbors=best_k)\n",
    "    model_knn.fit(train_features, train_targets)\n",
    "    test_pred = model_knn.predict(test_features)\n",
    "    calculate_scores(\n",
    "        test_targets, test_pred, \"knn\", csv_path, number_of_samples, selection_seed\n",
    "    )"
   ]
  },
  {
   "cell_type": "code",
   "execution_count": 25,
   "metadata": {},
   "outputs": [],
   "source": [
    "csv_paths = os.listdir(path=csv_root_path)\n",
    "df_comparison = pd.DataFrame()\n",
    "\n",
    "for i, path in enumerate(csv_paths):\n",
    "    df_full = pd.read_csv(os.path.join(csv_root_path, path), index_col=0)\n",
    "    df_comparison[f\"target_{i}\"] = df_full[\"target\"]\n",
    "    df_comparison[f\"set_{i}\"] = df_full[\"set\"]"
   ]
  },
  {
   "cell_type": "code",
   "execution_count": 26,
   "metadata": {},
   "outputs": [
    {
     "data": {
      "text/plain": [
       "target_0     False\n",
       "target_1      True\n",
       "target_2      True\n",
       "target_3      True\n",
       "target_4      True\n",
       "target_5      True\n",
       "target_6      True\n",
       "target_7      True\n",
       "target_8      True\n",
       "target_9      True\n",
       "target_10     True\n",
       "target_11     True\n",
       "target_12     True\n",
       "target_13     True\n",
       "target_14     True\n",
       "target_15     True\n",
       "target_16    False\n",
       "target_17     True\n",
       "target_18     True\n",
       "target_19     True\n",
       "target_20     True\n",
       "target_21     True\n",
       "target_22     True\n",
       "target_23     True\n",
       "target_24     True\n",
       "target_25     True\n",
       "target_26     True\n",
       "target_27     True\n",
       "target_28     True\n",
       "target_29     True\n",
       "target_30     True\n",
       "target_31     True\n",
       "dtype: bool"
      ]
     },
     "execution_count": 26,
     "metadata": {},
     "output_type": "execute_result"
    }
   ],
   "source": [
    "df_comparison[df_comparison.columns[0::2]].T.duplicated()  # verify if split is the same\n",
    "# first row must be False, all other True"
   ]
  },
  {
   "cell_type": "code",
   "execution_count": 27,
   "metadata": {},
   "outputs": [
    {
     "data": {
      "text/plain": [
       "set_0     False\n",
       "set_1      True\n",
       "set_2      True\n",
       "set_3      True\n",
       "set_4      True\n",
       "set_5      True\n",
       "set_6      True\n",
       "set_7      True\n",
       "set_8      True\n",
       "set_9      True\n",
       "set_10     True\n",
       "set_11     True\n",
       "set_12     True\n",
       "set_13     True\n",
       "set_14     True\n",
       "set_15     True\n",
       "set_16    False\n",
       "set_17     True\n",
       "set_18     True\n",
       "set_19     True\n",
       "set_20     True\n",
       "set_21     True\n",
       "set_22     True\n",
       "set_23     True\n",
       "set_24     True\n",
       "set_25     True\n",
       "set_26     True\n",
       "set_27     True\n",
       "set_28     True\n",
       "set_29     True\n",
       "set_30     True\n",
       "set_31     True\n",
       "dtype: bool"
      ]
     },
     "execution_count": 27,
     "metadata": {},
     "output_type": "execute_result"
    }
   ],
   "source": [
    "df_comparison[df_comparison.columns[1::2]].T.duplicated()  # verify if split is the same\n",
    "# first row must be False, all other True"
   ]
  },
  {
   "cell_type": "code",
   "execution_count": 28,
   "metadata": {},
   "outputs": [
    {
     "name": "stdout",
     "output_type": "stream",
     "text": [
      "loading: ../datasets/intermediate-features/Cassava_Mini-ResNet50-ImageNet_SSL.csv\n",
      "number_of_samples=1, selection_seed=0\n",
      "model_name=lr\n",
      "model_name=knn\n",
      "number_of_samples=1, selection_seed=1\n",
      "model_name=lr\n",
      "model_name=knn\n",
      "number_of_samples=1, selection_seed=2\n",
      "model_name=lr\n",
      "model_name=knn\n",
      "number_of_samples=1, selection_seed=3\n",
      "model_name=lr\n",
      "model_name=knn\n",
      "number_of_samples=1, selection_seed=4\n",
      "model_name=lr\n",
      "model_name=knn\n",
      "number_of_samples=1, selection_seed=5\n",
      "model_name=lr\n",
      "model_name=knn\n",
      "number_of_samples=1, selection_seed=6\n",
      "model_name=lr\n",
      "model_name=knn\n",
      "number_of_samples=1, selection_seed=7\n",
      "model_name=lr\n",
      "model_name=knn\n",
      "number_of_samples=1, selection_seed=8\n",
      "model_name=lr\n",
      "model_name=knn\n",
      "number_of_samples=1, selection_seed=9\n",
      "model_name=lr\n",
      "model_name=knn\n",
      "number_of_samples=3, selection_seed=0\n",
      "model_name=lr\n",
      "model_name=knn\n",
      "number_of_samples=3, selection_seed=1\n",
      "model_name=lr\n",
      "model_name=knn\n",
      "number_of_samples=3, selection_seed=2\n",
      "model_name=lr\n",
      "model_name=knn\n",
      "number_of_samples=3, selection_seed=3\n",
      "model_name=lr\n",
      "model_name=knn\n",
      "number_of_samples=3, selection_seed=4\n",
      "model_name=lr\n",
      "model_name=knn\n",
      "number_of_samples=3, selection_seed=5\n",
      "model_name=lr\n",
      "model_name=knn\n",
      "number_of_samples=3, selection_seed=6\n",
      "model_name=lr\n",
      "model_name=knn\n",
      "number_of_samples=3, selection_seed=7\n",
      "model_name=lr\n",
      "model_name=knn\n",
      "number_of_samples=3, selection_seed=8\n",
      "model_name=lr\n",
      "model_name=knn\n",
      "number_of_samples=3, selection_seed=9\n",
      "model_name=lr\n",
      "model_name=knn\n",
      "number_of_samples=10, selection_seed=0\n",
      "model_name=lr\n",
      "model_name=knn\n",
      "number_of_samples=10, selection_seed=1\n",
      "model_name=lr\n",
      "model_name=knn\n",
      "number_of_samples=10, selection_seed=2\n",
      "model_name=lr\n",
      "model_name=knn\n",
      "number_of_samples=10, selection_seed=3\n",
      "model_name=lr\n",
      "model_name=knn\n",
      "number_of_samples=10, selection_seed=4\n",
      "model_name=lr\n",
      "model_name=knn\n",
      "number_of_samples=10, selection_seed=5\n",
      "model_name=lr\n",
      "model_name=knn\n",
      "number_of_samples=10, selection_seed=6\n",
      "model_name=lr\n",
      "model_name=knn\n",
      "number_of_samples=10, selection_seed=7\n",
      "model_name=lr\n",
      "model_name=knn\n",
      "number_of_samples=10, selection_seed=8\n",
      "model_name=lr\n",
      "model_name=knn\n",
      "number_of_samples=10, selection_seed=9\n",
      "model_name=lr\n",
      "model_name=knn\n",
      "number_of_samples=30, selection_seed=0\n",
      "model_name=lr\n",
      "model_name=knn\n",
      "number_of_samples=30, selection_seed=1\n",
      "model_name=lr\n",
      "model_name=knn\n",
      "number_of_samples=30, selection_seed=2\n",
      "model_name=lr\n",
      "model_name=knn\n",
      "number_of_samples=30, selection_seed=3\n",
      "model_name=lr\n",
      "model_name=knn\n",
      "number_of_samples=30, selection_seed=4\n",
      "model_name=lr\n",
      "model_name=knn\n",
      "number_of_samples=30, selection_seed=5\n",
      "model_name=lr\n",
      "model_name=knn\n",
      "number_of_samples=30, selection_seed=6\n",
      "model_name=lr\n",
      "model_name=knn\n",
      "number_of_samples=30, selection_seed=7\n",
      "model_name=lr\n",
      "model_name=knn\n",
      "number_of_samples=30, selection_seed=8\n",
      "model_name=lr\n",
      "model_name=knn\n",
      "number_of_samples=30, selection_seed=9\n",
      "model_name=lr\n",
      "model_name=knn\n",
      "number_of_samples=None, selection_seed=None\n",
      "model_name=lr\n",
      "model_name=knn\n",
      "loading: ../datasets/intermediate-features/Cassava_Mini-ResNet50-ImageNet_v1.csv\n",
      "number_of_samples=1, selection_seed=0\n",
      "model_name=lr\n",
      "model_name=knn\n",
      "number_of_samples=1, selection_seed=1\n",
      "model_name=lr\n",
      "model_name=knn\n",
      "number_of_samples=1, selection_seed=2\n",
      "model_name=lr\n",
      "model_name=knn\n",
      "number_of_samples=1, selection_seed=3\n",
      "model_name=lr\n",
      "model_name=knn\n",
      "number_of_samples=1, selection_seed=4\n",
      "model_name=lr\n",
      "model_name=knn\n",
      "number_of_samples=1, selection_seed=5\n",
      "model_name=lr\n",
      "model_name=knn\n",
      "number_of_samples=1, selection_seed=6\n",
      "model_name=lr\n",
      "model_name=knn\n",
      "number_of_samples=1, selection_seed=7\n",
      "model_name=lr\n",
      "model_name=knn\n",
      "number_of_samples=1, selection_seed=8\n",
      "model_name=lr\n",
      "model_name=knn\n",
      "number_of_samples=1, selection_seed=9\n",
      "model_name=lr\n",
      "model_name=knn\n",
      "number_of_samples=3, selection_seed=0\n",
      "model_name=lr\n",
      "model_name=knn\n",
      "number_of_samples=3, selection_seed=1\n",
      "model_name=lr\n",
      "model_name=knn\n",
      "number_of_samples=3, selection_seed=2\n",
      "model_name=lr\n",
      "model_name=knn\n",
      "number_of_samples=3, selection_seed=3\n",
      "model_name=lr\n",
      "model_name=knn\n",
      "number_of_samples=3, selection_seed=4\n",
      "model_name=lr\n",
      "model_name=knn\n",
      "number_of_samples=3, selection_seed=5\n",
      "model_name=lr\n",
      "model_name=knn\n",
      "number_of_samples=3, selection_seed=6\n",
      "model_name=lr\n",
      "model_name=knn\n",
      "number_of_samples=3, selection_seed=7\n",
      "model_name=lr\n",
      "model_name=knn\n",
      "number_of_samples=3, selection_seed=8\n",
      "model_name=lr\n",
      "model_name=knn\n",
      "number_of_samples=3, selection_seed=9\n",
      "model_name=lr\n",
      "model_name=knn\n",
      "number_of_samples=10, selection_seed=0\n",
      "model_name=lr\n",
      "model_name=knn\n",
      "number_of_samples=10, selection_seed=1\n",
      "model_name=lr\n",
      "model_name=knn\n",
      "number_of_samples=10, selection_seed=2\n",
      "model_name=lr\n",
      "model_name=knn\n",
      "number_of_samples=10, selection_seed=3\n",
      "model_name=lr\n",
      "model_name=knn\n",
      "number_of_samples=10, selection_seed=4\n",
      "model_name=lr\n",
      "model_name=knn\n",
      "number_of_samples=10, selection_seed=5\n",
      "model_name=lr\n",
      "model_name=knn\n",
      "number_of_samples=10, selection_seed=6\n",
      "model_name=lr\n",
      "model_name=knn\n",
      "number_of_samples=10, selection_seed=7\n",
      "model_name=lr\n",
      "model_name=knn\n",
      "number_of_samples=10, selection_seed=8\n",
      "model_name=lr\n",
      "model_name=knn\n",
      "number_of_samples=10, selection_seed=9\n",
      "model_name=lr\n",
      "model_name=knn\n",
      "number_of_samples=30, selection_seed=0\n",
      "model_name=lr\n",
      "model_name=knn\n",
      "number_of_samples=30, selection_seed=1\n",
      "model_name=lr\n",
      "model_name=knn\n",
      "number_of_samples=30, selection_seed=2\n",
      "model_name=lr\n",
      "model_name=knn\n",
      "number_of_samples=30, selection_seed=3\n",
      "model_name=lr\n",
      "model_name=knn\n",
      "number_of_samples=30, selection_seed=4\n",
      "model_name=lr\n",
      "model_name=knn\n",
      "number_of_samples=30, selection_seed=5\n",
      "model_name=lr\n",
      "model_name=knn\n",
      "number_of_samples=30, selection_seed=6\n",
      "model_name=lr\n",
      "model_name=knn\n",
      "number_of_samples=30, selection_seed=7\n",
      "model_name=lr\n",
      "model_name=knn\n",
      "number_of_samples=30, selection_seed=8\n",
      "model_name=lr\n",
      "model_name=knn\n",
      "number_of_samples=30, selection_seed=9\n",
      "model_name=lr\n",
      "model_name=knn\n",
      "number_of_samples=None, selection_seed=None\n",
      "model_name=lr\n",
      "model_name=knn\n",
      "loading: ../datasets/intermediate-features/Cassava_Mini-ResNet50-ImageNet_v2.csv\n",
      "number_of_samples=1, selection_seed=0\n",
      "model_name=lr\n",
      "model_name=knn\n",
      "number_of_samples=1, selection_seed=1\n",
      "model_name=lr\n",
      "model_name=knn\n",
      "number_of_samples=1, selection_seed=2\n",
      "model_name=lr\n",
      "model_name=knn\n",
      "number_of_samples=1, selection_seed=3\n",
      "model_name=lr\n",
      "model_name=knn\n",
      "number_of_samples=1, selection_seed=4\n",
      "model_name=lr\n",
      "model_name=knn\n",
      "number_of_samples=1, selection_seed=5\n",
      "model_name=lr\n",
      "model_name=knn\n",
      "number_of_samples=1, selection_seed=6\n",
      "model_name=lr\n",
      "model_name=knn\n",
      "number_of_samples=1, selection_seed=7\n",
      "model_name=lr\n",
      "model_name=knn\n",
      "number_of_samples=1, selection_seed=8\n",
      "model_name=lr\n",
      "model_name=knn\n",
      "number_of_samples=1, selection_seed=9\n",
      "model_name=lr\n",
      "model_name=knn\n",
      "number_of_samples=3, selection_seed=0\n",
      "model_name=lr\n",
      "model_name=knn\n",
      "number_of_samples=3, selection_seed=1\n",
      "model_name=lr\n",
      "model_name=knn\n",
      "number_of_samples=3, selection_seed=2\n",
      "model_name=lr\n",
      "model_name=knn\n",
      "number_of_samples=3, selection_seed=3\n",
      "model_name=lr\n",
      "model_name=knn\n",
      "number_of_samples=3, selection_seed=4\n",
      "model_name=lr\n",
      "model_name=knn\n",
      "number_of_samples=3, selection_seed=5\n",
      "model_name=lr\n",
      "model_name=knn\n",
      "number_of_samples=3, selection_seed=6\n",
      "model_name=lr\n",
      "model_name=knn\n",
      "number_of_samples=3, selection_seed=7\n",
      "model_name=lr\n",
      "model_name=knn\n",
      "number_of_samples=3, selection_seed=8\n",
      "model_name=lr\n",
      "model_name=knn\n",
      "number_of_samples=3, selection_seed=9\n",
      "model_name=lr\n",
      "model_name=knn\n",
      "number_of_samples=10, selection_seed=0\n",
      "model_name=lr\n",
      "model_name=knn\n",
      "number_of_samples=10, selection_seed=1\n",
      "model_name=lr\n",
      "model_name=knn\n",
      "number_of_samples=10, selection_seed=2\n",
      "model_name=lr\n",
      "model_name=knn\n",
      "number_of_samples=10, selection_seed=3\n",
      "model_name=lr\n",
      "model_name=knn\n",
      "number_of_samples=10, selection_seed=4\n",
      "model_name=lr\n",
      "model_name=knn\n",
      "number_of_samples=10, selection_seed=5\n",
      "model_name=lr\n",
      "model_name=knn\n",
      "number_of_samples=10, selection_seed=6\n",
      "model_name=lr\n",
      "model_name=knn\n",
      "number_of_samples=10, selection_seed=7\n",
      "model_name=lr\n",
      "model_name=knn\n",
      "number_of_samples=10, selection_seed=8\n",
      "model_name=lr\n",
      "model_name=knn\n",
      "number_of_samples=10, selection_seed=9\n",
      "model_name=lr\n",
      "model_name=knn\n",
      "number_of_samples=30, selection_seed=0\n",
      "model_name=lr\n",
      "model_name=knn\n",
      "number_of_samples=30, selection_seed=1\n",
      "model_name=lr\n",
      "model_name=knn\n",
      "number_of_samples=30, selection_seed=2\n",
      "model_name=lr\n",
      "model_name=knn\n",
      "number_of_samples=30, selection_seed=3\n",
      "model_name=lr\n",
      "model_name=knn\n",
      "number_of_samples=30, selection_seed=4\n",
      "model_name=lr\n",
      "model_name=knn\n",
      "number_of_samples=30, selection_seed=5\n",
      "model_name=lr\n",
      "model_name=knn\n",
      "number_of_samples=30, selection_seed=6\n",
      "model_name=lr\n",
      "model_name=knn\n",
      "number_of_samples=30, selection_seed=7\n",
      "model_name=lr\n",
      "model_name=knn\n",
      "number_of_samples=30, selection_seed=8\n",
      "model_name=lr\n",
      "model_name=knn\n",
      "number_of_samples=30, selection_seed=9\n",
      "model_name=lr\n",
      "model_name=knn\n",
      "number_of_samples=None, selection_seed=None\n",
      "model_name=lr\n",
      "model_name=knn\n",
      "loading: ../datasets/intermediate-features/Cassava_Mini-ResNet50-PDDD.csv\n",
      "number_of_samples=1, selection_seed=0\n",
      "model_name=lr\n",
      "model_name=knn\n",
      "number_of_samples=1, selection_seed=1\n",
      "model_name=lr\n",
      "model_name=knn\n",
      "number_of_samples=1, selection_seed=2\n",
      "model_name=lr\n",
      "model_name=knn\n",
      "number_of_samples=1, selection_seed=3\n",
      "model_name=lr\n",
      "model_name=knn\n",
      "number_of_samples=1, selection_seed=4\n",
      "model_name=lr\n",
      "model_name=knn\n",
      "number_of_samples=1, selection_seed=5\n",
      "model_name=lr\n",
      "model_name=knn\n",
      "number_of_samples=1, selection_seed=6\n",
      "model_name=lr\n",
      "model_name=knn\n",
      "number_of_samples=1, selection_seed=7\n",
      "model_name=lr\n",
      "model_name=knn\n",
      "number_of_samples=1, selection_seed=8\n",
      "model_name=lr\n",
      "model_name=knn\n",
      "number_of_samples=1, selection_seed=9\n",
      "model_name=lr\n",
      "model_name=knn\n",
      "number_of_samples=3, selection_seed=0\n",
      "model_name=lr\n",
      "model_name=knn\n",
      "number_of_samples=3, selection_seed=1\n",
      "model_name=lr\n",
      "model_name=knn\n",
      "number_of_samples=3, selection_seed=2\n",
      "model_name=lr\n",
      "model_name=knn\n",
      "number_of_samples=3, selection_seed=3\n",
      "model_name=lr\n",
      "model_name=knn\n",
      "number_of_samples=3, selection_seed=4\n",
      "model_name=lr\n",
      "model_name=knn\n",
      "number_of_samples=3, selection_seed=5\n",
      "model_name=lr\n",
      "model_name=knn\n",
      "number_of_samples=3, selection_seed=6\n",
      "model_name=lr\n",
      "model_name=knn\n",
      "number_of_samples=3, selection_seed=7\n",
      "model_name=lr\n",
      "model_name=knn\n",
      "number_of_samples=3, selection_seed=8\n",
      "model_name=lr\n",
      "model_name=knn\n",
      "number_of_samples=3, selection_seed=9\n",
      "model_name=lr\n",
      "model_name=knn\n",
      "number_of_samples=10, selection_seed=0\n",
      "model_name=lr\n",
      "model_name=knn\n",
      "number_of_samples=10, selection_seed=1\n",
      "model_name=lr\n",
      "model_name=knn\n",
      "number_of_samples=10, selection_seed=2\n",
      "model_name=lr\n",
      "model_name=knn\n",
      "number_of_samples=10, selection_seed=3\n",
      "model_name=lr\n",
      "model_name=knn\n",
      "number_of_samples=10, selection_seed=4\n",
      "model_name=lr\n",
      "model_name=knn\n",
      "number_of_samples=10, selection_seed=5\n",
      "model_name=lr\n",
      "model_name=knn\n",
      "number_of_samples=10, selection_seed=6\n",
      "model_name=lr\n",
      "model_name=knn\n",
      "number_of_samples=10, selection_seed=7\n",
      "model_name=lr\n",
      "model_name=knn\n",
      "number_of_samples=10, selection_seed=8\n",
      "model_name=lr\n",
      "model_name=knn\n",
      "number_of_samples=10, selection_seed=9\n",
      "model_name=lr\n",
      "model_name=knn\n",
      "number_of_samples=30, selection_seed=0\n",
      "model_name=lr\n",
      "model_name=knn\n",
      "number_of_samples=30, selection_seed=1\n",
      "model_name=lr\n",
      "model_name=knn\n",
      "number_of_samples=30, selection_seed=2\n",
      "model_name=lr\n",
      "model_name=knn\n",
      "number_of_samples=30, selection_seed=3\n",
      "model_name=lr\n",
      "model_name=knn\n",
      "number_of_samples=30, selection_seed=4\n",
      "model_name=lr\n",
      "model_name=knn\n",
      "number_of_samples=30, selection_seed=5\n",
      "model_name=lr\n",
      "model_name=knn\n",
      "number_of_samples=30, selection_seed=6\n",
      "model_name=lr\n",
      "model_name=knn\n",
      "number_of_samples=30, selection_seed=7\n",
      "model_name=lr\n",
      "model_name=knn\n",
      "number_of_samples=30, selection_seed=8\n",
      "model_name=lr\n",
      "model_name=knn\n",
      "number_of_samples=30, selection_seed=9\n",
      "model_name=lr\n",
      "model_name=knn\n",
      "number_of_samples=None, selection_seed=None\n",
      "model_name=lr\n",
      "model_name=knn\n",
      "loading: ../datasets/intermediate-features/Cassava_Mini-ResNet50-Random_19.csv\n",
      "number_of_samples=1, selection_seed=0\n",
      "model_name=lr\n",
      "model_name=knn\n",
      "number_of_samples=1, selection_seed=1\n",
      "model_name=lr\n",
      "model_name=knn\n",
      "number_of_samples=1, selection_seed=2\n",
      "model_name=lr\n",
      "model_name=knn\n",
      "number_of_samples=1, selection_seed=3\n",
      "model_name=lr\n",
      "model_name=knn\n",
      "number_of_samples=1, selection_seed=4\n",
      "model_name=lr\n",
      "model_name=knn\n",
      "number_of_samples=1, selection_seed=5\n",
      "model_name=lr\n",
      "model_name=knn\n",
      "number_of_samples=1, selection_seed=6\n",
      "model_name=lr\n",
      "model_name=knn\n",
      "number_of_samples=1, selection_seed=7\n",
      "model_name=lr\n",
      "model_name=knn\n",
      "number_of_samples=1, selection_seed=8\n",
      "model_name=lr\n",
      "model_name=knn\n",
      "number_of_samples=1, selection_seed=9\n",
      "model_name=lr\n",
      "model_name=knn\n",
      "number_of_samples=3, selection_seed=0\n",
      "model_name=lr\n",
      "model_name=knn\n",
      "number_of_samples=3, selection_seed=1\n",
      "model_name=lr\n",
      "model_name=knn\n",
      "number_of_samples=3, selection_seed=2\n",
      "model_name=lr\n",
      "model_name=knn\n",
      "number_of_samples=3, selection_seed=3\n",
      "model_name=lr\n",
      "model_name=knn\n",
      "number_of_samples=3, selection_seed=4\n",
      "model_name=lr\n",
      "model_name=knn\n",
      "number_of_samples=3, selection_seed=5\n",
      "model_name=lr\n",
      "model_name=knn\n",
      "number_of_samples=3, selection_seed=6\n",
      "model_name=lr\n",
      "model_name=knn\n",
      "number_of_samples=3, selection_seed=7\n",
      "model_name=lr\n",
      "model_name=knn\n",
      "number_of_samples=3, selection_seed=8\n",
      "model_name=lr\n",
      "model_name=knn\n",
      "number_of_samples=3, selection_seed=9\n",
      "model_name=lr\n",
      "model_name=knn\n",
      "number_of_samples=10, selection_seed=0\n",
      "model_name=lr\n",
      "model_name=knn\n",
      "number_of_samples=10, selection_seed=1\n",
      "model_name=lr\n",
      "model_name=knn\n",
      "number_of_samples=10, selection_seed=2\n",
      "model_name=lr\n",
      "model_name=knn\n",
      "number_of_samples=10, selection_seed=3\n",
      "model_name=lr\n",
      "model_name=knn\n",
      "number_of_samples=10, selection_seed=4\n",
      "model_name=lr\n",
      "model_name=knn\n",
      "number_of_samples=10, selection_seed=5\n",
      "model_name=lr\n",
      "model_name=knn\n",
      "number_of_samples=10, selection_seed=6\n",
      "model_name=lr\n",
      "model_name=knn\n",
      "number_of_samples=10, selection_seed=7\n",
      "model_name=lr\n",
      "model_name=knn\n",
      "number_of_samples=10, selection_seed=8\n",
      "model_name=lr\n",
      "model_name=knn\n",
      "number_of_samples=10, selection_seed=9\n",
      "model_name=lr\n",
      "model_name=knn\n",
      "number_of_samples=30, selection_seed=0\n",
      "model_name=lr\n",
      "model_name=knn\n",
      "number_of_samples=30, selection_seed=1\n",
      "model_name=lr\n",
      "model_name=knn\n",
      "number_of_samples=30, selection_seed=2\n",
      "model_name=lr\n",
      "model_name=knn\n",
      "number_of_samples=30, selection_seed=3\n",
      "model_name=lr\n",
      "model_name=knn\n",
      "number_of_samples=30, selection_seed=4\n",
      "model_name=lr\n",
      "model_name=knn\n",
      "number_of_samples=30, selection_seed=5\n",
      "model_name=lr\n",
      "model_name=knn\n",
      "number_of_samples=30, selection_seed=6\n",
      "model_name=lr\n",
      "model_name=knn\n",
      "number_of_samples=30, selection_seed=7\n",
      "model_name=lr\n",
      "model_name=knn\n",
      "number_of_samples=30, selection_seed=8\n",
      "model_name=lr\n",
      "model_name=knn\n",
      "number_of_samples=30, selection_seed=9\n",
      "model_name=lr\n",
      "model_name=knn\n",
      "number_of_samples=None, selection_seed=None\n",
      "model_name=lr\n",
      "model_name=knn\n",
      "loading: ../datasets/intermediate-features/Cassava_Mini-ResNet50-Random_20.csv\n",
      "number_of_samples=1, selection_seed=0\n",
      "model_name=lr\n",
      "model_name=knn\n",
      "number_of_samples=1, selection_seed=1\n",
      "model_name=lr\n",
      "model_name=knn\n",
      "number_of_samples=1, selection_seed=2\n",
      "model_name=lr\n",
      "model_name=knn\n",
      "number_of_samples=1, selection_seed=3\n",
      "model_name=lr\n",
      "model_name=knn\n",
      "number_of_samples=1, selection_seed=4\n",
      "model_name=lr\n",
      "model_name=knn\n",
      "number_of_samples=1, selection_seed=5\n",
      "model_name=lr\n",
      "model_name=knn\n",
      "number_of_samples=1, selection_seed=6\n",
      "model_name=lr\n",
      "model_name=knn\n",
      "number_of_samples=1, selection_seed=7\n",
      "model_name=lr\n",
      "model_name=knn\n",
      "number_of_samples=1, selection_seed=8\n",
      "model_name=lr\n",
      "model_name=knn\n",
      "number_of_samples=1, selection_seed=9\n",
      "model_name=lr\n",
      "model_name=knn\n",
      "number_of_samples=3, selection_seed=0\n",
      "model_name=lr\n",
      "model_name=knn\n",
      "number_of_samples=3, selection_seed=1\n",
      "model_name=lr\n",
      "model_name=knn\n",
      "number_of_samples=3, selection_seed=2\n",
      "model_name=lr\n",
      "model_name=knn\n",
      "number_of_samples=3, selection_seed=3\n",
      "model_name=lr\n",
      "model_name=knn\n",
      "number_of_samples=3, selection_seed=4\n",
      "model_name=lr\n",
      "model_name=knn\n",
      "number_of_samples=3, selection_seed=5\n",
      "model_name=lr\n",
      "model_name=knn\n",
      "number_of_samples=3, selection_seed=6\n",
      "model_name=lr\n",
      "model_name=knn\n",
      "number_of_samples=3, selection_seed=7\n",
      "model_name=lr\n",
      "model_name=knn\n",
      "number_of_samples=3, selection_seed=8\n",
      "model_name=lr\n",
      "model_name=knn\n",
      "number_of_samples=3, selection_seed=9\n",
      "model_name=lr\n",
      "model_name=knn\n",
      "number_of_samples=10, selection_seed=0\n",
      "model_name=lr\n",
      "model_name=knn\n",
      "number_of_samples=10, selection_seed=1\n",
      "model_name=lr\n",
      "model_name=knn\n",
      "number_of_samples=10, selection_seed=2\n",
      "model_name=lr\n",
      "model_name=knn\n",
      "number_of_samples=10, selection_seed=3\n",
      "model_name=lr\n",
      "model_name=knn\n",
      "number_of_samples=10, selection_seed=4\n",
      "model_name=lr\n",
      "model_name=knn\n",
      "number_of_samples=10, selection_seed=5\n",
      "model_name=lr\n",
      "model_name=knn\n",
      "number_of_samples=10, selection_seed=6\n",
      "model_name=lr\n",
      "model_name=knn\n",
      "number_of_samples=10, selection_seed=7\n",
      "model_name=lr\n",
      "model_name=knn\n",
      "number_of_samples=10, selection_seed=8\n",
      "model_name=lr\n",
      "model_name=knn\n",
      "number_of_samples=10, selection_seed=9\n",
      "model_name=lr\n",
      "model_name=knn\n",
      "number_of_samples=30, selection_seed=0\n",
      "model_name=lr\n",
      "model_name=knn\n",
      "number_of_samples=30, selection_seed=1\n",
      "model_name=lr\n",
      "model_name=knn\n",
      "number_of_samples=30, selection_seed=2\n",
      "model_name=lr\n",
      "model_name=knn\n",
      "number_of_samples=30, selection_seed=3\n",
      "model_name=lr\n",
      "model_name=knn\n",
      "number_of_samples=30, selection_seed=4\n",
      "model_name=lr\n",
      "model_name=knn\n",
      "number_of_samples=30, selection_seed=5\n",
      "model_name=lr\n",
      "model_name=knn\n",
      "number_of_samples=30, selection_seed=6\n",
      "model_name=lr\n",
      "model_name=knn\n",
      "number_of_samples=30, selection_seed=7\n",
      "model_name=lr\n",
      "model_name=knn\n",
      "number_of_samples=30, selection_seed=8\n",
      "model_name=lr\n",
      "model_name=knn\n",
      "number_of_samples=30, selection_seed=9\n",
      "model_name=lr\n",
      "model_name=knn\n",
      "number_of_samples=None, selection_seed=None\n",
      "model_name=lr\n",
      "model_name=knn\n",
      "loading: ../datasets/intermediate-features/Cassava_Mini-ResNet50-Random_21.csv\n",
      "number_of_samples=1, selection_seed=0\n",
      "model_name=lr\n",
      "model_name=knn\n",
      "number_of_samples=1, selection_seed=1\n",
      "model_name=lr\n",
      "model_name=knn\n",
      "number_of_samples=1, selection_seed=2\n",
      "model_name=lr\n",
      "model_name=knn\n",
      "number_of_samples=1, selection_seed=3\n",
      "model_name=lr\n",
      "model_name=knn\n",
      "number_of_samples=1, selection_seed=4\n",
      "model_name=lr\n",
      "model_name=knn\n",
      "number_of_samples=1, selection_seed=5\n",
      "model_name=lr\n",
      "model_name=knn\n",
      "number_of_samples=1, selection_seed=6\n",
      "model_name=lr\n",
      "model_name=knn\n",
      "number_of_samples=1, selection_seed=7\n",
      "model_name=lr\n",
      "model_name=knn\n",
      "number_of_samples=1, selection_seed=8\n",
      "model_name=lr\n",
      "model_name=knn\n",
      "number_of_samples=1, selection_seed=9\n",
      "model_name=lr\n",
      "model_name=knn\n",
      "number_of_samples=3, selection_seed=0\n",
      "model_name=lr\n",
      "model_name=knn\n",
      "number_of_samples=3, selection_seed=1\n",
      "model_name=lr\n",
      "model_name=knn\n",
      "number_of_samples=3, selection_seed=2\n",
      "model_name=lr\n",
      "model_name=knn\n",
      "number_of_samples=3, selection_seed=3\n",
      "model_name=lr\n",
      "model_name=knn\n",
      "number_of_samples=3, selection_seed=4\n",
      "model_name=lr\n",
      "model_name=knn\n",
      "number_of_samples=3, selection_seed=5\n",
      "model_name=lr\n",
      "model_name=knn\n",
      "number_of_samples=3, selection_seed=6\n",
      "model_name=lr\n",
      "model_name=knn\n",
      "number_of_samples=3, selection_seed=7\n",
      "model_name=lr\n",
      "model_name=knn\n",
      "number_of_samples=3, selection_seed=8\n",
      "model_name=lr\n",
      "model_name=knn\n",
      "number_of_samples=3, selection_seed=9\n",
      "model_name=lr\n",
      "model_name=knn\n",
      "number_of_samples=10, selection_seed=0\n",
      "model_name=lr\n",
      "model_name=knn\n",
      "number_of_samples=10, selection_seed=1\n",
      "model_name=lr\n",
      "model_name=knn\n",
      "number_of_samples=10, selection_seed=2\n",
      "model_name=lr\n",
      "model_name=knn\n",
      "number_of_samples=10, selection_seed=3\n",
      "model_name=lr\n",
      "model_name=knn\n",
      "number_of_samples=10, selection_seed=4\n",
      "model_name=lr\n",
      "model_name=knn\n",
      "number_of_samples=10, selection_seed=5\n",
      "model_name=lr\n",
      "model_name=knn\n",
      "number_of_samples=10, selection_seed=6\n",
      "model_name=lr\n",
      "model_name=knn\n",
      "number_of_samples=10, selection_seed=7\n",
      "model_name=lr\n",
      "model_name=knn\n",
      "number_of_samples=10, selection_seed=8\n",
      "model_name=lr\n",
      "model_name=knn\n",
      "number_of_samples=10, selection_seed=9\n",
      "model_name=lr\n",
      "model_name=knn\n",
      "number_of_samples=30, selection_seed=0\n",
      "model_name=lr\n",
      "model_name=knn\n",
      "number_of_samples=30, selection_seed=1\n",
      "model_name=lr\n",
      "model_name=knn\n",
      "number_of_samples=30, selection_seed=2\n",
      "model_name=lr\n",
      "model_name=knn\n",
      "number_of_samples=30, selection_seed=3\n",
      "model_name=lr\n",
      "model_name=knn\n",
      "number_of_samples=30, selection_seed=4\n",
      "model_name=lr\n",
      "model_name=knn\n",
      "number_of_samples=30, selection_seed=5\n",
      "model_name=lr\n",
      "model_name=knn\n",
      "number_of_samples=30, selection_seed=6\n",
      "model_name=lr\n",
      "model_name=knn\n",
      "number_of_samples=30, selection_seed=7\n",
      "model_name=lr\n",
      "model_name=knn\n",
      "number_of_samples=30, selection_seed=8\n",
      "model_name=lr\n",
      "model_name=knn\n",
      "number_of_samples=30, selection_seed=9\n",
      "model_name=lr\n",
      "model_name=knn\n",
      "number_of_samples=None, selection_seed=None\n",
      "model_name=lr\n",
      "model_name=knn\n",
      "loading: ../datasets/intermediate-features/Cassava_Mini-ViT_B16-ImageNet_SSL.csv\n",
      "number_of_samples=1, selection_seed=0\n",
      "model_name=lr\n",
      "model_name=knn\n",
      "number_of_samples=1, selection_seed=1\n",
      "model_name=lr\n",
      "model_name=knn\n",
      "number_of_samples=1, selection_seed=2\n",
      "model_name=lr\n",
      "model_name=knn\n",
      "number_of_samples=1, selection_seed=3\n",
      "model_name=lr\n",
      "model_name=knn\n",
      "number_of_samples=1, selection_seed=4\n",
      "model_name=lr\n",
      "model_name=knn\n",
      "number_of_samples=1, selection_seed=5\n",
      "model_name=lr\n",
      "model_name=knn\n",
      "number_of_samples=1, selection_seed=6\n",
      "model_name=lr\n",
      "model_name=knn\n",
      "number_of_samples=1, selection_seed=7\n",
      "model_name=lr\n",
      "model_name=knn\n",
      "number_of_samples=1, selection_seed=8\n",
      "model_name=lr\n",
      "model_name=knn\n",
      "number_of_samples=1, selection_seed=9\n",
      "model_name=lr\n",
      "model_name=knn\n",
      "number_of_samples=3, selection_seed=0\n",
      "model_name=lr\n",
      "model_name=knn\n",
      "number_of_samples=3, selection_seed=1\n",
      "model_name=lr\n",
      "model_name=knn\n",
      "number_of_samples=3, selection_seed=2\n",
      "model_name=lr\n",
      "model_name=knn\n",
      "number_of_samples=3, selection_seed=3\n",
      "model_name=lr\n",
      "model_name=knn\n",
      "number_of_samples=3, selection_seed=4\n",
      "model_name=lr\n",
      "model_name=knn\n",
      "number_of_samples=3, selection_seed=5\n",
      "model_name=lr\n",
      "model_name=knn\n",
      "number_of_samples=3, selection_seed=6\n",
      "model_name=lr\n",
      "model_name=knn\n",
      "number_of_samples=3, selection_seed=7\n",
      "model_name=lr\n",
      "model_name=knn\n",
      "number_of_samples=3, selection_seed=8\n",
      "model_name=lr\n",
      "model_name=knn\n",
      "number_of_samples=3, selection_seed=9\n",
      "model_name=lr\n",
      "model_name=knn\n",
      "number_of_samples=10, selection_seed=0\n",
      "model_name=lr\n",
      "model_name=knn\n",
      "number_of_samples=10, selection_seed=1\n",
      "model_name=lr\n",
      "model_name=knn\n",
      "number_of_samples=10, selection_seed=2\n",
      "model_name=lr\n",
      "model_name=knn\n",
      "number_of_samples=10, selection_seed=3\n",
      "model_name=lr\n",
      "model_name=knn\n",
      "number_of_samples=10, selection_seed=4\n",
      "model_name=lr\n",
      "model_name=knn\n",
      "number_of_samples=10, selection_seed=5\n",
      "model_name=lr\n",
      "model_name=knn\n",
      "number_of_samples=10, selection_seed=6\n",
      "model_name=lr\n",
      "model_name=knn\n",
      "number_of_samples=10, selection_seed=7\n",
      "model_name=lr\n",
      "model_name=knn\n",
      "number_of_samples=10, selection_seed=8\n",
      "model_name=lr\n",
      "model_name=knn\n",
      "number_of_samples=10, selection_seed=9\n",
      "model_name=lr\n",
      "model_name=knn\n",
      "number_of_samples=30, selection_seed=0\n",
      "model_name=lr\n",
      "model_name=knn\n",
      "number_of_samples=30, selection_seed=1\n",
      "model_name=lr\n",
      "model_name=knn\n",
      "number_of_samples=30, selection_seed=2\n",
      "model_name=lr\n",
      "model_name=knn\n",
      "number_of_samples=30, selection_seed=3\n",
      "model_name=lr\n",
      "model_name=knn\n",
      "number_of_samples=30, selection_seed=4\n",
      "model_name=lr\n",
      "model_name=knn\n",
      "number_of_samples=30, selection_seed=5\n",
      "model_name=lr\n",
      "model_name=knn\n",
      "number_of_samples=30, selection_seed=6\n",
      "model_name=lr\n",
      "model_name=knn\n",
      "number_of_samples=30, selection_seed=7\n",
      "model_name=lr\n",
      "model_name=knn\n",
      "number_of_samples=30, selection_seed=8\n",
      "model_name=lr\n",
      "model_name=knn\n",
      "number_of_samples=30, selection_seed=9\n",
      "model_name=lr\n",
      "model_name=knn\n",
      "number_of_samples=None, selection_seed=None\n",
      "model_name=lr\n",
      "model_name=knn\n",
      "loading: ../datasets/intermediate-features/Cassava_Mini-ViT_B16-ImageNet_v1.csv\n",
      "number_of_samples=1, selection_seed=0\n",
      "model_name=lr\n",
      "model_name=knn\n",
      "number_of_samples=1, selection_seed=1\n",
      "model_name=lr\n",
      "model_name=knn\n",
      "number_of_samples=1, selection_seed=2\n",
      "model_name=lr\n",
      "model_name=knn\n",
      "number_of_samples=1, selection_seed=3\n",
      "model_name=lr\n",
      "model_name=knn\n",
      "number_of_samples=1, selection_seed=4\n",
      "model_name=lr\n",
      "model_name=knn\n",
      "number_of_samples=1, selection_seed=5\n",
      "model_name=lr\n",
      "model_name=knn\n",
      "number_of_samples=1, selection_seed=6\n",
      "model_name=lr\n",
      "model_name=knn\n",
      "number_of_samples=1, selection_seed=7\n",
      "model_name=lr\n",
      "model_name=knn\n",
      "number_of_samples=1, selection_seed=8\n",
      "model_name=lr\n",
      "model_name=knn\n",
      "number_of_samples=1, selection_seed=9\n",
      "model_name=lr\n",
      "model_name=knn\n",
      "number_of_samples=3, selection_seed=0\n",
      "model_name=lr\n",
      "model_name=knn\n",
      "number_of_samples=3, selection_seed=1\n",
      "model_name=lr\n",
      "model_name=knn\n",
      "number_of_samples=3, selection_seed=2\n",
      "model_name=lr\n",
      "model_name=knn\n",
      "number_of_samples=3, selection_seed=3\n",
      "model_name=lr\n",
      "model_name=knn\n",
      "number_of_samples=3, selection_seed=4\n",
      "model_name=lr\n",
      "model_name=knn\n",
      "number_of_samples=3, selection_seed=5\n",
      "model_name=lr\n",
      "model_name=knn\n",
      "number_of_samples=3, selection_seed=6\n",
      "model_name=lr\n",
      "model_name=knn\n",
      "number_of_samples=3, selection_seed=7\n",
      "model_name=lr\n",
      "model_name=knn\n",
      "number_of_samples=3, selection_seed=8\n",
      "model_name=lr\n",
      "model_name=knn\n",
      "number_of_samples=3, selection_seed=9\n",
      "model_name=lr\n",
      "model_name=knn\n",
      "number_of_samples=10, selection_seed=0\n",
      "model_name=lr\n",
      "model_name=knn\n",
      "number_of_samples=10, selection_seed=1\n",
      "model_name=lr\n",
      "model_name=knn\n",
      "number_of_samples=10, selection_seed=2\n",
      "model_name=lr\n",
      "model_name=knn\n",
      "number_of_samples=10, selection_seed=3\n",
      "model_name=lr\n",
      "model_name=knn\n",
      "number_of_samples=10, selection_seed=4\n",
      "model_name=lr\n",
      "model_name=knn\n",
      "number_of_samples=10, selection_seed=5\n",
      "model_name=lr\n",
      "model_name=knn\n",
      "number_of_samples=10, selection_seed=6\n",
      "model_name=lr\n",
      "model_name=knn\n",
      "number_of_samples=10, selection_seed=7\n",
      "model_name=lr\n",
      "model_name=knn\n",
      "number_of_samples=10, selection_seed=8\n",
      "model_name=lr\n",
      "model_name=knn\n",
      "number_of_samples=10, selection_seed=9\n",
      "model_name=lr\n",
      "model_name=knn\n",
      "number_of_samples=30, selection_seed=0\n",
      "model_name=lr\n",
      "model_name=knn\n",
      "number_of_samples=30, selection_seed=1\n",
      "model_name=lr\n",
      "model_name=knn\n",
      "number_of_samples=30, selection_seed=2\n",
      "model_name=lr\n",
      "model_name=knn\n",
      "number_of_samples=30, selection_seed=3\n",
      "model_name=lr\n",
      "model_name=knn\n",
      "number_of_samples=30, selection_seed=4\n",
      "model_name=lr\n",
      "model_name=knn\n",
      "number_of_samples=30, selection_seed=5\n",
      "model_name=lr\n",
      "model_name=knn\n",
      "number_of_samples=30, selection_seed=6\n",
      "model_name=lr\n",
      "model_name=knn\n",
      "number_of_samples=30, selection_seed=7\n",
      "model_name=lr\n",
      "model_name=knn\n",
      "number_of_samples=30, selection_seed=8\n",
      "model_name=lr\n",
      "model_name=knn\n",
      "number_of_samples=30, selection_seed=9\n",
      "model_name=lr\n",
      "model_name=knn\n",
      "number_of_samples=None, selection_seed=None\n",
      "model_name=lr\n",
      "model_name=knn\n",
      "loading: ../datasets/intermediate-features/Cassava_Mini-ViT_B16-ImageNet_v2.csv\n",
      "number_of_samples=1, selection_seed=0\n",
      "model_name=lr\n",
      "model_name=knn\n",
      "number_of_samples=1, selection_seed=1\n",
      "model_name=lr\n",
      "model_name=knn\n",
      "number_of_samples=1, selection_seed=2\n",
      "model_name=lr\n",
      "model_name=knn\n",
      "number_of_samples=1, selection_seed=3\n",
      "model_name=lr\n",
      "model_name=knn\n",
      "number_of_samples=1, selection_seed=4\n",
      "model_name=lr\n",
      "model_name=knn\n",
      "number_of_samples=1, selection_seed=5\n",
      "model_name=lr\n",
      "model_name=knn\n",
      "number_of_samples=1, selection_seed=6\n",
      "model_name=lr\n",
      "model_name=knn\n",
      "number_of_samples=1, selection_seed=7\n",
      "model_name=lr\n",
      "model_name=knn\n",
      "number_of_samples=1, selection_seed=8\n",
      "model_name=lr\n",
      "model_name=knn\n",
      "number_of_samples=1, selection_seed=9\n",
      "model_name=lr\n",
      "model_name=knn\n",
      "number_of_samples=3, selection_seed=0\n",
      "model_name=lr\n",
      "model_name=knn\n",
      "number_of_samples=3, selection_seed=1\n",
      "model_name=lr\n",
      "model_name=knn\n",
      "number_of_samples=3, selection_seed=2\n",
      "model_name=lr\n",
      "model_name=knn\n",
      "number_of_samples=3, selection_seed=3\n",
      "model_name=lr\n",
      "model_name=knn\n",
      "number_of_samples=3, selection_seed=4\n",
      "model_name=lr\n",
      "model_name=knn\n",
      "number_of_samples=3, selection_seed=5\n",
      "model_name=lr\n",
      "model_name=knn\n",
      "number_of_samples=3, selection_seed=6\n",
      "model_name=lr\n",
      "model_name=knn\n",
      "number_of_samples=3, selection_seed=7\n",
      "model_name=lr\n",
      "model_name=knn\n",
      "number_of_samples=3, selection_seed=8\n",
      "model_name=lr\n",
      "model_name=knn\n",
      "number_of_samples=3, selection_seed=9\n",
      "model_name=lr\n",
      "model_name=knn\n",
      "number_of_samples=10, selection_seed=0\n",
      "model_name=lr\n",
      "model_name=knn\n",
      "number_of_samples=10, selection_seed=1\n",
      "model_name=lr\n",
      "model_name=knn\n",
      "number_of_samples=10, selection_seed=2\n",
      "model_name=lr\n",
      "model_name=knn\n",
      "number_of_samples=10, selection_seed=3\n",
      "model_name=lr\n",
      "model_name=knn\n",
      "number_of_samples=10, selection_seed=4\n",
      "model_name=lr\n",
      "model_name=knn\n",
      "number_of_samples=10, selection_seed=5\n",
      "model_name=lr\n",
      "model_name=knn\n",
      "number_of_samples=10, selection_seed=6\n",
      "model_name=lr\n",
      "model_name=knn\n",
      "number_of_samples=10, selection_seed=7\n",
      "model_name=lr\n",
      "model_name=knn\n",
      "number_of_samples=10, selection_seed=8\n",
      "model_name=lr\n",
      "model_name=knn\n",
      "number_of_samples=10, selection_seed=9\n",
      "model_name=lr\n",
      "model_name=knn\n",
      "number_of_samples=30, selection_seed=0\n",
      "model_name=lr\n",
      "model_name=knn\n",
      "number_of_samples=30, selection_seed=1\n",
      "model_name=lr\n",
      "model_name=knn\n",
      "number_of_samples=30, selection_seed=2\n",
      "model_name=lr\n",
      "model_name=knn\n",
      "number_of_samples=30, selection_seed=3\n",
      "model_name=lr\n",
      "model_name=knn\n",
      "number_of_samples=30, selection_seed=4\n",
      "model_name=lr\n",
      "model_name=knn\n",
      "number_of_samples=30, selection_seed=5\n",
      "model_name=lr\n",
      "model_name=knn\n",
      "number_of_samples=30, selection_seed=6\n",
      "model_name=lr\n",
      "model_name=knn\n",
      "number_of_samples=30, selection_seed=7\n",
      "model_name=lr\n",
      "model_name=knn\n",
      "number_of_samples=30, selection_seed=8\n",
      "model_name=lr\n",
      "model_name=knn\n",
      "number_of_samples=30, selection_seed=9\n",
      "model_name=lr\n",
      "model_name=knn\n",
      "number_of_samples=None, selection_seed=None\n",
      "model_name=lr\n",
      "model_name=knn\n",
      "loading: ../datasets/intermediate-features/Cassava_Mini-ViT_B16-ImageNet_v3.csv\n",
      "number_of_samples=1, selection_seed=0\n",
      "model_name=lr\n",
      "model_name=knn\n",
      "number_of_samples=1, selection_seed=1\n",
      "model_name=lr\n",
      "model_name=knn\n",
      "number_of_samples=1, selection_seed=2\n",
      "model_name=lr\n",
      "model_name=knn\n",
      "number_of_samples=1, selection_seed=3\n",
      "model_name=lr\n",
      "model_name=knn\n",
      "number_of_samples=1, selection_seed=4\n",
      "model_name=lr\n",
      "model_name=knn\n",
      "number_of_samples=1, selection_seed=5\n",
      "model_name=lr\n",
      "model_name=knn\n",
      "number_of_samples=1, selection_seed=6\n",
      "model_name=lr\n",
      "model_name=knn\n",
      "number_of_samples=1, selection_seed=7\n",
      "model_name=lr\n",
      "model_name=knn\n",
      "number_of_samples=1, selection_seed=8\n",
      "model_name=lr\n",
      "model_name=knn\n",
      "number_of_samples=1, selection_seed=9\n",
      "model_name=lr\n",
      "model_name=knn\n",
      "number_of_samples=3, selection_seed=0\n",
      "model_name=lr\n",
      "model_name=knn\n",
      "number_of_samples=3, selection_seed=1\n",
      "model_name=lr\n",
      "model_name=knn\n",
      "number_of_samples=3, selection_seed=2\n",
      "model_name=lr\n",
      "model_name=knn\n",
      "number_of_samples=3, selection_seed=3\n",
      "model_name=lr\n",
      "model_name=knn\n",
      "number_of_samples=3, selection_seed=4\n",
      "model_name=lr\n",
      "model_name=knn\n",
      "number_of_samples=3, selection_seed=5\n",
      "model_name=lr\n",
      "model_name=knn\n",
      "number_of_samples=3, selection_seed=6\n",
      "model_name=lr\n",
      "model_name=knn\n",
      "number_of_samples=3, selection_seed=7\n",
      "model_name=lr\n",
      "model_name=knn\n",
      "number_of_samples=3, selection_seed=8\n",
      "model_name=lr\n",
      "model_name=knn\n",
      "number_of_samples=3, selection_seed=9\n",
      "model_name=lr\n",
      "model_name=knn\n",
      "number_of_samples=10, selection_seed=0\n",
      "model_name=lr\n",
      "model_name=knn\n",
      "number_of_samples=10, selection_seed=1\n",
      "model_name=lr\n",
      "model_name=knn\n",
      "number_of_samples=10, selection_seed=2\n",
      "model_name=lr\n",
      "model_name=knn\n",
      "number_of_samples=10, selection_seed=3\n",
      "model_name=lr\n",
      "model_name=knn\n",
      "number_of_samples=10, selection_seed=4\n",
      "model_name=lr\n",
      "model_name=knn\n",
      "number_of_samples=10, selection_seed=5\n",
      "model_name=lr\n",
      "model_name=knn\n",
      "number_of_samples=10, selection_seed=6\n",
      "model_name=lr\n",
      "model_name=knn\n",
      "number_of_samples=10, selection_seed=7\n",
      "model_name=lr\n",
      "model_name=knn\n",
      "number_of_samples=10, selection_seed=8\n",
      "model_name=lr\n",
      "model_name=knn\n",
      "number_of_samples=10, selection_seed=9\n",
      "model_name=lr\n",
      "model_name=knn\n",
      "number_of_samples=30, selection_seed=0\n",
      "model_name=lr\n",
      "model_name=knn\n",
      "number_of_samples=30, selection_seed=1\n",
      "model_name=lr\n",
      "model_name=knn\n",
      "number_of_samples=30, selection_seed=2\n",
      "model_name=lr\n",
      "model_name=knn\n",
      "number_of_samples=30, selection_seed=3\n",
      "model_name=lr\n",
      "model_name=knn\n",
      "number_of_samples=30, selection_seed=4\n",
      "model_name=lr\n",
      "model_name=knn\n",
      "number_of_samples=30, selection_seed=5\n",
      "model_name=lr\n",
      "model_name=knn\n",
      "number_of_samples=30, selection_seed=6\n",
      "model_name=lr\n",
      "model_name=knn\n",
      "number_of_samples=30, selection_seed=7\n",
      "model_name=lr\n",
      "model_name=knn\n",
      "number_of_samples=30, selection_seed=8\n",
      "model_name=lr\n",
      "model_name=knn\n",
      "number_of_samples=30, selection_seed=9\n",
      "model_name=lr\n",
      "model_name=knn\n",
      "number_of_samples=None, selection_seed=None\n",
      "model_name=lr\n",
      "model_name=knn\n",
      "loading: ../datasets/intermediate-features/Cassava_Mini-ViT_B16-PDDD_197.csv\n",
      "number_of_samples=1, selection_seed=0\n",
      "model_name=lr\n",
      "model_name=knn\n",
      "number_of_samples=1, selection_seed=1\n",
      "model_name=lr\n",
      "model_name=knn\n",
      "number_of_samples=1, selection_seed=2\n",
      "model_name=lr\n",
      "model_name=knn\n",
      "number_of_samples=1, selection_seed=3\n",
      "model_name=lr\n",
      "model_name=knn\n",
      "number_of_samples=1, selection_seed=4\n",
      "model_name=lr\n",
      "model_name=knn\n",
      "number_of_samples=1, selection_seed=5\n",
      "model_name=lr\n",
      "model_name=knn\n",
      "number_of_samples=1, selection_seed=6\n",
      "model_name=lr\n",
      "model_name=knn\n",
      "number_of_samples=1, selection_seed=7\n",
      "model_name=lr\n",
      "model_name=knn\n",
      "number_of_samples=1, selection_seed=8\n",
      "model_name=lr\n",
      "model_name=knn\n",
      "number_of_samples=1, selection_seed=9\n",
      "model_name=lr\n",
      "model_name=knn\n",
      "number_of_samples=3, selection_seed=0\n",
      "model_name=lr\n",
      "model_name=knn\n",
      "number_of_samples=3, selection_seed=1\n",
      "model_name=lr\n",
      "model_name=knn\n",
      "number_of_samples=3, selection_seed=2\n",
      "model_name=lr\n",
      "model_name=knn\n",
      "number_of_samples=3, selection_seed=3\n",
      "model_name=lr\n",
      "model_name=knn\n",
      "number_of_samples=3, selection_seed=4\n",
      "model_name=lr\n",
      "model_name=knn\n",
      "number_of_samples=3, selection_seed=5\n",
      "model_name=lr\n",
      "model_name=knn\n",
      "number_of_samples=3, selection_seed=6\n",
      "model_name=lr\n",
      "model_name=knn\n",
      "number_of_samples=3, selection_seed=7\n",
      "model_name=lr\n",
      "model_name=knn\n",
      "number_of_samples=3, selection_seed=8\n",
      "model_name=lr\n",
      "model_name=knn\n",
      "number_of_samples=3, selection_seed=9\n",
      "model_name=lr\n",
      "model_name=knn\n",
      "number_of_samples=10, selection_seed=0\n",
      "model_name=lr\n",
      "model_name=knn\n",
      "number_of_samples=10, selection_seed=1\n",
      "model_name=lr\n",
      "model_name=knn\n",
      "number_of_samples=10, selection_seed=2\n",
      "model_name=lr\n",
      "model_name=knn\n",
      "number_of_samples=10, selection_seed=3\n",
      "model_name=lr\n",
      "model_name=knn\n",
      "number_of_samples=10, selection_seed=4\n",
      "model_name=lr\n",
      "model_name=knn\n",
      "number_of_samples=10, selection_seed=5\n",
      "model_name=lr\n",
      "model_name=knn\n",
      "number_of_samples=10, selection_seed=6\n",
      "model_name=lr\n",
      "model_name=knn\n",
      "number_of_samples=10, selection_seed=7\n",
      "model_name=lr\n",
      "model_name=knn\n",
      "number_of_samples=10, selection_seed=8\n",
      "model_name=lr\n",
      "model_name=knn\n",
      "number_of_samples=10, selection_seed=9\n",
      "model_name=lr\n",
      "model_name=knn\n",
      "number_of_samples=30, selection_seed=0\n",
      "model_name=lr\n",
      "model_name=knn\n",
      "number_of_samples=30, selection_seed=1\n",
      "model_name=lr\n",
      "model_name=knn\n",
      "number_of_samples=30, selection_seed=2\n",
      "model_name=lr\n",
      "model_name=knn\n",
      "number_of_samples=30, selection_seed=3\n",
      "model_name=lr\n",
      "model_name=knn\n",
      "number_of_samples=30, selection_seed=4\n",
      "model_name=lr\n",
      "model_name=knn\n",
      "number_of_samples=30, selection_seed=5\n",
      "model_name=lr\n",
      "model_name=knn\n",
      "number_of_samples=30, selection_seed=6\n",
      "model_name=lr\n",
      "model_name=knn\n",
      "number_of_samples=30, selection_seed=7\n",
      "model_name=lr\n",
      "model_name=knn\n",
      "number_of_samples=30, selection_seed=8\n",
      "model_name=lr\n",
      "model_name=knn\n",
      "number_of_samples=30, selection_seed=9\n",
      "model_name=lr\n",
      "model_name=knn\n",
      "number_of_samples=None, selection_seed=None\n",
      "model_name=lr\n",
      "model_name=knn\n",
      "loading: ../datasets/intermediate-features/Cassava_Mini-ViT_B16-PDDD_96.csv\n",
      "number_of_samples=1, selection_seed=0\n",
      "model_name=lr\n",
      "model_name=knn\n",
      "number_of_samples=1, selection_seed=1\n",
      "model_name=lr\n",
      "model_name=knn\n",
      "number_of_samples=1, selection_seed=2\n",
      "model_name=lr\n",
      "model_name=knn\n",
      "number_of_samples=1, selection_seed=3\n",
      "model_name=lr\n",
      "model_name=knn\n",
      "number_of_samples=1, selection_seed=4\n",
      "model_name=lr\n",
      "model_name=knn\n",
      "number_of_samples=1, selection_seed=5\n",
      "model_name=lr\n",
      "model_name=knn\n",
      "number_of_samples=1, selection_seed=6\n",
      "model_name=lr\n",
      "model_name=knn\n",
      "number_of_samples=1, selection_seed=7\n",
      "model_name=lr\n",
      "model_name=knn\n",
      "number_of_samples=1, selection_seed=8\n",
      "model_name=lr\n",
      "model_name=knn\n",
      "number_of_samples=1, selection_seed=9\n",
      "model_name=lr\n",
      "model_name=knn\n",
      "number_of_samples=3, selection_seed=0\n",
      "model_name=lr\n",
      "model_name=knn\n",
      "number_of_samples=3, selection_seed=1\n",
      "model_name=lr\n",
      "model_name=knn\n",
      "number_of_samples=3, selection_seed=2\n",
      "model_name=lr\n",
      "model_name=knn\n",
      "number_of_samples=3, selection_seed=3\n",
      "model_name=lr\n",
      "model_name=knn\n",
      "number_of_samples=3, selection_seed=4\n",
      "model_name=lr\n",
      "model_name=knn\n",
      "number_of_samples=3, selection_seed=5\n",
      "model_name=lr\n",
      "model_name=knn\n",
      "number_of_samples=3, selection_seed=6\n",
      "model_name=lr\n",
      "model_name=knn\n",
      "number_of_samples=3, selection_seed=7\n",
      "model_name=lr\n",
      "model_name=knn\n",
      "number_of_samples=3, selection_seed=8\n",
      "model_name=lr\n",
      "model_name=knn\n",
      "number_of_samples=3, selection_seed=9\n",
      "model_name=lr\n",
      "model_name=knn\n",
      "number_of_samples=10, selection_seed=0\n",
      "model_name=lr\n",
      "model_name=knn\n",
      "number_of_samples=10, selection_seed=1\n",
      "model_name=lr\n",
      "model_name=knn\n",
      "number_of_samples=10, selection_seed=2\n",
      "model_name=lr\n",
      "model_name=knn\n",
      "number_of_samples=10, selection_seed=3\n",
      "model_name=lr\n",
      "model_name=knn\n",
      "number_of_samples=10, selection_seed=4\n",
      "model_name=lr\n",
      "model_name=knn\n",
      "number_of_samples=10, selection_seed=5\n",
      "model_name=lr\n",
      "model_name=knn\n",
      "number_of_samples=10, selection_seed=6\n",
      "model_name=lr\n",
      "model_name=knn\n",
      "number_of_samples=10, selection_seed=7\n",
      "model_name=lr\n",
      "model_name=knn\n",
      "number_of_samples=10, selection_seed=8\n",
      "model_name=lr\n",
      "model_name=knn\n",
      "number_of_samples=10, selection_seed=9\n",
      "model_name=lr\n",
      "model_name=knn\n",
      "number_of_samples=30, selection_seed=0\n",
      "model_name=lr\n",
      "model_name=knn\n",
      "number_of_samples=30, selection_seed=1\n",
      "model_name=lr\n",
      "model_name=knn\n",
      "number_of_samples=30, selection_seed=2\n",
      "model_name=lr\n",
      "model_name=knn\n",
      "number_of_samples=30, selection_seed=3\n",
      "model_name=lr\n",
      "model_name=knn\n",
      "number_of_samples=30, selection_seed=4\n",
      "model_name=lr\n",
      "model_name=knn\n",
      "number_of_samples=30, selection_seed=5\n",
      "model_name=lr\n",
      "model_name=knn\n",
      "number_of_samples=30, selection_seed=6\n",
      "model_name=lr\n",
      "model_name=knn\n",
      "number_of_samples=30, selection_seed=7\n",
      "model_name=lr\n",
      "model_name=knn\n",
      "number_of_samples=30, selection_seed=8\n",
      "model_name=lr\n",
      "model_name=knn\n",
      "number_of_samples=30, selection_seed=9\n",
      "model_name=lr\n",
      "model_name=knn\n",
      "number_of_samples=None, selection_seed=None\n",
      "model_name=lr\n",
      "model_name=knn\n",
      "loading: ../datasets/intermediate-features/Cassava_Mini-ViT_B16-Random_19.csv\n",
      "number_of_samples=1, selection_seed=0\n",
      "model_name=lr\n",
      "model_name=knn\n",
      "number_of_samples=1, selection_seed=1\n",
      "model_name=lr\n",
      "model_name=knn\n",
      "number_of_samples=1, selection_seed=2\n",
      "model_name=lr\n",
      "model_name=knn\n",
      "number_of_samples=1, selection_seed=3\n",
      "model_name=lr\n",
      "model_name=knn\n",
      "number_of_samples=1, selection_seed=4\n",
      "model_name=lr\n",
      "model_name=knn\n",
      "number_of_samples=1, selection_seed=5\n",
      "model_name=lr\n",
      "model_name=knn\n",
      "number_of_samples=1, selection_seed=6\n",
      "model_name=lr\n",
      "model_name=knn\n",
      "number_of_samples=1, selection_seed=7\n",
      "model_name=lr\n",
      "model_name=knn\n",
      "number_of_samples=1, selection_seed=8\n",
      "model_name=lr\n",
      "model_name=knn\n",
      "number_of_samples=1, selection_seed=9\n",
      "model_name=lr\n",
      "model_name=knn\n",
      "number_of_samples=3, selection_seed=0\n",
      "model_name=lr\n",
      "model_name=knn\n",
      "number_of_samples=3, selection_seed=1\n",
      "model_name=lr\n",
      "model_name=knn\n",
      "number_of_samples=3, selection_seed=2\n",
      "model_name=lr\n",
      "model_name=knn\n",
      "number_of_samples=3, selection_seed=3\n",
      "model_name=lr\n",
      "model_name=knn\n",
      "number_of_samples=3, selection_seed=4\n",
      "model_name=lr\n",
      "model_name=knn\n",
      "number_of_samples=3, selection_seed=5\n",
      "model_name=lr\n",
      "model_name=knn\n",
      "number_of_samples=3, selection_seed=6\n",
      "model_name=lr\n",
      "model_name=knn\n",
      "number_of_samples=3, selection_seed=7\n",
      "model_name=lr\n",
      "model_name=knn\n",
      "number_of_samples=3, selection_seed=8\n",
      "model_name=lr\n",
      "model_name=knn\n",
      "number_of_samples=3, selection_seed=9\n",
      "model_name=lr\n",
      "model_name=knn\n",
      "number_of_samples=10, selection_seed=0\n",
      "model_name=lr\n",
      "model_name=knn\n",
      "number_of_samples=10, selection_seed=1\n",
      "model_name=lr\n",
      "model_name=knn\n",
      "number_of_samples=10, selection_seed=2\n",
      "model_name=lr\n",
      "model_name=knn\n",
      "number_of_samples=10, selection_seed=3\n",
      "model_name=lr\n",
      "model_name=knn\n",
      "number_of_samples=10, selection_seed=4\n",
      "model_name=lr\n",
      "model_name=knn\n",
      "number_of_samples=10, selection_seed=5\n",
      "model_name=lr\n",
      "model_name=knn\n",
      "number_of_samples=10, selection_seed=6\n",
      "model_name=lr\n",
      "model_name=knn\n",
      "number_of_samples=10, selection_seed=7\n",
      "model_name=lr\n",
      "model_name=knn\n",
      "number_of_samples=10, selection_seed=8\n",
      "model_name=lr\n",
      "model_name=knn\n",
      "number_of_samples=10, selection_seed=9\n",
      "model_name=lr\n",
      "model_name=knn\n",
      "number_of_samples=30, selection_seed=0\n",
      "model_name=lr\n",
      "model_name=knn\n",
      "number_of_samples=30, selection_seed=1\n",
      "model_name=lr\n",
      "model_name=knn\n",
      "number_of_samples=30, selection_seed=2\n",
      "model_name=lr\n",
      "model_name=knn\n",
      "number_of_samples=30, selection_seed=3\n",
      "model_name=lr\n",
      "model_name=knn\n",
      "number_of_samples=30, selection_seed=4\n",
      "model_name=lr\n",
      "model_name=knn\n",
      "number_of_samples=30, selection_seed=5\n",
      "model_name=lr\n",
      "model_name=knn\n",
      "number_of_samples=30, selection_seed=6\n",
      "model_name=lr\n",
      "model_name=knn\n",
      "number_of_samples=30, selection_seed=7\n",
      "model_name=lr\n",
      "model_name=knn\n",
      "number_of_samples=30, selection_seed=8\n",
      "model_name=lr\n",
      "model_name=knn\n",
      "number_of_samples=30, selection_seed=9\n",
      "model_name=lr\n",
      "model_name=knn\n",
      "number_of_samples=None, selection_seed=None\n",
      "model_name=lr\n",
      "model_name=knn\n",
      "loading: ../datasets/intermediate-features/Cassava_Mini-ViT_B16-Random_20.csv\n",
      "number_of_samples=1, selection_seed=0\n",
      "model_name=lr\n",
      "model_name=knn\n",
      "number_of_samples=1, selection_seed=1\n",
      "model_name=lr\n",
      "model_name=knn\n",
      "number_of_samples=1, selection_seed=2\n",
      "model_name=lr\n",
      "model_name=knn\n",
      "number_of_samples=1, selection_seed=3\n",
      "model_name=lr\n",
      "model_name=knn\n",
      "number_of_samples=1, selection_seed=4\n",
      "model_name=lr\n",
      "model_name=knn\n",
      "number_of_samples=1, selection_seed=5\n",
      "model_name=lr\n",
      "model_name=knn\n",
      "number_of_samples=1, selection_seed=6\n",
      "model_name=lr\n",
      "model_name=knn\n",
      "number_of_samples=1, selection_seed=7\n",
      "model_name=lr\n",
      "model_name=knn\n",
      "number_of_samples=1, selection_seed=8\n",
      "model_name=lr\n",
      "model_name=knn\n",
      "number_of_samples=1, selection_seed=9\n",
      "model_name=lr\n",
      "model_name=knn\n",
      "number_of_samples=3, selection_seed=0\n",
      "model_name=lr\n",
      "model_name=knn\n",
      "number_of_samples=3, selection_seed=1\n",
      "model_name=lr\n",
      "model_name=knn\n",
      "number_of_samples=3, selection_seed=2\n",
      "model_name=lr\n",
      "model_name=knn\n",
      "number_of_samples=3, selection_seed=3\n",
      "model_name=lr\n",
      "model_name=knn\n",
      "number_of_samples=3, selection_seed=4\n",
      "model_name=lr\n",
      "model_name=knn\n",
      "number_of_samples=3, selection_seed=5\n",
      "model_name=lr\n",
      "model_name=knn\n",
      "number_of_samples=3, selection_seed=6\n",
      "model_name=lr\n",
      "model_name=knn\n",
      "number_of_samples=3, selection_seed=7\n",
      "model_name=lr\n",
      "model_name=knn\n",
      "number_of_samples=3, selection_seed=8\n",
      "model_name=lr\n",
      "model_name=knn\n",
      "number_of_samples=3, selection_seed=9\n",
      "model_name=lr\n",
      "model_name=knn\n",
      "number_of_samples=10, selection_seed=0\n",
      "model_name=lr\n",
      "model_name=knn\n",
      "number_of_samples=10, selection_seed=1\n",
      "model_name=lr\n",
      "model_name=knn\n",
      "number_of_samples=10, selection_seed=2\n",
      "model_name=lr\n",
      "model_name=knn\n",
      "number_of_samples=10, selection_seed=3\n",
      "model_name=lr\n",
      "model_name=knn\n",
      "number_of_samples=10, selection_seed=4\n",
      "model_name=lr\n",
      "model_name=knn\n",
      "number_of_samples=10, selection_seed=5\n",
      "model_name=lr\n",
      "model_name=knn\n",
      "number_of_samples=10, selection_seed=6\n",
      "model_name=lr\n",
      "model_name=knn\n",
      "number_of_samples=10, selection_seed=7\n",
      "model_name=lr\n",
      "model_name=knn\n",
      "number_of_samples=10, selection_seed=8\n",
      "model_name=lr\n",
      "model_name=knn\n",
      "number_of_samples=10, selection_seed=9\n",
      "model_name=lr\n",
      "model_name=knn\n",
      "number_of_samples=30, selection_seed=0\n",
      "model_name=lr\n",
      "model_name=knn\n",
      "number_of_samples=30, selection_seed=1\n",
      "model_name=lr\n",
      "model_name=knn\n",
      "number_of_samples=30, selection_seed=2\n",
      "model_name=lr\n",
      "model_name=knn\n",
      "number_of_samples=30, selection_seed=3\n",
      "model_name=lr\n",
      "model_name=knn\n",
      "number_of_samples=30, selection_seed=4\n",
      "model_name=lr\n",
      "model_name=knn\n",
      "number_of_samples=30, selection_seed=5\n",
      "model_name=lr\n",
      "model_name=knn\n",
      "number_of_samples=30, selection_seed=6\n",
      "model_name=lr\n",
      "model_name=knn\n",
      "number_of_samples=30, selection_seed=7\n",
      "model_name=lr\n",
      "model_name=knn\n",
      "number_of_samples=30, selection_seed=8\n",
      "model_name=lr\n",
      "model_name=knn\n",
      "number_of_samples=30, selection_seed=9\n",
      "model_name=lr\n",
      "model_name=knn\n",
      "number_of_samples=None, selection_seed=None\n",
      "model_name=lr\n",
      "model_name=knn\n",
      "loading: ../datasets/intermediate-features/Cassava_Mini-ViT_B16-Random_21.csv\n",
      "number_of_samples=1, selection_seed=0\n",
      "model_name=lr\n",
      "model_name=knn\n",
      "number_of_samples=1, selection_seed=1\n",
      "model_name=lr\n",
      "model_name=knn\n",
      "number_of_samples=1, selection_seed=2\n",
      "model_name=lr\n",
      "model_name=knn\n",
      "number_of_samples=1, selection_seed=3\n",
      "model_name=lr\n",
      "model_name=knn\n",
      "number_of_samples=1, selection_seed=4\n",
      "model_name=lr\n",
      "model_name=knn\n",
      "number_of_samples=1, selection_seed=5\n",
      "model_name=lr\n",
      "model_name=knn\n",
      "number_of_samples=1, selection_seed=6\n",
      "model_name=lr\n",
      "model_name=knn\n",
      "number_of_samples=1, selection_seed=7\n",
      "model_name=lr\n",
      "model_name=knn\n",
      "number_of_samples=1, selection_seed=8\n",
      "model_name=lr\n",
      "model_name=knn\n",
      "number_of_samples=1, selection_seed=9\n",
      "model_name=lr\n",
      "model_name=knn\n",
      "number_of_samples=3, selection_seed=0\n",
      "model_name=lr\n",
      "model_name=knn\n",
      "number_of_samples=3, selection_seed=1\n",
      "model_name=lr\n",
      "model_name=knn\n",
      "number_of_samples=3, selection_seed=2\n",
      "model_name=lr\n",
      "model_name=knn\n",
      "number_of_samples=3, selection_seed=3\n",
      "model_name=lr\n",
      "model_name=knn\n",
      "number_of_samples=3, selection_seed=4\n",
      "model_name=lr\n",
      "model_name=knn\n",
      "number_of_samples=3, selection_seed=5\n",
      "model_name=lr\n",
      "model_name=knn\n",
      "number_of_samples=3, selection_seed=6\n",
      "model_name=lr\n",
      "model_name=knn\n",
      "number_of_samples=3, selection_seed=7\n",
      "model_name=lr\n",
      "model_name=knn\n",
      "number_of_samples=3, selection_seed=8\n",
      "model_name=lr\n",
      "model_name=knn\n",
      "number_of_samples=3, selection_seed=9\n",
      "model_name=lr\n",
      "model_name=knn\n",
      "number_of_samples=10, selection_seed=0\n",
      "model_name=lr\n",
      "model_name=knn\n",
      "number_of_samples=10, selection_seed=1\n",
      "model_name=lr\n",
      "model_name=knn\n",
      "number_of_samples=10, selection_seed=2\n",
      "model_name=lr\n",
      "model_name=knn\n",
      "number_of_samples=10, selection_seed=3\n",
      "model_name=lr\n",
      "model_name=knn\n",
      "number_of_samples=10, selection_seed=4\n",
      "model_name=lr\n",
      "model_name=knn\n",
      "number_of_samples=10, selection_seed=5\n",
      "model_name=lr\n",
      "model_name=knn\n",
      "number_of_samples=10, selection_seed=6\n",
      "model_name=lr\n",
      "model_name=knn\n",
      "number_of_samples=10, selection_seed=7\n",
      "model_name=lr\n",
      "model_name=knn\n",
      "number_of_samples=10, selection_seed=8\n",
      "model_name=lr\n",
      "model_name=knn\n",
      "number_of_samples=10, selection_seed=9\n",
      "model_name=lr\n",
      "model_name=knn\n",
      "number_of_samples=30, selection_seed=0\n",
      "model_name=lr\n",
      "model_name=knn\n",
      "number_of_samples=30, selection_seed=1\n",
      "model_name=lr\n",
      "model_name=knn\n",
      "number_of_samples=30, selection_seed=2\n",
      "model_name=lr\n",
      "model_name=knn\n",
      "number_of_samples=30, selection_seed=3\n",
      "model_name=lr\n",
      "model_name=knn\n",
      "number_of_samples=30, selection_seed=4\n",
      "model_name=lr\n",
      "model_name=knn\n",
      "number_of_samples=30, selection_seed=5\n",
      "model_name=lr\n",
      "model_name=knn\n",
      "number_of_samples=30, selection_seed=6\n",
      "model_name=lr\n",
      "model_name=knn\n",
      "number_of_samples=30, selection_seed=7\n",
      "model_name=lr\n",
      "model_name=knn\n",
      "number_of_samples=30, selection_seed=8\n",
      "model_name=lr\n",
      "model_name=knn\n",
      "number_of_samples=30, selection_seed=9\n",
      "model_name=lr\n",
      "model_name=knn\n",
      "number_of_samples=None, selection_seed=None\n",
      "model_name=lr\n",
      "model_name=knn\n",
      "loading: ../datasets/intermediate-features/PlantDoc-ResNet50-ImageNet_SSL.csv\n",
      "number_of_samples=1, selection_seed=0\n"
     ]
    },
    {
     "name": "stderr",
     "output_type": "stream",
     "text": [
      "d:\\Workspace\\thesis\\.venv\\lib\\site-packages\\sklearn\\metrics\\_classification.py:2399: UserWarning: y_pred contains classes not in y_true\n",
      "  warnings.warn(\"y_pred contains classes not in y_true\")\n",
      "d:\\Workspace\\thesis\\.venv\\lib\\site-packages\\sklearn\\metrics\\_classification.py:2399: UserWarning: y_pred contains classes not in y_true\n",
      "  warnings.warn(\"y_pred contains classes not in y_true\")\n"
     ]
    },
    {
     "name": "stdout",
     "output_type": "stream",
     "text": [
      "model_name=lr\n",
      "model_name=knn\n",
      "number_of_samples=1, selection_seed=1\n"
     ]
    },
    {
     "name": "stderr",
     "output_type": "stream",
     "text": [
      "d:\\Workspace\\thesis\\.venv\\lib\\site-packages\\sklearn\\metrics\\_classification.py:2399: UserWarning: y_pred contains classes not in y_true\n",
      "  warnings.warn(\"y_pred contains classes not in y_true\")\n",
      "d:\\Workspace\\thesis\\.venv\\lib\\site-packages\\sklearn\\metrics\\_classification.py:2399: UserWarning: y_pred contains classes not in y_true\n",
      "  warnings.warn(\"y_pred contains classes not in y_true\")\n"
     ]
    },
    {
     "name": "stdout",
     "output_type": "stream",
     "text": [
      "model_name=lr\n",
      "model_name=knn\n",
      "number_of_samples=1, selection_seed=2\n"
     ]
    },
    {
     "name": "stderr",
     "output_type": "stream",
     "text": [
      "d:\\Workspace\\thesis\\.venv\\lib\\site-packages\\sklearn\\metrics\\_classification.py:2399: UserWarning: y_pred contains classes not in y_true\n",
      "  warnings.warn(\"y_pred contains classes not in y_true\")\n",
      "d:\\Workspace\\thesis\\.venv\\lib\\site-packages\\sklearn\\metrics\\_classification.py:2399: UserWarning: y_pred contains classes not in y_true\n",
      "  warnings.warn(\"y_pred contains classes not in y_true\")\n"
     ]
    },
    {
     "name": "stdout",
     "output_type": "stream",
     "text": [
      "model_name=lr\n",
      "model_name=knn\n",
      "number_of_samples=1, selection_seed=3\n"
     ]
    },
    {
     "name": "stderr",
     "output_type": "stream",
     "text": [
      "d:\\Workspace\\thesis\\.venv\\lib\\site-packages\\sklearn\\metrics\\_classification.py:2399: UserWarning: y_pred contains classes not in y_true\n",
      "  warnings.warn(\"y_pred contains classes not in y_true\")\n",
      "d:\\Workspace\\thesis\\.venv\\lib\\site-packages\\sklearn\\metrics\\_classification.py:2399: UserWarning: y_pred contains classes not in y_true\n",
      "  warnings.warn(\"y_pred contains classes not in y_true\")\n"
     ]
    },
    {
     "name": "stdout",
     "output_type": "stream",
     "text": [
      "model_name=lr\n",
      "model_name=knn\n",
      "number_of_samples=1, selection_seed=4\n"
     ]
    },
    {
     "name": "stderr",
     "output_type": "stream",
     "text": [
      "d:\\Workspace\\thesis\\.venv\\lib\\site-packages\\sklearn\\metrics\\_classification.py:2399: UserWarning: y_pred contains classes not in y_true\n",
      "  warnings.warn(\"y_pred contains classes not in y_true\")\n",
      "d:\\Workspace\\thesis\\.venv\\lib\\site-packages\\sklearn\\metrics\\_classification.py:2399: UserWarning: y_pred contains classes not in y_true\n",
      "  warnings.warn(\"y_pred contains classes not in y_true\")\n"
     ]
    },
    {
     "name": "stdout",
     "output_type": "stream",
     "text": [
      "model_name=lr\n",
      "model_name=knn\n",
      "number_of_samples=1, selection_seed=5\n"
     ]
    },
    {
     "name": "stderr",
     "output_type": "stream",
     "text": [
      "d:\\Workspace\\thesis\\.venv\\lib\\site-packages\\sklearn\\metrics\\_classification.py:2399: UserWarning: y_pred contains classes not in y_true\n",
      "  warnings.warn(\"y_pred contains classes not in y_true\")\n",
      "d:\\Workspace\\thesis\\.venv\\lib\\site-packages\\sklearn\\metrics\\_classification.py:2399: UserWarning: y_pred contains classes not in y_true\n",
      "  warnings.warn(\"y_pred contains classes not in y_true\")\n"
     ]
    },
    {
     "name": "stdout",
     "output_type": "stream",
     "text": [
      "model_name=lr\n",
      "model_name=knn\n",
      "number_of_samples=1, selection_seed=6\n"
     ]
    },
    {
     "name": "stderr",
     "output_type": "stream",
     "text": [
      "d:\\Workspace\\thesis\\.venv\\lib\\site-packages\\sklearn\\metrics\\_classification.py:2399: UserWarning: y_pred contains classes not in y_true\n",
      "  warnings.warn(\"y_pred contains classes not in y_true\")\n",
      "d:\\Workspace\\thesis\\.venv\\lib\\site-packages\\sklearn\\metrics\\_classification.py:2399: UserWarning: y_pred contains classes not in y_true\n",
      "  warnings.warn(\"y_pred contains classes not in y_true\")\n"
     ]
    },
    {
     "name": "stdout",
     "output_type": "stream",
     "text": [
      "model_name=lr\n",
      "model_name=knn\n",
      "number_of_samples=1, selection_seed=7\n"
     ]
    },
    {
     "name": "stderr",
     "output_type": "stream",
     "text": [
      "d:\\Workspace\\thesis\\.venv\\lib\\site-packages\\sklearn\\metrics\\_classification.py:2399: UserWarning: y_pred contains classes not in y_true\n",
      "  warnings.warn(\"y_pred contains classes not in y_true\")\n",
      "d:\\Workspace\\thesis\\.venv\\lib\\site-packages\\sklearn\\metrics\\_classification.py:2399: UserWarning: y_pred contains classes not in y_true\n",
      "  warnings.warn(\"y_pred contains classes not in y_true\")\n"
     ]
    },
    {
     "name": "stdout",
     "output_type": "stream",
     "text": [
      "model_name=lr\n",
      "model_name=knn\n",
      "number_of_samples=1, selection_seed=8\n"
     ]
    },
    {
     "name": "stderr",
     "output_type": "stream",
     "text": [
      "d:\\Workspace\\thesis\\.venv\\lib\\site-packages\\sklearn\\metrics\\_classification.py:2399: UserWarning: y_pred contains classes not in y_true\n",
      "  warnings.warn(\"y_pred contains classes not in y_true\")\n",
      "d:\\Workspace\\thesis\\.venv\\lib\\site-packages\\sklearn\\metrics\\_classification.py:2399: UserWarning: y_pred contains classes not in y_true\n",
      "  warnings.warn(\"y_pred contains classes not in y_true\")\n"
     ]
    },
    {
     "name": "stdout",
     "output_type": "stream",
     "text": [
      "model_name=lr\n",
      "model_name=knn\n",
      "number_of_samples=1, selection_seed=9\n"
     ]
    },
    {
     "name": "stderr",
     "output_type": "stream",
     "text": [
      "d:\\Workspace\\thesis\\.venv\\lib\\site-packages\\sklearn\\metrics\\_classification.py:2399: UserWarning: y_pred contains classes not in y_true\n",
      "  warnings.warn(\"y_pred contains classes not in y_true\")\n",
      "d:\\Workspace\\thesis\\.venv\\lib\\site-packages\\sklearn\\metrics\\_classification.py:2399: UserWarning: y_pred contains classes not in y_true\n",
      "  warnings.warn(\"y_pred contains classes not in y_true\")\n"
     ]
    },
    {
     "name": "stdout",
     "output_type": "stream",
     "text": [
      "model_name=lr\n",
      "model_name=knn\n",
      "number_of_samples=3, selection_seed=0\n"
     ]
    },
    {
     "name": "stderr",
     "output_type": "stream",
     "text": [
      "d:\\Workspace\\thesis\\.venv\\lib\\site-packages\\sklearn\\metrics\\_classification.py:2399: UserWarning: y_pred contains classes not in y_true\n",
      "  warnings.warn(\"y_pred contains classes not in y_true\")\n",
      "d:\\Workspace\\thesis\\.venv\\lib\\site-packages\\sklearn\\metrics\\_classification.py:2399: UserWarning: y_pred contains classes not in y_true\n",
      "  warnings.warn(\"y_pred contains classes not in y_true\")\n"
     ]
    },
    {
     "name": "stdout",
     "output_type": "stream",
     "text": [
      "model_name=lr\n",
      "model_name=knn\n",
      "number_of_samples=3, selection_seed=1\n",
      "model_name=lr\n",
      "model_name=knn\n",
      "number_of_samples=3, selection_seed=2\n"
     ]
    },
    {
     "name": "stderr",
     "output_type": "stream",
     "text": [
      "d:\\Workspace\\thesis\\.venv\\lib\\site-packages\\sklearn\\metrics\\_classification.py:2399: UserWarning: y_pred contains classes not in y_true\n",
      "  warnings.warn(\"y_pred contains classes not in y_true\")\n"
     ]
    },
    {
     "name": "stdout",
     "output_type": "stream",
     "text": [
      "model_name=lr\n",
      "model_name=knn\n",
      "number_of_samples=3, selection_seed=3\n"
     ]
    },
    {
     "name": "stderr",
     "output_type": "stream",
     "text": [
      "d:\\Workspace\\thesis\\.venv\\lib\\site-packages\\sklearn\\metrics\\_classification.py:2399: UserWarning: y_pred contains classes not in y_true\n",
      "  warnings.warn(\"y_pred contains classes not in y_true\")\n"
     ]
    },
    {
     "name": "stdout",
     "output_type": "stream",
     "text": [
      "model_name=lr\n",
      "model_name=knn\n",
      "number_of_samples=3, selection_seed=4\n"
     ]
    },
    {
     "name": "stderr",
     "output_type": "stream",
     "text": [
      "d:\\Workspace\\thesis\\.venv\\lib\\site-packages\\sklearn\\metrics\\_classification.py:2399: UserWarning: y_pred contains classes not in y_true\n",
      "  warnings.warn(\"y_pred contains classes not in y_true\")\n",
      "d:\\Workspace\\thesis\\.venv\\lib\\site-packages\\sklearn\\metrics\\_classification.py:2399: UserWarning: y_pred contains classes not in y_true\n",
      "  warnings.warn(\"y_pred contains classes not in y_true\")\n",
      "d:\\Workspace\\thesis\\.venv\\lib\\site-packages\\sklearn\\metrics\\_classification.py:2399: UserWarning: y_pred contains classes not in y_true\n",
      "  warnings.warn(\"y_pred contains classes not in y_true\")\n"
     ]
    },
    {
     "name": "stdout",
     "output_type": "stream",
     "text": [
      "model_name=lr\n",
      "model_name=knn\n",
      "number_of_samples=3, selection_seed=5\n",
      "model_name=lr\n",
      "model_name=knn\n",
      "number_of_samples=3, selection_seed=6\n"
     ]
    },
    {
     "name": "stderr",
     "output_type": "stream",
     "text": [
      "d:\\Workspace\\thesis\\.venv\\lib\\site-packages\\sklearn\\metrics\\_classification.py:2399: UserWarning: y_pred contains classes not in y_true\n",
      "  warnings.warn(\"y_pred contains classes not in y_true\")\n",
      "d:\\Workspace\\thesis\\.venv\\lib\\site-packages\\sklearn\\metrics\\_classification.py:2399: UserWarning: y_pred contains classes not in y_true\n",
      "  warnings.warn(\"y_pred contains classes not in y_true\")\n",
      "d:\\Workspace\\thesis\\.venv\\lib\\site-packages\\sklearn\\metrics\\_classification.py:2399: UserWarning: y_pred contains classes not in y_true\n",
      "  warnings.warn(\"y_pred contains classes not in y_true\")\n"
     ]
    },
    {
     "name": "stdout",
     "output_type": "stream",
     "text": [
      "model_name=lr\n",
      "model_name=knn\n",
      "number_of_samples=3, selection_seed=7\n"
     ]
    },
    {
     "name": "stderr",
     "output_type": "stream",
     "text": [
      "d:\\Workspace\\thesis\\.venv\\lib\\site-packages\\sklearn\\metrics\\_classification.py:2399: UserWarning: y_pred contains classes not in y_true\n",
      "  warnings.warn(\"y_pred contains classes not in y_true\")\n",
      "d:\\Workspace\\thesis\\.venv\\lib\\site-packages\\sklearn\\metrics\\_classification.py:2399: UserWarning: y_pred contains classes not in y_true\n",
      "  warnings.warn(\"y_pred contains classes not in y_true\")\n"
     ]
    },
    {
     "name": "stdout",
     "output_type": "stream",
     "text": [
      "model_name=lr\n",
      "model_name=knn\n",
      "number_of_samples=3, selection_seed=8\n",
      "model_name=lr\n",
      "model_name=knn\n",
      "number_of_samples=3, selection_seed=9\n"
     ]
    },
    {
     "name": "stderr",
     "output_type": "stream",
     "text": [
      "d:\\Workspace\\thesis\\.venv\\lib\\site-packages\\sklearn\\metrics\\_classification.py:2399: UserWarning: y_pred contains classes not in y_true\n",
      "  warnings.warn(\"y_pred contains classes not in y_true\")\n"
     ]
    },
    {
     "name": "stdout",
     "output_type": "stream",
     "text": [
      "model_name=lr\n",
      "model_name=knn\n",
      "number_of_samples=10, selection_seed=0\n"
     ]
    },
    {
     "name": "stderr",
     "output_type": "stream",
     "text": [
      "d:\\Workspace\\thesis\\.venv\\lib\\site-packages\\sklearn\\metrics\\_classification.py:2399: UserWarning: y_pred contains classes not in y_true\n",
      "  warnings.warn(\"y_pred contains classes not in y_true\")\n"
     ]
    },
    {
     "name": "stdout",
     "output_type": "stream",
     "text": [
      "model_name=lr\n"
     ]
    },
    {
     "name": "stderr",
     "output_type": "stream",
     "text": [
      "d:\\Workspace\\thesis\\.venv\\lib\\site-packages\\sklearn\\metrics\\_classification.py:2399: UserWarning: y_pred contains classes not in y_true\n",
      "  warnings.warn(\"y_pred contains classes not in y_true\")\n"
     ]
    },
    {
     "name": "stdout",
     "output_type": "stream",
     "text": [
      "model_name=knn\n",
      "number_of_samples=10, selection_seed=1\n",
      "model_name=lr\n"
     ]
    },
    {
     "name": "stderr",
     "output_type": "stream",
     "text": [
      "d:\\Workspace\\thesis\\.venv\\lib\\site-packages\\sklearn\\metrics\\_classification.py:2399: UserWarning: y_pred contains classes not in y_true\n",
      "  warnings.warn(\"y_pred contains classes not in y_true\")\n"
     ]
    },
    {
     "name": "stdout",
     "output_type": "stream",
     "text": [
      "model_name=knn\n",
      "number_of_samples=10, selection_seed=2\n",
      "model_name=lr\n"
     ]
    },
    {
     "name": "stderr",
     "output_type": "stream",
     "text": [
      "d:\\Workspace\\thesis\\.venv\\lib\\site-packages\\sklearn\\metrics\\_classification.py:2399: UserWarning: y_pred contains classes not in y_true\n",
      "  warnings.warn(\"y_pred contains classes not in y_true\")\n"
     ]
    },
    {
     "name": "stdout",
     "output_type": "stream",
     "text": [
      "model_name=knn\n",
      "number_of_samples=10, selection_seed=3\n",
      "model_name=lr\n",
      "model_name=knn\n",
      "number_of_samples=10, selection_seed=4\n",
      "model_name=lr\n"
     ]
    },
    {
     "name": "stderr",
     "output_type": "stream",
     "text": [
      "d:\\Workspace\\thesis\\.venv\\lib\\site-packages\\sklearn\\metrics\\_classification.py:2399: UserWarning: y_pred contains classes not in y_true\n",
      "  warnings.warn(\"y_pred contains classes not in y_true\")\n"
     ]
    },
    {
     "name": "stdout",
     "output_type": "stream",
     "text": [
      "model_name=knn\n",
      "number_of_samples=10, selection_seed=5\n",
      "model_name=lr\n"
     ]
    },
    {
     "name": "stderr",
     "output_type": "stream",
     "text": [
      "d:\\Workspace\\thesis\\.venv\\lib\\site-packages\\sklearn\\metrics\\_classification.py:2399: UserWarning: y_pred contains classes not in y_true\n",
      "  warnings.warn(\"y_pred contains classes not in y_true\")\n"
     ]
    },
    {
     "name": "stdout",
     "output_type": "stream",
     "text": [
      "model_name=knn\n",
      "number_of_samples=10, selection_seed=6\n",
      "model_name=lr\n"
     ]
    },
    {
     "name": "stderr",
     "output_type": "stream",
     "text": [
      "d:\\Workspace\\thesis\\.venv\\lib\\site-packages\\sklearn\\metrics\\_classification.py:2399: UserWarning: y_pred contains classes not in y_true\n",
      "  warnings.warn(\"y_pred contains classes not in y_true\")\n"
     ]
    },
    {
     "name": "stdout",
     "output_type": "stream",
     "text": [
      "model_name=knn\n",
      "number_of_samples=10, selection_seed=7\n",
      "model_name=lr\n",
      "model_name=knn\n",
      "number_of_samples=10, selection_seed=8\n",
      "model_name=lr\n"
     ]
    },
    {
     "name": "stderr",
     "output_type": "stream",
     "text": [
      "d:\\Workspace\\thesis\\.venv\\lib\\site-packages\\sklearn\\metrics\\_classification.py:2399: UserWarning: y_pred contains classes not in y_true\n",
      "  warnings.warn(\"y_pred contains classes not in y_true\")\n"
     ]
    },
    {
     "name": "stdout",
     "output_type": "stream",
     "text": [
      "model_name=knn\n",
      "number_of_samples=10, selection_seed=9\n",
      "model_name=lr\n"
     ]
    },
    {
     "name": "stderr",
     "output_type": "stream",
     "text": [
      "d:\\Workspace\\thesis\\.venv\\lib\\site-packages\\sklearn\\metrics\\_classification.py:2399: UserWarning: y_pred contains classes not in y_true\n",
      "  warnings.warn(\"y_pred contains classes not in y_true\")\n"
     ]
    },
    {
     "name": "stdout",
     "output_type": "stream",
     "text": [
      "model_name=knn\n",
      "number_of_samples=30, selection_seed=0\n",
      "model_name=lr\n"
     ]
    },
    {
     "name": "stderr",
     "output_type": "stream",
     "text": [
      "d:\\Workspace\\thesis\\.venv\\lib\\site-packages\\sklearn\\metrics\\_classification.py:2399: UserWarning: y_pred contains classes not in y_true\n",
      "  warnings.warn(\"y_pred contains classes not in y_true\")\n"
     ]
    },
    {
     "name": "stdout",
     "output_type": "stream",
     "text": [
      "model_name=knn\n",
      "number_of_samples=30, selection_seed=1\n",
      "model_name=lr\n"
     ]
    },
    {
     "name": "stderr",
     "output_type": "stream",
     "text": [
      "d:\\Workspace\\thesis\\.venv\\lib\\site-packages\\sklearn\\metrics\\_classification.py:2399: UserWarning: y_pred contains classes not in y_true\n",
      "  warnings.warn(\"y_pred contains classes not in y_true\")\n"
     ]
    },
    {
     "name": "stdout",
     "output_type": "stream",
     "text": [
      "model_name=knn\n",
      "number_of_samples=30, selection_seed=2\n",
      "model_name=lr\n",
      "model_name=knn\n",
      "number_of_samples=30, selection_seed=3\n",
      "model_name=lr\n"
     ]
    },
    {
     "name": "stderr",
     "output_type": "stream",
     "text": [
      "d:\\Workspace\\thesis\\.venv\\lib\\site-packages\\sklearn\\metrics\\_classification.py:2399: UserWarning: y_pred contains classes not in y_true\n",
      "  warnings.warn(\"y_pred contains classes not in y_true\")\n"
     ]
    },
    {
     "name": "stdout",
     "output_type": "stream",
     "text": [
      "model_name=knn\n",
      "number_of_samples=30, selection_seed=4\n",
      "model_name=lr\n"
     ]
    },
    {
     "name": "stderr",
     "output_type": "stream",
     "text": [
      "d:\\Workspace\\thesis\\.venv\\lib\\site-packages\\sklearn\\metrics\\_classification.py:2399: UserWarning: y_pred contains classes not in y_true\n",
      "  warnings.warn(\"y_pred contains classes not in y_true\")\n"
     ]
    },
    {
     "name": "stdout",
     "output_type": "stream",
     "text": [
      "model_name=knn\n",
      "number_of_samples=30, selection_seed=5\n",
      "model_name=lr\n"
     ]
    },
    {
     "name": "stderr",
     "output_type": "stream",
     "text": [
      "d:\\Workspace\\thesis\\.venv\\lib\\site-packages\\sklearn\\metrics\\_classification.py:2399: UserWarning: y_pred contains classes not in y_true\n",
      "  warnings.warn(\"y_pred contains classes not in y_true\")\n"
     ]
    },
    {
     "name": "stdout",
     "output_type": "stream",
     "text": [
      "model_name=knn\n",
      "number_of_samples=30, selection_seed=6\n",
      "model_name=lr\n"
     ]
    },
    {
     "name": "stderr",
     "output_type": "stream",
     "text": [
      "d:\\Workspace\\thesis\\.venv\\lib\\site-packages\\sklearn\\metrics\\_classification.py:2399: UserWarning: y_pred contains classes not in y_true\n",
      "  warnings.warn(\"y_pred contains classes not in y_true\")\n"
     ]
    },
    {
     "name": "stdout",
     "output_type": "stream",
     "text": [
      "model_name=knn\n",
      "number_of_samples=30, selection_seed=7\n",
      "model_name=lr\n"
     ]
    },
    {
     "name": "stderr",
     "output_type": "stream",
     "text": [
      "d:\\Workspace\\thesis\\.venv\\lib\\site-packages\\sklearn\\metrics\\_classification.py:2399: UserWarning: y_pred contains classes not in y_true\n",
      "  warnings.warn(\"y_pred contains classes not in y_true\")\n"
     ]
    },
    {
     "name": "stdout",
     "output_type": "stream",
     "text": [
      "model_name=knn\n",
      "number_of_samples=30, selection_seed=8\n",
      "model_name=lr\n"
     ]
    },
    {
     "name": "stderr",
     "output_type": "stream",
     "text": [
      "d:\\Workspace\\thesis\\.venv\\lib\\site-packages\\sklearn\\metrics\\_classification.py:2399: UserWarning: y_pred contains classes not in y_true\n",
      "  warnings.warn(\"y_pred contains classes not in y_true\")\n"
     ]
    },
    {
     "name": "stdout",
     "output_type": "stream",
     "text": [
      "model_name=knn\n",
      "number_of_samples=30, selection_seed=9\n",
      "model_name=lr\n"
     ]
    },
    {
     "name": "stderr",
     "output_type": "stream",
     "text": [
      "d:\\Workspace\\thesis\\.venv\\lib\\site-packages\\sklearn\\metrics\\_classification.py:2399: UserWarning: y_pred contains classes not in y_true\n",
      "  warnings.warn(\"y_pred contains classes not in y_true\")\n"
     ]
    },
    {
     "name": "stdout",
     "output_type": "stream",
     "text": [
      "model_name=knn\n",
      "number_of_samples=None, selection_seed=None\n",
      "model_name=lr\n",
      "model_name=knn\n",
      "loading: ../datasets/intermediate-features/PlantDoc-ResNet50-ImageNet_v1.csv\n",
      "number_of_samples=1, selection_seed=0\n"
     ]
    },
    {
     "name": "stderr",
     "output_type": "stream",
     "text": [
      "d:\\Workspace\\thesis\\.venv\\lib\\site-packages\\sklearn\\metrics\\_classification.py:2399: UserWarning: y_pred contains classes not in y_true\n",
      "  warnings.warn(\"y_pred contains classes not in y_true\")\n"
     ]
    },
    {
     "name": "stdout",
     "output_type": "stream",
     "text": [
      "model_name=lr\n",
      "model_name=knn\n",
      "number_of_samples=1, selection_seed=1\n"
     ]
    },
    {
     "name": "stderr",
     "output_type": "stream",
     "text": [
      "d:\\Workspace\\thesis\\.venv\\lib\\site-packages\\sklearn\\metrics\\_classification.py:2399: UserWarning: y_pred contains classes not in y_true\n",
      "  warnings.warn(\"y_pred contains classes not in y_true\")\n",
      "d:\\Workspace\\thesis\\.venv\\lib\\site-packages\\sklearn\\metrics\\_classification.py:2399: UserWarning: y_pred contains classes not in y_true\n",
      "  warnings.warn(\"y_pred contains classes not in y_true\")\n"
     ]
    },
    {
     "name": "stdout",
     "output_type": "stream",
     "text": [
      "model_name=lr\n",
      "model_name=knn\n",
      "number_of_samples=1, selection_seed=2\n"
     ]
    },
    {
     "name": "stderr",
     "output_type": "stream",
     "text": [
      "d:\\Workspace\\thesis\\.venv\\lib\\site-packages\\sklearn\\metrics\\_classification.py:2399: UserWarning: y_pred contains classes not in y_true\n",
      "  warnings.warn(\"y_pred contains classes not in y_true\")\n"
     ]
    },
    {
     "name": "stdout",
     "output_type": "stream",
     "text": [
      "model_name=lr\n",
      "model_name=knn\n",
      "number_of_samples=1, selection_seed=3\n"
     ]
    },
    {
     "name": "stderr",
     "output_type": "stream",
     "text": [
      "d:\\Workspace\\thesis\\.venv\\lib\\site-packages\\sklearn\\metrics\\_classification.py:2399: UserWarning: y_pred contains classes not in y_true\n",
      "  warnings.warn(\"y_pred contains classes not in y_true\")\n"
     ]
    },
    {
     "name": "stdout",
     "output_type": "stream",
     "text": [
      "model_name=lr\n",
      "model_name=knn\n",
      "number_of_samples=1, selection_seed=4\n"
     ]
    },
    {
     "name": "stderr",
     "output_type": "stream",
     "text": [
      "d:\\Workspace\\thesis\\.venv\\lib\\site-packages\\sklearn\\metrics\\_classification.py:2399: UserWarning: y_pred contains classes not in y_true\n",
      "  warnings.warn(\"y_pred contains classes not in y_true\")\n",
      "d:\\Workspace\\thesis\\.venv\\lib\\site-packages\\sklearn\\metrics\\_classification.py:2399: UserWarning: y_pred contains classes not in y_true\n",
      "  warnings.warn(\"y_pred contains classes not in y_true\")\n"
     ]
    },
    {
     "name": "stdout",
     "output_type": "stream",
     "text": [
      "model_name=lr\n",
      "model_name=knn\n",
      "number_of_samples=1, selection_seed=5\n"
     ]
    },
    {
     "name": "stderr",
     "output_type": "stream",
     "text": [
      "d:\\Workspace\\thesis\\.venv\\lib\\site-packages\\sklearn\\metrics\\_classification.py:2399: UserWarning: y_pred contains classes not in y_true\n",
      "  warnings.warn(\"y_pred contains classes not in y_true\")\n",
      "d:\\Workspace\\thesis\\.venv\\lib\\site-packages\\sklearn\\metrics\\_classification.py:2399: UserWarning: y_pred contains classes not in y_true\n",
      "  warnings.warn(\"y_pred contains classes not in y_true\")\n"
     ]
    },
    {
     "name": "stdout",
     "output_type": "stream",
     "text": [
      "model_name=lr\n",
      "model_name=knn\n",
      "number_of_samples=1, selection_seed=6\n"
     ]
    },
    {
     "name": "stderr",
     "output_type": "stream",
     "text": [
      "d:\\Workspace\\thesis\\.venv\\lib\\site-packages\\sklearn\\metrics\\_classification.py:2399: UserWarning: y_pred contains classes not in y_true\n",
      "  warnings.warn(\"y_pred contains classes not in y_true\")\n"
     ]
    },
    {
     "name": "stdout",
     "output_type": "stream",
     "text": [
      "model_name=lr\n",
      "model_name=knn\n",
      "number_of_samples=1, selection_seed=7\n"
     ]
    },
    {
     "name": "stderr",
     "output_type": "stream",
     "text": [
      "d:\\Workspace\\thesis\\.venv\\lib\\site-packages\\sklearn\\metrics\\_classification.py:2399: UserWarning: y_pred contains classes not in y_true\n",
      "  warnings.warn(\"y_pred contains classes not in y_true\")\n",
      "d:\\Workspace\\thesis\\.venv\\lib\\site-packages\\sklearn\\metrics\\_classification.py:2399: UserWarning: y_pred contains classes not in y_true\n",
      "  warnings.warn(\"y_pred contains classes not in y_true\")\n"
     ]
    },
    {
     "name": "stdout",
     "output_type": "stream",
     "text": [
      "model_name=lr\n",
      "model_name=knn\n",
      "number_of_samples=1, selection_seed=8\n"
     ]
    },
    {
     "name": "stderr",
     "output_type": "stream",
     "text": [
      "d:\\Workspace\\thesis\\.venv\\lib\\site-packages\\sklearn\\metrics\\_classification.py:2399: UserWarning: y_pred contains classes not in y_true\n",
      "  warnings.warn(\"y_pred contains classes not in y_true\")\n",
      "d:\\Workspace\\thesis\\.venv\\lib\\site-packages\\sklearn\\metrics\\_classification.py:2399: UserWarning: y_pred contains classes not in y_true\n",
      "  warnings.warn(\"y_pred contains classes not in y_true\")\n"
     ]
    },
    {
     "name": "stdout",
     "output_type": "stream",
     "text": [
      "model_name=lr\n",
      "model_name=knn\n",
      "number_of_samples=1, selection_seed=9\n"
     ]
    },
    {
     "name": "stderr",
     "output_type": "stream",
     "text": [
      "d:\\Workspace\\thesis\\.venv\\lib\\site-packages\\sklearn\\metrics\\_classification.py:2399: UserWarning: y_pred contains classes not in y_true\n",
      "  warnings.warn(\"y_pred contains classes not in y_true\")\n",
      "d:\\Workspace\\thesis\\.venv\\lib\\site-packages\\sklearn\\metrics\\_classification.py:2399: UserWarning: y_pred contains classes not in y_true\n",
      "  warnings.warn(\"y_pred contains classes not in y_true\")\n"
     ]
    },
    {
     "name": "stdout",
     "output_type": "stream",
     "text": [
      "model_name=lr\n",
      "model_name=knn\n",
      "number_of_samples=3, selection_seed=0\n",
      "model_name=lr\n",
      "model_name=knn\n",
      "number_of_samples=3, selection_seed=1\n"
     ]
    },
    {
     "name": "stderr",
     "output_type": "stream",
     "text": [
      "d:\\Workspace\\thesis\\.venv\\lib\\site-packages\\sklearn\\metrics\\_classification.py:2399: UserWarning: y_pred contains classes not in y_true\n",
      "  warnings.warn(\"y_pred contains classes not in y_true\")\n"
     ]
    },
    {
     "name": "stdout",
     "output_type": "stream",
     "text": [
      "model_name=lr\n",
      "model_name=knn\n",
      "number_of_samples=3, selection_seed=2\n"
     ]
    },
    {
     "name": "stderr",
     "output_type": "stream",
     "text": [
      "d:\\Workspace\\thesis\\.venv\\lib\\site-packages\\sklearn\\metrics\\_classification.py:2399: UserWarning: y_pred contains classes not in y_true\n",
      "  warnings.warn(\"y_pred contains classes not in y_true\")\n",
      "d:\\Workspace\\thesis\\.venv\\lib\\site-packages\\sklearn\\metrics\\_classification.py:2399: UserWarning: y_pred contains classes not in y_true\n",
      "  warnings.warn(\"y_pred contains classes not in y_true\")\n",
      "d:\\Workspace\\thesis\\.venv\\lib\\site-packages\\sklearn\\metrics\\_classification.py:2399: UserWarning: y_pred contains classes not in y_true\n",
      "  warnings.warn(\"y_pred contains classes not in y_true\")\n"
     ]
    },
    {
     "name": "stdout",
     "output_type": "stream",
     "text": [
      "model_name=lr\n",
      "model_name=knn\n",
      "number_of_samples=3, selection_seed=3\n",
      "model_name=lr\n",
      "model_name=knn\n",
      "number_of_samples=3, selection_seed=4\n"
     ]
    },
    {
     "name": "stderr",
     "output_type": "stream",
     "text": [
      "d:\\Workspace\\thesis\\.venv\\lib\\site-packages\\sklearn\\metrics\\_classification.py:2399: UserWarning: y_pred contains classes not in y_true\n",
      "  warnings.warn(\"y_pred contains classes not in y_true\")\n",
      "d:\\Workspace\\thesis\\.venv\\lib\\site-packages\\sklearn\\metrics\\_classification.py:2399: UserWarning: y_pred contains classes not in y_true\n",
      "  warnings.warn(\"y_pred contains classes not in y_true\")\n"
     ]
    },
    {
     "name": "stdout",
     "output_type": "stream",
     "text": [
      "model_name=lr\n",
      "model_name=knn\n",
      "number_of_samples=3, selection_seed=5\n",
      "model_name=lr\n",
      "model_name=knn\n",
      "number_of_samples=3, selection_seed=6\n",
      "model_name=lr\n",
      "model_name=knn\n",
      "number_of_samples=3, selection_seed=7\n"
     ]
    },
    {
     "name": "stderr",
     "output_type": "stream",
     "text": [
      "d:\\Workspace\\thesis\\.venv\\lib\\site-packages\\sklearn\\metrics\\_classification.py:2399: UserWarning: y_pred contains classes not in y_true\n",
      "  warnings.warn(\"y_pred contains classes not in y_true\")\n"
     ]
    },
    {
     "name": "stdout",
     "output_type": "stream",
     "text": [
      "model_name=lr\n",
      "model_name=knn\n",
      "number_of_samples=3, selection_seed=8\n"
     ]
    },
    {
     "name": "stderr",
     "output_type": "stream",
     "text": [
      "d:\\Workspace\\thesis\\.venv\\lib\\site-packages\\sklearn\\metrics\\_classification.py:2399: UserWarning: y_pred contains classes not in y_true\n",
      "  warnings.warn(\"y_pred contains classes not in y_true\")\n"
     ]
    },
    {
     "name": "stdout",
     "output_type": "stream",
     "text": [
      "model_name=lr\n",
      "model_name=knn\n",
      "number_of_samples=3, selection_seed=9\n",
      "model_name=lr\n",
      "model_name=knn\n",
      "number_of_samples=10, selection_seed=0\n",
      "model_name=lr\n",
      "model_name=knn\n",
      "number_of_samples=10, selection_seed=1\n",
      "model_name=lr\n"
     ]
    },
    {
     "name": "stderr",
     "output_type": "stream",
     "text": [
      "d:\\Workspace\\thesis\\.venv\\lib\\site-packages\\sklearn\\metrics\\_classification.py:2399: UserWarning: y_pred contains classes not in y_true\n",
      "  warnings.warn(\"y_pred contains classes not in y_true\")\n"
     ]
    },
    {
     "name": "stdout",
     "output_type": "stream",
     "text": [
      "model_name=knn\n",
      "number_of_samples=10, selection_seed=2\n",
      "model_name=lr\n",
      "model_name=knn\n",
      "number_of_samples=10, selection_seed=3\n",
      "model_name=lr\n"
     ]
    },
    {
     "name": "stderr",
     "output_type": "stream",
     "text": [
      "d:\\Workspace\\thesis\\.venv\\lib\\site-packages\\sklearn\\metrics\\_classification.py:2399: UserWarning: y_pred contains classes not in y_true\n",
      "  warnings.warn(\"y_pred contains classes not in y_true\")\n"
     ]
    },
    {
     "name": "stdout",
     "output_type": "stream",
     "text": [
      "model_name=knn\n",
      "number_of_samples=10, selection_seed=4\n",
      "model_name=lr\n"
     ]
    },
    {
     "name": "stderr",
     "output_type": "stream",
     "text": [
      "d:\\Workspace\\thesis\\.venv\\lib\\site-packages\\sklearn\\metrics\\_classification.py:2399: UserWarning: y_pred contains classes not in y_true\n",
      "  warnings.warn(\"y_pred contains classes not in y_true\")\n"
     ]
    },
    {
     "name": "stdout",
     "output_type": "stream",
     "text": [
      "model_name=knn\n",
      "number_of_samples=10, selection_seed=5\n",
      "model_name=lr\n",
      "model_name=knn\n",
      "number_of_samples=10, selection_seed=6\n",
      "model_name=lr\n"
     ]
    },
    {
     "name": "stderr",
     "output_type": "stream",
     "text": [
      "d:\\Workspace\\thesis\\.venv\\lib\\site-packages\\sklearn\\metrics\\_classification.py:2399: UserWarning: y_pred contains classes not in y_true\n",
      "  warnings.warn(\"y_pred contains classes not in y_true\")\n"
     ]
    },
    {
     "name": "stdout",
     "output_type": "stream",
     "text": [
      "model_name=knn\n",
      "number_of_samples=10, selection_seed=7\n",
      "model_name=lr\n"
     ]
    },
    {
     "name": "stderr",
     "output_type": "stream",
     "text": [
      "d:\\Workspace\\thesis\\.venv\\lib\\site-packages\\sklearn\\metrics\\_classification.py:2399: UserWarning: y_pred contains classes not in y_true\n",
      "  warnings.warn(\"y_pred contains classes not in y_true\")\n"
     ]
    },
    {
     "name": "stdout",
     "output_type": "stream",
     "text": [
      "model_name=knn\n",
      "number_of_samples=10, selection_seed=8\n",
      "model_name=lr\n"
     ]
    },
    {
     "name": "stderr",
     "output_type": "stream",
     "text": [
      "d:\\Workspace\\thesis\\.venv\\lib\\site-packages\\sklearn\\metrics\\_classification.py:2399: UserWarning: y_pred contains classes not in y_true\n",
      "  warnings.warn(\"y_pred contains classes not in y_true\")\n"
     ]
    },
    {
     "name": "stdout",
     "output_type": "stream",
     "text": [
      "model_name=knn\n",
      "number_of_samples=10, selection_seed=9\n",
      "model_name=lr\n",
      "model_name=knn\n",
      "number_of_samples=30, selection_seed=0\n",
      "model_name=lr\n",
      "model_name=knn\n",
      "number_of_samples=30, selection_seed=1\n",
      "model_name=lr\n",
      "model_name=knn\n",
      "number_of_samples=30, selection_seed=2\n",
      "model_name=lr\n",
      "model_name=knn\n",
      "number_of_samples=30, selection_seed=3\n",
      "model_name=lr\n",
      "model_name=knn\n",
      "number_of_samples=30, selection_seed=4\n",
      "model_name=lr\n",
      "model_name=knn\n",
      "number_of_samples=30, selection_seed=5\n",
      "model_name=lr\n",
      "model_name=knn\n",
      "number_of_samples=30, selection_seed=6\n",
      "model_name=lr\n",
      "model_name=knn\n",
      "number_of_samples=30, selection_seed=7\n",
      "model_name=lr\n",
      "model_name=knn\n",
      "number_of_samples=30, selection_seed=8\n",
      "model_name=lr\n",
      "model_name=knn\n",
      "number_of_samples=30, selection_seed=9\n",
      "model_name=lr\n",
      "model_name=knn\n",
      "number_of_samples=None, selection_seed=None\n",
      "model_name=lr\n",
      "model_name=knn\n",
      "loading: ../datasets/intermediate-features/PlantDoc-ResNet50-ImageNet_v2.csv\n",
      "number_of_samples=1, selection_seed=0\n"
     ]
    },
    {
     "name": "stderr",
     "output_type": "stream",
     "text": [
      "d:\\Workspace\\thesis\\.venv\\lib\\site-packages\\sklearn\\metrics\\_classification.py:2399: UserWarning: y_pred contains classes not in y_true\n",
      "  warnings.warn(\"y_pred contains classes not in y_true\")\n"
     ]
    },
    {
     "name": "stdout",
     "output_type": "stream",
     "text": [
      "model_name=lr\n",
      "model_name=knn\n",
      "number_of_samples=1, selection_seed=1\n"
     ]
    },
    {
     "name": "stderr",
     "output_type": "stream",
     "text": [
      "d:\\Workspace\\thesis\\.venv\\lib\\site-packages\\sklearn\\metrics\\_classification.py:2399: UserWarning: y_pred contains classes not in y_true\n",
      "  warnings.warn(\"y_pred contains classes not in y_true\")\n"
     ]
    },
    {
     "name": "stdout",
     "output_type": "stream",
     "text": [
      "model_name=lr\n",
      "model_name=knn\n",
      "number_of_samples=1, selection_seed=2\n"
     ]
    },
    {
     "name": "stderr",
     "output_type": "stream",
     "text": [
      "d:\\Workspace\\thesis\\.venv\\lib\\site-packages\\sklearn\\metrics\\_classification.py:2399: UserWarning: y_pred contains classes not in y_true\n",
      "  warnings.warn(\"y_pred contains classes not in y_true\")\n"
     ]
    },
    {
     "name": "stdout",
     "output_type": "stream",
     "text": [
      "model_name=lr\n",
      "model_name=knn\n",
      "number_of_samples=1, selection_seed=3\n"
     ]
    },
    {
     "name": "stderr",
     "output_type": "stream",
     "text": [
      "d:\\Workspace\\thesis\\.venv\\lib\\site-packages\\sklearn\\metrics\\_classification.py:2399: UserWarning: y_pred contains classes not in y_true\n",
      "  warnings.warn(\"y_pred contains classes not in y_true\")\n"
     ]
    },
    {
     "name": "stdout",
     "output_type": "stream",
     "text": [
      "model_name=lr\n",
      "model_name=knn\n",
      "number_of_samples=1, selection_seed=4\n"
     ]
    },
    {
     "name": "stderr",
     "output_type": "stream",
     "text": [
      "d:\\Workspace\\thesis\\.venv\\lib\\site-packages\\sklearn\\metrics\\_classification.py:2399: UserWarning: y_pred contains classes not in y_true\n",
      "  warnings.warn(\"y_pred contains classes not in y_true\")\n"
     ]
    },
    {
     "name": "stdout",
     "output_type": "stream",
     "text": [
      "model_name=lr\n",
      "model_name=knn\n",
      "number_of_samples=1, selection_seed=5\n"
     ]
    },
    {
     "name": "stderr",
     "output_type": "stream",
     "text": [
      "d:\\Workspace\\thesis\\.venv\\lib\\site-packages\\sklearn\\metrics\\_classification.py:2399: UserWarning: y_pred contains classes not in y_true\n",
      "  warnings.warn(\"y_pred contains classes not in y_true\")\n"
     ]
    },
    {
     "name": "stdout",
     "output_type": "stream",
     "text": [
      "model_name=lr\n",
      "model_name=knn\n",
      "number_of_samples=1, selection_seed=6\n"
     ]
    },
    {
     "name": "stderr",
     "output_type": "stream",
     "text": [
      "d:\\Workspace\\thesis\\.venv\\lib\\site-packages\\sklearn\\metrics\\_classification.py:2399: UserWarning: y_pred contains classes not in y_true\n",
      "  warnings.warn(\"y_pred contains classes not in y_true\")\n"
     ]
    },
    {
     "name": "stdout",
     "output_type": "stream",
     "text": [
      "model_name=lr\n",
      "model_name=knn\n",
      "number_of_samples=1, selection_seed=7\n"
     ]
    },
    {
     "name": "stderr",
     "output_type": "stream",
     "text": [
      "d:\\Workspace\\thesis\\.venv\\lib\\site-packages\\sklearn\\metrics\\_classification.py:2399: UserWarning: y_pred contains classes not in y_true\n",
      "  warnings.warn(\"y_pred contains classes not in y_true\")\n"
     ]
    },
    {
     "name": "stdout",
     "output_type": "stream",
     "text": [
      "model_name=lr\n",
      "model_name=knn\n",
      "number_of_samples=1, selection_seed=8\n"
     ]
    },
    {
     "name": "stderr",
     "output_type": "stream",
     "text": [
      "d:\\Workspace\\thesis\\.venv\\lib\\site-packages\\sklearn\\metrics\\_classification.py:2399: UserWarning: y_pred contains classes not in y_true\n",
      "  warnings.warn(\"y_pred contains classes not in y_true\")\n"
     ]
    },
    {
     "name": "stdout",
     "output_type": "stream",
     "text": [
      "model_name=lr\n",
      "model_name=knn\n",
      "number_of_samples=1, selection_seed=9\n",
      "model_name=lr\n",
      "model_name=knn\n",
      "number_of_samples=3, selection_seed=0\n",
      "model_name=lr\n",
      "model_name=knn\n",
      "number_of_samples=3, selection_seed=1\n",
      "model_name=lr\n",
      "model_name=knn\n",
      "number_of_samples=3, selection_seed=2\n",
      "model_name=lr\n",
      "model_name=knn\n",
      "number_of_samples=3, selection_seed=3\n",
      "model_name=lr\n",
      "model_name=knn\n",
      "number_of_samples=3, selection_seed=4\n",
      "model_name=lr\n",
      "model_name=knn\n",
      "number_of_samples=3, selection_seed=5\n",
      "model_name=lr\n",
      "model_name=knn\n",
      "number_of_samples=3, selection_seed=6\n",
      "model_name=lr\n",
      "model_name=knn\n",
      "number_of_samples=3, selection_seed=7\n",
      "model_name=lr\n",
      "model_name=knn\n",
      "number_of_samples=3, selection_seed=8\n",
      "model_name=lr\n",
      "model_name=knn\n",
      "number_of_samples=3, selection_seed=9\n",
      "model_name=lr\n",
      "model_name=knn\n",
      "number_of_samples=10, selection_seed=0\n",
      "model_name=lr\n",
      "model_name=knn\n",
      "number_of_samples=10, selection_seed=1\n",
      "model_name=lr\n",
      "model_name=knn\n",
      "number_of_samples=10, selection_seed=2\n",
      "model_name=lr\n",
      "model_name=knn\n",
      "number_of_samples=10, selection_seed=3\n",
      "model_name=lr\n",
      "model_name=knn\n",
      "number_of_samples=10, selection_seed=4\n",
      "model_name=lr\n",
      "model_name=knn\n",
      "number_of_samples=10, selection_seed=5\n",
      "model_name=lr\n",
      "model_name=knn\n",
      "number_of_samples=10, selection_seed=6\n",
      "model_name=lr\n",
      "model_name=knn\n",
      "number_of_samples=10, selection_seed=7\n",
      "model_name=lr\n",
      "model_name=knn\n",
      "number_of_samples=10, selection_seed=8\n",
      "model_name=lr\n",
      "model_name=knn\n",
      "number_of_samples=10, selection_seed=9\n",
      "model_name=lr\n",
      "model_name=knn\n",
      "number_of_samples=30, selection_seed=0\n",
      "model_name=lr\n",
      "model_name=knn\n",
      "number_of_samples=30, selection_seed=1\n",
      "model_name=lr\n",
      "model_name=knn\n",
      "number_of_samples=30, selection_seed=2\n",
      "model_name=lr\n",
      "model_name=knn\n",
      "number_of_samples=30, selection_seed=3\n",
      "model_name=lr\n",
      "model_name=knn\n",
      "number_of_samples=30, selection_seed=4\n",
      "model_name=lr\n",
      "model_name=knn\n",
      "number_of_samples=30, selection_seed=5\n",
      "model_name=lr\n",
      "model_name=knn\n",
      "number_of_samples=30, selection_seed=6\n",
      "model_name=lr\n",
      "model_name=knn\n",
      "number_of_samples=30, selection_seed=7\n",
      "model_name=lr\n",
      "model_name=knn\n",
      "number_of_samples=30, selection_seed=8\n",
      "model_name=lr\n",
      "model_name=knn\n",
      "number_of_samples=30, selection_seed=9\n",
      "model_name=lr\n",
      "model_name=knn\n",
      "number_of_samples=None, selection_seed=None\n",
      "model_name=lr\n",
      "model_name=knn\n",
      "loading: ../datasets/intermediate-features/PlantDoc-ResNet50-PDDD.csv\n",
      "number_of_samples=1, selection_seed=0\n"
     ]
    },
    {
     "name": "stderr",
     "output_type": "stream",
     "text": [
      "d:\\Workspace\\thesis\\.venv\\lib\\site-packages\\sklearn\\metrics\\_classification.py:2399: UserWarning: y_pred contains classes not in y_true\n",
      "  warnings.warn(\"y_pred contains classes not in y_true\")\n",
      "d:\\Workspace\\thesis\\.venv\\lib\\site-packages\\sklearn\\metrics\\_classification.py:2399: UserWarning: y_pred contains classes not in y_true\n",
      "  warnings.warn(\"y_pred contains classes not in y_true\")\n"
     ]
    },
    {
     "name": "stdout",
     "output_type": "stream",
     "text": [
      "model_name=lr\n",
      "model_name=knn\n",
      "number_of_samples=1, selection_seed=1\n"
     ]
    },
    {
     "name": "stderr",
     "output_type": "stream",
     "text": [
      "d:\\Workspace\\thesis\\.venv\\lib\\site-packages\\sklearn\\metrics\\_classification.py:2399: UserWarning: y_pred contains classes not in y_true\n",
      "  warnings.warn(\"y_pred contains classes not in y_true\")\n",
      "d:\\Workspace\\thesis\\.venv\\lib\\site-packages\\sklearn\\metrics\\_classification.py:2399: UserWarning: y_pred contains classes not in y_true\n",
      "  warnings.warn(\"y_pred contains classes not in y_true\")\n"
     ]
    },
    {
     "name": "stdout",
     "output_type": "stream",
     "text": [
      "model_name=lr\n",
      "model_name=knn\n",
      "number_of_samples=1, selection_seed=2\n"
     ]
    },
    {
     "name": "stderr",
     "output_type": "stream",
     "text": [
      "d:\\Workspace\\thesis\\.venv\\lib\\site-packages\\sklearn\\metrics\\_classification.py:2399: UserWarning: y_pred contains classes not in y_true\n",
      "  warnings.warn(\"y_pred contains classes not in y_true\")\n",
      "d:\\Workspace\\thesis\\.venv\\lib\\site-packages\\sklearn\\metrics\\_classification.py:2399: UserWarning: y_pred contains classes not in y_true\n",
      "  warnings.warn(\"y_pred contains classes not in y_true\")\n"
     ]
    },
    {
     "name": "stdout",
     "output_type": "stream",
     "text": [
      "model_name=lr\n",
      "model_name=knn\n",
      "number_of_samples=1, selection_seed=3\n"
     ]
    },
    {
     "name": "stderr",
     "output_type": "stream",
     "text": [
      "d:\\Workspace\\thesis\\.venv\\lib\\site-packages\\sklearn\\metrics\\_classification.py:2399: UserWarning: y_pred contains classes not in y_true\n",
      "  warnings.warn(\"y_pred contains classes not in y_true\")\n",
      "d:\\Workspace\\thesis\\.venv\\lib\\site-packages\\sklearn\\metrics\\_classification.py:2399: UserWarning: y_pred contains classes not in y_true\n",
      "  warnings.warn(\"y_pred contains classes not in y_true\")\n"
     ]
    },
    {
     "name": "stdout",
     "output_type": "stream",
     "text": [
      "model_name=lr\n",
      "model_name=knn\n",
      "number_of_samples=1, selection_seed=4\n"
     ]
    },
    {
     "name": "stderr",
     "output_type": "stream",
     "text": [
      "d:\\Workspace\\thesis\\.venv\\lib\\site-packages\\sklearn\\metrics\\_classification.py:2399: UserWarning: y_pred contains classes not in y_true\n",
      "  warnings.warn(\"y_pred contains classes not in y_true\")\n",
      "d:\\Workspace\\thesis\\.venv\\lib\\site-packages\\sklearn\\metrics\\_classification.py:2399: UserWarning: y_pred contains classes not in y_true\n",
      "  warnings.warn(\"y_pred contains classes not in y_true\")\n"
     ]
    },
    {
     "name": "stdout",
     "output_type": "stream",
     "text": [
      "model_name=lr\n",
      "model_name=knn\n",
      "number_of_samples=1, selection_seed=5\n"
     ]
    },
    {
     "name": "stderr",
     "output_type": "stream",
     "text": [
      "d:\\Workspace\\thesis\\.venv\\lib\\site-packages\\sklearn\\metrics\\_classification.py:2399: UserWarning: y_pred contains classes not in y_true\n",
      "  warnings.warn(\"y_pred contains classes not in y_true\")\n",
      "d:\\Workspace\\thesis\\.venv\\lib\\site-packages\\sklearn\\metrics\\_classification.py:2399: UserWarning: y_pred contains classes not in y_true\n",
      "  warnings.warn(\"y_pred contains classes not in y_true\")\n"
     ]
    },
    {
     "name": "stdout",
     "output_type": "stream",
     "text": [
      "model_name=lr\n",
      "model_name=knn\n",
      "number_of_samples=1, selection_seed=6\n"
     ]
    },
    {
     "name": "stderr",
     "output_type": "stream",
     "text": [
      "d:\\Workspace\\thesis\\.venv\\lib\\site-packages\\sklearn\\metrics\\_classification.py:2399: UserWarning: y_pred contains classes not in y_true\n",
      "  warnings.warn(\"y_pred contains classes not in y_true\")\n",
      "d:\\Workspace\\thesis\\.venv\\lib\\site-packages\\sklearn\\metrics\\_classification.py:2399: UserWarning: y_pred contains classes not in y_true\n",
      "  warnings.warn(\"y_pred contains classes not in y_true\")\n"
     ]
    },
    {
     "name": "stdout",
     "output_type": "stream",
     "text": [
      "model_name=lr\n",
      "model_name=knn\n",
      "number_of_samples=1, selection_seed=7\n"
     ]
    },
    {
     "name": "stderr",
     "output_type": "stream",
     "text": [
      "d:\\Workspace\\thesis\\.venv\\lib\\site-packages\\sklearn\\metrics\\_classification.py:2399: UserWarning: y_pred contains classes not in y_true\n",
      "  warnings.warn(\"y_pred contains classes not in y_true\")\n",
      "d:\\Workspace\\thesis\\.venv\\lib\\site-packages\\sklearn\\metrics\\_classification.py:2399: UserWarning: y_pred contains classes not in y_true\n",
      "  warnings.warn(\"y_pred contains classes not in y_true\")\n"
     ]
    },
    {
     "name": "stdout",
     "output_type": "stream",
     "text": [
      "model_name=lr\n",
      "model_name=knn\n",
      "number_of_samples=1, selection_seed=8\n"
     ]
    },
    {
     "name": "stderr",
     "output_type": "stream",
     "text": [
      "d:\\Workspace\\thesis\\.venv\\lib\\site-packages\\sklearn\\metrics\\_classification.py:2399: UserWarning: y_pred contains classes not in y_true\n",
      "  warnings.warn(\"y_pred contains classes not in y_true\")\n",
      "d:\\Workspace\\thesis\\.venv\\lib\\site-packages\\sklearn\\metrics\\_classification.py:2399: UserWarning: y_pred contains classes not in y_true\n",
      "  warnings.warn(\"y_pred contains classes not in y_true\")\n"
     ]
    },
    {
     "name": "stdout",
     "output_type": "stream",
     "text": [
      "model_name=lr\n",
      "model_name=knn\n",
      "number_of_samples=1, selection_seed=9\n"
     ]
    },
    {
     "name": "stderr",
     "output_type": "stream",
     "text": [
      "d:\\Workspace\\thesis\\.venv\\lib\\site-packages\\sklearn\\metrics\\_classification.py:2399: UserWarning: y_pred contains classes not in y_true\n",
      "  warnings.warn(\"y_pred contains classes not in y_true\")\n",
      "d:\\Workspace\\thesis\\.venv\\lib\\site-packages\\sklearn\\metrics\\_classification.py:2399: UserWarning: y_pred contains classes not in y_true\n",
      "  warnings.warn(\"y_pred contains classes not in y_true\")\n"
     ]
    },
    {
     "name": "stdout",
     "output_type": "stream",
     "text": [
      "model_name=lr\n",
      "model_name=knn\n",
      "number_of_samples=3, selection_seed=0\n",
      "model_name=lr\n",
      "model_name=knn\n",
      "number_of_samples=3, selection_seed=1\n"
     ]
    },
    {
     "name": "stderr",
     "output_type": "stream",
     "text": [
      "d:\\Workspace\\thesis\\.venv\\lib\\site-packages\\sklearn\\metrics\\_classification.py:2399: UserWarning: y_pred contains classes not in y_true\n",
      "  warnings.warn(\"y_pred contains classes not in y_true\")\n"
     ]
    },
    {
     "name": "stdout",
     "output_type": "stream",
     "text": [
      "model_name=lr\n",
      "model_name=knn\n",
      "number_of_samples=3, selection_seed=2\n",
      "model_name=lr\n",
      "model_name=knn\n",
      "number_of_samples=3, selection_seed=3\n"
     ]
    },
    {
     "name": "stderr",
     "output_type": "stream",
     "text": [
      "d:\\Workspace\\thesis\\.venv\\lib\\site-packages\\sklearn\\metrics\\_classification.py:2399: UserWarning: y_pred contains classes not in y_true\n",
      "  warnings.warn(\"y_pred contains classes not in y_true\")\n"
     ]
    },
    {
     "name": "stdout",
     "output_type": "stream",
     "text": [
      "model_name=lr\n",
      "model_name=knn\n",
      "number_of_samples=3, selection_seed=4\n"
     ]
    },
    {
     "name": "stderr",
     "output_type": "stream",
     "text": [
      "d:\\Workspace\\thesis\\.venv\\lib\\site-packages\\sklearn\\metrics\\_classification.py:2399: UserWarning: y_pred contains classes not in y_true\n",
      "  warnings.warn(\"y_pred contains classes not in y_true\")\n",
      "d:\\Workspace\\thesis\\.venv\\lib\\site-packages\\sklearn\\metrics\\_classification.py:2399: UserWarning: y_pred contains classes not in y_true\n",
      "  warnings.warn(\"y_pred contains classes not in y_true\")\n",
      "d:\\Workspace\\thesis\\.venv\\lib\\site-packages\\sklearn\\metrics\\_classification.py:2399: UserWarning: y_pred contains classes not in y_true\n",
      "  warnings.warn(\"y_pred contains classes not in y_true\")\n"
     ]
    },
    {
     "name": "stdout",
     "output_type": "stream",
     "text": [
      "model_name=lr\n",
      "model_name=knn\n",
      "number_of_samples=3, selection_seed=5\n",
      "model_name=lr\n",
      "model_name=knn\n",
      "number_of_samples=3, selection_seed=6\n"
     ]
    },
    {
     "name": "stderr",
     "output_type": "stream",
     "text": [
      "d:\\Workspace\\thesis\\.venv\\lib\\site-packages\\sklearn\\metrics\\_classification.py:2399: UserWarning: y_pred contains classes not in y_true\n",
      "  warnings.warn(\"y_pred contains classes not in y_true\")\n",
      "d:\\Workspace\\thesis\\.venv\\lib\\site-packages\\sklearn\\metrics\\_classification.py:2399: UserWarning: y_pred contains classes not in y_true\n",
      "  warnings.warn(\"y_pred contains classes not in y_true\")\n",
      "d:\\Workspace\\thesis\\.venv\\lib\\site-packages\\sklearn\\metrics\\_classification.py:2399: UserWarning: y_pred contains classes not in y_true\n",
      "  warnings.warn(\"y_pred contains classes not in y_true\")\n"
     ]
    },
    {
     "name": "stdout",
     "output_type": "stream",
     "text": [
      "model_name=lr\n",
      "model_name=knn\n",
      "number_of_samples=3, selection_seed=7\n"
     ]
    },
    {
     "name": "stderr",
     "output_type": "stream",
     "text": [
      "d:\\Workspace\\thesis\\.venv\\lib\\site-packages\\sklearn\\metrics\\_classification.py:2399: UserWarning: y_pred contains classes not in y_true\n",
      "  warnings.warn(\"y_pred contains classes not in y_true\")\n",
      "d:\\Workspace\\thesis\\.venv\\lib\\site-packages\\sklearn\\metrics\\_classification.py:2399: UserWarning: y_pred contains classes not in y_true\n",
      "  warnings.warn(\"y_pred contains classes not in y_true\")\n"
     ]
    },
    {
     "name": "stdout",
     "output_type": "stream",
     "text": [
      "model_name=lr\n",
      "model_name=knn\n",
      "number_of_samples=3, selection_seed=8\n",
      "model_name=lr\n",
      "model_name=knn\n",
      "number_of_samples=3, selection_seed=9\n"
     ]
    },
    {
     "name": "stderr",
     "output_type": "stream",
     "text": [
      "d:\\Workspace\\thesis\\.venv\\lib\\site-packages\\sklearn\\metrics\\_classification.py:2399: UserWarning: y_pred contains classes not in y_true\n",
      "  warnings.warn(\"y_pred contains classes not in y_true\")\n"
     ]
    },
    {
     "name": "stdout",
     "output_type": "stream",
     "text": [
      "model_name=lr\n",
      "model_name=knn\n",
      "number_of_samples=10, selection_seed=0\n"
     ]
    },
    {
     "name": "stderr",
     "output_type": "stream",
     "text": [
      "d:\\Workspace\\thesis\\.venv\\lib\\site-packages\\sklearn\\metrics\\_classification.py:2399: UserWarning: y_pred contains classes not in y_true\n",
      "  warnings.warn(\"y_pred contains classes not in y_true\")\n"
     ]
    },
    {
     "name": "stdout",
     "output_type": "stream",
     "text": [
      "model_name=lr\n",
      "model_name=knn\n",
      "number_of_samples=10, selection_seed=1\n",
      "model_name=lr\n"
     ]
    },
    {
     "name": "stderr",
     "output_type": "stream",
     "text": [
      "d:\\Workspace\\thesis\\.venv\\lib\\site-packages\\sklearn\\metrics\\_classification.py:2399: UserWarning: y_pred contains classes not in y_true\n",
      "  warnings.warn(\"y_pred contains classes not in y_true\")\n"
     ]
    },
    {
     "name": "stdout",
     "output_type": "stream",
     "text": [
      "model_name=knn\n",
      "number_of_samples=10, selection_seed=2\n",
      "model_name=lr\n"
     ]
    },
    {
     "name": "stderr",
     "output_type": "stream",
     "text": [
      "d:\\Workspace\\thesis\\.venv\\lib\\site-packages\\sklearn\\metrics\\_classification.py:2399: UserWarning: y_pred contains classes not in y_true\n",
      "  warnings.warn(\"y_pred contains classes not in y_true\")\n"
     ]
    },
    {
     "name": "stdout",
     "output_type": "stream",
     "text": [
      "model_name=knn\n",
      "number_of_samples=10, selection_seed=3\n",
      "model_name=lr\n"
     ]
    },
    {
     "name": "stderr",
     "output_type": "stream",
     "text": [
      "d:\\Workspace\\thesis\\.venv\\lib\\site-packages\\sklearn\\metrics\\_classification.py:2399: UserWarning: y_pred contains classes not in y_true\n",
      "  warnings.warn(\"y_pred contains classes not in y_true\")\n"
     ]
    },
    {
     "name": "stdout",
     "output_type": "stream",
     "text": [
      "model_name=knn\n",
      "number_of_samples=10, selection_seed=4\n",
      "model_name=lr\n"
     ]
    },
    {
     "name": "stderr",
     "output_type": "stream",
     "text": [
      "d:\\Workspace\\thesis\\.venv\\lib\\site-packages\\sklearn\\metrics\\_classification.py:2399: UserWarning: y_pred contains classes not in y_true\n",
      "  warnings.warn(\"y_pred contains classes not in y_true\")\n"
     ]
    },
    {
     "name": "stdout",
     "output_type": "stream",
     "text": [
      "model_name=knn\n",
      "number_of_samples=10, selection_seed=5\n",
      "model_name=lr\n"
     ]
    },
    {
     "name": "stderr",
     "output_type": "stream",
     "text": [
      "d:\\Workspace\\thesis\\.venv\\lib\\site-packages\\sklearn\\metrics\\_classification.py:2399: UserWarning: y_pred contains classes not in y_true\n",
      "  warnings.warn(\"y_pred contains classes not in y_true\")\n"
     ]
    },
    {
     "name": "stdout",
     "output_type": "stream",
     "text": [
      "model_name=knn\n",
      "number_of_samples=10, selection_seed=6\n",
      "model_name=lr\n"
     ]
    },
    {
     "name": "stderr",
     "output_type": "stream",
     "text": [
      "d:\\Workspace\\thesis\\.venv\\lib\\site-packages\\sklearn\\metrics\\_classification.py:2399: UserWarning: y_pred contains classes not in y_true\n",
      "  warnings.warn(\"y_pred contains classes not in y_true\")\n"
     ]
    },
    {
     "name": "stdout",
     "output_type": "stream",
     "text": [
      "model_name=knn\n",
      "number_of_samples=10, selection_seed=7\n",
      "model_name=lr\n",
      "model_name=knn\n",
      "number_of_samples=10, selection_seed=8\n",
      "model_name=lr\n",
      "model_name=knn\n",
      "number_of_samples=10, selection_seed=9\n",
      "model_name=lr\n"
     ]
    },
    {
     "name": "stderr",
     "output_type": "stream",
     "text": [
      "d:\\Workspace\\thesis\\.venv\\lib\\site-packages\\sklearn\\metrics\\_classification.py:2399: UserWarning: y_pred contains classes not in y_true\n",
      "  warnings.warn(\"y_pred contains classes not in y_true\")\n"
     ]
    },
    {
     "name": "stdout",
     "output_type": "stream",
     "text": [
      "model_name=knn\n",
      "number_of_samples=30, selection_seed=0\n",
      "model_name=lr\n",
      "model_name=knn\n",
      "number_of_samples=30, selection_seed=1\n",
      "model_name=lr\n",
      "model_name=knn\n",
      "number_of_samples=30, selection_seed=2\n",
      "model_name=lr\n",
      "model_name=knn\n",
      "number_of_samples=30, selection_seed=3\n",
      "model_name=lr\n",
      "model_name=knn\n",
      "number_of_samples=30, selection_seed=4\n",
      "model_name=lr\n",
      "model_name=knn\n",
      "number_of_samples=30, selection_seed=5\n",
      "model_name=lr\n",
      "model_name=knn\n",
      "number_of_samples=30, selection_seed=6\n",
      "model_name=lr\n",
      "model_name=knn\n",
      "number_of_samples=30, selection_seed=7\n",
      "model_name=lr\n",
      "model_name=knn\n",
      "number_of_samples=30, selection_seed=8\n",
      "model_name=lr\n",
      "model_name=knn\n",
      "number_of_samples=30, selection_seed=9\n",
      "model_name=lr\n",
      "model_name=knn\n",
      "number_of_samples=None, selection_seed=None\n",
      "model_name=lr\n",
      "model_name=knn\n",
      "loading: ../datasets/intermediate-features/PlantDoc-ResNet50-Random_19.csv\n",
      "number_of_samples=1, selection_seed=0\n"
     ]
    },
    {
     "name": "stderr",
     "output_type": "stream",
     "text": [
      "d:\\Workspace\\thesis\\.venv\\lib\\site-packages\\sklearn\\metrics\\_classification.py:2399: UserWarning: y_pred contains classes not in y_true\n",
      "  warnings.warn(\"y_pred contains classes not in y_true\")\n",
      "d:\\Workspace\\thesis\\.venv\\lib\\site-packages\\sklearn\\metrics\\_classification.py:2399: UserWarning: y_pred contains classes not in y_true\n",
      "  warnings.warn(\"y_pred contains classes not in y_true\")\n"
     ]
    },
    {
     "name": "stdout",
     "output_type": "stream",
     "text": [
      "model_name=lr\n",
      "model_name=knn\n",
      "number_of_samples=1, selection_seed=1\n"
     ]
    },
    {
     "name": "stderr",
     "output_type": "stream",
     "text": [
      "d:\\Workspace\\thesis\\.venv\\lib\\site-packages\\sklearn\\metrics\\_classification.py:2399: UserWarning: y_pred contains classes not in y_true\n",
      "  warnings.warn(\"y_pred contains classes not in y_true\")\n",
      "d:\\Workspace\\thesis\\.venv\\lib\\site-packages\\sklearn\\metrics\\_classification.py:2399: UserWarning: y_pred contains classes not in y_true\n",
      "  warnings.warn(\"y_pred contains classes not in y_true\")\n"
     ]
    },
    {
     "name": "stdout",
     "output_type": "stream",
     "text": [
      "model_name=lr\n",
      "model_name=knn\n",
      "number_of_samples=1, selection_seed=2\n"
     ]
    },
    {
     "name": "stderr",
     "output_type": "stream",
     "text": [
      "d:\\Workspace\\thesis\\.venv\\lib\\site-packages\\sklearn\\metrics\\_classification.py:2399: UserWarning: y_pred contains classes not in y_true\n",
      "  warnings.warn(\"y_pred contains classes not in y_true\")\n",
      "d:\\Workspace\\thesis\\.venv\\lib\\site-packages\\sklearn\\metrics\\_classification.py:2399: UserWarning: y_pred contains classes not in y_true\n",
      "  warnings.warn(\"y_pred contains classes not in y_true\")\n"
     ]
    },
    {
     "name": "stdout",
     "output_type": "stream",
     "text": [
      "model_name=lr\n",
      "model_name=knn\n",
      "number_of_samples=1, selection_seed=3\n"
     ]
    },
    {
     "name": "stderr",
     "output_type": "stream",
     "text": [
      "d:\\Workspace\\thesis\\.venv\\lib\\site-packages\\sklearn\\metrics\\_classification.py:2399: UserWarning: y_pred contains classes not in y_true\n",
      "  warnings.warn(\"y_pred contains classes not in y_true\")\n",
      "d:\\Workspace\\thesis\\.venv\\lib\\site-packages\\sklearn\\metrics\\_classification.py:2399: UserWarning: y_pred contains classes not in y_true\n",
      "  warnings.warn(\"y_pred contains classes not in y_true\")\n"
     ]
    },
    {
     "name": "stdout",
     "output_type": "stream",
     "text": [
      "model_name=lr\n",
      "model_name=knn\n",
      "number_of_samples=1, selection_seed=4\n"
     ]
    },
    {
     "name": "stderr",
     "output_type": "stream",
     "text": [
      "d:\\Workspace\\thesis\\.venv\\lib\\site-packages\\sklearn\\metrics\\_classification.py:2399: UserWarning: y_pred contains classes not in y_true\n",
      "  warnings.warn(\"y_pred contains classes not in y_true\")\n",
      "d:\\Workspace\\thesis\\.venv\\lib\\site-packages\\sklearn\\metrics\\_classification.py:2399: UserWarning: y_pred contains classes not in y_true\n",
      "  warnings.warn(\"y_pred contains classes not in y_true\")\n"
     ]
    },
    {
     "name": "stdout",
     "output_type": "stream",
     "text": [
      "model_name=lr\n",
      "model_name=knn\n",
      "number_of_samples=1, selection_seed=5\n"
     ]
    },
    {
     "name": "stderr",
     "output_type": "stream",
     "text": [
      "d:\\Workspace\\thesis\\.venv\\lib\\site-packages\\sklearn\\metrics\\_classification.py:2399: UserWarning: y_pred contains classes not in y_true\n",
      "  warnings.warn(\"y_pred contains classes not in y_true\")\n",
      "d:\\Workspace\\thesis\\.venv\\lib\\site-packages\\sklearn\\metrics\\_classification.py:2399: UserWarning: y_pred contains classes not in y_true\n",
      "  warnings.warn(\"y_pred contains classes not in y_true\")\n"
     ]
    },
    {
     "name": "stdout",
     "output_type": "stream",
     "text": [
      "model_name=lr\n",
      "model_name=knn\n",
      "number_of_samples=1, selection_seed=6\n"
     ]
    },
    {
     "name": "stderr",
     "output_type": "stream",
     "text": [
      "d:\\Workspace\\thesis\\.venv\\lib\\site-packages\\sklearn\\metrics\\_classification.py:2399: UserWarning: y_pred contains classes not in y_true\n",
      "  warnings.warn(\"y_pred contains classes not in y_true\")\n",
      "d:\\Workspace\\thesis\\.venv\\lib\\site-packages\\sklearn\\metrics\\_classification.py:2399: UserWarning: y_pred contains classes not in y_true\n",
      "  warnings.warn(\"y_pred contains classes not in y_true\")\n"
     ]
    },
    {
     "name": "stdout",
     "output_type": "stream",
     "text": [
      "model_name=lr\n",
      "model_name=knn\n",
      "number_of_samples=1, selection_seed=7\n"
     ]
    },
    {
     "name": "stderr",
     "output_type": "stream",
     "text": [
      "d:\\Workspace\\thesis\\.venv\\lib\\site-packages\\sklearn\\metrics\\_classification.py:2399: UserWarning: y_pred contains classes not in y_true\n",
      "  warnings.warn(\"y_pred contains classes not in y_true\")\n",
      "d:\\Workspace\\thesis\\.venv\\lib\\site-packages\\sklearn\\metrics\\_classification.py:2399: UserWarning: y_pred contains classes not in y_true\n",
      "  warnings.warn(\"y_pred contains classes not in y_true\")\n"
     ]
    },
    {
     "name": "stdout",
     "output_type": "stream",
     "text": [
      "model_name=lr\n",
      "model_name=knn\n",
      "number_of_samples=1, selection_seed=8\n"
     ]
    },
    {
     "name": "stderr",
     "output_type": "stream",
     "text": [
      "d:\\Workspace\\thesis\\.venv\\lib\\site-packages\\sklearn\\metrics\\_classification.py:2399: UserWarning: y_pred contains classes not in y_true\n",
      "  warnings.warn(\"y_pred contains classes not in y_true\")\n",
      "d:\\Workspace\\thesis\\.venv\\lib\\site-packages\\sklearn\\metrics\\_classification.py:2399: UserWarning: y_pred contains classes not in y_true\n",
      "  warnings.warn(\"y_pred contains classes not in y_true\")\n"
     ]
    },
    {
     "name": "stdout",
     "output_type": "stream",
     "text": [
      "model_name=lr\n",
      "model_name=knn\n",
      "number_of_samples=1, selection_seed=9\n"
     ]
    },
    {
     "name": "stderr",
     "output_type": "stream",
     "text": [
      "d:\\Workspace\\thesis\\.venv\\lib\\site-packages\\sklearn\\metrics\\_classification.py:2399: UserWarning: y_pred contains classes not in y_true\n",
      "  warnings.warn(\"y_pred contains classes not in y_true\")\n",
      "d:\\Workspace\\thesis\\.venv\\lib\\site-packages\\sklearn\\metrics\\_classification.py:2399: UserWarning: y_pred contains classes not in y_true\n",
      "  warnings.warn(\"y_pred contains classes not in y_true\")\n"
     ]
    },
    {
     "name": "stdout",
     "output_type": "stream",
     "text": [
      "model_name=lr\n",
      "model_name=knn\n",
      "number_of_samples=3, selection_seed=0\n"
     ]
    },
    {
     "name": "stderr",
     "output_type": "stream",
     "text": [
      "d:\\Workspace\\thesis\\.venv\\lib\\site-packages\\sklearn\\metrics\\_classification.py:2399: UserWarning: y_pred contains classes not in y_true\n",
      "  warnings.warn(\"y_pred contains classes not in y_true\")\n",
      "d:\\Workspace\\thesis\\.venv\\lib\\site-packages\\sklearn\\metrics\\_classification.py:2399: UserWarning: y_pred contains classes not in y_true\n",
      "  warnings.warn(\"y_pred contains classes not in y_true\")\n"
     ]
    },
    {
     "name": "stdout",
     "output_type": "stream",
     "text": [
      "model_name=lr\n",
      "model_name=knn\n",
      "number_of_samples=3, selection_seed=1\n"
     ]
    },
    {
     "name": "stderr",
     "output_type": "stream",
     "text": [
      "d:\\Workspace\\thesis\\.venv\\lib\\site-packages\\sklearn\\metrics\\_classification.py:2399: UserWarning: y_pred contains classes not in y_true\n",
      "  warnings.warn(\"y_pred contains classes not in y_true\")\n",
      "d:\\Workspace\\thesis\\.venv\\lib\\site-packages\\sklearn\\metrics\\_classification.py:2399: UserWarning: y_pred contains classes not in y_true\n",
      "  warnings.warn(\"y_pred contains classes not in y_true\")\n"
     ]
    },
    {
     "name": "stdout",
     "output_type": "stream",
     "text": [
      "model_name=lr\n",
      "model_name=knn\n",
      "number_of_samples=3, selection_seed=2\n"
     ]
    },
    {
     "name": "stderr",
     "output_type": "stream",
     "text": [
      "d:\\Workspace\\thesis\\.venv\\lib\\site-packages\\sklearn\\metrics\\_classification.py:2399: UserWarning: y_pred contains classes not in y_true\n",
      "  warnings.warn(\"y_pred contains classes not in y_true\")\n",
      "d:\\Workspace\\thesis\\.venv\\lib\\site-packages\\sklearn\\metrics\\_classification.py:2399: UserWarning: y_pred contains classes not in y_true\n",
      "  warnings.warn(\"y_pred contains classes not in y_true\")\n"
     ]
    },
    {
     "name": "stdout",
     "output_type": "stream",
     "text": [
      "model_name=lr\n",
      "model_name=knn\n",
      "number_of_samples=3, selection_seed=3\n"
     ]
    },
    {
     "name": "stderr",
     "output_type": "stream",
     "text": [
      "d:\\Workspace\\thesis\\.venv\\lib\\site-packages\\sklearn\\metrics\\_classification.py:2399: UserWarning: y_pred contains classes not in y_true\n",
      "  warnings.warn(\"y_pred contains classes not in y_true\")\n",
      "d:\\Workspace\\thesis\\.venv\\lib\\site-packages\\sklearn\\metrics\\_classification.py:2399: UserWarning: y_pred contains classes not in y_true\n",
      "  warnings.warn(\"y_pred contains classes not in y_true\")\n"
     ]
    },
    {
     "name": "stdout",
     "output_type": "stream",
     "text": [
      "model_name=lr\n",
      "model_name=knn\n",
      "number_of_samples=3, selection_seed=4\n"
     ]
    },
    {
     "name": "stderr",
     "output_type": "stream",
     "text": [
      "d:\\Workspace\\thesis\\.venv\\lib\\site-packages\\sklearn\\metrics\\_classification.py:2399: UserWarning: y_pred contains classes not in y_true\n",
      "  warnings.warn(\"y_pred contains classes not in y_true\")\n",
      "d:\\Workspace\\thesis\\.venv\\lib\\site-packages\\sklearn\\metrics\\_classification.py:2399: UserWarning: y_pred contains classes not in y_true\n",
      "  warnings.warn(\"y_pred contains classes not in y_true\")\n"
     ]
    },
    {
     "name": "stdout",
     "output_type": "stream",
     "text": [
      "model_name=lr\n",
      "model_name=knn\n",
      "number_of_samples=3, selection_seed=5\n"
     ]
    },
    {
     "name": "stderr",
     "output_type": "stream",
     "text": [
      "d:\\Workspace\\thesis\\.venv\\lib\\site-packages\\sklearn\\metrics\\_classification.py:2399: UserWarning: y_pred contains classes not in y_true\n",
      "  warnings.warn(\"y_pred contains classes not in y_true\")\n",
      "d:\\Workspace\\thesis\\.venv\\lib\\site-packages\\sklearn\\metrics\\_classification.py:2399: UserWarning: y_pred contains classes not in y_true\n",
      "  warnings.warn(\"y_pred contains classes not in y_true\")\n"
     ]
    },
    {
     "name": "stdout",
     "output_type": "stream",
     "text": [
      "model_name=lr\n",
      "model_name=knn\n",
      "number_of_samples=3, selection_seed=6\n"
     ]
    },
    {
     "name": "stderr",
     "output_type": "stream",
     "text": [
      "d:\\Workspace\\thesis\\.venv\\lib\\site-packages\\sklearn\\metrics\\_classification.py:2399: UserWarning: y_pred contains classes not in y_true\n",
      "  warnings.warn(\"y_pred contains classes not in y_true\")\n",
      "d:\\Workspace\\thesis\\.venv\\lib\\site-packages\\sklearn\\metrics\\_classification.py:2399: UserWarning: y_pred contains classes not in y_true\n",
      "  warnings.warn(\"y_pred contains classes not in y_true\")\n"
     ]
    },
    {
     "name": "stdout",
     "output_type": "stream",
     "text": [
      "model_name=lr\n",
      "model_name=knn\n",
      "number_of_samples=3, selection_seed=7\n"
     ]
    },
    {
     "name": "stderr",
     "output_type": "stream",
     "text": [
      "d:\\Workspace\\thesis\\.venv\\lib\\site-packages\\sklearn\\metrics\\_classification.py:2399: UserWarning: y_pred contains classes not in y_true\n",
      "  warnings.warn(\"y_pred contains classes not in y_true\")\n",
      "d:\\Workspace\\thesis\\.venv\\lib\\site-packages\\sklearn\\metrics\\_classification.py:2399: UserWarning: y_pred contains classes not in y_true\n",
      "  warnings.warn(\"y_pred contains classes not in y_true\")\n"
     ]
    },
    {
     "name": "stdout",
     "output_type": "stream",
     "text": [
      "model_name=lr\n",
      "model_name=knn\n",
      "number_of_samples=3, selection_seed=8\n"
     ]
    },
    {
     "name": "stderr",
     "output_type": "stream",
     "text": [
      "d:\\Workspace\\thesis\\.venv\\lib\\site-packages\\sklearn\\metrics\\_classification.py:2399: UserWarning: y_pred contains classes not in y_true\n",
      "  warnings.warn(\"y_pred contains classes not in y_true\")\n",
      "d:\\Workspace\\thesis\\.venv\\lib\\site-packages\\sklearn\\metrics\\_classification.py:2399: UserWarning: y_pred contains classes not in y_true\n",
      "  warnings.warn(\"y_pred contains classes not in y_true\")\n"
     ]
    },
    {
     "name": "stdout",
     "output_type": "stream",
     "text": [
      "model_name=lr\n",
      "model_name=knn\n",
      "number_of_samples=3, selection_seed=9\n"
     ]
    },
    {
     "name": "stderr",
     "output_type": "stream",
     "text": [
      "d:\\Workspace\\thesis\\.venv\\lib\\site-packages\\sklearn\\metrics\\_classification.py:2399: UserWarning: y_pred contains classes not in y_true\n",
      "  warnings.warn(\"y_pred contains classes not in y_true\")\n",
      "d:\\Workspace\\thesis\\.venv\\lib\\site-packages\\sklearn\\metrics\\_classification.py:2399: UserWarning: y_pred contains classes not in y_true\n",
      "  warnings.warn(\"y_pred contains classes not in y_true\")\n"
     ]
    },
    {
     "name": "stdout",
     "output_type": "stream",
     "text": [
      "model_name=lr\n",
      "model_name=knn\n",
      "number_of_samples=10, selection_seed=0\n"
     ]
    },
    {
     "name": "stderr",
     "output_type": "stream",
     "text": [
      "d:\\Workspace\\thesis\\.venv\\lib\\site-packages\\sklearn\\metrics\\_classification.py:2399: UserWarning: y_pred contains classes not in y_true\n",
      "  warnings.warn(\"y_pred contains classes not in y_true\")\n"
     ]
    },
    {
     "name": "stdout",
     "output_type": "stream",
     "text": [
      "model_name=lr\n"
     ]
    },
    {
     "name": "stderr",
     "output_type": "stream",
     "text": [
      "d:\\Workspace\\thesis\\.venv\\lib\\site-packages\\sklearn\\metrics\\_classification.py:2399: UserWarning: y_pred contains classes not in y_true\n",
      "  warnings.warn(\"y_pred contains classes not in y_true\")\n"
     ]
    },
    {
     "name": "stdout",
     "output_type": "stream",
     "text": [
      "model_name=knn\n",
      "number_of_samples=10, selection_seed=1\n"
     ]
    },
    {
     "name": "stderr",
     "output_type": "stream",
     "text": [
      "d:\\Workspace\\thesis\\.venv\\lib\\site-packages\\sklearn\\metrics\\_classification.py:2399: UserWarning: y_pred contains classes not in y_true\n",
      "  warnings.warn(\"y_pred contains classes not in y_true\")\n"
     ]
    },
    {
     "name": "stdout",
     "output_type": "stream",
     "text": [
      "model_name=lr\n"
     ]
    },
    {
     "name": "stderr",
     "output_type": "stream",
     "text": [
      "d:\\Workspace\\thesis\\.venv\\lib\\site-packages\\sklearn\\metrics\\_classification.py:2399: UserWarning: y_pred contains classes not in y_true\n",
      "  warnings.warn(\"y_pred contains classes not in y_true\")\n"
     ]
    },
    {
     "name": "stdout",
     "output_type": "stream",
     "text": [
      "model_name=knn\n",
      "number_of_samples=10, selection_seed=2\n"
     ]
    },
    {
     "name": "stderr",
     "output_type": "stream",
     "text": [
      "d:\\Workspace\\thesis\\.venv\\lib\\site-packages\\sklearn\\metrics\\_classification.py:2399: UserWarning: y_pred contains classes not in y_true\n",
      "  warnings.warn(\"y_pred contains classes not in y_true\")\n"
     ]
    },
    {
     "name": "stdout",
     "output_type": "stream",
     "text": [
      "model_name=lr\n"
     ]
    },
    {
     "name": "stderr",
     "output_type": "stream",
     "text": [
      "d:\\Workspace\\thesis\\.venv\\lib\\site-packages\\sklearn\\metrics\\_classification.py:2399: UserWarning: y_pred contains classes not in y_true\n",
      "  warnings.warn(\"y_pred contains classes not in y_true\")\n"
     ]
    },
    {
     "name": "stdout",
     "output_type": "stream",
     "text": [
      "model_name=knn\n",
      "number_of_samples=10, selection_seed=3\n"
     ]
    },
    {
     "name": "stderr",
     "output_type": "stream",
     "text": [
      "d:\\Workspace\\thesis\\.venv\\lib\\site-packages\\sklearn\\metrics\\_classification.py:2399: UserWarning: y_pred contains classes not in y_true\n",
      "  warnings.warn(\"y_pred contains classes not in y_true\")\n"
     ]
    },
    {
     "name": "stdout",
     "output_type": "stream",
     "text": [
      "model_name=lr\n"
     ]
    },
    {
     "name": "stderr",
     "output_type": "stream",
     "text": [
      "d:\\Workspace\\thesis\\.venv\\lib\\site-packages\\sklearn\\metrics\\_classification.py:2399: UserWarning: y_pred contains classes not in y_true\n",
      "  warnings.warn(\"y_pred contains classes not in y_true\")\n"
     ]
    },
    {
     "name": "stdout",
     "output_type": "stream",
     "text": [
      "model_name=knn\n",
      "number_of_samples=10, selection_seed=4\n"
     ]
    },
    {
     "name": "stderr",
     "output_type": "stream",
     "text": [
      "d:\\Workspace\\thesis\\.venv\\lib\\site-packages\\sklearn\\metrics\\_classification.py:2399: UserWarning: y_pred contains classes not in y_true\n",
      "  warnings.warn(\"y_pred contains classes not in y_true\")\n"
     ]
    },
    {
     "name": "stdout",
     "output_type": "stream",
     "text": [
      "model_name=lr\n"
     ]
    },
    {
     "name": "stderr",
     "output_type": "stream",
     "text": [
      "d:\\Workspace\\thesis\\.venv\\lib\\site-packages\\sklearn\\metrics\\_classification.py:2399: UserWarning: y_pred contains classes not in y_true\n",
      "  warnings.warn(\"y_pred contains classes not in y_true\")\n"
     ]
    },
    {
     "name": "stdout",
     "output_type": "stream",
     "text": [
      "model_name=knn\n",
      "number_of_samples=10, selection_seed=5\n"
     ]
    },
    {
     "name": "stderr",
     "output_type": "stream",
     "text": [
      "d:\\Workspace\\thesis\\.venv\\lib\\site-packages\\sklearn\\metrics\\_classification.py:2399: UserWarning: y_pred contains classes not in y_true\n",
      "  warnings.warn(\"y_pred contains classes not in y_true\")\n"
     ]
    },
    {
     "name": "stdout",
     "output_type": "stream",
     "text": [
      "model_name=lr\n",
      "model_name=knn\n",
      "number_of_samples=10, selection_seed=6\n",
      "model_name=lr\n"
     ]
    },
    {
     "name": "stderr",
     "output_type": "stream",
     "text": [
      "d:\\Workspace\\thesis\\.venv\\lib\\site-packages\\sklearn\\metrics\\_classification.py:2399: UserWarning: y_pred contains classes not in y_true\n",
      "  warnings.warn(\"y_pred contains classes not in y_true\")\n"
     ]
    },
    {
     "name": "stdout",
     "output_type": "stream",
     "text": [
      "model_name=knn\n",
      "number_of_samples=10, selection_seed=7\n"
     ]
    },
    {
     "name": "stderr",
     "output_type": "stream",
     "text": [
      "d:\\Workspace\\thesis\\.venv\\lib\\site-packages\\sklearn\\metrics\\_classification.py:2399: UserWarning: y_pred contains classes not in y_true\n",
      "  warnings.warn(\"y_pred contains classes not in y_true\")\n"
     ]
    },
    {
     "name": "stdout",
     "output_type": "stream",
     "text": [
      "model_name=lr\n"
     ]
    },
    {
     "name": "stderr",
     "output_type": "stream",
     "text": [
      "d:\\Workspace\\thesis\\.venv\\lib\\site-packages\\sklearn\\metrics\\_classification.py:2399: UserWarning: y_pred contains classes not in y_true\n",
      "  warnings.warn(\"y_pred contains classes not in y_true\")\n"
     ]
    },
    {
     "name": "stdout",
     "output_type": "stream",
     "text": [
      "model_name=knn\n",
      "number_of_samples=10, selection_seed=8\n"
     ]
    },
    {
     "name": "stderr",
     "output_type": "stream",
     "text": [
      "d:\\Workspace\\thesis\\.venv\\lib\\site-packages\\sklearn\\metrics\\_classification.py:2399: UserWarning: y_pred contains classes not in y_true\n",
      "  warnings.warn(\"y_pred contains classes not in y_true\")\n"
     ]
    },
    {
     "name": "stdout",
     "output_type": "stream",
     "text": [
      "model_name=lr\n"
     ]
    },
    {
     "name": "stderr",
     "output_type": "stream",
     "text": [
      "d:\\Workspace\\thesis\\.venv\\lib\\site-packages\\sklearn\\metrics\\_classification.py:2399: UserWarning: y_pred contains classes not in y_true\n",
      "  warnings.warn(\"y_pred contains classes not in y_true\")\n"
     ]
    },
    {
     "name": "stdout",
     "output_type": "stream",
     "text": [
      "model_name=knn\n",
      "number_of_samples=10, selection_seed=9\n"
     ]
    },
    {
     "name": "stderr",
     "output_type": "stream",
     "text": [
      "d:\\Workspace\\thesis\\.venv\\lib\\site-packages\\sklearn\\metrics\\_classification.py:2399: UserWarning: y_pred contains classes not in y_true\n",
      "  warnings.warn(\"y_pred contains classes not in y_true\")\n"
     ]
    },
    {
     "name": "stdout",
     "output_type": "stream",
     "text": [
      "model_name=lr\n"
     ]
    },
    {
     "name": "stderr",
     "output_type": "stream",
     "text": [
      "d:\\Workspace\\thesis\\.venv\\lib\\site-packages\\sklearn\\metrics\\_classification.py:2399: UserWarning: y_pred contains classes not in y_true\n",
      "  warnings.warn(\"y_pred contains classes not in y_true\")\n"
     ]
    },
    {
     "name": "stdout",
     "output_type": "stream",
     "text": [
      "model_name=knn\n",
      "number_of_samples=30, selection_seed=0\n",
      "model_name=lr\n"
     ]
    },
    {
     "name": "stderr",
     "output_type": "stream",
     "text": [
      "d:\\Workspace\\thesis\\.venv\\lib\\site-packages\\sklearn\\metrics\\_classification.py:2399: UserWarning: y_pred contains classes not in y_true\n",
      "  warnings.warn(\"y_pred contains classes not in y_true\")\n"
     ]
    },
    {
     "name": "stdout",
     "output_type": "stream",
     "text": [
      "model_name=knn\n",
      "number_of_samples=30, selection_seed=1\n",
      "model_name=lr\n"
     ]
    },
    {
     "name": "stderr",
     "output_type": "stream",
     "text": [
      "d:\\Workspace\\thesis\\.venv\\lib\\site-packages\\sklearn\\metrics\\_classification.py:2399: UserWarning: y_pred contains classes not in y_true\n",
      "  warnings.warn(\"y_pred contains classes not in y_true\")\n"
     ]
    },
    {
     "name": "stdout",
     "output_type": "stream",
     "text": [
      "model_name=knn\n",
      "number_of_samples=30, selection_seed=2\n",
      "model_name=lr\n",
      "model_name=knn\n",
      "number_of_samples=30, selection_seed=3\n",
      "model_name=lr\n",
      "model_name=knn\n",
      "number_of_samples=30, selection_seed=4\n",
      "model_name=lr\n"
     ]
    },
    {
     "name": "stderr",
     "output_type": "stream",
     "text": [
      "d:\\Workspace\\thesis\\.venv\\lib\\site-packages\\sklearn\\metrics\\_classification.py:2399: UserWarning: y_pred contains classes not in y_true\n",
      "  warnings.warn(\"y_pred contains classes not in y_true\")\n"
     ]
    },
    {
     "name": "stdout",
     "output_type": "stream",
     "text": [
      "model_name=knn\n",
      "number_of_samples=30, selection_seed=5\n",
      "model_name=lr\n"
     ]
    },
    {
     "name": "stderr",
     "output_type": "stream",
     "text": [
      "d:\\Workspace\\thesis\\.venv\\lib\\site-packages\\sklearn\\metrics\\_classification.py:2399: UserWarning: y_pred contains classes not in y_true\n",
      "  warnings.warn(\"y_pred contains classes not in y_true\")\n"
     ]
    },
    {
     "name": "stdout",
     "output_type": "stream",
     "text": [
      "model_name=knn\n",
      "number_of_samples=30, selection_seed=6\n",
      "model_name=lr\n"
     ]
    },
    {
     "name": "stderr",
     "output_type": "stream",
     "text": [
      "d:\\Workspace\\thesis\\.venv\\lib\\site-packages\\sklearn\\metrics\\_classification.py:2399: UserWarning: y_pred contains classes not in y_true\n",
      "  warnings.warn(\"y_pred contains classes not in y_true\")\n"
     ]
    },
    {
     "name": "stdout",
     "output_type": "stream",
     "text": [
      "model_name=knn\n",
      "number_of_samples=30, selection_seed=7\n",
      "model_name=lr\n"
     ]
    },
    {
     "name": "stderr",
     "output_type": "stream",
     "text": [
      "d:\\Workspace\\thesis\\.venv\\lib\\site-packages\\sklearn\\metrics\\_classification.py:2399: UserWarning: y_pred contains classes not in y_true\n",
      "  warnings.warn(\"y_pred contains classes not in y_true\")\n"
     ]
    },
    {
     "name": "stdout",
     "output_type": "stream",
     "text": [
      "model_name=knn\n",
      "number_of_samples=30, selection_seed=8\n",
      "model_name=lr\n",
      "model_name=knn\n",
      "number_of_samples=30, selection_seed=9\n",
      "model_name=lr\n"
     ]
    },
    {
     "name": "stderr",
     "output_type": "stream",
     "text": [
      "d:\\Workspace\\thesis\\.venv\\lib\\site-packages\\sklearn\\metrics\\_classification.py:2399: UserWarning: y_pred contains classes not in y_true\n",
      "  warnings.warn(\"y_pred contains classes not in y_true\")\n"
     ]
    },
    {
     "name": "stdout",
     "output_type": "stream",
     "text": [
      "model_name=knn\n",
      "number_of_samples=None, selection_seed=None\n",
      "model_name=lr\n",
      "model_name=knn\n",
      "loading: ../datasets/intermediate-features/PlantDoc-ResNet50-Random_20.csv\n",
      "number_of_samples=1, selection_seed=0\n"
     ]
    },
    {
     "name": "stderr",
     "output_type": "stream",
     "text": [
      "d:\\Workspace\\thesis\\.venv\\lib\\site-packages\\sklearn\\metrics\\_classification.py:2399: UserWarning: y_pred contains classes not in y_true\n",
      "  warnings.warn(\"y_pred contains classes not in y_true\")\n",
      "d:\\Workspace\\thesis\\.venv\\lib\\site-packages\\sklearn\\metrics\\_classification.py:2399: UserWarning: y_pred contains classes not in y_true\n",
      "  warnings.warn(\"y_pred contains classes not in y_true\")\n"
     ]
    },
    {
     "name": "stdout",
     "output_type": "stream",
     "text": [
      "model_name=lr\n",
      "model_name=knn\n",
      "number_of_samples=1, selection_seed=1\n"
     ]
    },
    {
     "name": "stderr",
     "output_type": "stream",
     "text": [
      "d:\\Workspace\\thesis\\.venv\\lib\\site-packages\\sklearn\\metrics\\_classification.py:2399: UserWarning: y_pred contains classes not in y_true\n",
      "  warnings.warn(\"y_pred contains classes not in y_true\")\n",
      "d:\\Workspace\\thesis\\.venv\\lib\\site-packages\\sklearn\\metrics\\_classification.py:2399: UserWarning: y_pred contains classes not in y_true\n",
      "  warnings.warn(\"y_pred contains classes not in y_true\")\n"
     ]
    },
    {
     "name": "stdout",
     "output_type": "stream",
     "text": [
      "model_name=lr\n",
      "model_name=knn\n",
      "number_of_samples=1, selection_seed=2\n"
     ]
    },
    {
     "name": "stderr",
     "output_type": "stream",
     "text": [
      "d:\\Workspace\\thesis\\.venv\\lib\\site-packages\\sklearn\\metrics\\_classification.py:2399: UserWarning: y_pred contains classes not in y_true\n",
      "  warnings.warn(\"y_pred contains classes not in y_true\")\n",
      "d:\\Workspace\\thesis\\.venv\\lib\\site-packages\\sklearn\\metrics\\_classification.py:2399: UserWarning: y_pred contains classes not in y_true\n",
      "  warnings.warn(\"y_pred contains classes not in y_true\")\n"
     ]
    },
    {
     "name": "stdout",
     "output_type": "stream",
     "text": [
      "model_name=lr\n",
      "model_name=knn\n",
      "number_of_samples=1, selection_seed=3\n"
     ]
    },
    {
     "name": "stderr",
     "output_type": "stream",
     "text": [
      "d:\\Workspace\\thesis\\.venv\\lib\\site-packages\\sklearn\\metrics\\_classification.py:2399: UserWarning: y_pred contains classes not in y_true\n",
      "  warnings.warn(\"y_pred contains classes not in y_true\")\n",
      "d:\\Workspace\\thesis\\.venv\\lib\\site-packages\\sklearn\\metrics\\_classification.py:2399: UserWarning: y_pred contains classes not in y_true\n",
      "  warnings.warn(\"y_pred contains classes not in y_true\")\n"
     ]
    },
    {
     "name": "stdout",
     "output_type": "stream",
     "text": [
      "model_name=lr\n",
      "model_name=knn\n",
      "number_of_samples=1, selection_seed=4\n"
     ]
    },
    {
     "name": "stderr",
     "output_type": "stream",
     "text": [
      "d:\\Workspace\\thesis\\.venv\\lib\\site-packages\\sklearn\\metrics\\_classification.py:2399: UserWarning: y_pred contains classes not in y_true\n",
      "  warnings.warn(\"y_pred contains classes not in y_true\")\n",
      "d:\\Workspace\\thesis\\.venv\\lib\\site-packages\\sklearn\\metrics\\_classification.py:2399: UserWarning: y_pred contains classes not in y_true\n",
      "  warnings.warn(\"y_pred contains classes not in y_true\")\n"
     ]
    },
    {
     "name": "stdout",
     "output_type": "stream",
     "text": [
      "model_name=lr\n",
      "model_name=knn\n",
      "number_of_samples=1, selection_seed=5\n"
     ]
    },
    {
     "name": "stderr",
     "output_type": "stream",
     "text": [
      "d:\\Workspace\\thesis\\.venv\\lib\\site-packages\\sklearn\\metrics\\_classification.py:2399: UserWarning: y_pred contains classes not in y_true\n",
      "  warnings.warn(\"y_pred contains classes not in y_true\")\n",
      "d:\\Workspace\\thesis\\.venv\\lib\\site-packages\\sklearn\\metrics\\_classification.py:2399: UserWarning: y_pred contains classes not in y_true\n",
      "  warnings.warn(\"y_pred contains classes not in y_true\")\n"
     ]
    },
    {
     "name": "stdout",
     "output_type": "stream",
     "text": [
      "model_name=lr\n",
      "model_name=knn\n",
      "number_of_samples=1, selection_seed=6\n"
     ]
    },
    {
     "name": "stderr",
     "output_type": "stream",
     "text": [
      "d:\\Workspace\\thesis\\.venv\\lib\\site-packages\\sklearn\\metrics\\_classification.py:2399: UserWarning: y_pred contains classes not in y_true\n",
      "  warnings.warn(\"y_pred contains classes not in y_true\")\n",
      "d:\\Workspace\\thesis\\.venv\\lib\\site-packages\\sklearn\\metrics\\_classification.py:2399: UserWarning: y_pred contains classes not in y_true\n",
      "  warnings.warn(\"y_pred contains classes not in y_true\")\n"
     ]
    },
    {
     "name": "stdout",
     "output_type": "stream",
     "text": [
      "model_name=lr\n",
      "model_name=knn\n",
      "number_of_samples=1, selection_seed=7\n"
     ]
    },
    {
     "name": "stderr",
     "output_type": "stream",
     "text": [
      "d:\\Workspace\\thesis\\.venv\\lib\\site-packages\\sklearn\\metrics\\_classification.py:2399: UserWarning: y_pred contains classes not in y_true\n",
      "  warnings.warn(\"y_pred contains classes not in y_true\")\n",
      "d:\\Workspace\\thesis\\.venv\\lib\\site-packages\\sklearn\\metrics\\_classification.py:2399: UserWarning: y_pred contains classes not in y_true\n",
      "  warnings.warn(\"y_pred contains classes not in y_true\")\n"
     ]
    },
    {
     "name": "stdout",
     "output_type": "stream",
     "text": [
      "model_name=lr\n",
      "model_name=knn\n",
      "number_of_samples=1, selection_seed=8\n"
     ]
    },
    {
     "name": "stderr",
     "output_type": "stream",
     "text": [
      "d:\\Workspace\\thesis\\.venv\\lib\\site-packages\\sklearn\\metrics\\_classification.py:2399: UserWarning: y_pred contains classes not in y_true\n",
      "  warnings.warn(\"y_pred contains classes not in y_true\")\n",
      "d:\\Workspace\\thesis\\.venv\\lib\\site-packages\\sklearn\\metrics\\_classification.py:2399: UserWarning: y_pred contains classes not in y_true\n",
      "  warnings.warn(\"y_pred contains classes not in y_true\")\n"
     ]
    },
    {
     "name": "stdout",
     "output_type": "stream",
     "text": [
      "model_name=lr\n",
      "model_name=knn\n",
      "number_of_samples=1, selection_seed=9\n"
     ]
    },
    {
     "name": "stderr",
     "output_type": "stream",
     "text": [
      "d:\\Workspace\\thesis\\.venv\\lib\\site-packages\\sklearn\\metrics\\_classification.py:2399: UserWarning: y_pred contains classes not in y_true\n",
      "  warnings.warn(\"y_pred contains classes not in y_true\")\n",
      "d:\\Workspace\\thesis\\.venv\\lib\\site-packages\\sklearn\\metrics\\_classification.py:2399: UserWarning: y_pred contains classes not in y_true\n",
      "  warnings.warn(\"y_pred contains classes not in y_true\")\n"
     ]
    },
    {
     "name": "stdout",
     "output_type": "stream",
     "text": [
      "model_name=lr\n",
      "model_name=knn\n",
      "number_of_samples=3, selection_seed=0\n"
     ]
    },
    {
     "name": "stderr",
     "output_type": "stream",
     "text": [
      "d:\\Workspace\\thesis\\.venv\\lib\\site-packages\\sklearn\\metrics\\_classification.py:2399: UserWarning: y_pred contains classes not in y_true\n",
      "  warnings.warn(\"y_pred contains classes not in y_true\")\n",
      "d:\\Workspace\\thesis\\.venv\\lib\\site-packages\\sklearn\\metrics\\_classification.py:2399: UserWarning: y_pred contains classes not in y_true\n",
      "  warnings.warn(\"y_pred contains classes not in y_true\")\n"
     ]
    },
    {
     "name": "stdout",
     "output_type": "stream",
     "text": [
      "model_name=lr\n",
      "model_name=knn\n",
      "number_of_samples=3, selection_seed=1\n"
     ]
    },
    {
     "name": "stderr",
     "output_type": "stream",
     "text": [
      "d:\\Workspace\\thesis\\.venv\\lib\\site-packages\\sklearn\\metrics\\_classification.py:2399: UserWarning: y_pred contains classes not in y_true\n",
      "  warnings.warn(\"y_pred contains classes not in y_true\")\n"
     ]
    },
    {
     "name": "stdout",
     "output_type": "stream",
     "text": [
      "model_name=lr\n",
      "model_name=knn\n",
      "number_of_samples=3, selection_seed=2\n"
     ]
    },
    {
     "name": "stderr",
     "output_type": "stream",
     "text": [
      "d:\\Workspace\\thesis\\.venv\\lib\\site-packages\\sklearn\\metrics\\_classification.py:2399: UserWarning: y_pred contains classes not in y_true\n",
      "  warnings.warn(\"y_pred contains classes not in y_true\")\n",
      "d:\\Workspace\\thesis\\.venv\\lib\\site-packages\\sklearn\\metrics\\_classification.py:2399: UserWarning: y_pred contains classes not in y_true\n",
      "  warnings.warn(\"y_pred contains classes not in y_true\")\n"
     ]
    },
    {
     "name": "stdout",
     "output_type": "stream",
     "text": [
      "model_name=lr\n",
      "model_name=knn\n",
      "number_of_samples=3, selection_seed=3\n"
     ]
    },
    {
     "name": "stderr",
     "output_type": "stream",
     "text": [
      "d:\\Workspace\\thesis\\.venv\\lib\\site-packages\\sklearn\\metrics\\_classification.py:2399: UserWarning: y_pred contains classes not in y_true\n",
      "  warnings.warn(\"y_pred contains classes not in y_true\")\n",
      "d:\\Workspace\\thesis\\.venv\\lib\\site-packages\\sklearn\\metrics\\_classification.py:2399: UserWarning: y_pred contains classes not in y_true\n",
      "  warnings.warn(\"y_pred contains classes not in y_true\")\n"
     ]
    },
    {
     "name": "stdout",
     "output_type": "stream",
     "text": [
      "model_name=lr\n",
      "model_name=knn\n",
      "number_of_samples=3, selection_seed=4\n"
     ]
    },
    {
     "name": "stderr",
     "output_type": "stream",
     "text": [
      "d:\\Workspace\\thesis\\.venv\\lib\\site-packages\\sklearn\\metrics\\_classification.py:2399: UserWarning: y_pred contains classes not in y_true\n",
      "  warnings.warn(\"y_pred contains classes not in y_true\")\n",
      "d:\\Workspace\\thesis\\.venv\\lib\\site-packages\\sklearn\\metrics\\_classification.py:2399: UserWarning: y_pred contains classes not in y_true\n",
      "  warnings.warn(\"y_pred contains classes not in y_true\")\n"
     ]
    },
    {
     "name": "stdout",
     "output_type": "stream",
     "text": [
      "model_name=lr\n",
      "model_name=knn\n",
      "number_of_samples=3, selection_seed=5\n"
     ]
    },
    {
     "name": "stderr",
     "output_type": "stream",
     "text": [
      "d:\\Workspace\\thesis\\.venv\\lib\\site-packages\\sklearn\\metrics\\_classification.py:2399: UserWarning: y_pred contains classes not in y_true\n",
      "  warnings.warn(\"y_pred contains classes not in y_true\")\n",
      "d:\\Workspace\\thesis\\.venv\\lib\\site-packages\\sklearn\\metrics\\_classification.py:2399: UserWarning: y_pred contains classes not in y_true\n",
      "  warnings.warn(\"y_pred contains classes not in y_true\")\n"
     ]
    },
    {
     "name": "stdout",
     "output_type": "stream",
     "text": [
      "model_name=lr\n",
      "model_name=knn\n",
      "number_of_samples=3, selection_seed=6\n"
     ]
    },
    {
     "name": "stderr",
     "output_type": "stream",
     "text": [
      "d:\\Workspace\\thesis\\.venv\\lib\\site-packages\\sklearn\\metrics\\_classification.py:2399: UserWarning: y_pred contains classes not in y_true\n",
      "  warnings.warn(\"y_pred contains classes not in y_true\")\n",
      "d:\\Workspace\\thesis\\.venv\\lib\\site-packages\\sklearn\\metrics\\_classification.py:2399: UserWarning: y_pred contains classes not in y_true\n",
      "  warnings.warn(\"y_pred contains classes not in y_true\")\n"
     ]
    },
    {
     "name": "stdout",
     "output_type": "stream",
     "text": [
      "model_name=lr\n",
      "model_name=knn\n",
      "number_of_samples=3, selection_seed=7\n"
     ]
    },
    {
     "name": "stderr",
     "output_type": "stream",
     "text": [
      "d:\\Workspace\\thesis\\.venv\\lib\\site-packages\\sklearn\\metrics\\_classification.py:2399: UserWarning: y_pred contains classes not in y_true\n",
      "  warnings.warn(\"y_pred contains classes not in y_true\")\n",
      "d:\\Workspace\\thesis\\.venv\\lib\\site-packages\\sklearn\\metrics\\_classification.py:2399: UserWarning: y_pred contains classes not in y_true\n",
      "  warnings.warn(\"y_pred contains classes not in y_true\")\n"
     ]
    },
    {
     "name": "stdout",
     "output_type": "stream",
     "text": [
      "model_name=lr\n",
      "model_name=knn\n",
      "number_of_samples=3, selection_seed=8\n"
     ]
    },
    {
     "name": "stderr",
     "output_type": "stream",
     "text": [
      "d:\\Workspace\\thesis\\.venv\\lib\\site-packages\\sklearn\\metrics\\_classification.py:2399: UserWarning: y_pred contains classes not in y_true\n",
      "  warnings.warn(\"y_pred contains classes not in y_true\")\n",
      "d:\\Workspace\\thesis\\.venv\\lib\\site-packages\\sklearn\\metrics\\_classification.py:2399: UserWarning: y_pred contains classes not in y_true\n",
      "  warnings.warn(\"y_pred contains classes not in y_true\")\n"
     ]
    },
    {
     "name": "stdout",
     "output_type": "stream",
     "text": [
      "model_name=lr\n",
      "model_name=knn\n",
      "number_of_samples=3, selection_seed=9\n",
      "model_name=lr\n",
      "model_name=knn\n",
      "number_of_samples=10, selection_seed=0\n"
     ]
    },
    {
     "name": "stderr",
     "output_type": "stream",
     "text": [
      "d:\\Workspace\\thesis\\.venv\\lib\\site-packages\\sklearn\\metrics\\_classification.py:2399: UserWarning: y_pred contains classes not in y_true\n",
      "  warnings.warn(\"y_pred contains classes not in y_true\")\n"
     ]
    },
    {
     "name": "stdout",
     "output_type": "stream",
     "text": [
      "model_name=lr\n"
     ]
    },
    {
     "name": "stderr",
     "output_type": "stream",
     "text": [
      "d:\\Workspace\\thesis\\.venv\\lib\\site-packages\\sklearn\\metrics\\_classification.py:2399: UserWarning: y_pred contains classes not in y_true\n",
      "  warnings.warn(\"y_pred contains classes not in y_true\")\n"
     ]
    },
    {
     "name": "stdout",
     "output_type": "stream",
     "text": [
      "model_name=knn\n",
      "number_of_samples=10, selection_seed=1\n",
      "model_name=lr\n"
     ]
    },
    {
     "name": "stderr",
     "output_type": "stream",
     "text": [
      "d:\\Workspace\\thesis\\.venv\\lib\\site-packages\\sklearn\\metrics\\_classification.py:2399: UserWarning: y_pred contains classes not in y_true\n",
      "  warnings.warn(\"y_pred contains classes not in y_true\")\n"
     ]
    },
    {
     "name": "stdout",
     "output_type": "stream",
     "text": [
      "model_name=knn\n",
      "number_of_samples=10, selection_seed=2\n",
      "model_name=lr\n"
     ]
    },
    {
     "name": "stderr",
     "output_type": "stream",
     "text": [
      "d:\\Workspace\\thesis\\.venv\\lib\\site-packages\\sklearn\\metrics\\_classification.py:2399: UserWarning: y_pred contains classes not in y_true\n",
      "  warnings.warn(\"y_pred contains classes not in y_true\")\n"
     ]
    },
    {
     "name": "stdout",
     "output_type": "stream",
     "text": [
      "model_name=knn\n",
      "number_of_samples=10, selection_seed=3\n",
      "model_name=lr\n"
     ]
    },
    {
     "name": "stderr",
     "output_type": "stream",
     "text": [
      "d:\\Workspace\\thesis\\.venv\\lib\\site-packages\\sklearn\\metrics\\_classification.py:2399: UserWarning: y_pred contains classes not in y_true\n",
      "  warnings.warn(\"y_pred contains classes not in y_true\")\n"
     ]
    },
    {
     "name": "stdout",
     "output_type": "stream",
     "text": [
      "model_name=knn\n",
      "number_of_samples=10, selection_seed=4\n",
      "model_name=lr\n"
     ]
    },
    {
     "name": "stderr",
     "output_type": "stream",
     "text": [
      "d:\\Workspace\\thesis\\.venv\\lib\\site-packages\\sklearn\\metrics\\_classification.py:2399: UserWarning: y_pred contains classes not in y_true\n",
      "  warnings.warn(\"y_pred contains classes not in y_true\")\n"
     ]
    },
    {
     "name": "stdout",
     "output_type": "stream",
     "text": [
      "model_name=knn\n",
      "number_of_samples=10, selection_seed=5\n"
     ]
    },
    {
     "name": "stderr",
     "output_type": "stream",
     "text": [
      "d:\\Workspace\\thesis\\.venv\\lib\\site-packages\\sklearn\\metrics\\_classification.py:2399: UserWarning: y_pred contains classes not in y_true\n",
      "  warnings.warn(\"y_pred contains classes not in y_true\")\n"
     ]
    },
    {
     "name": "stdout",
     "output_type": "stream",
     "text": [
      "model_name=lr\n"
     ]
    },
    {
     "name": "stderr",
     "output_type": "stream",
     "text": [
      "d:\\Workspace\\thesis\\.venv\\lib\\site-packages\\sklearn\\metrics\\_classification.py:2399: UserWarning: y_pred contains classes not in y_true\n",
      "  warnings.warn(\"y_pred contains classes not in y_true\")\n"
     ]
    },
    {
     "name": "stdout",
     "output_type": "stream",
     "text": [
      "model_name=knn\n",
      "number_of_samples=10, selection_seed=6\n",
      "model_name=lr\n"
     ]
    },
    {
     "name": "stderr",
     "output_type": "stream",
     "text": [
      "d:\\Workspace\\thesis\\.venv\\lib\\site-packages\\sklearn\\metrics\\_classification.py:2399: UserWarning: y_pred contains classes not in y_true\n",
      "  warnings.warn(\"y_pred contains classes not in y_true\")\n"
     ]
    },
    {
     "name": "stdout",
     "output_type": "stream",
     "text": [
      "model_name=knn\n",
      "number_of_samples=10, selection_seed=7\n",
      "model_name=lr\n"
     ]
    },
    {
     "name": "stderr",
     "output_type": "stream",
     "text": [
      "d:\\Workspace\\thesis\\.venv\\lib\\site-packages\\sklearn\\metrics\\_classification.py:2399: UserWarning: y_pred contains classes not in y_true\n",
      "  warnings.warn(\"y_pred contains classes not in y_true\")\n"
     ]
    },
    {
     "name": "stdout",
     "output_type": "stream",
     "text": [
      "model_name=knn\n",
      "number_of_samples=10, selection_seed=8\n",
      "model_name=lr\n"
     ]
    },
    {
     "name": "stderr",
     "output_type": "stream",
     "text": [
      "d:\\Workspace\\thesis\\.venv\\lib\\site-packages\\sklearn\\metrics\\_classification.py:2399: UserWarning: y_pred contains classes not in y_true\n",
      "  warnings.warn(\"y_pred contains classes not in y_true\")\n"
     ]
    },
    {
     "name": "stdout",
     "output_type": "stream",
     "text": [
      "model_name=knn\n",
      "number_of_samples=10, selection_seed=9\n",
      "model_name=lr\n"
     ]
    },
    {
     "name": "stderr",
     "output_type": "stream",
     "text": [
      "d:\\Workspace\\thesis\\.venv\\lib\\site-packages\\sklearn\\metrics\\_classification.py:2399: UserWarning: y_pred contains classes not in y_true\n",
      "  warnings.warn(\"y_pred contains classes not in y_true\")\n"
     ]
    },
    {
     "name": "stdout",
     "output_type": "stream",
     "text": [
      "model_name=knn\n",
      "number_of_samples=30, selection_seed=0\n",
      "model_name=lr\n",
      "model_name=knn\n",
      "number_of_samples=30, selection_seed=1\n",
      "model_name=lr\n"
     ]
    },
    {
     "name": "stderr",
     "output_type": "stream",
     "text": [
      "d:\\Workspace\\thesis\\.venv\\lib\\site-packages\\sklearn\\metrics\\_classification.py:2399: UserWarning: y_pred contains classes not in y_true\n",
      "  warnings.warn(\"y_pred contains classes not in y_true\")\n"
     ]
    },
    {
     "name": "stdout",
     "output_type": "stream",
     "text": [
      "model_name=knn\n",
      "number_of_samples=30, selection_seed=2\n",
      "model_name=lr\n",
      "model_name=knn\n",
      "number_of_samples=30, selection_seed=3\n",
      "model_name=lr\n"
     ]
    },
    {
     "name": "stderr",
     "output_type": "stream",
     "text": [
      "d:\\Workspace\\thesis\\.venv\\lib\\site-packages\\sklearn\\metrics\\_classification.py:2399: UserWarning: y_pred contains classes not in y_true\n",
      "  warnings.warn(\"y_pred contains classes not in y_true\")\n"
     ]
    },
    {
     "name": "stdout",
     "output_type": "stream",
     "text": [
      "model_name=knn\n",
      "number_of_samples=30, selection_seed=4\n",
      "model_name=lr\n"
     ]
    },
    {
     "name": "stderr",
     "output_type": "stream",
     "text": [
      "d:\\Workspace\\thesis\\.venv\\lib\\site-packages\\sklearn\\metrics\\_classification.py:2399: UserWarning: y_pred contains classes not in y_true\n",
      "  warnings.warn(\"y_pred contains classes not in y_true\")\n"
     ]
    },
    {
     "name": "stdout",
     "output_type": "stream",
     "text": [
      "model_name=knn\n",
      "number_of_samples=30, selection_seed=5\n",
      "model_name=lr\n",
      "model_name=knn\n",
      "number_of_samples=30, selection_seed=6\n",
      "model_name=lr\n",
      "model_name=knn\n",
      "number_of_samples=30, selection_seed=7\n",
      "model_name=lr\n",
      "model_name=knn\n",
      "number_of_samples=30, selection_seed=8\n",
      "model_name=lr\n"
     ]
    },
    {
     "name": "stderr",
     "output_type": "stream",
     "text": [
      "d:\\Workspace\\thesis\\.venv\\lib\\site-packages\\sklearn\\metrics\\_classification.py:2399: UserWarning: y_pred contains classes not in y_true\n",
      "  warnings.warn(\"y_pred contains classes not in y_true\")\n"
     ]
    },
    {
     "name": "stdout",
     "output_type": "stream",
     "text": [
      "model_name=knn\n",
      "number_of_samples=30, selection_seed=9\n",
      "model_name=lr\n",
      "model_name=knn\n",
      "number_of_samples=None, selection_seed=None\n",
      "model_name=lr\n",
      "model_name=knn\n",
      "loading: ../datasets/intermediate-features/PlantDoc-ResNet50-Random_21.csv\n",
      "number_of_samples=1, selection_seed=0\n"
     ]
    },
    {
     "name": "stderr",
     "output_type": "stream",
     "text": [
      "d:\\Workspace\\thesis\\.venv\\lib\\site-packages\\sklearn\\metrics\\_classification.py:2399: UserWarning: y_pred contains classes not in y_true\n",
      "  warnings.warn(\"y_pred contains classes not in y_true\")\n",
      "d:\\Workspace\\thesis\\.venv\\lib\\site-packages\\sklearn\\metrics\\_classification.py:2399: UserWarning: y_pred contains classes not in y_true\n",
      "  warnings.warn(\"y_pred contains classes not in y_true\")\n"
     ]
    },
    {
     "name": "stdout",
     "output_type": "stream",
     "text": [
      "model_name=lr\n",
      "model_name=knn\n",
      "number_of_samples=1, selection_seed=1\n"
     ]
    },
    {
     "name": "stderr",
     "output_type": "stream",
     "text": [
      "d:\\Workspace\\thesis\\.venv\\lib\\site-packages\\sklearn\\metrics\\_classification.py:2399: UserWarning: y_pred contains classes not in y_true\n",
      "  warnings.warn(\"y_pred contains classes not in y_true\")\n",
      "d:\\Workspace\\thesis\\.venv\\lib\\site-packages\\sklearn\\metrics\\_classification.py:2399: UserWarning: y_pred contains classes not in y_true\n",
      "  warnings.warn(\"y_pred contains classes not in y_true\")\n"
     ]
    },
    {
     "name": "stdout",
     "output_type": "stream",
     "text": [
      "model_name=lr\n",
      "model_name=knn\n",
      "number_of_samples=1, selection_seed=2\n"
     ]
    },
    {
     "name": "stderr",
     "output_type": "stream",
     "text": [
      "d:\\Workspace\\thesis\\.venv\\lib\\site-packages\\sklearn\\metrics\\_classification.py:2399: UserWarning: y_pred contains classes not in y_true\n",
      "  warnings.warn(\"y_pred contains classes not in y_true\")\n",
      "d:\\Workspace\\thesis\\.venv\\lib\\site-packages\\sklearn\\metrics\\_classification.py:2399: UserWarning: y_pred contains classes not in y_true\n",
      "  warnings.warn(\"y_pred contains classes not in y_true\")\n"
     ]
    },
    {
     "name": "stdout",
     "output_type": "stream",
     "text": [
      "model_name=lr\n",
      "model_name=knn\n",
      "number_of_samples=1, selection_seed=3\n"
     ]
    },
    {
     "name": "stderr",
     "output_type": "stream",
     "text": [
      "d:\\Workspace\\thesis\\.venv\\lib\\site-packages\\sklearn\\metrics\\_classification.py:2399: UserWarning: y_pred contains classes not in y_true\n",
      "  warnings.warn(\"y_pred contains classes not in y_true\")\n",
      "d:\\Workspace\\thesis\\.venv\\lib\\site-packages\\sklearn\\metrics\\_classification.py:2399: UserWarning: y_pred contains classes not in y_true\n",
      "  warnings.warn(\"y_pred contains classes not in y_true\")\n"
     ]
    },
    {
     "name": "stdout",
     "output_type": "stream",
     "text": [
      "model_name=lr\n",
      "model_name=knn\n",
      "number_of_samples=1, selection_seed=4\n"
     ]
    },
    {
     "name": "stderr",
     "output_type": "stream",
     "text": [
      "d:\\Workspace\\thesis\\.venv\\lib\\site-packages\\sklearn\\metrics\\_classification.py:2399: UserWarning: y_pred contains classes not in y_true\n",
      "  warnings.warn(\"y_pred contains classes not in y_true\")\n",
      "d:\\Workspace\\thesis\\.venv\\lib\\site-packages\\sklearn\\metrics\\_classification.py:2399: UserWarning: y_pred contains classes not in y_true\n",
      "  warnings.warn(\"y_pred contains classes not in y_true\")\n"
     ]
    },
    {
     "name": "stdout",
     "output_type": "stream",
     "text": [
      "model_name=lr\n",
      "model_name=knn\n",
      "number_of_samples=1, selection_seed=5\n"
     ]
    },
    {
     "name": "stderr",
     "output_type": "stream",
     "text": [
      "d:\\Workspace\\thesis\\.venv\\lib\\site-packages\\sklearn\\metrics\\_classification.py:2399: UserWarning: y_pred contains classes not in y_true\n",
      "  warnings.warn(\"y_pred contains classes not in y_true\")\n",
      "d:\\Workspace\\thesis\\.venv\\lib\\site-packages\\sklearn\\metrics\\_classification.py:2399: UserWarning: y_pred contains classes not in y_true\n",
      "  warnings.warn(\"y_pred contains classes not in y_true\")\n"
     ]
    },
    {
     "name": "stdout",
     "output_type": "stream",
     "text": [
      "model_name=lr\n",
      "model_name=knn\n",
      "number_of_samples=1, selection_seed=6\n"
     ]
    },
    {
     "name": "stderr",
     "output_type": "stream",
     "text": [
      "d:\\Workspace\\thesis\\.venv\\lib\\site-packages\\sklearn\\metrics\\_classification.py:2399: UserWarning: y_pred contains classes not in y_true\n",
      "  warnings.warn(\"y_pred contains classes not in y_true\")\n",
      "d:\\Workspace\\thesis\\.venv\\lib\\site-packages\\sklearn\\metrics\\_classification.py:2399: UserWarning: y_pred contains classes not in y_true\n",
      "  warnings.warn(\"y_pred contains classes not in y_true\")\n"
     ]
    },
    {
     "name": "stdout",
     "output_type": "stream",
     "text": [
      "model_name=lr\n",
      "model_name=knn\n",
      "number_of_samples=1, selection_seed=7\n"
     ]
    },
    {
     "name": "stderr",
     "output_type": "stream",
     "text": [
      "d:\\Workspace\\thesis\\.venv\\lib\\site-packages\\sklearn\\metrics\\_classification.py:2399: UserWarning: y_pred contains classes not in y_true\n",
      "  warnings.warn(\"y_pred contains classes not in y_true\")\n",
      "d:\\Workspace\\thesis\\.venv\\lib\\site-packages\\sklearn\\metrics\\_classification.py:2399: UserWarning: y_pred contains classes not in y_true\n",
      "  warnings.warn(\"y_pred contains classes not in y_true\")\n"
     ]
    },
    {
     "name": "stdout",
     "output_type": "stream",
     "text": [
      "model_name=lr\n",
      "model_name=knn\n",
      "number_of_samples=1, selection_seed=8\n"
     ]
    },
    {
     "name": "stderr",
     "output_type": "stream",
     "text": [
      "d:\\Workspace\\thesis\\.venv\\lib\\site-packages\\sklearn\\metrics\\_classification.py:2399: UserWarning: y_pred contains classes not in y_true\n",
      "  warnings.warn(\"y_pred contains classes not in y_true\")\n",
      "d:\\Workspace\\thesis\\.venv\\lib\\site-packages\\sklearn\\metrics\\_classification.py:2399: UserWarning: y_pred contains classes not in y_true\n",
      "  warnings.warn(\"y_pred contains classes not in y_true\")\n"
     ]
    },
    {
     "name": "stdout",
     "output_type": "stream",
     "text": [
      "model_name=lr\n",
      "model_name=knn\n",
      "number_of_samples=1, selection_seed=9\n"
     ]
    },
    {
     "name": "stderr",
     "output_type": "stream",
     "text": [
      "d:\\Workspace\\thesis\\.venv\\lib\\site-packages\\sklearn\\metrics\\_classification.py:2399: UserWarning: y_pred contains classes not in y_true\n",
      "  warnings.warn(\"y_pred contains classes not in y_true\")\n",
      "d:\\Workspace\\thesis\\.venv\\lib\\site-packages\\sklearn\\metrics\\_classification.py:2399: UserWarning: y_pred contains classes not in y_true\n",
      "  warnings.warn(\"y_pred contains classes not in y_true\")\n"
     ]
    },
    {
     "name": "stdout",
     "output_type": "stream",
     "text": [
      "model_name=lr\n",
      "model_name=knn\n",
      "number_of_samples=3, selection_seed=0\n"
     ]
    },
    {
     "name": "stderr",
     "output_type": "stream",
     "text": [
      "d:\\Workspace\\thesis\\.venv\\lib\\site-packages\\sklearn\\metrics\\_classification.py:2399: UserWarning: y_pred contains classes not in y_true\n",
      "  warnings.warn(\"y_pred contains classes not in y_true\")\n",
      "d:\\Workspace\\thesis\\.venv\\lib\\site-packages\\sklearn\\metrics\\_classification.py:2399: UserWarning: y_pred contains classes not in y_true\n",
      "  warnings.warn(\"y_pred contains classes not in y_true\")\n"
     ]
    },
    {
     "name": "stdout",
     "output_type": "stream",
     "text": [
      "model_name=lr\n",
      "model_name=knn\n",
      "number_of_samples=3, selection_seed=1\n",
      "model_name=lr\n",
      "model_name=knn\n",
      "number_of_samples=3, selection_seed=2\n"
     ]
    },
    {
     "name": "stderr",
     "output_type": "stream",
     "text": [
      "d:\\Workspace\\thesis\\.venv\\lib\\site-packages\\sklearn\\metrics\\_classification.py:2399: UserWarning: y_pred contains classes not in y_true\n",
      "  warnings.warn(\"y_pred contains classes not in y_true\")\n",
      "d:\\Workspace\\thesis\\.venv\\lib\\site-packages\\sklearn\\metrics\\_classification.py:2399: UserWarning: y_pred contains classes not in y_true\n",
      "  warnings.warn(\"y_pred contains classes not in y_true\")\n",
      "d:\\Workspace\\thesis\\.venv\\lib\\site-packages\\sklearn\\metrics\\_classification.py:2399: UserWarning: y_pred contains classes not in y_true\n",
      "  warnings.warn(\"y_pred contains classes not in y_true\")\n"
     ]
    },
    {
     "name": "stdout",
     "output_type": "stream",
     "text": [
      "model_name=lr\n",
      "model_name=knn\n",
      "number_of_samples=3, selection_seed=3\n"
     ]
    },
    {
     "name": "stderr",
     "output_type": "stream",
     "text": [
      "d:\\Workspace\\thesis\\.venv\\lib\\site-packages\\sklearn\\metrics\\_classification.py:2399: UserWarning: y_pred contains classes not in y_true\n",
      "  warnings.warn(\"y_pred contains classes not in y_true\")\n",
      "d:\\Workspace\\thesis\\.venv\\lib\\site-packages\\sklearn\\metrics\\_classification.py:2399: UserWarning: y_pred contains classes not in y_true\n",
      "  warnings.warn(\"y_pred contains classes not in y_true\")\n"
     ]
    },
    {
     "name": "stdout",
     "output_type": "stream",
     "text": [
      "model_name=lr\n",
      "model_name=knn\n",
      "number_of_samples=3, selection_seed=4\n",
      "model_name=lr\n",
      "model_name=knn\n",
      "number_of_samples=3, selection_seed=5\n"
     ]
    },
    {
     "name": "stderr",
     "output_type": "stream",
     "text": [
      "d:\\Workspace\\thesis\\.venv\\lib\\site-packages\\sklearn\\metrics\\_classification.py:2399: UserWarning: y_pred contains classes not in y_true\n",
      "  warnings.warn(\"y_pred contains classes not in y_true\")\n"
     ]
    },
    {
     "name": "stdout",
     "output_type": "stream",
     "text": [
      "model_name=lr\n",
      "model_name=knn\n",
      "number_of_samples=3, selection_seed=6\n"
     ]
    },
    {
     "name": "stderr",
     "output_type": "stream",
     "text": [
      "d:\\Workspace\\thesis\\.venv\\lib\\site-packages\\sklearn\\metrics\\_classification.py:2399: UserWarning: y_pred contains classes not in y_true\n",
      "  warnings.warn(\"y_pred contains classes not in y_true\")\n",
      "d:\\Workspace\\thesis\\.venv\\lib\\site-packages\\sklearn\\metrics\\_classification.py:2399: UserWarning: y_pred contains classes not in y_true\n",
      "  warnings.warn(\"y_pred contains classes not in y_true\")\n"
     ]
    },
    {
     "name": "stdout",
     "output_type": "stream",
     "text": [
      "model_name=lr\n"
     ]
    },
    {
     "name": "stderr",
     "output_type": "stream",
     "text": [
      "d:\\Workspace\\thesis\\.venv\\lib\\site-packages\\sklearn\\metrics\\_classification.py:2399: UserWarning: y_pred contains classes not in y_true\n",
      "  warnings.warn(\"y_pred contains classes not in y_true\")\n"
     ]
    },
    {
     "name": "stdout",
     "output_type": "stream",
     "text": [
      "model_name=knn\n",
      "number_of_samples=3, selection_seed=7\n",
      "model_name=lr\n",
      "model_name=knn\n",
      "number_of_samples=3, selection_seed=8\n"
     ]
    },
    {
     "name": "stderr",
     "output_type": "stream",
     "text": [
      "d:\\Workspace\\thesis\\.venv\\lib\\site-packages\\sklearn\\metrics\\_classification.py:2399: UserWarning: y_pred contains classes not in y_true\n",
      "  warnings.warn(\"y_pred contains classes not in y_true\")\n",
      "d:\\Workspace\\thesis\\.venv\\lib\\site-packages\\sklearn\\metrics\\_classification.py:2399: UserWarning: y_pred contains classes not in y_true\n",
      "  warnings.warn(\"y_pred contains classes not in y_true\")\n",
      "d:\\Workspace\\thesis\\.venv\\lib\\site-packages\\sklearn\\metrics\\_classification.py:2399: UserWarning: y_pred contains classes not in y_true\n",
      "  warnings.warn(\"y_pred contains classes not in y_true\")\n"
     ]
    },
    {
     "name": "stdout",
     "output_type": "stream",
     "text": [
      "model_name=lr\n",
      "model_name=knn\n",
      "number_of_samples=3, selection_seed=9\n",
      "model_name=lr\n",
      "model_name=knn\n",
      "number_of_samples=10, selection_seed=0\n"
     ]
    },
    {
     "name": "stderr",
     "output_type": "stream",
     "text": [
      "d:\\Workspace\\thesis\\.venv\\lib\\site-packages\\sklearn\\metrics\\_classification.py:2399: UserWarning: y_pred contains classes not in y_true\n",
      "  warnings.warn(\"y_pred contains classes not in y_true\")\n"
     ]
    },
    {
     "name": "stdout",
     "output_type": "stream",
     "text": [
      "model_name=lr\n"
     ]
    },
    {
     "name": "stderr",
     "output_type": "stream",
     "text": [
      "d:\\Workspace\\thesis\\.venv\\lib\\site-packages\\sklearn\\metrics\\_classification.py:2399: UserWarning: y_pred contains classes not in y_true\n",
      "  warnings.warn(\"y_pred contains classes not in y_true\")\n"
     ]
    },
    {
     "name": "stdout",
     "output_type": "stream",
     "text": [
      "model_name=knn\n",
      "number_of_samples=10, selection_seed=1\n",
      "model_name=lr\n"
     ]
    },
    {
     "name": "stderr",
     "output_type": "stream",
     "text": [
      "d:\\Workspace\\thesis\\.venv\\lib\\site-packages\\sklearn\\metrics\\_classification.py:2399: UserWarning: y_pred contains classes not in y_true\n",
      "  warnings.warn(\"y_pred contains classes not in y_true\")\n"
     ]
    },
    {
     "name": "stdout",
     "output_type": "stream",
     "text": [
      "model_name=knn\n",
      "number_of_samples=10, selection_seed=2\n",
      "model_name=lr\n"
     ]
    },
    {
     "name": "stderr",
     "output_type": "stream",
     "text": [
      "d:\\Workspace\\thesis\\.venv\\lib\\site-packages\\sklearn\\metrics\\_classification.py:2399: UserWarning: y_pred contains classes not in y_true\n",
      "  warnings.warn(\"y_pred contains classes not in y_true\")\n"
     ]
    },
    {
     "name": "stdout",
     "output_type": "stream",
     "text": [
      "model_name=knn\n",
      "number_of_samples=10, selection_seed=3\n",
      "model_name=lr\n"
     ]
    },
    {
     "name": "stderr",
     "output_type": "stream",
     "text": [
      "d:\\Workspace\\thesis\\.venv\\lib\\site-packages\\sklearn\\metrics\\_classification.py:2399: UserWarning: y_pred contains classes not in y_true\n",
      "  warnings.warn(\"y_pred contains classes not in y_true\")\n"
     ]
    },
    {
     "name": "stdout",
     "output_type": "stream",
     "text": [
      "model_name=knn\n",
      "number_of_samples=10, selection_seed=4\n",
      "model_name=lr\n"
     ]
    },
    {
     "name": "stderr",
     "output_type": "stream",
     "text": [
      "d:\\Workspace\\thesis\\.venv\\lib\\site-packages\\sklearn\\metrics\\_classification.py:2399: UserWarning: y_pred contains classes not in y_true\n",
      "  warnings.warn(\"y_pred contains classes not in y_true\")\n"
     ]
    },
    {
     "name": "stdout",
     "output_type": "stream",
     "text": [
      "model_name=knn\n",
      "number_of_samples=10, selection_seed=5\n",
      "model_name=lr\n"
     ]
    },
    {
     "name": "stderr",
     "output_type": "stream",
     "text": [
      "d:\\Workspace\\thesis\\.venv\\lib\\site-packages\\sklearn\\metrics\\_classification.py:2399: UserWarning: y_pred contains classes not in y_true\n",
      "  warnings.warn(\"y_pred contains classes not in y_true\")\n"
     ]
    },
    {
     "name": "stdout",
     "output_type": "stream",
     "text": [
      "model_name=knn\n",
      "number_of_samples=10, selection_seed=6\n",
      "model_name=lr\n"
     ]
    },
    {
     "name": "stderr",
     "output_type": "stream",
     "text": [
      "d:\\Workspace\\thesis\\.venv\\lib\\site-packages\\sklearn\\metrics\\_classification.py:2399: UserWarning: y_pred contains classes not in y_true\n",
      "  warnings.warn(\"y_pred contains classes not in y_true\")\n"
     ]
    },
    {
     "name": "stdout",
     "output_type": "stream",
     "text": [
      "model_name=knn\n",
      "number_of_samples=10, selection_seed=7\n",
      "model_name=lr\n"
     ]
    },
    {
     "name": "stderr",
     "output_type": "stream",
     "text": [
      "d:\\Workspace\\thesis\\.venv\\lib\\site-packages\\sklearn\\metrics\\_classification.py:2399: UserWarning: y_pred contains classes not in y_true\n",
      "  warnings.warn(\"y_pred contains classes not in y_true\")\n"
     ]
    },
    {
     "name": "stdout",
     "output_type": "stream",
     "text": [
      "model_name=knn\n",
      "number_of_samples=10, selection_seed=8\n",
      "model_name=lr\n"
     ]
    },
    {
     "name": "stderr",
     "output_type": "stream",
     "text": [
      "d:\\Workspace\\thesis\\.venv\\lib\\site-packages\\sklearn\\metrics\\_classification.py:2399: UserWarning: y_pred contains classes not in y_true\n",
      "  warnings.warn(\"y_pred contains classes not in y_true\")\n"
     ]
    },
    {
     "name": "stdout",
     "output_type": "stream",
     "text": [
      "model_name=knn\n",
      "number_of_samples=10, selection_seed=9\n",
      "model_name=lr\n"
     ]
    },
    {
     "name": "stderr",
     "output_type": "stream",
     "text": [
      "d:\\Workspace\\thesis\\.venv\\lib\\site-packages\\sklearn\\metrics\\_classification.py:2399: UserWarning: y_pred contains classes not in y_true\n",
      "  warnings.warn(\"y_pred contains classes not in y_true\")\n"
     ]
    },
    {
     "name": "stdout",
     "output_type": "stream",
     "text": [
      "model_name=knn\n",
      "number_of_samples=30, selection_seed=0\n",
      "model_name=lr\n"
     ]
    },
    {
     "name": "stderr",
     "output_type": "stream",
     "text": [
      "d:\\Workspace\\thesis\\.venv\\lib\\site-packages\\sklearn\\metrics\\_classification.py:2399: UserWarning: y_pred contains classes not in y_true\n",
      "  warnings.warn(\"y_pred contains classes not in y_true\")\n"
     ]
    },
    {
     "name": "stdout",
     "output_type": "stream",
     "text": [
      "model_name=knn\n",
      "number_of_samples=30, selection_seed=1\n",
      "model_name=lr\n"
     ]
    },
    {
     "name": "stderr",
     "output_type": "stream",
     "text": [
      "d:\\Workspace\\thesis\\.venv\\lib\\site-packages\\sklearn\\metrics\\_classification.py:2399: UserWarning: y_pred contains classes not in y_true\n",
      "  warnings.warn(\"y_pred contains classes not in y_true\")\n"
     ]
    },
    {
     "name": "stdout",
     "output_type": "stream",
     "text": [
      "model_name=knn\n",
      "number_of_samples=30, selection_seed=2\n",
      "model_name=lr\n"
     ]
    },
    {
     "name": "stderr",
     "output_type": "stream",
     "text": [
      "d:\\Workspace\\thesis\\.venv\\lib\\site-packages\\sklearn\\metrics\\_classification.py:2399: UserWarning: y_pred contains classes not in y_true\n",
      "  warnings.warn(\"y_pred contains classes not in y_true\")\n"
     ]
    },
    {
     "name": "stdout",
     "output_type": "stream",
     "text": [
      "model_name=knn\n",
      "number_of_samples=30, selection_seed=3\n",
      "model_name=lr\n"
     ]
    },
    {
     "name": "stderr",
     "output_type": "stream",
     "text": [
      "d:\\Workspace\\thesis\\.venv\\lib\\site-packages\\sklearn\\metrics\\_classification.py:2399: UserWarning: y_pred contains classes not in y_true\n",
      "  warnings.warn(\"y_pred contains classes not in y_true\")\n"
     ]
    },
    {
     "name": "stdout",
     "output_type": "stream",
     "text": [
      "model_name=knn\n",
      "number_of_samples=30, selection_seed=4\n",
      "model_name=lr\n"
     ]
    },
    {
     "name": "stderr",
     "output_type": "stream",
     "text": [
      "d:\\Workspace\\thesis\\.venv\\lib\\site-packages\\sklearn\\metrics\\_classification.py:2399: UserWarning: y_pred contains classes not in y_true\n",
      "  warnings.warn(\"y_pred contains classes not in y_true\")\n"
     ]
    },
    {
     "name": "stdout",
     "output_type": "stream",
     "text": [
      "model_name=knn\n",
      "number_of_samples=30, selection_seed=5\n",
      "model_name=lr\n"
     ]
    },
    {
     "name": "stderr",
     "output_type": "stream",
     "text": [
      "d:\\Workspace\\thesis\\.venv\\lib\\site-packages\\sklearn\\metrics\\_classification.py:2399: UserWarning: y_pred contains classes not in y_true\n",
      "  warnings.warn(\"y_pred contains classes not in y_true\")\n"
     ]
    },
    {
     "name": "stdout",
     "output_type": "stream",
     "text": [
      "model_name=knn\n",
      "number_of_samples=30, selection_seed=6\n",
      "model_name=lr\n"
     ]
    },
    {
     "name": "stderr",
     "output_type": "stream",
     "text": [
      "d:\\Workspace\\thesis\\.venv\\lib\\site-packages\\sklearn\\metrics\\_classification.py:2399: UserWarning: y_pred contains classes not in y_true\n",
      "  warnings.warn(\"y_pred contains classes not in y_true\")\n"
     ]
    },
    {
     "name": "stdout",
     "output_type": "stream",
     "text": [
      "model_name=knn\n",
      "number_of_samples=30, selection_seed=7\n",
      "model_name=lr\n"
     ]
    },
    {
     "name": "stderr",
     "output_type": "stream",
     "text": [
      "d:\\Workspace\\thesis\\.venv\\lib\\site-packages\\sklearn\\metrics\\_classification.py:2399: UserWarning: y_pred contains classes not in y_true\n",
      "  warnings.warn(\"y_pred contains classes not in y_true\")\n"
     ]
    },
    {
     "name": "stdout",
     "output_type": "stream",
     "text": [
      "model_name=knn\n",
      "number_of_samples=30, selection_seed=8\n",
      "model_name=lr\n"
     ]
    },
    {
     "name": "stderr",
     "output_type": "stream",
     "text": [
      "d:\\Workspace\\thesis\\.venv\\lib\\site-packages\\sklearn\\metrics\\_classification.py:2399: UserWarning: y_pred contains classes not in y_true\n",
      "  warnings.warn(\"y_pred contains classes not in y_true\")\n"
     ]
    },
    {
     "name": "stdout",
     "output_type": "stream",
     "text": [
      "model_name=knn\n",
      "number_of_samples=30, selection_seed=9\n",
      "model_name=lr\n"
     ]
    },
    {
     "name": "stderr",
     "output_type": "stream",
     "text": [
      "d:\\Workspace\\thesis\\.venv\\lib\\site-packages\\sklearn\\metrics\\_classification.py:2399: UserWarning: y_pred contains classes not in y_true\n",
      "  warnings.warn(\"y_pred contains classes not in y_true\")\n"
     ]
    },
    {
     "name": "stdout",
     "output_type": "stream",
     "text": [
      "model_name=knn\n",
      "number_of_samples=None, selection_seed=None\n",
      "model_name=lr\n"
     ]
    },
    {
     "name": "stderr",
     "output_type": "stream",
     "text": [
      "d:\\Workspace\\thesis\\.venv\\lib\\site-packages\\sklearn\\metrics\\_classification.py:2399: UserWarning: y_pred contains classes not in y_true\n",
      "  warnings.warn(\"y_pred contains classes not in y_true\")\n"
     ]
    },
    {
     "name": "stdout",
     "output_type": "stream",
     "text": [
      "model_name=knn\n",
      "loading: ../datasets/intermediate-features/PlantDoc-ViT_B16-ImageNet_SSL.csv\n",
      "number_of_samples=1, selection_seed=0\n"
     ]
    },
    {
     "name": "stderr",
     "output_type": "stream",
     "text": [
      "d:\\Workspace\\thesis\\.venv\\lib\\site-packages\\sklearn\\metrics\\_classification.py:2399: UserWarning: y_pred contains classes not in y_true\n",
      "  warnings.warn(\"y_pred contains classes not in y_true\")\n",
      "d:\\Workspace\\thesis\\.venv\\lib\\site-packages\\sklearn\\metrics\\_classification.py:2399: UserWarning: y_pred contains classes not in y_true\n",
      "  warnings.warn(\"y_pred contains classes not in y_true\")\n"
     ]
    },
    {
     "name": "stdout",
     "output_type": "stream",
     "text": [
      "model_name=lr\n",
      "model_name=knn\n",
      "number_of_samples=1, selection_seed=1\n"
     ]
    },
    {
     "name": "stderr",
     "output_type": "stream",
     "text": [
      "d:\\Workspace\\thesis\\.venv\\lib\\site-packages\\sklearn\\metrics\\_classification.py:2399: UserWarning: y_pred contains classes not in y_true\n",
      "  warnings.warn(\"y_pred contains classes not in y_true\")\n",
      "d:\\Workspace\\thesis\\.venv\\lib\\site-packages\\sklearn\\metrics\\_classification.py:2399: UserWarning: y_pred contains classes not in y_true\n",
      "  warnings.warn(\"y_pred contains classes not in y_true\")\n"
     ]
    },
    {
     "name": "stdout",
     "output_type": "stream",
     "text": [
      "model_name=lr\n",
      "model_name=knn\n",
      "number_of_samples=1, selection_seed=2\n"
     ]
    },
    {
     "name": "stderr",
     "output_type": "stream",
     "text": [
      "d:\\Workspace\\thesis\\.venv\\lib\\site-packages\\sklearn\\metrics\\_classification.py:2399: UserWarning: y_pred contains classes not in y_true\n",
      "  warnings.warn(\"y_pred contains classes not in y_true\")\n",
      "d:\\Workspace\\thesis\\.venv\\lib\\site-packages\\sklearn\\metrics\\_classification.py:2399: UserWarning: y_pred contains classes not in y_true\n",
      "  warnings.warn(\"y_pred contains classes not in y_true\")\n"
     ]
    },
    {
     "name": "stdout",
     "output_type": "stream",
     "text": [
      "model_name=lr\n",
      "model_name=knn\n",
      "number_of_samples=1, selection_seed=3\n"
     ]
    },
    {
     "name": "stderr",
     "output_type": "stream",
     "text": [
      "d:\\Workspace\\thesis\\.venv\\lib\\site-packages\\sklearn\\metrics\\_classification.py:2399: UserWarning: y_pred contains classes not in y_true\n",
      "  warnings.warn(\"y_pred contains classes not in y_true\")\n",
      "d:\\Workspace\\thesis\\.venv\\lib\\site-packages\\sklearn\\metrics\\_classification.py:2399: UserWarning: y_pred contains classes not in y_true\n",
      "  warnings.warn(\"y_pred contains classes not in y_true\")\n"
     ]
    },
    {
     "name": "stdout",
     "output_type": "stream",
     "text": [
      "model_name=lr\n",
      "model_name=knn\n",
      "number_of_samples=1, selection_seed=4\n"
     ]
    },
    {
     "name": "stderr",
     "output_type": "stream",
     "text": [
      "d:\\Workspace\\thesis\\.venv\\lib\\site-packages\\sklearn\\metrics\\_classification.py:2399: UserWarning: y_pred contains classes not in y_true\n",
      "  warnings.warn(\"y_pred contains classes not in y_true\")\n",
      "d:\\Workspace\\thesis\\.venv\\lib\\site-packages\\sklearn\\metrics\\_classification.py:2399: UserWarning: y_pred contains classes not in y_true\n",
      "  warnings.warn(\"y_pred contains classes not in y_true\")\n"
     ]
    },
    {
     "name": "stdout",
     "output_type": "stream",
     "text": [
      "model_name=lr\n",
      "model_name=knn\n",
      "number_of_samples=1, selection_seed=5\n"
     ]
    },
    {
     "name": "stderr",
     "output_type": "stream",
     "text": [
      "d:\\Workspace\\thesis\\.venv\\lib\\site-packages\\sklearn\\metrics\\_classification.py:2399: UserWarning: y_pred contains classes not in y_true\n",
      "  warnings.warn(\"y_pred contains classes not in y_true\")\n",
      "d:\\Workspace\\thesis\\.venv\\lib\\site-packages\\sklearn\\metrics\\_classification.py:2399: UserWarning: y_pred contains classes not in y_true\n",
      "  warnings.warn(\"y_pred contains classes not in y_true\")\n"
     ]
    },
    {
     "name": "stdout",
     "output_type": "stream",
     "text": [
      "model_name=lr\n",
      "model_name=knn\n",
      "number_of_samples=1, selection_seed=6\n"
     ]
    },
    {
     "name": "stderr",
     "output_type": "stream",
     "text": [
      "d:\\Workspace\\thesis\\.venv\\lib\\site-packages\\sklearn\\metrics\\_classification.py:2399: UserWarning: y_pred contains classes not in y_true\n",
      "  warnings.warn(\"y_pred contains classes not in y_true\")\n",
      "d:\\Workspace\\thesis\\.venv\\lib\\site-packages\\sklearn\\metrics\\_classification.py:2399: UserWarning: y_pred contains classes not in y_true\n",
      "  warnings.warn(\"y_pred contains classes not in y_true\")\n"
     ]
    },
    {
     "name": "stdout",
     "output_type": "stream",
     "text": [
      "model_name=lr\n",
      "model_name=knn\n",
      "number_of_samples=1, selection_seed=7\n"
     ]
    },
    {
     "name": "stderr",
     "output_type": "stream",
     "text": [
      "d:\\Workspace\\thesis\\.venv\\lib\\site-packages\\sklearn\\metrics\\_classification.py:2399: UserWarning: y_pred contains classes not in y_true\n",
      "  warnings.warn(\"y_pred contains classes not in y_true\")\n",
      "d:\\Workspace\\thesis\\.venv\\lib\\site-packages\\sklearn\\metrics\\_classification.py:2399: UserWarning: y_pred contains classes not in y_true\n",
      "  warnings.warn(\"y_pred contains classes not in y_true\")\n"
     ]
    },
    {
     "name": "stdout",
     "output_type": "stream",
     "text": [
      "model_name=lr\n",
      "model_name=knn\n",
      "number_of_samples=1, selection_seed=8\n",
      "model_name=lr\n",
      "model_name=knn\n",
      "number_of_samples=1, selection_seed=9\n"
     ]
    },
    {
     "name": "stderr",
     "output_type": "stream",
     "text": [
      "d:\\Workspace\\thesis\\.venv\\lib\\site-packages\\sklearn\\metrics\\_classification.py:2399: UserWarning: y_pred contains classes not in y_true\n",
      "  warnings.warn(\"y_pred contains classes not in y_true\")\n",
      "d:\\Workspace\\thesis\\.venv\\lib\\site-packages\\sklearn\\metrics\\_classification.py:2399: UserWarning: y_pred contains classes not in y_true\n",
      "  warnings.warn(\"y_pred contains classes not in y_true\")\n"
     ]
    },
    {
     "name": "stdout",
     "output_type": "stream",
     "text": [
      "model_name=lr\n",
      "model_name=knn\n",
      "number_of_samples=3, selection_seed=0\n",
      "model_name=lr\n",
      "model_name=knn\n",
      "number_of_samples=3, selection_seed=1\n"
     ]
    },
    {
     "name": "stderr",
     "output_type": "stream",
     "text": [
      "d:\\Workspace\\thesis\\.venv\\lib\\site-packages\\sklearn\\metrics\\_classification.py:2399: UserWarning: y_pred contains classes not in y_true\n",
      "  warnings.warn(\"y_pred contains classes not in y_true\")\n"
     ]
    },
    {
     "name": "stdout",
     "output_type": "stream",
     "text": [
      "model_name=lr\n",
      "model_name=knn\n",
      "number_of_samples=3, selection_seed=2\n"
     ]
    },
    {
     "name": "stderr",
     "output_type": "stream",
     "text": [
      "d:\\Workspace\\thesis\\.venv\\lib\\site-packages\\sklearn\\metrics\\_classification.py:2399: UserWarning: y_pred contains classes not in y_true\n",
      "  warnings.warn(\"y_pred contains classes not in y_true\")\n",
      "d:\\Workspace\\thesis\\.venv\\lib\\site-packages\\sklearn\\metrics\\_classification.py:2399: UserWarning: y_pred contains classes not in y_true\n",
      "  warnings.warn(\"y_pred contains classes not in y_true\")\n"
     ]
    },
    {
     "name": "stdout",
     "output_type": "stream",
     "text": [
      "model_name=lr\n",
      "model_name=knn\n",
      "number_of_samples=3, selection_seed=3\n"
     ]
    },
    {
     "name": "stderr",
     "output_type": "stream",
     "text": [
      "d:\\Workspace\\thesis\\.venv\\lib\\site-packages\\sklearn\\metrics\\_classification.py:2399: UserWarning: y_pred contains classes not in y_true\n",
      "  warnings.warn(\"y_pred contains classes not in y_true\")\n",
      "d:\\Workspace\\thesis\\.venv\\lib\\site-packages\\sklearn\\metrics\\_classification.py:2399: UserWarning: y_pred contains classes not in y_true\n",
      "  warnings.warn(\"y_pred contains classes not in y_true\")\n"
     ]
    },
    {
     "name": "stdout",
     "output_type": "stream",
     "text": [
      "model_name=lr\n",
      "model_name=knn\n",
      "number_of_samples=3, selection_seed=4\n"
     ]
    },
    {
     "name": "stderr",
     "output_type": "stream",
     "text": [
      "d:\\Workspace\\thesis\\.venv\\lib\\site-packages\\sklearn\\metrics\\_classification.py:2399: UserWarning: y_pred contains classes not in y_true\n",
      "  warnings.warn(\"y_pred contains classes not in y_true\")\n",
      "d:\\Workspace\\thesis\\.venv\\lib\\site-packages\\sklearn\\metrics\\_classification.py:2399: UserWarning: y_pred contains classes not in y_true\n",
      "  warnings.warn(\"y_pred contains classes not in y_true\")\n"
     ]
    },
    {
     "name": "stdout",
     "output_type": "stream",
     "text": [
      "model_name=lr\n",
      "model_name=knn\n",
      "number_of_samples=3, selection_seed=5\n"
     ]
    },
    {
     "name": "stderr",
     "output_type": "stream",
     "text": [
      "d:\\Workspace\\thesis\\.venv\\lib\\site-packages\\sklearn\\metrics\\_classification.py:2399: UserWarning: y_pred contains classes not in y_true\n",
      "  warnings.warn(\"y_pred contains classes not in y_true\")\n",
      "d:\\Workspace\\thesis\\.venv\\lib\\site-packages\\sklearn\\metrics\\_classification.py:2399: UserWarning: y_pred contains classes not in y_true\n",
      "  warnings.warn(\"y_pred contains classes not in y_true\")\n"
     ]
    },
    {
     "name": "stdout",
     "output_type": "stream",
     "text": [
      "model_name=lr\n",
      "model_name=knn\n",
      "number_of_samples=3, selection_seed=6\n",
      "model_name=lr\n",
      "model_name=knn\n",
      "number_of_samples=3, selection_seed=7\n"
     ]
    },
    {
     "name": "stderr",
     "output_type": "stream",
     "text": [
      "d:\\Workspace\\thesis\\.venv\\lib\\site-packages\\sklearn\\metrics\\_classification.py:2399: UserWarning: y_pred contains classes not in y_true\n",
      "  warnings.warn(\"y_pred contains classes not in y_true\")\n",
      "d:\\Workspace\\thesis\\.venv\\lib\\site-packages\\sklearn\\metrics\\_classification.py:2399: UserWarning: y_pred contains classes not in y_true\n",
      "  warnings.warn(\"y_pred contains classes not in y_true\")\n",
      "d:\\Workspace\\thesis\\.venv\\lib\\site-packages\\sklearn\\metrics\\_classification.py:2399: UserWarning: y_pred contains classes not in y_true\n",
      "  warnings.warn(\"y_pred contains classes not in y_true\")\n"
     ]
    },
    {
     "name": "stdout",
     "output_type": "stream",
     "text": [
      "model_name=lr\n",
      "model_name=knn\n",
      "number_of_samples=3, selection_seed=8\n",
      "model_name=lr\n",
      "model_name=knn\n",
      "number_of_samples=3, selection_seed=9\n"
     ]
    },
    {
     "name": "stderr",
     "output_type": "stream",
     "text": [
      "d:\\Workspace\\thesis\\.venv\\lib\\site-packages\\sklearn\\metrics\\_classification.py:2399: UserWarning: y_pred contains classes not in y_true\n",
      "  warnings.warn(\"y_pred contains classes not in y_true\")\n",
      "d:\\Workspace\\thesis\\.venv\\lib\\site-packages\\sklearn\\metrics\\_classification.py:2399: UserWarning: y_pred contains classes not in y_true\n",
      "  warnings.warn(\"y_pred contains classes not in y_true\")\n"
     ]
    },
    {
     "name": "stdout",
     "output_type": "stream",
     "text": [
      "model_name=lr\n",
      "model_name=knn\n",
      "number_of_samples=10, selection_seed=0\n",
      "model_name=lr\n",
      "model_name=knn\n",
      "number_of_samples=10, selection_seed=1\n"
     ]
    },
    {
     "name": "stderr",
     "output_type": "stream",
     "text": [
      "d:\\Workspace\\thesis\\.venv\\lib\\site-packages\\sklearn\\metrics\\_classification.py:2399: UserWarning: y_pred contains classes not in y_true\n",
      "  warnings.warn(\"y_pred contains classes not in y_true\")\n",
      "d:\\Workspace\\thesis\\.venv\\lib\\site-packages\\sklearn\\metrics\\_classification.py:2399: UserWarning: y_pred contains classes not in y_true\n",
      "  warnings.warn(\"y_pred contains classes not in y_true\")\n",
      "d:\\Workspace\\thesis\\.venv\\lib\\site-packages\\sklearn\\metrics\\_classification.py:2399: UserWarning: y_pred contains classes not in y_true\n",
      "  warnings.warn(\"y_pred contains classes not in y_true\")\n"
     ]
    },
    {
     "name": "stdout",
     "output_type": "stream",
     "text": [
      "model_name=lr\n",
      "model_name=knn\n",
      "number_of_samples=10, selection_seed=2\n",
      "model_name=lr\n",
      "model_name=knn\n",
      "number_of_samples=10, selection_seed=3\n"
     ]
    },
    {
     "name": "stderr",
     "output_type": "stream",
     "text": [
      "d:\\Workspace\\thesis\\.venv\\lib\\site-packages\\sklearn\\metrics\\_classification.py:2399: UserWarning: y_pred contains classes not in y_true\n",
      "  warnings.warn(\"y_pred contains classes not in y_true\")\n",
      "d:\\Workspace\\thesis\\.venv\\lib\\site-packages\\sklearn\\metrics\\_classification.py:2399: UserWarning: y_pred contains classes not in y_true\n",
      "  warnings.warn(\"y_pred contains classes not in y_true\")\n"
     ]
    },
    {
     "name": "stdout",
     "output_type": "stream",
     "text": [
      "model_name=lr\n",
      "model_name=knn\n",
      "number_of_samples=10, selection_seed=4\n",
      "model_name=lr\n",
      "model_name=knn\n",
      "number_of_samples=10, selection_seed=5\n"
     ]
    },
    {
     "name": "stderr",
     "output_type": "stream",
     "text": [
      "d:\\Workspace\\thesis\\.venv\\lib\\site-packages\\sklearn\\metrics\\_classification.py:2399: UserWarning: y_pred contains classes not in y_true\n",
      "  warnings.warn(\"y_pred contains classes not in y_true\")\n"
     ]
    },
    {
     "name": "stdout",
     "output_type": "stream",
     "text": [
      "model_name=lr\n",
      "model_name=knn\n",
      "number_of_samples=10, selection_seed=6\n"
     ]
    },
    {
     "name": "stderr",
     "output_type": "stream",
     "text": [
      "d:\\Workspace\\thesis\\.venv\\lib\\site-packages\\sklearn\\metrics\\_classification.py:2399: UserWarning: y_pred contains classes not in y_true\n",
      "  warnings.warn(\"y_pred contains classes not in y_true\")\n",
      "d:\\Workspace\\thesis\\.venv\\lib\\site-packages\\sklearn\\metrics\\_classification.py:2399: UserWarning: y_pred contains classes not in y_true\n",
      "  warnings.warn(\"y_pred contains classes not in y_true\")\n"
     ]
    },
    {
     "name": "stdout",
     "output_type": "stream",
     "text": [
      "model_name=lr\n",
      "model_name=knn\n",
      "number_of_samples=10, selection_seed=7\n",
      "model_name=lr\n",
      "model_name=knn\n",
      "number_of_samples=10, selection_seed=8\n"
     ]
    },
    {
     "name": "stderr",
     "output_type": "stream",
     "text": [
      "d:\\Workspace\\thesis\\.venv\\lib\\site-packages\\sklearn\\metrics\\_classification.py:2399: UserWarning: y_pred contains classes not in y_true\n",
      "  warnings.warn(\"y_pred contains classes not in y_true\")\n"
     ]
    },
    {
     "name": "stdout",
     "output_type": "stream",
     "text": [
      "model_name=lr\n",
      "model_name=knn\n",
      "number_of_samples=10, selection_seed=9\n",
      "model_name=lr\n",
      "model_name=knn\n",
      "number_of_samples=30, selection_seed=0\n"
     ]
    },
    {
     "name": "stderr",
     "output_type": "stream",
     "text": [
      "d:\\Workspace\\thesis\\.venv\\lib\\site-packages\\sklearn\\metrics\\_classification.py:2399: UserWarning: y_pred contains classes not in y_true\n",
      "  warnings.warn(\"y_pred contains classes not in y_true\")\n"
     ]
    },
    {
     "name": "stdout",
     "output_type": "stream",
     "text": [
      "model_name=lr\n",
      "model_name=knn\n",
      "number_of_samples=30, selection_seed=1\n",
      "model_name=lr\n",
      "model_name=knn\n",
      "number_of_samples=30, selection_seed=2\n"
     ]
    },
    {
     "name": "stderr",
     "output_type": "stream",
     "text": [
      "d:\\Workspace\\thesis\\.venv\\lib\\site-packages\\sklearn\\metrics\\_classification.py:2399: UserWarning: y_pred contains classes not in y_true\n",
      "  warnings.warn(\"y_pred contains classes not in y_true\")\n"
     ]
    },
    {
     "name": "stdout",
     "output_type": "stream",
     "text": [
      "model_name=lr\n",
      "model_name=knn\n",
      "number_of_samples=30, selection_seed=3\n",
      "model_name=lr\n",
      "model_name=knn\n",
      "number_of_samples=30, selection_seed=4\n",
      "model_name=lr\n",
      "model_name=knn\n",
      "number_of_samples=30, selection_seed=5\n",
      "model_name=lr\n",
      "model_name=knn\n",
      "number_of_samples=30, selection_seed=6\n",
      "model_name=lr\n",
      "model_name=knn\n",
      "number_of_samples=30, selection_seed=7\n",
      "model_name=lr\n",
      "model_name=knn\n",
      "number_of_samples=30, selection_seed=8\n",
      "model_name=lr\n",
      "model_name=knn\n",
      "number_of_samples=30, selection_seed=9\n",
      "model_name=lr\n",
      "model_name=knn\n",
      "number_of_samples=None, selection_seed=None\n",
      "model_name=lr\n",
      "model_name=knn\n",
      "loading: ../datasets/intermediate-features/PlantDoc-ViT_B16-ImageNet_v1.csv\n",
      "number_of_samples=1, selection_seed=0\n"
     ]
    },
    {
     "name": "stderr",
     "output_type": "stream",
     "text": [
      "d:\\Workspace\\thesis\\.venv\\lib\\site-packages\\sklearn\\metrics\\_classification.py:2399: UserWarning: y_pred contains classes not in y_true\n",
      "  warnings.warn(\"y_pred contains classes not in y_true\")\n",
      "d:\\Workspace\\thesis\\.venv\\lib\\site-packages\\sklearn\\metrics\\_classification.py:2399: UserWarning: y_pred contains classes not in y_true\n",
      "  warnings.warn(\"y_pred contains classes not in y_true\")\n"
     ]
    },
    {
     "name": "stdout",
     "output_type": "stream",
     "text": [
      "model_name=lr\n",
      "model_name=knn\n",
      "number_of_samples=1, selection_seed=1\n"
     ]
    },
    {
     "name": "stderr",
     "output_type": "stream",
     "text": [
      "d:\\Workspace\\thesis\\.venv\\lib\\site-packages\\sklearn\\metrics\\_classification.py:2399: UserWarning: y_pred contains classes not in y_true\n",
      "  warnings.warn(\"y_pred contains classes not in y_true\")\n",
      "d:\\Workspace\\thesis\\.venv\\lib\\site-packages\\sklearn\\metrics\\_classification.py:2399: UserWarning: y_pred contains classes not in y_true\n",
      "  warnings.warn(\"y_pred contains classes not in y_true\")\n"
     ]
    },
    {
     "name": "stdout",
     "output_type": "stream",
     "text": [
      "model_name=lr\n",
      "model_name=knn\n",
      "number_of_samples=1, selection_seed=2\n",
      "model_name=lr\n",
      "model_name=knn\n",
      "number_of_samples=1, selection_seed=3\n"
     ]
    },
    {
     "name": "stderr",
     "output_type": "stream",
     "text": [
      "d:\\Workspace\\thesis\\.venv\\lib\\site-packages\\sklearn\\metrics\\_classification.py:2399: UserWarning: y_pred contains classes not in y_true\n",
      "  warnings.warn(\"y_pred contains classes not in y_true\")\n"
     ]
    },
    {
     "name": "stdout",
     "output_type": "stream",
     "text": [
      "model_name=lr\n",
      "model_name=knn\n",
      "number_of_samples=1, selection_seed=4\n"
     ]
    },
    {
     "name": "stderr",
     "output_type": "stream",
     "text": [
      "d:\\Workspace\\thesis\\.venv\\lib\\site-packages\\sklearn\\metrics\\_classification.py:2399: UserWarning: y_pred contains classes not in y_true\n",
      "  warnings.warn(\"y_pred contains classes not in y_true\")\n",
      "d:\\Workspace\\thesis\\.venv\\lib\\site-packages\\sklearn\\metrics\\_classification.py:2399: UserWarning: y_pred contains classes not in y_true\n",
      "  warnings.warn(\"y_pred contains classes not in y_true\")\n"
     ]
    },
    {
     "name": "stdout",
     "output_type": "stream",
     "text": [
      "model_name=lr\n",
      "model_name=knn\n",
      "number_of_samples=1, selection_seed=5\n"
     ]
    },
    {
     "name": "stderr",
     "output_type": "stream",
     "text": [
      "d:\\Workspace\\thesis\\.venv\\lib\\site-packages\\sklearn\\metrics\\_classification.py:2399: UserWarning: y_pred contains classes not in y_true\n",
      "  warnings.warn(\"y_pred contains classes not in y_true\")\n",
      "d:\\Workspace\\thesis\\.venv\\lib\\site-packages\\sklearn\\metrics\\_classification.py:2399: UserWarning: y_pred contains classes not in y_true\n",
      "  warnings.warn(\"y_pred contains classes not in y_true\")\n"
     ]
    },
    {
     "name": "stdout",
     "output_type": "stream",
     "text": [
      "model_name=lr\n",
      "model_name=knn\n",
      "number_of_samples=1, selection_seed=6\n"
     ]
    },
    {
     "name": "stderr",
     "output_type": "stream",
     "text": [
      "d:\\Workspace\\thesis\\.venv\\lib\\site-packages\\sklearn\\metrics\\_classification.py:2399: UserWarning: y_pred contains classes not in y_true\n",
      "  warnings.warn(\"y_pred contains classes not in y_true\")\n",
      "d:\\Workspace\\thesis\\.venv\\lib\\site-packages\\sklearn\\metrics\\_classification.py:2399: UserWarning: y_pred contains classes not in y_true\n",
      "  warnings.warn(\"y_pred contains classes not in y_true\")\n"
     ]
    },
    {
     "name": "stdout",
     "output_type": "stream",
     "text": [
      "model_name=lr\n",
      "model_name=knn\n",
      "number_of_samples=1, selection_seed=7\n",
      "model_name=lr\n",
      "model_name=knn\n",
      "number_of_samples=1, selection_seed=8\n"
     ]
    },
    {
     "name": "stderr",
     "output_type": "stream",
     "text": [
      "d:\\Workspace\\thesis\\.venv\\lib\\site-packages\\sklearn\\metrics\\_classification.py:2399: UserWarning: y_pred contains classes not in y_true\n",
      "  warnings.warn(\"y_pred contains classes not in y_true\")\n",
      "d:\\Workspace\\thesis\\.venv\\lib\\site-packages\\sklearn\\metrics\\_classification.py:2399: UserWarning: y_pred contains classes not in y_true\n",
      "  warnings.warn(\"y_pred contains classes not in y_true\")\n"
     ]
    },
    {
     "name": "stdout",
     "output_type": "stream",
     "text": [
      "model_name=lr\n",
      "model_name=knn\n",
      "number_of_samples=1, selection_seed=9\n"
     ]
    },
    {
     "name": "stderr",
     "output_type": "stream",
     "text": [
      "d:\\Workspace\\thesis\\.venv\\lib\\site-packages\\sklearn\\metrics\\_classification.py:2399: UserWarning: y_pred contains classes not in y_true\n",
      "  warnings.warn(\"y_pred contains classes not in y_true\")\n",
      "d:\\Workspace\\thesis\\.venv\\lib\\site-packages\\sklearn\\metrics\\_classification.py:2399: UserWarning: y_pred contains classes not in y_true\n",
      "  warnings.warn(\"y_pred contains classes not in y_true\")\n"
     ]
    },
    {
     "name": "stdout",
     "output_type": "stream",
     "text": [
      "model_name=lr\n",
      "model_name=knn\n",
      "number_of_samples=3, selection_seed=0\n",
      "model_name=lr\n",
      "model_name=knn\n",
      "number_of_samples=3, selection_seed=1\n"
     ]
    },
    {
     "name": "stderr",
     "output_type": "stream",
     "text": [
      "d:\\Workspace\\thesis\\.venv\\lib\\site-packages\\sklearn\\metrics\\_classification.py:2399: UserWarning: y_pred contains classes not in y_true\n",
      "  warnings.warn(\"y_pred contains classes not in y_true\")\n",
      "d:\\Workspace\\thesis\\.venv\\lib\\site-packages\\sklearn\\metrics\\_classification.py:2399: UserWarning: y_pred contains classes not in y_true\n",
      "  warnings.warn(\"y_pred contains classes not in y_true\")\n"
     ]
    },
    {
     "name": "stdout",
     "output_type": "stream",
     "text": [
      "model_name=lr\n",
      "model_name=knn\n",
      "number_of_samples=3, selection_seed=2\n"
     ]
    },
    {
     "name": "stderr",
     "output_type": "stream",
     "text": [
      "d:\\Workspace\\thesis\\.venv\\lib\\site-packages\\sklearn\\metrics\\_classification.py:2399: UserWarning: y_pred contains classes not in y_true\n",
      "  warnings.warn(\"y_pred contains classes not in y_true\")\n",
      "d:\\Workspace\\thesis\\.venv\\lib\\site-packages\\sklearn\\metrics\\_classification.py:2399: UserWarning: y_pred contains classes not in y_true\n",
      "  warnings.warn(\"y_pred contains classes not in y_true\")\n"
     ]
    },
    {
     "name": "stdout",
     "output_type": "stream",
     "text": [
      "model_name=lr\n",
      "model_name=knn\n",
      "number_of_samples=3, selection_seed=3\n",
      "model_name=lr\n",
      "model_name=knn\n",
      "number_of_samples=3, selection_seed=4\n"
     ]
    },
    {
     "name": "stderr",
     "output_type": "stream",
     "text": [
      "d:\\Workspace\\thesis\\.venv\\lib\\site-packages\\sklearn\\metrics\\_classification.py:2399: UserWarning: y_pred contains classes not in y_true\n",
      "  warnings.warn(\"y_pred contains classes not in y_true\")\n",
      "d:\\Workspace\\thesis\\.venv\\lib\\site-packages\\sklearn\\metrics\\_classification.py:2399: UserWarning: y_pred contains classes not in y_true\n",
      "  warnings.warn(\"y_pred contains classes not in y_true\")\n",
      "d:\\Workspace\\thesis\\.venv\\lib\\site-packages\\sklearn\\metrics\\_classification.py:2399: UserWarning: y_pred contains classes not in y_true\n",
      "  warnings.warn(\"y_pred contains classes not in y_true\")\n"
     ]
    },
    {
     "name": "stdout",
     "output_type": "stream",
     "text": [
      "model_name=lr\n",
      "model_name=knn\n",
      "number_of_samples=3, selection_seed=5\n",
      "model_name=lr\n",
      "model_name=knn\n",
      "number_of_samples=3, selection_seed=6\n"
     ]
    },
    {
     "name": "stderr",
     "output_type": "stream",
     "text": [
      "d:\\Workspace\\thesis\\.venv\\lib\\site-packages\\sklearn\\metrics\\_classification.py:2399: UserWarning: y_pred contains classes not in y_true\n",
      "  warnings.warn(\"y_pred contains classes not in y_true\")\n",
      "d:\\Workspace\\thesis\\.venv\\lib\\site-packages\\sklearn\\metrics\\_classification.py:2399: UserWarning: y_pred contains classes not in y_true\n",
      "  warnings.warn(\"y_pred contains classes not in y_true\")\n"
     ]
    },
    {
     "name": "stdout",
     "output_type": "stream",
     "text": [
      "model_name=lr\n",
      "model_name=knn\n",
      "number_of_samples=3, selection_seed=7\n",
      "model_name=lr\n",
      "model_name=knn\n",
      "number_of_samples=3, selection_seed=8\n"
     ]
    },
    {
     "name": "stderr",
     "output_type": "stream",
     "text": [
      "d:\\Workspace\\thesis\\.venv\\lib\\site-packages\\sklearn\\metrics\\_classification.py:2399: UserWarning: y_pred contains classes not in y_true\n",
      "  warnings.warn(\"y_pred contains classes not in y_true\")\n"
     ]
    },
    {
     "name": "stdout",
     "output_type": "stream",
     "text": [
      "model_name=lr\n",
      "model_name=knn\n",
      "number_of_samples=3, selection_seed=9\n",
      "model_name=lr\n",
      "model_name=knn\n",
      "number_of_samples=10, selection_seed=0\n",
      "model_name=lr\n",
      "model_name=knn\n",
      "number_of_samples=10, selection_seed=1\n",
      "model_name=lr\n",
      "model_name=knn\n",
      "number_of_samples=10, selection_seed=2\n",
      "model_name=lr\n",
      "model_name=knn\n",
      "number_of_samples=10, selection_seed=3\n",
      "model_name=lr\n",
      "model_name=knn\n",
      "number_of_samples=10, selection_seed=4\n",
      "model_name=lr\n"
     ]
    },
    {
     "name": "stderr",
     "output_type": "stream",
     "text": [
      "d:\\Workspace\\thesis\\.venv\\lib\\site-packages\\sklearn\\metrics\\_classification.py:2399: UserWarning: y_pred contains classes not in y_true\n",
      "  warnings.warn(\"y_pred contains classes not in y_true\")\n"
     ]
    },
    {
     "name": "stdout",
     "output_type": "stream",
     "text": [
      "model_name=knn\n",
      "number_of_samples=10, selection_seed=5\n",
      "model_name=lr\n",
      "model_name=knn\n",
      "number_of_samples=10, selection_seed=6\n"
     ]
    },
    {
     "name": "stderr",
     "output_type": "stream",
     "text": [
      "d:\\Workspace\\thesis\\.venv\\lib\\site-packages\\sklearn\\metrics\\_classification.py:2399: UserWarning: y_pred contains classes not in y_true\n",
      "  warnings.warn(\"y_pred contains classes not in y_true\")\n"
     ]
    },
    {
     "name": "stdout",
     "output_type": "stream",
     "text": [
      "model_name=lr\n",
      "model_name=knn\n",
      "number_of_samples=10, selection_seed=7\n",
      "model_name=lr\n",
      "model_name=knn\n",
      "number_of_samples=10, selection_seed=8\n"
     ]
    },
    {
     "name": "stderr",
     "output_type": "stream",
     "text": [
      "d:\\Workspace\\thesis\\.venv\\lib\\site-packages\\sklearn\\metrics\\_classification.py:2399: UserWarning: y_pred contains classes not in y_true\n",
      "  warnings.warn(\"y_pred contains classes not in y_true\")\n"
     ]
    },
    {
     "name": "stdout",
     "output_type": "stream",
     "text": [
      "model_name=lr\n",
      "model_name=knn\n",
      "number_of_samples=10, selection_seed=9\n",
      "model_name=lr\n",
      "model_name=knn\n",
      "number_of_samples=30, selection_seed=0\n",
      "model_name=lr\n",
      "model_name=knn\n",
      "number_of_samples=30, selection_seed=1\n",
      "model_name=lr\n",
      "model_name=knn\n",
      "number_of_samples=30, selection_seed=2\n",
      "model_name=lr\n",
      "model_name=knn\n",
      "number_of_samples=30, selection_seed=3\n"
     ]
    },
    {
     "name": "stderr",
     "output_type": "stream",
     "text": [
      "d:\\Workspace\\thesis\\.venv\\lib\\site-packages\\sklearn\\metrics\\_classification.py:2399: UserWarning: y_pred contains classes not in y_true\n",
      "  warnings.warn(\"y_pred contains classes not in y_true\")\n"
     ]
    },
    {
     "name": "stdout",
     "output_type": "stream",
     "text": [
      "model_name=lr\n",
      "model_name=knn\n",
      "number_of_samples=30, selection_seed=4\n"
     ]
    },
    {
     "name": "stderr",
     "output_type": "stream",
     "text": [
      "d:\\Workspace\\thesis\\.venv\\lib\\site-packages\\sklearn\\metrics\\_classification.py:2399: UserWarning: y_pred contains classes not in y_true\n",
      "  warnings.warn(\"y_pred contains classes not in y_true\")\n"
     ]
    },
    {
     "name": "stdout",
     "output_type": "stream",
     "text": [
      "model_name=lr\n",
      "model_name=knn\n",
      "number_of_samples=30, selection_seed=5\n"
     ]
    },
    {
     "name": "stderr",
     "output_type": "stream",
     "text": [
      "d:\\Workspace\\thesis\\.venv\\lib\\site-packages\\sklearn\\metrics\\_classification.py:2399: UserWarning: y_pred contains classes not in y_true\n",
      "  warnings.warn(\"y_pred contains classes not in y_true\")\n"
     ]
    },
    {
     "name": "stdout",
     "output_type": "stream",
     "text": [
      "model_name=lr\n",
      "model_name=knn\n",
      "number_of_samples=30, selection_seed=6\n",
      "model_name=lr\n",
      "model_name=knn\n",
      "number_of_samples=30, selection_seed=7\n",
      "model_name=lr\n",
      "model_name=knn\n",
      "number_of_samples=30, selection_seed=8\n",
      "model_name=lr\n",
      "model_name=knn\n",
      "number_of_samples=30, selection_seed=9\n",
      "model_name=lr\n",
      "model_name=knn\n",
      "number_of_samples=None, selection_seed=None\n",
      "model_name=lr\n",
      "model_name=knn\n",
      "loading: ../datasets/intermediate-features/PlantDoc-ViT_B16-ImageNet_v2.csv\n",
      "number_of_samples=1, selection_seed=0\n"
     ]
    },
    {
     "name": "stderr",
     "output_type": "stream",
     "text": [
      "d:\\Workspace\\thesis\\.venv\\lib\\site-packages\\sklearn\\metrics\\_classification.py:2399: UserWarning: y_pred contains classes not in y_true\n",
      "  warnings.warn(\"y_pred contains classes not in y_true\")\n",
      "d:\\Workspace\\thesis\\.venv\\lib\\site-packages\\sklearn\\metrics\\_classification.py:2399: UserWarning: y_pred contains classes not in y_true\n",
      "  warnings.warn(\"y_pred contains classes not in y_true\")\n"
     ]
    },
    {
     "name": "stdout",
     "output_type": "stream",
     "text": [
      "model_name=lr\n",
      "model_name=knn\n",
      "number_of_samples=1, selection_seed=1\n",
      "model_name=lr\n",
      "model_name=knn\n",
      "number_of_samples=1, selection_seed=2\n"
     ]
    },
    {
     "name": "stderr",
     "output_type": "stream",
     "text": [
      "d:\\Workspace\\thesis\\.venv\\lib\\site-packages\\sklearn\\metrics\\_classification.py:2399: UserWarning: y_pred contains classes not in y_true\n",
      "  warnings.warn(\"y_pred contains classes not in y_true\")\n"
     ]
    },
    {
     "name": "stdout",
     "output_type": "stream",
     "text": [
      "model_name=lr\n",
      "model_name=knn\n",
      "number_of_samples=1, selection_seed=3\n"
     ]
    },
    {
     "name": "stderr",
     "output_type": "stream",
     "text": [
      "d:\\Workspace\\thesis\\.venv\\lib\\site-packages\\sklearn\\metrics\\_classification.py:2399: UserWarning: y_pred contains classes not in y_true\n",
      "  warnings.warn(\"y_pred contains classes not in y_true\")\n",
      "d:\\Workspace\\thesis\\.venv\\lib\\site-packages\\sklearn\\metrics\\_classification.py:2399: UserWarning: y_pred contains classes not in y_true\n",
      "  warnings.warn(\"y_pred contains classes not in y_true\")\n"
     ]
    },
    {
     "name": "stdout",
     "output_type": "stream",
     "text": [
      "model_name=lr\n",
      "model_name=knn\n",
      "number_of_samples=1, selection_seed=4\n",
      "model_name=lr\n",
      "model_name=knn\n",
      "number_of_samples=1, selection_seed=5\n"
     ]
    },
    {
     "name": "stderr",
     "output_type": "stream",
     "text": [
      "d:\\Workspace\\thesis\\.venv\\lib\\site-packages\\sklearn\\metrics\\_classification.py:2399: UserWarning: y_pred contains classes not in y_true\n",
      "  warnings.warn(\"y_pred contains classes not in y_true\")\n",
      "d:\\Workspace\\thesis\\.venv\\lib\\site-packages\\sklearn\\metrics\\_classification.py:2399: UserWarning: y_pred contains classes not in y_true\n",
      "  warnings.warn(\"y_pred contains classes not in y_true\")\n",
      "d:\\Workspace\\thesis\\.venv\\lib\\site-packages\\sklearn\\metrics\\_classification.py:2399: UserWarning: y_pred contains classes not in y_true\n",
      "  warnings.warn(\"y_pred contains classes not in y_true\")\n"
     ]
    },
    {
     "name": "stdout",
     "output_type": "stream",
     "text": [
      "model_name=lr\n",
      "model_name=knn\n",
      "number_of_samples=1, selection_seed=6\n"
     ]
    },
    {
     "name": "stderr",
     "output_type": "stream",
     "text": [
      "d:\\Workspace\\thesis\\.venv\\lib\\site-packages\\sklearn\\metrics\\_classification.py:2399: UserWarning: y_pred contains classes not in y_true\n",
      "  warnings.warn(\"y_pred contains classes not in y_true\")\n",
      "d:\\Workspace\\thesis\\.venv\\lib\\site-packages\\sklearn\\metrics\\_classification.py:2399: UserWarning: y_pred contains classes not in y_true\n",
      "  warnings.warn(\"y_pred contains classes not in y_true\")\n"
     ]
    },
    {
     "name": "stdout",
     "output_type": "stream",
     "text": [
      "model_name=lr\n",
      "model_name=knn\n",
      "number_of_samples=1, selection_seed=7\n"
     ]
    },
    {
     "name": "stderr",
     "output_type": "stream",
     "text": [
      "d:\\Workspace\\thesis\\.venv\\lib\\site-packages\\sklearn\\metrics\\_classification.py:2399: UserWarning: y_pred contains classes not in y_true\n",
      "  warnings.warn(\"y_pred contains classes not in y_true\")\n"
     ]
    },
    {
     "name": "stdout",
     "output_type": "stream",
     "text": [
      "model_name=lr\n",
      "model_name=knn\n",
      "number_of_samples=1, selection_seed=8\n"
     ]
    },
    {
     "name": "stderr",
     "output_type": "stream",
     "text": [
      "d:\\Workspace\\thesis\\.venv\\lib\\site-packages\\sklearn\\metrics\\_classification.py:2399: UserWarning: y_pred contains classes not in y_true\n",
      "  warnings.warn(\"y_pred contains classes not in y_true\")\n"
     ]
    },
    {
     "name": "stdout",
     "output_type": "stream",
     "text": [
      "model_name=lr\n",
      "model_name=knn\n",
      "number_of_samples=1, selection_seed=9\n"
     ]
    },
    {
     "name": "stderr",
     "output_type": "stream",
     "text": [
      "d:\\Workspace\\thesis\\.venv\\lib\\site-packages\\sklearn\\metrics\\_classification.py:2399: UserWarning: y_pred contains classes not in y_true\n",
      "  warnings.warn(\"y_pred contains classes not in y_true\")\n",
      "d:\\Workspace\\thesis\\.venv\\lib\\site-packages\\sklearn\\metrics\\_classification.py:2399: UserWarning: y_pred contains classes not in y_true\n",
      "  warnings.warn(\"y_pred contains classes not in y_true\")\n"
     ]
    },
    {
     "name": "stdout",
     "output_type": "stream",
     "text": [
      "model_name=lr\n",
      "model_name=knn\n",
      "number_of_samples=3, selection_seed=0\n",
      "model_name=lr\n",
      "model_name=knn\n",
      "number_of_samples=3, selection_seed=1\n"
     ]
    },
    {
     "name": "stderr",
     "output_type": "stream",
     "text": [
      "d:\\Workspace\\thesis\\.venv\\lib\\site-packages\\sklearn\\metrics\\_classification.py:2399: UserWarning: y_pred contains classes not in y_true\n",
      "  warnings.warn(\"y_pred contains classes not in y_true\")\n"
     ]
    },
    {
     "name": "stdout",
     "output_type": "stream",
     "text": [
      "model_name=lr\n",
      "model_name=knn\n",
      "number_of_samples=3, selection_seed=2\n",
      "model_name=lr\n",
      "model_name=knn\n",
      "number_of_samples=3, selection_seed=3\n",
      "model_name=lr\n",
      "model_name=knn\n",
      "number_of_samples=3, selection_seed=4\n"
     ]
    },
    {
     "name": "stderr",
     "output_type": "stream",
     "text": [
      "d:\\Workspace\\thesis\\.venv\\lib\\site-packages\\sklearn\\metrics\\_classification.py:2399: UserWarning: y_pred contains classes not in y_true\n",
      "  warnings.warn(\"y_pred contains classes not in y_true\")\n",
      "d:\\Workspace\\thesis\\.venv\\lib\\site-packages\\sklearn\\metrics\\_classification.py:2399: UserWarning: y_pred contains classes not in y_true\n",
      "  warnings.warn(\"y_pred contains classes not in y_true\")\n"
     ]
    },
    {
     "name": "stdout",
     "output_type": "stream",
     "text": [
      "model_name=lr\n"
     ]
    },
    {
     "name": "stderr",
     "output_type": "stream",
     "text": [
      "d:\\Workspace\\thesis\\.venv\\lib\\site-packages\\sklearn\\metrics\\_classification.py:2399: UserWarning: y_pred contains classes not in y_true\n",
      "  warnings.warn(\"y_pred contains classes not in y_true\")\n"
     ]
    },
    {
     "name": "stdout",
     "output_type": "stream",
     "text": [
      "model_name=knn\n",
      "number_of_samples=3, selection_seed=5\n",
      "model_name=lr\n",
      "model_name=knn\n",
      "number_of_samples=3, selection_seed=6\n",
      "model_name=lr\n",
      "model_name=knn\n",
      "number_of_samples=3, selection_seed=7\n"
     ]
    },
    {
     "name": "stderr",
     "output_type": "stream",
     "text": [
      "d:\\Workspace\\thesis\\.venv\\lib\\site-packages\\sklearn\\metrics\\_classification.py:2399: UserWarning: y_pred contains classes not in y_true\n",
      "  warnings.warn(\"y_pred contains classes not in y_true\")\n"
     ]
    },
    {
     "name": "stdout",
     "output_type": "stream",
     "text": [
      "model_name=lr\n",
      "model_name=knn\n",
      "number_of_samples=3, selection_seed=8\n",
      "model_name=lr\n",
      "model_name=knn\n",
      "number_of_samples=3, selection_seed=9\n",
      "model_name=lr\n",
      "model_name=knn\n",
      "number_of_samples=10, selection_seed=0\n",
      "model_name=lr\n",
      "model_name=knn\n",
      "number_of_samples=10, selection_seed=1\n"
     ]
    },
    {
     "name": "stderr",
     "output_type": "stream",
     "text": [
      "d:\\Workspace\\thesis\\.venv\\lib\\site-packages\\sklearn\\metrics\\_classification.py:2399: UserWarning: y_pred contains classes not in y_true\n",
      "  warnings.warn(\"y_pred contains classes not in y_true\")\n"
     ]
    },
    {
     "name": "stdout",
     "output_type": "stream",
     "text": [
      "model_name=lr\n",
      "model_name=knn\n",
      "number_of_samples=10, selection_seed=2\n",
      "model_name=lr\n",
      "model_name=knn\n",
      "number_of_samples=10, selection_seed=3\n",
      "model_name=lr\n",
      "model_name=knn\n",
      "number_of_samples=10, selection_seed=4\n",
      "model_name=lr\n",
      "model_name=knn\n",
      "number_of_samples=10, selection_seed=5\n",
      "model_name=lr\n",
      "model_name=knn\n",
      "number_of_samples=10, selection_seed=6\n",
      "model_name=lr\n",
      "model_name=knn\n",
      "number_of_samples=10, selection_seed=7\n",
      "model_name=lr\n",
      "model_name=knn\n",
      "number_of_samples=10, selection_seed=8\n",
      "model_name=lr\n",
      "model_name=knn\n",
      "number_of_samples=10, selection_seed=9\n",
      "model_name=lr\n",
      "model_name=knn\n",
      "number_of_samples=30, selection_seed=0\n"
     ]
    },
    {
     "name": "stderr",
     "output_type": "stream",
     "text": [
      "d:\\Workspace\\thesis\\.venv\\lib\\site-packages\\sklearn\\metrics\\_classification.py:2399: UserWarning: y_pred contains classes not in y_true\n",
      "  warnings.warn(\"y_pred contains classes not in y_true\")\n"
     ]
    },
    {
     "name": "stdout",
     "output_type": "stream",
     "text": [
      "model_name=lr\n",
      "model_name=knn\n",
      "number_of_samples=30, selection_seed=1\n",
      "model_name=lr\n",
      "model_name=knn\n",
      "number_of_samples=30, selection_seed=2\n"
     ]
    },
    {
     "name": "stderr",
     "output_type": "stream",
     "text": [
      "d:\\Workspace\\thesis\\.venv\\lib\\site-packages\\sklearn\\metrics\\_classification.py:2399: UserWarning: y_pred contains classes not in y_true\n",
      "  warnings.warn(\"y_pred contains classes not in y_true\")\n"
     ]
    },
    {
     "name": "stdout",
     "output_type": "stream",
     "text": [
      "model_name=lr\n",
      "model_name=knn\n",
      "number_of_samples=30, selection_seed=3\n"
     ]
    },
    {
     "name": "stderr",
     "output_type": "stream",
     "text": [
      "d:\\Workspace\\thesis\\.venv\\lib\\site-packages\\sklearn\\metrics\\_classification.py:2399: UserWarning: y_pred contains classes not in y_true\n",
      "  warnings.warn(\"y_pred contains classes not in y_true\")\n"
     ]
    },
    {
     "name": "stdout",
     "output_type": "stream",
     "text": [
      "model_name=lr\n",
      "model_name=knn\n",
      "number_of_samples=30, selection_seed=4\n",
      "model_name=lr\n",
      "model_name=knn\n",
      "number_of_samples=30, selection_seed=5\n",
      "model_name=lr\n",
      "model_name=knn\n",
      "number_of_samples=30, selection_seed=6\n",
      "model_name=lr\n",
      "model_name=knn\n",
      "number_of_samples=30, selection_seed=7\n",
      "model_name=lr\n",
      "model_name=knn\n",
      "number_of_samples=30, selection_seed=8\n",
      "model_name=lr\n",
      "model_name=knn\n",
      "number_of_samples=30, selection_seed=9\n",
      "model_name=lr\n",
      "model_name=knn\n",
      "number_of_samples=None, selection_seed=None\n",
      "model_name=lr\n",
      "model_name=knn\n",
      "loading: ../datasets/intermediate-features/PlantDoc-ViT_B16-ImageNet_v3.csv\n",
      "number_of_samples=1, selection_seed=0\n"
     ]
    },
    {
     "name": "stderr",
     "output_type": "stream",
     "text": [
      "d:\\Workspace\\thesis\\.venv\\lib\\site-packages\\sklearn\\metrics\\_classification.py:2399: UserWarning: y_pred contains classes not in y_true\n",
      "  warnings.warn(\"y_pred contains classes not in y_true\")\n",
      "d:\\Workspace\\thesis\\.venv\\lib\\site-packages\\sklearn\\metrics\\_classification.py:2399: UserWarning: y_pred contains classes not in y_true\n",
      "  warnings.warn(\"y_pred contains classes not in y_true\")\n"
     ]
    },
    {
     "name": "stdout",
     "output_type": "stream",
     "text": [
      "model_name=lr\n",
      "model_name=knn\n",
      "number_of_samples=1, selection_seed=1\n"
     ]
    },
    {
     "name": "stderr",
     "output_type": "stream",
     "text": [
      "d:\\Workspace\\thesis\\.venv\\lib\\site-packages\\sklearn\\metrics\\_classification.py:2399: UserWarning: y_pred contains classes not in y_true\n",
      "  warnings.warn(\"y_pred contains classes not in y_true\")\n",
      "d:\\Workspace\\thesis\\.venv\\lib\\site-packages\\sklearn\\metrics\\_classification.py:2399: UserWarning: y_pred contains classes not in y_true\n",
      "  warnings.warn(\"y_pred contains classes not in y_true\")\n"
     ]
    },
    {
     "name": "stdout",
     "output_type": "stream",
     "text": [
      "model_name=lr\n",
      "model_name=knn\n",
      "number_of_samples=1, selection_seed=2\n",
      "model_name=lr\n",
      "model_name=knn\n",
      "number_of_samples=1, selection_seed=3\n"
     ]
    },
    {
     "name": "stderr",
     "output_type": "stream",
     "text": [
      "d:\\Workspace\\thesis\\.venv\\lib\\site-packages\\sklearn\\metrics\\_classification.py:2399: UserWarning: y_pred contains classes not in y_true\n",
      "  warnings.warn(\"y_pred contains classes not in y_true\")\n"
     ]
    },
    {
     "name": "stdout",
     "output_type": "stream",
     "text": [
      "model_name=lr\n",
      "model_name=knn\n",
      "number_of_samples=1, selection_seed=4\n"
     ]
    },
    {
     "name": "stderr",
     "output_type": "stream",
     "text": [
      "d:\\Workspace\\thesis\\.venv\\lib\\site-packages\\sklearn\\metrics\\_classification.py:2399: UserWarning: y_pred contains classes not in y_true\n",
      "  warnings.warn(\"y_pred contains classes not in y_true\")\n",
      "d:\\Workspace\\thesis\\.venv\\lib\\site-packages\\sklearn\\metrics\\_classification.py:2399: UserWarning: y_pred contains classes not in y_true\n",
      "  warnings.warn(\"y_pred contains classes not in y_true\")\n"
     ]
    },
    {
     "name": "stdout",
     "output_type": "stream",
     "text": [
      "model_name=lr\n",
      "model_name=knn\n",
      "number_of_samples=1, selection_seed=5\n"
     ]
    },
    {
     "name": "stderr",
     "output_type": "stream",
     "text": [
      "d:\\Workspace\\thesis\\.venv\\lib\\site-packages\\sklearn\\metrics\\_classification.py:2399: UserWarning: y_pred contains classes not in y_true\n",
      "  warnings.warn(\"y_pred contains classes not in y_true\")\n",
      "d:\\Workspace\\thesis\\.venv\\lib\\site-packages\\sklearn\\metrics\\_classification.py:2399: UserWarning: y_pred contains classes not in y_true\n",
      "  warnings.warn(\"y_pred contains classes not in y_true\")\n"
     ]
    },
    {
     "name": "stdout",
     "output_type": "stream",
     "text": [
      "model_name=lr\n",
      "model_name=knn\n",
      "number_of_samples=1, selection_seed=6\n"
     ]
    },
    {
     "name": "stderr",
     "output_type": "stream",
     "text": [
      "d:\\Workspace\\thesis\\.venv\\lib\\site-packages\\sklearn\\metrics\\_classification.py:2399: UserWarning: y_pred contains classes not in y_true\n",
      "  warnings.warn(\"y_pred contains classes not in y_true\")\n",
      "d:\\Workspace\\thesis\\.venv\\lib\\site-packages\\sklearn\\metrics\\_classification.py:2399: UserWarning: y_pred contains classes not in y_true\n",
      "  warnings.warn(\"y_pred contains classes not in y_true\")\n"
     ]
    },
    {
     "name": "stdout",
     "output_type": "stream",
     "text": [
      "model_name=lr\n",
      "model_name=knn\n",
      "number_of_samples=1, selection_seed=7\n"
     ]
    },
    {
     "name": "stderr",
     "output_type": "stream",
     "text": [
      "d:\\Workspace\\thesis\\.venv\\lib\\site-packages\\sklearn\\metrics\\_classification.py:2399: UserWarning: y_pred contains classes not in y_true\n",
      "  warnings.warn(\"y_pred contains classes not in y_true\")\n",
      "d:\\Workspace\\thesis\\.venv\\lib\\site-packages\\sklearn\\metrics\\_classification.py:2399: UserWarning: y_pred contains classes not in y_true\n",
      "  warnings.warn(\"y_pred contains classes not in y_true\")\n"
     ]
    },
    {
     "name": "stdout",
     "output_type": "stream",
     "text": [
      "model_name=lr\n",
      "model_name=knn\n",
      "number_of_samples=1, selection_seed=8\n"
     ]
    },
    {
     "name": "stderr",
     "output_type": "stream",
     "text": [
      "d:\\Workspace\\thesis\\.venv\\lib\\site-packages\\sklearn\\metrics\\_classification.py:2399: UserWarning: y_pred contains classes not in y_true\n",
      "  warnings.warn(\"y_pred contains classes not in y_true\")\n",
      "d:\\Workspace\\thesis\\.venv\\lib\\site-packages\\sklearn\\metrics\\_classification.py:2399: UserWarning: y_pred contains classes not in y_true\n",
      "  warnings.warn(\"y_pred contains classes not in y_true\")\n"
     ]
    },
    {
     "name": "stdout",
     "output_type": "stream",
     "text": [
      "model_name=lr\n",
      "model_name=knn\n",
      "number_of_samples=1, selection_seed=9\n"
     ]
    },
    {
     "name": "stderr",
     "output_type": "stream",
     "text": [
      "d:\\Workspace\\thesis\\.venv\\lib\\site-packages\\sklearn\\metrics\\_classification.py:2399: UserWarning: y_pred contains classes not in y_true\n",
      "  warnings.warn(\"y_pred contains classes not in y_true\")\n",
      "d:\\Workspace\\thesis\\.venv\\lib\\site-packages\\sklearn\\metrics\\_classification.py:2399: UserWarning: y_pred contains classes not in y_true\n",
      "  warnings.warn(\"y_pred contains classes not in y_true\")\n"
     ]
    },
    {
     "name": "stdout",
     "output_type": "stream",
     "text": [
      "model_name=lr\n",
      "model_name=knn\n",
      "number_of_samples=3, selection_seed=0\n",
      "model_name=lr\n",
      "model_name=knn\n",
      "number_of_samples=3, selection_seed=1\n"
     ]
    },
    {
     "name": "stderr",
     "output_type": "stream",
     "text": [
      "d:\\Workspace\\thesis\\.venv\\lib\\site-packages\\sklearn\\metrics\\_classification.py:2399: UserWarning: y_pred contains classes not in y_true\n",
      "  warnings.warn(\"y_pred contains classes not in y_true\")\n",
      "d:\\Workspace\\thesis\\.venv\\lib\\site-packages\\sklearn\\metrics\\_classification.py:2399: UserWarning: y_pred contains classes not in y_true\n",
      "  warnings.warn(\"y_pred contains classes not in y_true\")\n"
     ]
    },
    {
     "name": "stdout",
     "output_type": "stream",
     "text": [
      "model_name=lr\n",
      "model_name=knn\n",
      "number_of_samples=3, selection_seed=2\n"
     ]
    },
    {
     "name": "stderr",
     "output_type": "stream",
     "text": [
      "d:\\Workspace\\thesis\\.venv\\lib\\site-packages\\sklearn\\metrics\\_classification.py:2399: UserWarning: y_pred contains classes not in y_true\n",
      "  warnings.warn(\"y_pred contains classes not in y_true\")\n"
     ]
    },
    {
     "name": "stdout",
     "output_type": "stream",
     "text": [
      "model_name=lr\n",
      "model_name=knn\n",
      "number_of_samples=3, selection_seed=3\n",
      "model_name=lr\n",
      "model_name=knn\n",
      "number_of_samples=3, selection_seed=4\n"
     ]
    },
    {
     "name": "stderr",
     "output_type": "stream",
     "text": [
      "d:\\Workspace\\thesis\\.venv\\lib\\site-packages\\sklearn\\metrics\\_classification.py:2399: UserWarning: y_pred contains classes not in y_true\n",
      "  warnings.warn(\"y_pred contains classes not in y_true\")\n",
      "d:\\Workspace\\thesis\\.venv\\lib\\site-packages\\sklearn\\metrics\\_classification.py:2399: UserWarning: y_pred contains classes not in y_true\n",
      "  warnings.warn(\"y_pred contains classes not in y_true\")\n",
      "d:\\Workspace\\thesis\\.venv\\lib\\site-packages\\sklearn\\metrics\\_classification.py:2399: UserWarning: y_pred contains classes not in y_true\n",
      "  warnings.warn(\"y_pred contains classes not in y_true\")\n"
     ]
    },
    {
     "name": "stdout",
     "output_type": "stream",
     "text": [
      "model_name=lr\n",
      "model_name=knn\n",
      "number_of_samples=3, selection_seed=5\n",
      "model_name=lr\n",
      "model_name=knn\n",
      "number_of_samples=3, selection_seed=6\n"
     ]
    },
    {
     "name": "stderr",
     "output_type": "stream",
     "text": [
      "d:\\Workspace\\thesis\\.venv\\lib\\site-packages\\sklearn\\metrics\\_classification.py:2399: UserWarning: y_pred contains classes not in y_true\n",
      "  warnings.warn(\"y_pred contains classes not in y_true\")\n"
     ]
    },
    {
     "name": "stdout",
     "output_type": "stream",
     "text": [
      "model_name=lr\n",
      "model_name=knn\n",
      "number_of_samples=3, selection_seed=7\n",
      "model_name=lr\n",
      "model_name=knn\n",
      "number_of_samples=3, selection_seed=8\n"
     ]
    },
    {
     "name": "stderr",
     "output_type": "stream",
     "text": [
      "d:\\Workspace\\thesis\\.venv\\lib\\site-packages\\sklearn\\metrics\\_classification.py:2399: UserWarning: y_pred contains classes not in y_true\n",
      "  warnings.warn(\"y_pred contains classes not in y_true\")\n"
     ]
    },
    {
     "name": "stdout",
     "output_type": "stream",
     "text": [
      "model_name=lr\n",
      "model_name=knn\n",
      "number_of_samples=3, selection_seed=9\n",
      "model_name=lr\n",
      "model_name=knn\n",
      "number_of_samples=10, selection_seed=0\n"
     ]
    },
    {
     "name": "stderr",
     "output_type": "stream",
     "text": [
      "d:\\Workspace\\thesis\\.venv\\lib\\site-packages\\sklearn\\metrics\\_classification.py:2399: UserWarning: y_pred contains classes not in y_true\n",
      "  warnings.warn(\"y_pred contains classes not in y_true\")\n"
     ]
    },
    {
     "name": "stdout",
     "output_type": "stream",
     "text": [
      "model_name=lr\n",
      "model_name=knn\n",
      "number_of_samples=10, selection_seed=1\n",
      "model_name=lr\n",
      "model_name=knn\n",
      "number_of_samples=10, selection_seed=2\n",
      "model_name=lr\n",
      "model_name=knn\n",
      "number_of_samples=10, selection_seed=3\n",
      "model_name=lr\n",
      "model_name=knn\n",
      "number_of_samples=10, selection_seed=4\n",
      "model_name=lr\n",
      "model_name=knn\n",
      "number_of_samples=10, selection_seed=5\n",
      "model_name=lr\n",
      "model_name=knn\n",
      "number_of_samples=10, selection_seed=6\n",
      "model_name=lr\n",
      "model_name=knn\n",
      "number_of_samples=10, selection_seed=7\n"
     ]
    },
    {
     "name": "stderr",
     "output_type": "stream",
     "text": [
      "d:\\Workspace\\thesis\\.venv\\lib\\site-packages\\sklearn\\metrics\\_classification.py:2399: UserWarning: y_pred contains classes not in y_true\n",
      "  warnings.warn(\"y_pred contains classes not in y_true\")\n"
     ]
    },
    {
     "name": "stdout",
     "output_type": "stream",
     "text": [
      "model_name=lr\n",
      "model_name=knn\n",
      "number_of_samples=10, selection_seed=8\n",
      "model_name=lr\n",
      "model_name=knn\n",
      "number_of_samples=10, selection_seed=9\n",
      "model_name=lr\n",
      "model_name=knn\n",
      "number_of_samples=30, selection_seed=0\n"
     ]
    },
    {
     "name": "stderr",
     "output_type": "stream",
     "text": [
      "d:\\Workspace\\thesis\\.venv\\lib\\site-packages\\sklearn\\metrics\\_classification.py:2399: UserWarning: y_pred contains classes not in y_true\n",
      "  warnings.warn(\"y_pred contains classes not in y_true\")\n",
      "d:\\Workspace\\thesis\\.venv\\lib\\site-packages\\sklearn\\metrics\\_classification.py:2399: UserWarning: y_pred contains classes not in y_true\n",
      "  warnings.warn(\"y_pred contains classes not in y_true\")\n"
     ]
    },
    {
     "name": "stdout",
     "output_type": "stream",
     "text": [
      "model_name=lr\n",
      "model_name=knn\n",
      "number_of_samples=30, selection_seed=1\n",
      "model_name=lr\n",
      "model_name=knn\n",
      "number_of_samples=30, selection_seed=2\n",
      "model_name=lr\n",
      "model_name=knn\n",
      "number_of_samples=30, selection_seed=3\n",
      "model_name=lr\n",
      "model_name=knn\n",
      "number_of_samples=30, selection_seed=4\n"
     ]
    },
    {
     "name": "stderr",
     "output_type": "stream",
     "text": [
      "d:\\Workspace\\thesis\\.venv\\lib\\site-packages\\sklearn\\metrics\\_classification.py:2399: UserWarning: y_pred contains classes not in y_true\n",
      "  warnings.warn(\"y_pred contains classes not in y_true\")\n"
     ]
    },
    {
     "name": "stdout",
     "output_type": "stream",
     "text": [
      "model_name=lr\n",
      "model_name=knn\n",
      "number_of_samples=30, selection_seed=5\n"
     ]
    },
    {
     "name": "stderr",
     "output_type": "stream",
     "text": [
      "d:\\Workspace\\thesis\\.venv\\lib\\site-packages\\sklearn\\metrics\\_classification.py:2399: UserWarning: y_pred contains classes not in y_true\n",
      "  warnings.warn(\"y_pred contains classes not in y_true\")\n"
     ]
    },
    {
     "name": "stdout",
     "output_type": "stream",
     "text": [
      "model_name=lr\n",
      "model_name=knn\n",
      "number_of_samples=30, selection_seed=6\n",
      "model_name=lr\n",
      "model_name=knn\n",
      "number_of_samples=30, selection_seed=7\n",
      "model_name=lr\n",
      "model_name=knn\n",
      "number_of_samples=30, selection_seed=8\n",
      "model_name=lr\n",
      "model_name=knn\n",
      "number_of_samples=30, selection_seed=9\n",
      "model_name=lr\n",
      "model_name=knn\n",
      "number_of_samples=None, selection_seed=None\n",
      "model_name=lr\n",
      "model_name=knn\n",
      "loading: ../datasets/intermediate-features/PlantDoc-ViT_B16-PDDD_197.csv\n",
      "number_of_samples=1, selection_seed=0\n"
     ]
    },
    {
     "name": "stderr",
     "output_type": "stream",
     "text": [
      "d:\\Workspace\\thesis\\.venv\\lib\\site-packages\\sklearn\\metrics\\_classification.py:2399: UserWarning: y_pred contains classes not in y_true\n",
      "  warnings.warn(\"y_pred contains classes not in y_true\")\n",
      "d:\\Workspace\\thesis\\.venv\\lib\\site-packages\\sklearn\\metrics\\_classification.py:2399: UserWarning: y_pred contains classes not in y_true\n",
      "  warnings.warn(\"y_pred contains classes not in y_true\")\n"
     ]
    },
    {
     "name": "stdout",
     "output_type": "stream",
     "text": [
      "model_name=lr\n",
      "model_name=knn\n",
      "number_of_samples=1, selection_seed=1\n"
     ]
    },
    {
     "name": "stderr",
     "output_type": "stream",
     "text": [
      "d:\\Workspace\\thesis\\.venv\\lib\\site-packages\\sklearn\\metrics\\_classification.py:2399: UserWarning: y_pred contains classes not in y_true\n",
      "  warnings.warn(\"y_pred contains classes not in y_true\")\n",
      "d:\\Workspace\\thesis\\.venv\\lib\\site-packages\\sklearn\\metrics\\_classification.py:2399: UserWarning: y_pred contains classes not in y_true\n",
      "  warnings.warn(\"y_pred contains classes not in y_true\")\n"
     ]
    },
    {
     "name": "stdout",
     "output_type": "stream",
     "text": [
      "model_name=lr\n",
      "model_name=knn\n",
      "number_of_samples=1, selection_seed=2\n"
     ]
    },
    {
     "name": "stderr",
     "output_type": "stream",
     "text": [
      "d:\\Workspace\\thesis\\.venv\\lib\\site-packages\\sklearn\\metrics\\_classification.py:2399: UserWarning: y_pred contains classes not in y_true\n",
      "  warnings.warn(\"y_pred contains classes not in y_true\")\n",
      "d:\\Workspace\\thesis\\.venv\\lib\\site-packages\\sklearn\\metrics\\_classification.py:2399: UserWarning: y_pred contains classes not in y_true\n",
      "  warnings.warn(\"y_pred contains classes not in y_true\")\n"
     ]
    },
    {
     "name": "stdout",
     "output_type": "stream",
     "text": [
      "model_name=lr\n",
      "model_name=knn\n",
      "number_of_samples=1, selection_seed=3\n"
     ]
    },
    {
     "name": "stderr",
     "output_type": "stream",
     "text": [
      "d:\\Workspace\\thesis\\.venv\\lib\\site-packages\\sklearn\\metrics\\_classification.py:2399: UserWarning: y_pred contains classes not in y_true\n",
      "  warnings.warn(\"y_pred contains classes not in y_true\")\n",
      "d:\\Workspace\\thesis\\.venv\\lib\\site-packages\\sklearn\\metrics\\_classification.py:2399: UserWarning: y_pred contains classes not in y_true\n",
      "  warnings.warn(\"y_pred contains classes not in y_true\")\n"
     ]
    },
    {
     "name": "stdout",
     "output_type": "stream",
     "text": [
      "model_name=lr\n",
      "model_name=knn\n",
      "number_of_samples=1, selection_seed=4\n"
     ]
    },
    {
     "name": "stderr",
     "output_type": "stream",
     "text": [
      "d:\\Workspace\\thesis\\.venv\\lib\\site-packages\\sklearn\\metrics\\_classification.py:2399: UserWarning: y_pred contains classes not in y_true\n",
      "  warnings.warn(\"y_pred contains classes not in y_true\")\n",
      "d:\\Workspace\\thesis\\.venv\\lib\\site-packages\\sklearn\\metrics\\_classification.py:2399: UserWarning: y_pred contains classes not in y_true\n",
      "  warnings.warn(\"y_pred contains classes not in y_true\")\n"
     ]
    },
    {
     "name": "stdout",
     "output_type": "stream",
     "text": [
      "model_name=lr\n",
      "model_name=knn\n",
      "number_of_samples=1, selection_seed=5\n"
     ]
    },
    {
     "name": "stderr",
     "output_type": "stream",
     "text": [
      "d:\\Workspace\\thesis\\.venv\\lib\\site-packages\\sklearn\\metrics\\_classification.py:2399: UserWarning: y_pred contains classes not in y_true\n",
      "  warnings.warn(\"y_pred contains classes not in y_true\")\n",
      "d:\\Workspace\\thesis\\.venv\\lib\\site-packages\\sklearn\\metrics\\_classification.py:2399: UserWarning: y_pred contains classes not in y_true\n",
      "  warnings.warn(\"y_pred contains classes not in y_true\")\n"
     ]
    },
    {
     "name": "stdout",
     "output_type": "stream",
     "text": [
      "model_name=lr\n",
      "model_name=knn\n",
      "number_of_samples=1, selection_seed=6\n"
     ]
    },
    {
     "name": "stderr",
     "output_type": "stream",
     "text": [
      "d:\\Workspace\\thesis\\.venv\\lib\\site-packages\\sklearn\\metrics\\_classification.py:2399: UserWarning: y_pred contains classes not in y_true\n",
      "  warnings.warn(\"y_pred contains classes not in y_true\")\n",
      "d:\\Workspace\\thesis\\.venv\\lib\\site-packages\\sklearn\\metrics\\_classification.py:2399: UserWarning: y_pred contains classes not in y_true\n",
      "  warnings.warn(\"y_pred contains classes not in y_true\")\n"
     ]
    },
    {
     "name": "stdout",
     "output_type": "stream",
     "text": [
      "model_name=lr\n",
      "model_name=knn\n",
      "number_of_samples=1, selection_seed=7\n"
     ]
    },
    {
     "name": "stderr",
     "output_type": "stream",
     "text": [
      "d:\\Workspace\\thesis\\.venv\\lib\\site-packages\\sklearn\\metrics\\_classification.py:2399: UserWarning: y_pred contains classes not in y_true\n",
      "  warnings.warn(\"y_pred contains classes not in y_true\")\n",
      "d:\\Workspace\\thesis\\.venv\\lib\\site-packages\\sklearn\\metrics\\_classification.py:2399: UserWarning: y_pred contains classes not in y_true\n",
      "  warnings.warn(\"y_pred contains classes not in y_true\")\n"
     ]
    },
    {
     "name": "stdout",
     "output_type": "stream",
     "text": [
      "model_name=lr\n",
      "model_name=knn\n",
      "number_of_samples=1, selection_seed=8\n"
     ]
    },
    {
     "name": "stderr",
     "output_type": "stream",
     "text": [
      "d:\\Workspace\\thesis\\.venv\\lib\\site-packages\\sklearn\\metrics\\_classification.py:2399: UserWarning: y_pred contains classes not in y_true\n",
      "  warnings.warn(\"y_pred contains classes not in y_true\")\n",
      "d:\\Workspace\\thesis\\.venv\\lib\\site-packages\\sklearn\\metrics\\_classification.py:2399: UserWarning: y_pred contains classes not in y_true\n",
      "  warnings.warn(\"y_pred contains classes not in y_true\")\n"
     ]
    },
    {
     "name": "stdout",
     "output_type": "stream",
     "text": [
      "model_name=lr\n",
      "model_name=knn\n",
      "number_of_samples=1, selection_seed=9\n"
     ]
    },
    {
     "name": "stderr",
     "output_type": "stream",
     "text": [
      "d:\\Workspace\\thesis\\.venv\\lib\\site-packages\\sklearn\\metrics\\_classification.py:2399: UserWarning: y_pred contains classes not in y_true\n",
      "  warnings.warn(\"y_pred contains classes not in y_true\")\n",
      "d:\\Workspace\\thesis\\.venv\\lib\\site-packages\\sklearn\\metrics\\_classification.py:2399: UserWarning: y_pred contains classes not in y_true\n",
      "  warnings.warn(\"y_pred contains classes not in y_true\")\n"
     ]
    },
    {
     "name": "stdout",
     "output_type": "stream",
     "text": [
      "model_name=lr\n",
      "model_name=knn\n",
      "number_of_samples=3, selection_seed=0\n"
     ]
    },
    {
     "name": "stderr",
     "output_type": "stream",
     "text": [
      "d:\\Workspace\\thesis\\.venv\\lib\\site-packages\\sklearn\\metrics\\_classification.py:2399: UserWarning: y_pred contains classes not in y_true\n",
      "  warnings.warn(\"y_pred contains classes not in y_true\")\n",
      "d:\\Workspace\\thesis\\.venv\\lib\\site-packages\\sklearn\\metrics\\_classification.py:2399: UserWarning: y_pred contains classes not in y_true\n",
      "  warnings.warn(\"y_pred contains classes not in y_true\")\n"
     ]
    },
    {
     "name": "stdout",
     "output_type": "stream",
     "text": [
      "model_name=lr\n",
      "model_name=knn\n",
      "number_of_samples=3, selection_seed=1\n"
     ]
    },
    {
     "name": "stderr",
     "output_type": "stream",
     "text": [
      "d:\\Workspace\\thesis\\.venv\\lib\\site-packages\\sklearn\\metrics\\_classification.py:2399: UserWarning: y_pred contains classes not in y_true\n",
      "  warnings.warn(\"y_pred contains classes not in y_true\")\n",
      "d:\\Workspace\\thesis\\.venv\\lib\\site-packages\\sklearn\\metrics\\_classification.py:2399: UserWarning: y_pred contains classes not in y_true\n",
      "  warnings.warn(\"y_pred contains classes not in y_true\")\n"
     ]
    },
    {
     "name": "stdout",
     "output_type": "stream",
     "text": [
      "model_name=lr\n",
      "model_name=knn\n",
      "number_of_samples=3, selection_seed=2\n"
     ]
    },
    {
     "name": "stderr",
     "output_type": "stream",
     "text": [
      "d:\\Workspace\\thesis\\.venv\\lib\\site-packages\\sklearn\\metrics\\_classification.py:2399: UserWarning: y_pred contains classes not in y_true\n",
      "  warnings.warn(\"y_pred contains classes not in y_true\")\n",
      "d:\\Workspace\\thesis\\.venv\\lib\\site-packages\\sklearn\\metrics\\_classification.py:2399: UserWarning: y_pred contains classes not in y_true\n",
      "  warnings.warn(\"y_pred contains classes not in y_true\")\n"
     ]
    },
    {
     "name": "stdout",
     "output_type": "stream",
     "text": [
      "model_name=lr\n",
      "model_name=knn\n",
      "number_of_samples=3, selection_seed=3\n"
     ]
    },
    {
     "name": "stderr",
     "output_type": "stream",
     "text": [
      "d:\\Workspace\\thesis\\.venv\\lib\\site-packages\\sklearn\\metrics\\_classification.py:2399: UserWarning: y_pred contains classes not in y_true\n",
      "  warnings.warn(\"y_pred contains classes not in y_true\")\n",
      "d:\\Workspace\\thesis\\.venv\\lib\\site-packages\\sklearn\\metrics\\_classification.py:2399: UserWarning: y_pred contains classes not in y_true\n",
      "  warnings.warn(\"y_pred contains classes not in y_true\")\n"
     ]
    },
    {
     "name": "stdout",
     "output_type": "stream",
     "text": [
      "model_name=lr\n",
      "model_name=knn\n",
      "number_of_samples=3, selection_seed=4\n"
     ]
    },
    {
     "name": "stderr",
     "output_type": "stream",
     "text": [
      "d:\\Workspace\\thesis\\.venv\\lib\\site-packages\\sklearn\\metrics\\_classification.py:2399: UserWarning: y_pred contains classes not in y_true\n",
      "  warnings.warn(\"y_pred contains classes not in y_true\")\n",
      "d:\\Workspace\\thesis\\.venv\\lib\\site-packages\\sklearn\\metrics\\_classification.py:2399: UserWarning: y_pred contains classes not in y_true\n",
      "  warnings.warn(\"y_pred contains classes not in y_true\")\n"
     ]
    },
    {
     "name": "stdout",
     "output_type": "stream",
     "text": [
      "model_name=lr\n",
      "model_name=knn\n",
      "number_of_samples=3, selection_seed=5\n"
     ]
    },
    {
     "name": "stderr",
     "output_type": "stream",
     "text": [
      "d:\\Workspace\\thesis\\.venv\\lib\\site-packages\\sklearn\\metrics\\_classification.py:2399: UserWarning: y_pred contains classes not in y_true\n",
      "  warnings.warn(\"y_pred contains classes not in y_true\")\n",
      "d:\\Workspace\\thesis\\.venv\\lib\\site-packages\\sklearn\\metrics\\_classification.py:2399: UserWarning: y_pred contains classes not in y_true\n",
      "  warnings.warn(\"y_pred contains classes not in y_true\")\n"
     ]
    },
    {
     "name": "stdout",
     "output_type": "stream",
     "text": [
      "model_name=lr\n",
      "model_name=knn\n",
      "number_of_samples=3, selection_seed=6\n"
     ]
    },
    {
     "name": "stderr",
     "output_type": "stream",
     "text": [
      "d:\\Workspace\\thesis\\.venv\\lib\\site-packages\\sklearn\\metrics\\_classification.py:2399: UserWarning: y_pred contains classes not in y_true\n",
      "  warnings.warn(\"y_pred contains classes not in y_true\")\n",
      "d:\\Workspace\\thesis\\.venv\\lib\\site-packages\\sklearn\\metrics\\_classification.py:2399: UserWarning: y_pred contains classes not in y_true\n",
      "  warnings.warn(\"y_pred contains classes not in y_true\")\n"
     ]
    },
    {
     "name": "stdout",
     "output_type": "stream",
     "text": [
      "model_name=lr\n",
      "model_name=knn\n",
      "number_of_samples=3, selection_seed=7\n"
     ]
    },
    {
     "name": "stderr",
     "output_type": "stream",
     "text": [
      "d:\\Workspace\\thesis\\.venv\\lib\\site-packages\\sklearn\\metrics\\_classification.py:2399: UserWarning: y_pred contains classes not in y_true\n",
      "  warnings.warn(\"y_pred contains classes not in y_true\")\n",
      "d:\\Workspace\\thesis\\.venv\\lib\\site-packages\\sklearn\\metrics\\_classification.py:2399: UserWarning: y_pred contains classes not in y_true\n",
      "  warnings.warn(\"y_pred contains classes not in y_true\")\n"
     ]
    },
    {
     "name": "stdout",
     "output_type": "stream",
     "text": [
      "model_name=lr\n",
      "model_name=knn\n",
      "number_of_samples=3, selection_seed=8\n"
     ]
    },
    {
     "name": "stderr",
     "output_type": "stream",
     "text": [
      "d:\\Workspace\\thesis\\.venv\\lib\\site-packages\\sklearn\\metrics\\_classification.py:2399: UserWarning: y_pred contains classes not in y_true\n",
      "  warnings.warn(\"y_pred contains classes not in y_true\")\n",
      "d:\\Workspace\\thesis\\.venv\\lib\\site-packages\\sklearn\\metrics\\_classification.py:2399: UserWarning: y_pred contains classes not in y_true\n",
      "  warnings.warn(\"y_pred contains classes not in y_true\")\n"
     ]
    },
    {
     "name": "stdout",
     "output_type": "stream",
     "text": [
      "model_name=lr\n",
      "model_name=knn\n",
      "number_of_samples=3, selection_seed=9\n"
     ]
    },
    {
     "name": "stderr",
     "output_type": "stream",
     "text": [
      "d:\\Workspace\\thesis\\.venv\\lib\\site-packages\\sklearn\\metrics\\_classification.py:2399: UserWarning: y_pred contains classes not in y_true\n",
      "  warnings.warn(\"y_pred contains classes not in y_true\")\n",
      "d:\\Workspace\\thesis\\.venv\\lib\\site-packages\\sklearn\\metrics\\_classification.py:2399: UserWarning: y_pred contains classes not in y_true\n",
      "  warnings.warn(\"y_pred contains classes not in y_true\")\n"
     ]
    },
    {
     "name": "stdout",
     "output_type": "stream",
     "text": [
      "model_name=lr\n",
      "model_name=knn\n",
      "number_of_samples=10, selection_seed=0\n",
      "model_name=lr\n",
      "model_name=knn\n",
      "number_of_samples=10, selection_seed=1\n"
     ]
    },
    {
     "name": "stderr",
     "output_type": "stream",
     "text": [
      "d:\\Workspace\\thesis\\.venv\\lib\\site-packages\\sklearn\\metrics\\_classification.py:2399: UserWarning: y_pred contains classes not in y_true\n",
      "  warnings.warn(\"y_pred contains classes not in y_true\")\n"
     ]
    },
    {
     "name": "stdout",
     "output_type": "stream",
     "text": [
      "model_name=lr\n"
     ]
    },
    {
     "name": "stderr",
     "output_type": "stream",
     "text": [
      "d:\\Workspace\\thesis\\.venv\\lib\\site-packages\\sklearn\\metrics\\_classification.py:2399: UserWarning: y_pred contains classes not in y_true\n",
      "  warnings.warn(\"y_pred contains classes not in y_true\")\n"
     ]
    },
    {
     "name": "stdout",
     "output_type": "stream",
     "text": [
      "model_name=knn\n",
      "number_of_samples=10, selection_seed=2\n",
      "model_name=lr\n",
      "model_name=knn\n",
      "number_of_samples=10, selection_seed=3\n"
     ]
    },
    {
     "name": "stderr",
     "output_type": "stream",
     "text": [
      "d:\\Workspace\\thesis\\.venv\\lib\\site-packages\\sklearn\\metrics\\_classification.py:2399: UserWarning: y_pred contains classes not in y_true\n",
      "  warnings.warn(\"y_pred contains classes not in y_true\")\n"
     ]
    },
    {
     "name": "stdout",
     "output_type": "stream",
     "text": [
      "model_name=lr\n",
      "model_name=knn\n",
      "number_of_samples=10, selection_seed=4\n"
     ]
    },
    {
     "name": "stderr",
     "output_type": "stream",
     "text": [
      "d:\\Workspace\\thesis\\.venv\\lib\\site-packages\\sklearn\\metrics\\_classification.py:2399: UserWarning: y_pred contains classes not in y_true\n",
      "  warnings.warn(\"y_pred contains classes not in y_true\")\n"
     ]
    },
    {
     "name": "stdout",
     "output_type": "stream",
     "text": [
      "model_name=lr\n",
      "model_name=knn\n",
      "number_of_samples=10, selection_seed=5\n"
     ]
    },
    {
     "name": "stderr",
     "output_type": "stream",
     "text": [
      "d:\\Workspace\\thesis\\.venv\\lib\\site-packages\\sklearn\\metrics\\_classification.py:2399: UserWarning: y_pred contains classes not in y_true\n",
      "  warnings.warn(\"y_pred contains classes not in y_true\")\n"
     ]
    },
    {
     "name": "stdout",
     "output_type": "stream",
     "text": [
      "model_name=lr\n",
      "model_name=knn\n",
      "number_of_samples=10, selection_seed=6\n"
     ]
    },
    {
     "name": "stderr",
     "output_type": "stream",
     "text": [
      "d:\\Workspace\\thesis\\.venv\\lib\\site-packages\\sklearn\\metrics\\_classification.py:2399: UserWarning: y_pred contains classes not in y_true\n",
      "  warnings.warn(\"y_pred contains classes not in y_true\")\n"
     ]
    },
    {
     "name": "stdout",
     "output_type": "stream",
     "text": [
      "model_name=lr\n"
     ]
    },
    {
     "name": "stderr",
     "output_type": "stream",
     "text": [
      "d:\\Workspace\\thesis\\.venv\\lib\\site-packages\\sklearn\\metrics\\_classification.py:2399: UserWarning: y_pred contains classes not in y_true\n",
      "  warnings.warn(\"y_pred contains classes not in y_true\")\n"
     ]
    },
    {
     "name": "stdout",
     "output_type": "stream",
     "text": [
      "model_name=knn\n",
      "number_of_samples=10, selection_seed=7\n",
      "model_name=lr\n",
      "model_name=knn\n",
      "number_of_samples=10, selection_seed=8\n"
     ]
    },
    {
     "name": "stderr",
     "output_type": "stream",
     "text": [
      "d:\\Workspace\\thesis\\.venv\\lib\\site-packages\\sklearn\\metrics\\_classification.py:2399: UserWarning: y_pred contains classes not in y_true\n",
      "  warnings.warn(\"y_pred contains classes not in y_true\")\n"
     ]
    },
    {
     "name": "stdout",
     "output_type": "stream",
     "text": [
      "model_name=lr\n",
      "model_name=knn\n",
      "number_of_samples=10, selection_seed=9\n"
     ]
    },
    {
     "name": "stderr",
     "output_type": "stream",
     "text": [
      "d:\\Workspace\\thesis\\.venv\\lib\\site-packages\\sklearn\\metrics\\_classification.py:2399: UserWarning: y_pred contains classes not in y_true\n",
      "  warnings.warn(\"y_pred contains classes not in y_true\")\n",
      "d:\\Workspace\\thesis\\.venv\\lib\\site-packages\\sklearn\\metrics\\_classification.py:2399: UserWarning: y_pred contains classes not in y_true\n",
      "  warnings.warn(\"y_pred contains classes not in y_true\")\n",
      "d:\\Workspace\\thesis\\.venv\\lib\\site-packages\\sklearn\\metrics\\_classification.py:2399: UserWarning: y_pred contains classes not in y_true\n",
      "  warnings.warn(\"y_pred contains classes not in y_true\")\n"
     ]
    },
    {
     "name": "stdout",
     "output_type": "stream",
     "text": [
      "model_name=lr\n",
      "model_name=knn\n",
      "number_of_samples=30, selection_seed=0\n",
      "model_name=lr\n",
      "model_name=knn\n",
      "number_of_samples=30, selection_seed=1\n"
     ]
    },
    {
     "name": "stderr",
     "output_type": "stream",
     "text": [
      "d:\\Workspace\\thesis\\.venv\\lib\\site-packages\\sklearn\\metrics\\_classification.py:2399: UserWarning: y_pred contains classes not in y_true\n",
      "  warnings.warn(\"y_pred contains classes not in y_true\")\n"
     ]
    },
    {
     "name": "stdout",
     "output_type": "stream",
     "text": [
      "model_name=lr\n",
      "model_name=knn\n",
      "number_of_samples=30, selection_seed=2\n"
     ]
    },
    {
     "name": "stderr",
     "output_type": "stream",
     "text": [
      "d:\\Workspace\\thesis\\.venv\\lib\\site-packages\\sklearn\\metrics\\_classification.py:2399: UserWarning: y_pred contains classes not in y_true\n",
      "  warnings.warn(\"y_pred contains classes not in y_true\")\n"
     ]
    },
    {
     "name": "stdout",
     "output_type": "stream",
     "text": [
      "model_name=lr\n"
     ]
    },
    {
     "name": "stderr",
     "output_type": "stream",
     "text": [
      "d:\\Workspace\\thesis\\.venv\\lib\\site-packages\\sklearn\\metrics\\_classification.py:2399: UserWarning: y_pred contains classes not in y_true\n",
      "  warnings.warn(\"y_pred contains classes not in y_true\")\n"
     ]
    },
    {
     "name": "stdout",
     "output_type": "stream",
     "text": [
      "model_name=knn\n",
      "number_of_samples=30, selection_seed=3\n",
      "model_name=lr\n",
      "model_name=knn\n",
      "number_of_samples=30, selection_seed=4\n"
     ]
    },
    {
     "name": "stderr",
     "output_type": "stream",
     "text": [
      "d:\\Workspace\\thesis\\.venv\\lib\\site-packages\\sklearn\\metrics\\_classification.py:2399: UserWarning: y_pred contains classes not in y_true\n",
      "  warnings.warn(\"y_pred contains classes not in y_true\")\n"
     ]
    },
    {
     "name": "stdout",
     "output_type": "stream",
     "text": [
      "model_name=lr\n",
      "model_name=knn\n",
      "number_of_samples=30, selection_seed=5\n"
     ]
    },
    {
     "name": "stderr",
     "output_type": "stream",
     "text": [
      "d:\\Workspace\\thesis\\.venv\\lib\\site-packages\\sklearn\\metrics\\_classification.py:2399: UserWarning: y_pred contains classes not in y_true\n",
      "  warnings.warn(\"y_pred contains classes not in y_true\")\n"
     ]
    },
    {
     "name": "stdout",
     "output_type": "stream",
     "text": [
      "model_name=lr\n",
      "model_name=knn\n",
      "number_of_samples=30, selection_seed=6\n"
     ]
    },
    {
     "name": "stderr",
     "output_type": "stream",
     "text": [
      "d:\\Workspace\\thesis\\.venv\\lib\\site-packages\\sklearn\\metrics\\_classification.py:2399: UserWarning: y_pred contains classes not in y_true\n",
      "  warnings.warn(\"y_pred contains classes not in y_true\")\n"
     ]
    },
    {
     "name": "stdout",
     "output_type": "stream",
     "text": [
      "model_name=lr\n",
      "model_name=knn\n",
      "number_of_samples=30, selection_seed=7\n"
     ]
    },
    {
     "name": "stderr",
     "output_type": "stream",
     "text": [
      "d:\\Workspace\\thesis\\.venv\\lib\\site-packages\\sklearn\\metrics\\_classification.py:2399: UserWarning: y_pred contains classes not in y_true\n",
      "  warnings.warn(\"y_pred contains classes not in y_true\")\n"
     ]
    },
    {
     "name": "stdout",
     "output_type": "stream",
     "text": [
      "model_name=lr\n",
      "model_name=knn\n",
      "number_of_samples=30, selection_seed=8\n"
     ]
    },
    {
     "name": "stderr",
     "output_type": "stream",
     "text": [
      "d:\\Workspace\\thesis\\.venv\\lib\\site-packages\\sklearn\\metrics\\_classification.py:2399: UserWarning: y_pred contains classes not in y_true\n",
      "  warnings.warn(\"y_pred contains classes not in y_true\")\n"
     ]
    },
    {
     "name": "stdout",
     "output_type": "stream",
     "text": [
      "model_name=lr\n",
      "model_name=knn\n",
      "number_of_samples=30, selection_seed=9\n"
     ]
    },
    {
     "name": "stderr",
     "output_type": "stream",
     "text": [
      "d:\\Workspace\\thesis\\.venv\\lib\\site-packages\\sklearn\\metrics\\_classification.py:2399: UserWarning: y_pred contains classes not in y_true\n",
      "  warnings.warn(\"y_pred contains classes not in y_true\")\n"
     ]
    },
    {
     "name": "stdout",
     "output_type": "stream",
     "text": [
      "model_name=lr\n",
      "model_name=knn\n",
      "number_of_samples=None, selection_seed=None\n"
     ]
    },
    {
     "name": "stderr",
     "output_type": "stream",
     "text": [
      "d:\\Workspace\\thesis\\.venv\\lib\\site-packages\\sklearn\\metrics\\_classification.py:2399: UserWarning: y_pred contains classes not in y_true\n",
      "  warnings.warn(\"y_pred contains classes not in y_true\")\n"
     ]
    },
    {
     "name": "stdout",
     "output_type": "stream",
     "text": [
      "model_name=lr\n"
     ]
    },
    {
     "name": "stderr",
     "output_type": "stream",
     "text": [
      "d:\\Workspace\\thesis\\.venv\\lib\\site-packages\\sklearn\\metrics\\_classification.py:2399: UserWarning: y_pred contains classes not in y_true\n",
      "  warnings.warn(\"y_pred contains classes not in y_true\")\n"
     ]
    },
    {
     "name": "stdout",
     "output_type": "stream",
     "text": [
      "model_name=knn\n",
      "loading: ../datasets/intermediate-features/PlantDoc-ViT_B16-PDDD_96.csv\n",
      "number_of_samples=1, selection_seed=0\n"
     ]
    },
    {
     "name": "stderr",
     "output_type": "stream",
     "text": [
      "d:\\Workspace\\thesis\\.venv\\lib\\site-packages\\sklearn\\metrics\\_classification.py:2399: UserWarning: y_pred contains classes not in y_true\n",
      "  warnings.warn(\"y_pred contains classes not in y_true\")\n",
      "d:\\Workspace\\thesis\\.venv\\lib\\site-packages\\sklearn\\metrics\\_classification.py:2399: UserWarning: y_pred contains classes not in y_true\n",
      "  warnings.warn(\"y_pred contains classes not in y_true\")\n"
     ]
    },
    {
     "name": "stdout",
     "output_type": "stream",
     "text": [
      "model_name=lr\n",
      "model_name=knn\n",
      "number_of_samples=1, selection_seed=1\n"
     ]
    },
    {
     "name": "stderr",
     "output_type": "stream",
     "text": [
      "d:\\Workspace\\thesis\\.venv\\lib\\site-packages\\sklearn\\metrics\\_classification.py:2399: UserWarning: y_pred contains classes not in y_true\n",
      "  warnings.warn(\"y_pred contains classes not in y_true\")\n",
      "d:\\Workspace\\thesis\\.venv\\lib\\site-packages\\sklearn\\metrics\\_classification.py:2399: UserWarning: y_pred contains classes not in y_true\n",
      "  warnings.warn(\"y_pred contains classes not in y_true\")\n"
     ]
    },
    {
     "name": "stdout",
     "output_type": "stream",
     "text": [
      "model_name=lr\n",
      "model_name=knn\n",
      "number_of_samples=1, selection_seed=2\n"
     ]
    },
    {
     "name": "stderr",
     "output_type": "stream",
     "text": [
      "d:\\Workspace\\thesis\\.venv\\lib\\site-packages\\sklearn\\metrics\\_classification.py:2399: UserWarning: y_pred contains classes not in y_true\n",
      "  warnings.warn(\"y_pred contains classes not in y_true\")\n",
      "d:\\Workspace\\thesis\\.venv\\lib\\site-packages\\sklearn\\metrics\\_classification.py:2399: UserWarning: y_pred contains classes not in y_true\n",
      "  warnings.warn(\"y_pred contains classes not in y_true\")\n"
     ]
    },
    {
     "name": "stdout",
     "output_type": "stream",
     "text": [
      "model_name=lr\n",
      "model_name=knn\n",
      "number_of_samples=1, selection_seed=3\n"
     ]
    },
    {
     "name": "stderr",
     "output_type": "stream",
     "text": [
      "d:\\Workspace\\thesis\\.venv\\lib\\site-packages\\sklearn\\metrics\\_classification.py:2399: UserWarning: y_pred contains classes not in y_true\n",
      "  warnings.warn(\"y_pred contains classes not in y_true\")\n",
      "d:\\Workspace\\thesis\\.venv\\lib\\site-packages\\sklearn\\metrics\\_classification.py:2399: UserWarning: y_pred contains classes not in y_true\n",
      "  warnings.warn(\"y_pred contains classes not in y_true\")\n"
     ]
    },
    {
     "name": "stdout",
     "output_type": "stream",
     "text": [
      "model_name=lr\n",
      "model_name=knn\n",
      "number_of_samples=1, selection_seed=4\n"
     ]
    },
    {
     "name": "stderr",
     "output_type": "stream",
     "text": [
      "d:\\Workspace\\thesis\\.venv\\lib\\site-packages\\sklearn\\metrics\\_classification.py:2399: UserWarning: y_pred contains classes not in y_true\n",
      "  warnings.warn(\"y_pred contains classes not in y_true\")\n",
      "d:\\Workspace\\thesis\\.venv\\lib\\site-packages\\sklearn\\metrics\\_classification.py:2399: UserWarning: y_pred contains classes not in y_true\n",
      "  warnings.warn(\"y_pred contains classes not in y_true\")\n"
     ]
    },
    {
     "name": "stdout",
     "output_type": "stream",
     "text": [
      "model_name=lr\n",
      "model_name=knn\n",
      "number_of_samples=1, selection_seed=5\n"
     ]
    },
    {
     "name": "stderr",
     "output_type": "stream",
     "text": [
      "d:\\Workspace\\thesis\\.venv\\lib\\site-packages\\sklearn\\metrics\\_classification.py:2399: UserWarning: y_pred contains classes not in y_true\n",
      "  warnings.warn(\"y_pred contains classes not in y_true\")\n",
      "d:\\Workspace\\thesis\\.venv\\lib\\site-packages\\sklearn\\metrics\\_classification.py:2399: UserWarning: y_pred contains classes not in y_true\n",
      "  warnings.warn(\"y_pred contains classes not in y_true\")\n"
     ]
    },
    {
     "name": "stdout",
     "output_type": "stream",
     "text": [
      "model_name=lr\n",
      "model_name=knn\n",
      "number_of_samples=1, selection_seed=6\n"
     ]
    },
    {
     "name": "stderr",
     "output_type": "stream",
     "text": [
      "d:\\Workspace\\thesis\\.venv\\lib\\site-packages\\sklearn\\metrics\\_classification.py:2399: UserWarning: y_pred contains classes not in y_true\n",
      "  warnings.warn(\"y_pred contains classes not in y_true\")\n",
      "d:\\Workspace\\thesis\\.venv\\lib\\site-packages\\sklearn\\metrics\\_classification.py:2399: UserWarning: y_pred contains classes not in y_true\n",
      "  warnings.warn(\"y_pred contains classes not in y_true\")\n"
     ]
    },
    {
     "name": "stdout",
     "output_type": "stream",
     "text": [
      "model_name=lr\n",
      "model_name=knn\n",
      "number_of_samples=1, selection_seed=7\n"
     ]
    },
    {
     "name": "stderr",
     "output_type": "stream",
     "text": [
      "d:\\Workspace\\thesis\\.venv\\lib\\site-packages\\sklearn\\metrics\\_classification.py:2399: UserWarning: y_pred contains classes not in y_true\n",
      "  warnings.warn(\"y_pred contains classes not in y_true\")\n",
      "d:\\Workspace\\thesis\\.venv\\lib\\site-packages\\sklearn\\metrics\\_classification.py:2399: UserWarning: y_pred contains classes not in y_true\n",
      "  warnings.warn(\"y_pred contains classes not in y_true\")\n"
     ]
    },
    {
     "name": "stdout",
     "output_type": "stream",
     "text": [
      "model_name=lr\n",
      "model_name=knn\n",
      "number_of_samples=1, selection_seed=8\n"
     ]
    },
    {
     "name": "stderr",
     "output_type": "stream",
     "text": [
      "d:\\Workspace\\thesis\\.venv\\lib\\site-packages\\sklearn\\metrics\\_classification.py:2399: UserWarning: y_pred contains classes not in y_true\n",
      "  warnings.warn(\"y_pred contains classes not in y_true\")\n",
      "d:\\Workspace\\thesis\\.venv\\lib\\site-packages\\sklearn\\metrics\\_classification.py:2399: UserWarning: y_pred contains classes not in y_true\n",
      "  warnings.warn(\"y_pred contains classes not in y_true\")\n"
     ]
    },
    {
     "name": "stdout",
     "output_type": "stream",
     "text": [
      "model_name=lr\n",
      "model_name=knn\n",
      "number_of_samples=1, selection_seed=9\n"
     ]
    },
    {
     "name": "stderr",
     "output_type": "stream",
     "text": [
      "d:\\Workspace\\thesis\\.venv\\lib\\site-packages\\sklearn\\metrics\\_classification.py:2399: UserWarning: y_pred contains classes not in y_true\n",
      "  warnings.warn(\"y_pred contains classes not in y_true\")\n",
      "d:\\Workspace\\thesis\\.venv\\lib\\site-packages\\sklearn\\metrics\\_classification.py:2399: UserWarning: y_pred contains classes not in y_true\n",
      "  warnings.warn(\"y_pred contains classes not in y_true\")\n"
     ]
    },
    {
     "name": "stdout",
     "output_type": "stream",
     "text": [
      "model_name=lr\n",
      "model_name=knn\n",
      "number_of_samples=3, selection_seed=0\n"
     ]
    },
    {
     "name": "stderr",
     "output_type": "stream",
     "text": [
      "d:\\Workspace\\thesis\\.venv\\lib\\site-packages\\sklearn\\metrics\\_classification.py:2399: UserWarning: y_pred contains classes not in y_true\n",
      "  warnings.warn(\"y_pred contains classes not in y_true\")\n",
      "d:\\Workspace\\thesis\\.venv\\lib\\site-packages\\sklearn\\metrics\\_classification.py:2399: UserWarning: y_pred contains classes not in y_true\n",
      "  warnings.warn(\"y_pred contains classes not in y_true\")\n"
     ]
    },
    {
     "name": "stdout",
     "output_type": "stream",
     "text": [
      "model_name=lr\n",
      "model_name=knn\n",
      "number_of_samples=3, selection_seed=1\n"
     ]
    },
    {
     "name": "stderr",
     "output_type": "stream",
     "text": [
      "d:\\Workspace\\thesis\\.venv\\lib\\site-packages\\sklearn\\metrics\\_classification.py:2399: UserWarning: y_pred contains classes not in y_true\n",
      "  warnings.warn(\"y_pred contains classes not in y_true\")\n",
      "d:\\Workspace\\thesis\\.venv\\lib\\site-packages\\sklearn\\metrics\\_classification.py:2399: UserWarning: y_pred contains classes not in y_true\n",
      "  warnings.warn(\"y_pred contains classes not in y_true\")\n"
     ]
    },
    {
     "name": "stdout",
     "output_type": "stream",
     "text": [
      "model_name=lr\n",
      "model_name=knn\n",
      "number_of_samples=3, selection_seed=2\n"
     ]
    },
    {
     "name": "stderr",
     "output_type": "stream",
     "text": [
      "d:\\Workspace\\thesis\\.venv\\lib\\site-packages\\sklearn\\metrics\\_classification.py:2399: UserWarning: y_pred contains classes not in y_true\n",
      "  warnings.warn(\"y_pred contains classes not in y_true\")\n",
      "d:\\Workspace\\thesis\\.venv\\lib\\site-packages\\sklearn\\metrics\\_classification.py:2399: UserWarning: y_pred contains classes not in y_true\n",
      "  warnings.warn(\"y_pred contains classes not in y_true\")\n"
     ]
    },
    {
     "name": "stdout",
     "output_type": "stream",
     "text": [
      "model_name=lr\n",
      "model_name=knn\n",
      "number_of_samples=3, selection_seed=3\n"
     ]
    },
    {
     "name": "stderr",
     "output_type": "stream",
     "text": [
      "d:\\Workspace\\thesis\\.venv\\lib\\site-packages\\sklearn\\metrics\\_classification.py:2399: UserWarning: y_pred contains classes not in y_true\n",
      "  warnings.warn(\"y_pred contains classes not in y_true\")\n",
      "d:\\Workspace\\thesis\\.venv\\lib\\site-packages\\sklearn\\metrics\\_classification.py:2399: UserWarning: y_pred contains classes not in y_true\n",
      "  warnings.warn(\"y_pred contains classes not in y_true\")\n"
     ]
    },
    {
     "name": "stdout",
     "output_type": "stream",
     "text": [
      "model_name=lr\n",
      "model_name=knn\n",
      "number_of_samples=3, selection_seed=4\n"
     ]
    },
    {
     "name": "stderr",
     "output_type": "stream",
     "text": [
      "d:\\Workspace\\thesis\\.venv\\lib\\site-packages\\sklearn\\metrics\\_classification.py:2399: UserWarning: y_pred contains classes not in y_true\n",
      "  warnings.warn(\"y_pred contains classes not in y_true\")\n",
      "d:\\Workspace\\thesis\\.venv\\lib\\site-packages\\sklearn\\metrics\\_classification.py:2399: UserWarning: y_pred contains classes not in y_true\n",
      "  warnings.warn(\"y_pred contains classes not in y_true\")\n"
     ]
    },
    {
     "name": "stdout",
     "output_type": "stream",
     "text": [
      "model_name=lr\n",
      "model_name=knn\n",
      "number_of_samples=3, selection_seed=5\n"
     ]
    },
    {
     "name": "stderr",
     "output_type": "stream",
     "text": [
      "d:\\Workspace\\thesis\\.venv\\lib\\site-packages\\sklearn\\metrics\\_classification.py:2399: UserWarning: y_pred contains classes not in y_true\n",
      "  warnings.warn(\"y_pred contains classes not in y_true\")\n",
      "d:\\Workspace\\thesis\\.venv\\lib\\site-packages\\sklearn\\metrics\\_classification.py:2399: UserWarning: y_pred contains classes not in y_true\n",
      "  warnings.warn(\"y_pred contains classes not in y_true\")\n"
     ]
    },
    {
     "name": "stdout",
     "output_type": "stream",
     "text": [
      "model_name=lr\n",
      "model_name=knn\n",
      "number_of_samples=3, selection_seed=6\n"
     ]
    },
    {
     "name": "stderr",
     "output_type": "stream",
     "text": [
      "d:\\Workspace\\thesis\\.venv\\lib\\site-packages\\sklearn\\metrics\\_classification.py:2399: UserWarning: y_pred contains classes not in y_true\n",
      "  warnings.warn(\"y_pred contains classes not in y_true\")\n",
      "d:\\Workspace\\thesis\\.venv\\lib\\site-packages\\sklearn\\metrics\\_classification.py:2399: UserWarning: y_pred contains classes not in y_true\n",
      "  warnings.warn(\"y_pred contains classes not in y_true\")\n"
     ]
    },
    {
     "name": "stdout",
     "output_type": "stream",
     "text": [
      "model_name=lr\n",
      "model_name=knn\n",
      "number_of_samples=3, selection_seed=7\n"
     ]
    },
    {
     "name": "stderr",
     "output_type": "stream",
     "text": [
      "d:\\Workspace\\thesis\\.venv\\lib\\site-packages\\sklearn\\metrics\\_classification.py:2399: UserWarning: y_pred contains classes not in y_true\n",
      "  warnings.warn(\"y_pred contains classes not in y_true\")\n",
      "d:\\Workspace\\thesis\\.venv\\lib\\site-packages\\sklearn\\metrics\\_classification.py:2399: UserWarning: y_pred contains classes not in y_true\n",
      "  warnings.warn(\"y_pred contains classes not in y_true\")\n"
     ]
    },
    {
     "name": "stdout",
     "output_type": "stream",
     "text": [
      "model_name=lr\n",
      "model_name=knn\n",
      "number_of_samples=3, selection_seed=8\n"
     ]
    },
    {
     "name": "stderr",
     "output_type": "stream",
     "text": [
      "d:\\Workspace\\thesis\\.venv\\lib\\site-packages\\sklearn\\metrics\\_classification.py:2399: UserWarning: y_pred contains classes not in y_true\n",
      "  warnings.warn(\"y_pred contains classes not in y_true\")\n",
      "d:\\Workspace\\thesis\\.venv\\lib\\site-packages\\sklearn\\metrics\\_classification.py:2399: UserWarning: y_pred contains classes not in y_true\n",
      "  warnings.warn(\"y_pred contains classes not in y_true\")\n"
     ]
    },
    {
     "name": "stdout",
     "output_type": "stream",
     "text": [
      "model_name=lr\n",
      "model_name=knn\n",
      "number_of_samples=3, selection_seed=9\n"
     ]
    },
    {
     "name": "stderr",
     "output_type": "stream",
     "text": [
      "d:\\Workspace\\thesis\\.venv\\lib\\site-packages\\sklearn\\metrics\\_classification.py:2399: UserWarning: y_pred contains classes not in y_true\n",
      "  warnings.warn(\"y_pred contains classes not in y_true\")\n",
      "d:\\Workspace\\thesis\\.venv\\lib\\site-packages\\sklearn\\metrics\\_classification.py:2399: UserWarning: y_pred contains classes not in y_true\n",
      "  warnings.warn(\"y_pred contains classes not in y_true\")\n"
     ]
    },
    {
     "name": "stdout",
     "output_type": "stream",
     "text": [
      "model_name=lr\n",
      "model_name=knn\n",
      "number_of_samples=10, selection_seed=0\n"
     ]
    },
    {
     "name": "stderr",
     "output_type": "stream",
     "text": [
      "d:\\Workspace\\thesis\\.venv\\lib\\site-packages\\sklearn\\metrics\\_classification.py:2399: UserWarning: y_pred contains classes not in y_true\n",
      "  warnings.warn(\"y_pred contains classes not in y_true\")\n",
      "d:\\Workspace\\thesis\\.venv\\lib\\site-packages\\sklearn\\metrics\\_classification.py:2399: UserWarning: y_pred contains classes not in y_true\n",
      "  warnings.warn(\"y_pred contains classes not in y_true\")\n"
     ]
    },
    {
     "name": "stdout",
     "output_type": "stream",
     "text": [
      "model_name=lr\n",
      "model_name=knn\n",
      "number_of_samples=10, selection_seed=1\n",
      "model_name=lr\n",
      "model_name=knn\n",
      "number_of_samples=10, selection_seed=2\n"
     ]
    },
    {
     "name": "stderr",
     "output_type": "stream",
     "text": [
      "d:\\Workspace\\thesis\\.venv\\lib\\site-packages\\sklearn\\metrics\\_classification.py:2399: UserWarning: y_pred contains classes not in y_true\n",
      "  warnings.warn(\"y_pred contains classes not in y_true\")\n"
     ]
    },
    {
     "name": "stdout",
     "output_type": "stream",
     "text": [
      "model_name=lr\n",
      "model_name=knn\n",
      "number_of_samples=10, selection_seed=3\n"
     ]
    },
    {
     "name": "stderr",
     "output_type": "stream",
     "text": [
      "d:\\Workspace\\thesis\\.venv\\lib\\site-packages\\sklearn\\metrics\\_classification.py:2399: UserWarning: y_pred contains classes not in y_true\n",
      "  warnings.warn(\"y_pred contains classes not in y_true\")\n",
      "d:\\Workspace\\thesis\\.venv\\lib\\site-packages\\sklearn\\metrics\\_classification.py:2399: UserWarning: y_pred contains classes not in y_true\n",
      "  warnings.warn(\"y_pred contains classes not in y_true\")\n",
      "d:\\Workspace\\thesis\\.venv\\lib\\site-packages\\sklearn\\metrics\\_classification.py:2399: UserWarning: y_pred contains classes not in y_true\n",
      "  warnings.warn(\"y_pred contains classes not in y_true\")\n"
     ]
    },
    {
     "name": "stdout",
     "output_type": "stream",
     "text": [
      "model_name=lr\n",
      "model_name=knn\n",
      "number_of_samples=10, selection_seed=4\n",
      "model_name=lr\n",
      "model_name=knn\n",
      "number_of_samples=10, selection_seed=5\n"
     ]
    },
    {
     "name": "stderr",
     "output_type": "stream",
     "text": [
      "d:\\Workspace\\thesis\\.venv\\lib\\site-packages\\sklearn\\metrics\\_classification.py:2399: UserWarning: y_pred contains classes not in y_true\n",
      "  warnings.warn(\"y_pred contains classes not in y_true\")\n"
     ]
    },
    {
     "name": "stdout",
     "output_type": "stream",
     "text": [
      "model_name=lr\n",
      "model_name=knn\n",
      "number_of_samples=10, selection_seed=6\n"
     ]
    },
    {
     "name": "stderr",
     "output_type": "stream",
     "text": [
      "d:\\Workspace\\thesis\\.venv\\lib\\site-packages\\sklearn\\metrics\\_classification.py:2399: UserWarning: y_pred contains classes not in y_true\n",
      "  warnings.warn(\"y_pred contains classes not in y_true\")\n",
      "d:\\Workspace\\thesis\\.venv\\lib\\site-packages\\sklearn\\metrics\\_classification.py:2399: UserWarning: y_pred contains classes not in y_true\n",
      "  warnings.warn(\"y_pred contains classes not in y_true\")\n",
      "d:\\Workspace\\thesis\\.venv\\lib\\site-packages\\sklearn\\metrics\\_classification.py:2399: UserWarning: y_pred contains classes not in y_true\n",
      "  warnings.warn(\"y_pred contains classes not in y_true\")\n"
     ]
    },
    {
     "name": "stdout",
     "output_type": "stream",
     "text": [
      "model_name=lr\n",
      "model_name=knn\n",
      "number_of_samples=10, selection_seed=7\n"
     ]
    },
    {
     "name": "stderr",
     "output_type": "stream",
     "text": [
      "d:\\Workspace\\thesis\\.venv\\lib\\site-packages\\sklearn\\metrics\\_classification.py:2399: UserWarning: y_pred contains classes not in y_true\n",
      "  warnings.warn(\"y_pred contains classes not in y_true\")\n",
      "d:\\Workspace\\thesis\\.venv\\lib\\site-packages\\sklearn\\metrics\\_classification.py:2399: UserWarning: y_pred contains classes not in y_true\n",
      "  warnings.warn(\"y_pred contains classes not in y_true\")\n"
     ]
    },
    {
     "name": "stdout",
     "output_type": "stream",
     "text": [
      "model_name=lr\n",
      "model_name=knn\n",
      "number_of_samples=10, selection_seed=8\n",
      "model_name=lr\n",
      "model_name=knn\n",
      "number_of_samples=10, selection_seed=9\n"
     ]
    },
    {
     "name": "stderr",
     "output_type": "stream",
     "text": [
      "d:\\Workspace\\thesis\\.venv\\lib\\site-packages\\sklearn\\metrics\\_classification.py:2399: UserWarning: y_pred contains classes not in y_true\n",
      "  warnings.warn(\"y_pred contains classes not in y_true\")\n",
      "d:\\Workspace\\thesis\\.venv\\lib\\site-packages\\sklearn\\metrics\\_classification.py:2399: UserWarning: y_pred contains classes not in y_true\n",
      "  warnings.warn(\"y_pred contains classes not in y_true\")\n",
      "d:\\Workspace\\thesis\\.venv\\lib\\site-packages\\sklearn\\metrics\\_classification.py:2399: UserWarning: y_pred contains classes not in y_true\n",
      "  warnings.warn(\"y_pred contains classes not in y_true\")\n"
     ]
    },
    {
     "name": "stdout",
     "output_type": "stream",
     "text": [
      "model_name=lr\n",
      "model_name=knn\n",
      "number_of_samples=30, selection_seed=0\n",
      "model_name=lr\n",
      "model_name=knn\n",
      "number_of_samples=30, selection_seed=1\n"
     ]
    },
    {
     "name": "stderr",
     "output_type": "stream",
     "text": [
      "d:\\Workspace\\thesis\\.venv\\lib\\site-packages\\sklearn\\metrics\\_classification.py:2399: UserWarning: y_pred contains classes not in y_true\n",
      "  warnings.warn(\"y_pred contains classes not in y_true\")\n"
     ]
    },
    {
     "name": "stdout",
     "output_type": "stream",
     "text": [
      "model_name=lr\n",
      "model_name=knn\n",
      "number_of_samples=30, selection_seed=2\n"
     ]
    },
    {
     "name": "stderr",
     "output_type": "stream",
     "text": [
      "d:\\Workspace\\thesis\\.venv\\lib\\site-packages\\sklearn\\metrics\\_classification.py:2399: UserWarning: y_pred contains classes not in y_true\n",
      "  warnings.warn(\"y_pred contains classes not in y_true\")\n"
     ]
    },
    {
     "name": "stdout",
     "output_type": "stream",
     "text": [
      "model_name=lr\n"
     ]
    },
    {
     "name": "stderr",
     "output_type": "stream",
     "text": [
      "d:\\Workspace\\thesis\\.venv\\lib\\site-packages\\sklearn\\metrics\\_classification.py:2399: UserWarning: y_pred contains classes not in y_true\n",
      "  warnings.warn(\"y_pred contains classes not in y_true\")\n"
     ]
    },
    {
     "name": "stdout",
     "output_type": "stream",
     "text": [
      "model_name=knn\n",
      "number_of_samples=30, selection_seed=3\n",
      "model_name=lr\n",
      "model_name=knn\n",
      "number_of_samples=30, selection_seed=4\n"
     ]
    },
    {
     "name": "stderr",
     "output_type": "stream",
     "text": [
      "d:\\Workspace\\thesis\\.venv\\lib\\site-packages\\sklearn\\metrics\\_classification.py:2399: UserWarning: y_pred contains classes not in y_true\n",
      "  warnings.warn(\"y_pred contains classes not in y_true\")\n",
      "d:\\Workspace\\thesis\\.venv\\lib\\site-packages\\sklearn\\metrics\\_classification.py:2399: UserWarning: y_pred contains classes not in y_true\n",
      "  warnings.warn(\"y_pred contains classes not in y_true\")\n"
     ]
    },
    {
     "name": "stdout",
     "output_type": "stream",
     "text": [
      "model_name=lr\n"
     ]
    },
    {
     "name": "stderr",
     "output_type": "stream",
     "text": [
      "d:\\Workspace\\thesis\\.venv\\lib\\site-packages\\sklearn\\metrics\\_classification.py:2399: UserWarning: y_pred contains classes not in y_true\n",
      "  warnings.warn(\"y_pred contains classes not in y_true\")\n"
     ]
    },
    {
     "name": "stdout",
     "output_type": "stream",
     "text": [
      "model_name=knn\n",
      "number_of_samples=30, selection_seed=5\n",
      "model_name=lr\n",
      "model_name=knn\n",
      "number_of_samples=30, selection_seed=6\n"
     ]
    },
    {
     "name": "stderr",
     "output_type": "stream",
     "text": [
      "d:\\Workspace\\thesis\\.venv\\lib\\site-packages\\sklearn\\metrics\\_classification.py:2399: UserWarning: y_pred contains classes not in y_true\n",
      "  warnings.warn(\"y_pred contains classes not in y_true\")\n",
      "d:\\Workspace\\thesis\\.venv\\lib\\site-packages\\sklearn\\metrics\\_classification.py:2399: UserWarning: y_pred contains classes not in y_true\n",
      "  warnings.warn(\"y_pred contains classes not in y_true\")\n",
      "d:\\Workspace\\thesis\\.venv\\lib\\site-packages\\sklearn\\metrics\\_classification.py:2399: UserWarning: y_pred contains classes not in y_true\n",
      "  warnings.warn(\"y_pred contains classes not in y_true\")\n"
     ]
    },
    {
     "name": "stdout",
     "output_type": "stream",
     "text": [
      "model_name=lr\n",
      "model_name=knn\n",
      "number_of_samples=30, selection_seed=7\n"
     ]
    },
    {
     "name": "stderr",
     "output_type": "stream",
     "text": [
      "d:\\Workspace\\thesis\\.venv\\lib\\site-packages\\sklearn\\metrics\\_classification.py:2399: UserWarning: y_pred contains classes not in y_true\n",
      "  warnings.warn(\"y_pred contains classes not in y_true\")\n",
      "d:\\Workspace\\thesis\\.venv\\lib\\site-packages\\sklearn\\metrics\\_classification.py:2399: UserWarning: y_pred contains classes not in y_true\n",
      "  warnings.warn(\"y_pred contains classes not in y_true\")\n"
     ]
    },
    {
     "name": "stdout",
     "output_type": "stream",
     "text": [
      "model_name=lr\n",
      "model_name=knn\n",
      "number_of_samples=30, selection_seed=8\n",
      "model_name=lr\n",
      "model_name=knn\n",
      "number_of_samples=30, selection_seed=9\n"
     ]
    },
    {
     "name": "stderr",
     "output_type": "stream",
     "text": [
      "d:\\Workspace\\thesis\\.venv\\lib\\site-packages\\sklearn\\metrics\\_classification.py:2399: UserWarning: y_pred contains classes not in y_true\n",
      "  warnings.warn(\"y_pred contains classes not in y_true\")\n"
     ]
    },
    {
     "name": "stdout",
     "output_type": "stream",
     "text": [
      "model_name=lr\n",
      "model_name=knn\n",
      "number_of_samples=None, selection_seed=None\n"
     ]
    },
    {
     "name": "stderr",
     "output_type": "stream",
     "text": [
      "d:\\Workspace\\thesis\\.venv\\lib\\site-packages\\sklearn\\metrics\\_classification.py:2399: UserWarning: y_pred contains classes not in y_true\n",
      "  warnings.warn(\"y_pred contains classes not in y_true\")\n"
     ]
    },
    {
     "name": "stdout",
     "output_type": "stream",
     "text": [
      "model_name=lr\n"
     ]
    },
    {
     "name": "stderr",
     "output_type": "stream",
     "text": [
      "d:\\Workspace\\thesis\\.venv\\lib\\site-packages\\sklearn\\metrics\\_classification.py:2399: UserWarning: y_pred contains classes not in y_true\n",
      "  warnings.warn(\"y_pred contains classes not in y_true\")\n"
     ]
    },
    {
     "name": "stdout",
     "output_type": "stream",
     "text": [
      "model_name=knn\n",
      "loading: ../datasets/intermediate-features/PlantDoc-ViT_B16-Random_19.csv\n",
      "number_of_samples=1, selection_seed=0\n"
     ]
    },
    {
     "name": "stderr",
     "output_type": "stream",
     "text": [
      "d:\\Workspace\\thesis\\.venv\\lib\\site-packages\\sklearn\\metrics\\_classification.py:2399: UserWarning: y_pred contains classes not in y_true\n",
      "  warnings.warn(\"y_pred contains classes not in y_true\")\n",
      "d:\\Workspace\\thesis\\.venv\\lib\\site-packages\\sklearn\\metrics\\_classification.py:2399: UserWarning: y_pred contains classes not in y_true\n",
      "  warnings.warn(\"y_pred contains classes not in y_true\")\n"
     ]
    },
    {
     "name": "stdout",
     "output_type": "stream",
     "text": [
      "model_name=lr\n",
      "model_name=knn\n",
      "number_of_samples=1, selection_seed=1\n",
      "model_name=lr\n",
      "model_name=knn\n",
      "number_of_samples=1, selection_seed=2\n"
     ]
    },
    {
     "name": "stderr",
     "output_type": "stream",
     "text": [
      "d:\\Workspace\\thesis\\.venv\\lib\\site-packages\\sklearn\\metrics\\_classification.py:2399: UserWarning: y_pred contains classes not in y_true\n",
      "  warnings.warn(\"y_pred contains classes not in y_true\")\n"
     ]
    },
    {
     "name": "stdout",
     "output_type": "stream",
     "text": [
      "model_name=lr\n",
      "model_name=knn\n",
      "number_of_samples=1, selection_seed=3\n",
      "model_name=lr\n",
      "model_name=knn\n",
      "number_of_samples=1, selection_seed=4\n"
     ]
    },
    {
     "name": "stderr",
     "output_type": "stream",
     "text": [
      "d:\\Workspace\\thesis\\.venv\\lib\\site-packages\\sklearn\\metrics\\_classification.py:2399: UserWarning: y_pred contains classes not in y_true\n",
      "  warnings.warn(\"y_pred contains classes not in y_true\")\n",
      "d:\\Workspace\\thesis\\.venv\\lib\\site-packages\\sklearn\\metrics\\_classification.py:2399: UserWarning: y_pred contains classes not in y_true\n",
      "  warnings.warn(\"y_pred contains classes not in y_true\")\n"
     ]
    },
    {
     "name": "stdout",
     "output_type": "stream",
     "text": [
      "model_name=lr\n",
      "model_name=knn\n",
      "number_of_samples=1, selection_seed=5\n"
     ]
    },
    {
     "name": "stderr",
     "output_type": "stream",
     "text": [
      "d:\\Workspace\\thesis\\.venv\\lib\\site-packages\\sklearn\\metrics\\_classification.py:2399: UserWarning: y_pred contains classes not in y_true\n",
      "  warnings.warn(\"y_pred contains classes not in y_true\")\n",
      "d:\\Workspace\\thesis\\.venv\\lib\\site-packages\\sklearn\\metrics\\_classification.py:2399: UserWarning: y_pred contains classes not in y_true\n",
      "  warnings.warn(\"y_pred contains classes not in y_true\")\n"
     ]
    },
    {
     "name": "stdout",
     "output_type": "stream",
     "text": [
      "model_name=lr\n",
      "model_name=knn\n",
      "number_of_samples=1, selection_seed=6\n"
     ]
    },
    {
     "name": "stderr",
     "output_type": "stream",
     "text": [
      "d:\\Workspace\\thesis\\.venv\\lib\\site-packages\\sklearn\\metrics\\_classification.py:2399: UserWarning: y_pred contains classes not in y_true\n",
      "  warnings.warn(\"y_pred contains classes not in y_true\")\n",
      "d:\\Workspace\\thesis\\.venv\\lib\\site-packages\\sklearn\\metrics\\_classification.py:2399: UserWarning: y_pred contains classes not in y_true\n",
      "  warnings.warn(\"y_pred contains classes not in y_true\")\n"
     ]
    },
    {
     "name": "stdout",
     "output_type": "stream",
     "text": [
      "model_name=lr\n",
      "model_name=knn\n",
      "number_of_samples=1, selection_seed=7\n",
      "model_name=lr\n",
      "model_name=knn\n",
      "number_of_samples=1, selection_seed=8\n"
     ]
    },
    {
     "name": "stderr",
     "output_type": "stream",
     "text": [
      "d:\\Workspace\\thesis\\.venv\\lib\\site-packages\\sklearn\\metrics\\_classification.py:2399: UserWarning: y_pred contains classes not in y_true\n",
      "  warnings.warn(\"y_pred contains classes not in y_true\")\n"
     ]
    },
    {
     "name": "stdout",
     "output_type": "stream",
     "text": [
      "model_name=lr\n",
      "model_name=knn\n",
      "number_of_samples=1, selection_seed=9\n"
     ]
    },
    {
     "name": "stderr",
     "output_type": "stream",
     "text": [
      "d:\\Workspace\\thesis\\.venv\\lib\\site-packages\\sklearn\\metrics\\_classification.py:2399: UserWarning: y_pred contains classes not in y_true\n",
      "  warnings.warn(\"y_pred contains classes not in y_true\")\n",
      "d:\\Workspace\\thesis\\.venv\\lib\\site-packages\\sklearn\\metrics\\_classification.py:2399: UserWarning: y_pred contains classes not in y_true\n",
      "  warnings.warn(\"y_pred contains classes not in y_true\")\n",
      "d:\\Workspace\\thesis\\.venv\\lib\\site-packages\\sklearn\\metrics\\_classification.py:2399: UserWarning: y_pred contains classes not in y_true\n",
      "  warnings.warn(\"y_pred contains classes not in y_true\")\n"
     ]
    },
    {
     "name": "stdout",
     "output_type": "stream",
     "text": [
      "model_name=lr\n",
      "model_name=knn\n",
      "number_of_samples=3, selection_seed=0\n",
      "model_name=lr\n",
      "model_name=knn\n",
      "number_of_samples=3, selection_seed=1\n",
      "model_name=lr\n",
      "model_name=knn\n",
      "number_of_samples=3, selection_seed=2\n"
     ]
    },
    {
     "name": "stderr",
     "output_type": "stream",
     "text": [
      "d:\\Workspace\\thesis\\.venv\\lib\\site-packages\\sklearn\\metrics\\_classification.py:2399: UserWarning: y_pred contains classes not in y_true\n",
      "  warnings.warn(\"y_pred contains classes not in y_true\")\n"
     ]
    },
    {
     "name": "stdout",
     "output_type": "stream",
     "text": [
      "model_name=lr\n",
      "model_name=knn\n",
      "number_of_samples=3, selection_seed=3\n",
      "model_name=lr\n",
      "model_name=knn\n",
      "number_of_samples=3, selection_seed=4\n"
     ]
    },
    {
     "name": "stderr",
     "output_type": "stream",
     "text": [
      "d:\\Workspace\\thesis\\.venv\\lib\\site-packages\\sklearn\\metrics\\_classification.py:2399: UserWarning: y_pred contains classes not in y_true\n",
      "  warnings.warn(\"y_pred contains classes not in y_true\")\n"
     ]
    },
    {
     "name": "stdout",
     "output_type": "stream",
     "text": [
      "model_name=lr\n",
      "model_name=knn\n",
      "number_of_samples=3, selection_seed=5\n"
     ]
    },
    {
     "name": "stderr",
     "output_type": "stream",
     "text": [
      "d:\\Workspace\\thesis\\.venv\\lib\\site-packages\\sklearn\\metrics\\_classification.py:2399: UserWarning: y_pred contains classes not in y_true\n",
      "  warnings.warn(\"y_pred contains classes not in y_true\")\n"
     ]
    },
    {
     "name": "stdout",
     "output_type": "stream",
     "text": [
      "model_name=lr\n",
      "model_name=knn\n",
      "number_of_samples=3, selection_seed=6\n"
     ]
    },
    {
     "name": "stderr",
     "output_type": "stream",
     "text": [
      "d:\\Workspace\\thesis\\.venv\\lib\\site-packages\\sklearn\\metrics\\_classification.py:2399: UserWarning: y_pred contains classes not in y_true\n",
      "  warnings.warn(\"y_pred contains classes not in y_true\")\n"
     ]
    },
    {
     "name": "stdout",
     "output_type": "stream",
     "text": [
      "model_name=lr\n",
      "model_name=knn\n",
      "number_of_samples=3, selection_seed=7\n"
     ]
    },
    {
     "name": "stderr",
     "output_type": "stream",
     "text": [
      "d:\\Workspace\\thesis\\.venv\\lib\\site-packages\\sklearn\\metrics\\_classification.py:2399: UserWarning: y_pred contains classes not in y_true\n",
      "  warnings.warn(\"y_pred contains classes not in y_true\")\n"
     ]
    },
    {
     "name": "stdout",
     "output_type": "stream",
     "text": [
      "model_name=lr\n",
      "model_name=knn\n",
      "number_of_samples=3, selection_seed=8\n",
      "model_name=lr\n",
      "model_name=knn\n",
      "number_of_samples=3, selection_seed=9\n"
     ]
    },
    {
     "name": "stderr",
     "output_type": "stream",
     "text": [
      "d:\\Workspace\\thesis\\.venv\\lib\\site-packages\\sklearn\\metrics\\_classification.py:2399: UserWarning: y_pred contains classes not in y_true\n",
      "  warnings.warn(\"y_pred contains classes not in y_true\")\n"
     ]
    },
    {
     "name": "stdout",
     "output_type": "stream",
     "text": [
      "model_name=lr\n",
      "model_name=knn\n",
      "number_of_samples=10, selection_seed=0\n",
      "model_name=lr\n",
      "model_name=knn\n",
      "number_of_samples=10, selection_seed=1\n",
      "model_name=lr\n",
      "model_name=knn\n",
      "number_of_samples=10, selection_seed=2\n",
      "model_name=lr\n",
      "model_name=knn\n",
      "number_of_samples=10, selection_seed=3\n",
      "model_name=lr\n",
      "model_name=knn\n",
      "number_of_samples=10, selection_seed=4\n"
     ]
    },
    {
     "name": "stderr",
     "output_type": "stream",
     "text": [
      "d:\\Workspace\\thesis\\.venv\\lib\\site-packages\\sklearn\\metrics\\_classification.py:2399: UserWarning: y_pred contains classes not in y_true\n",
      "  warnings.warn(\"y_pred contains classes not in y_true\")\n"
     ]
    },
    {
     "name": "stdout",
     "output_type": "stream",
     "text": [
      "model_name=lr\n",
      "model_name=knn\n",
      "number_of_samples=10, selection_seed=5\n",
      "model_name=lr\n",
      "model_name=knn\n",
      "number_of_samples=10, selection_seed=6\n",
      "model_name=lr\n",
      "model_name=knn\n",
      "number_of_samples=10, selection_seed=7\n"
     ]
    },
    {
     "name": "stderr",
     "output_type": "stream",
     "text": [
      "d:\\Workspace\\thesis\\.venv\\lib\\site-packages\\sklearn\\metrics\\_classification.py:2399: UserWarning: y_pred contains classes not in y_true\n",
      "  warnings.warn(\"y_pred contains classes not in y_true\")\n"
     ]
    },
    {
     "name": "stdout",
     "output_type": "stream",
     "text": [
      "model_name=lr\n",
      "model_name=knn\n",
      "number_of_samples=10, selection_seed=8\n",
      "model_name=lr\n",
      "model_name=knn\n",
      "number_of_samples=10, selection_seed=9\n",
      "model_name=lr\n",
      "model_name=knn\n",
      "number_of_samples=30, selection_seed=0\n",
      "model_name=lr\n",
      "model_name=knn\n",
      "number_of_samples=30, selection_seed=1\n",
      "model_name=lr\n",
      "model_name=knn\n",
      "number_of_samples=30, selection_seed=2\n",
      "model_name=lr\n",
      "model_name=knn\n",
      "number_of_samples=30, selection_seed=3\n",
      "model_name=lr\n",
      "model_name=knn\n",
      "number_of_samples=30, selection_seed=4\n",
      "model_name=lr\n",
      "model_name=knn\n",
      "number_of_samples=30, selection_seed=5\n"
     ]
    },
    {
     "name": "stderr",
     "output_type": "stream",
     "text": [
      "d:\\Workspace\\thesis\\.venv\\lib\\site-packages\\sklearn\\metrics\\_classification.py:2399: UserWarning: y_pred contains classes not in y_true\n",
      "  warnings.warn(\"y_pred contains classes not in y_true\")\n"
     ]
    },
    {
     "name": "stdout",
     "output_type": "stream",
     "text": [
      "model_name=lr\n",
      "model_name=knn\n",
      "number_of_samples=30, selection_seed=6\n",
      "model_name=lr\n",
      "model_name=knn\n",
      "number_of_samples=30, selection_seed=7\n",
      "model_name=lr\n",
      "model_name=knn\n",
      "number_of_samples=30, selection_seed=8\n"
     ]
    },
    {
     "name": "stderr",
     "output_type": "stream",
     "text": [
      "d:\\Workspace\\thesis\\.venv\\lib\\site-packages\\sklearn\\metrics\\_classification.py:2399: UserWarning: y_pred contains classes not in y_true\n",
      "  warnings.warn(\"y_pred contains classes not in y_true\")\n"
     ]
    },
    {
     "name": "stdout",
     "output_type": "stream",
     "text": [
      "model_name=lr\n",
      "model_name=knn\n",
      "number_of_samples=30, selection_seed=9\n",
      "model_name=lr\n",
      "model_name=knn\n",
      "number_of_samples=None, selection_seed=None\n",
      "model_name=lr\n",
      "model_name=knn\n",
      "loading: ../datasets/intermediate-features/PlantDoc-ViT_B16-Random_20.csv\n",
      "number_of_samples=1, selection_seed=0\n"
     ]
    },
    {
     "name": "stderr",
     "output_type": "stream",
     "text": [
      "d:\\Workspace\\thesis\\.venv\\lib\\site-packages\\sklearn\\metrics\\_classification.py:2399: UserWarning: y_pred contains classes not in y_true\n",
      "  warnings.warn(\"y_pred contains classes not in y_true\")\n"
     ]
    },
    {
     "name": "stdout",
     "output_type": "stream",
     "text": [
      "model_name=lr\n",
      "model_name=knn\n",
      "number_of_samples=1, selection_seed=1\n"
     ]
    },
    {
     "name": "stderr",
     "output_type": "stream",
     "text": [
      "d:\\Workspace\\thesis\\.venv\\lib\\site-packages\\sklearn\\metrics\\_classification.py:2399: UserWarning: y_pred contains classes not in y_true\n",
      "  warnings.warn(\"y_pred contains classes not in y_true\")\n",
      "d:\\Workspace\\thesis\\.venv\\lib\\site-packages\\sklearn\\metrics\\_classification.py:2399: UserWarning: y_pred contains classes not in y_true\n",
      "  warnings.warn(\"y_pred contains classes not in y_true\")\n"
     ]
    },
    {
     "name": "stdout",
     "output_type": "stream",
     "text": [
      "model_name=lr\n",
      "model_name=knn\n",
      "number_of_samples=1, selection_seed=2\n",
      "model_name=lr\n",
      "model_name=knn\n",
      "number_of_samples=1, selection_seed=3\n",
      "model_name=lr\n",
      "model_name=knn\n",
      "number_of_samples=1, selection_seed=4\n"
     ]
    },
    {
     "name": "stderr",
     "output_type": "stream",
     "text": [
      "d:\\Workspace\\thesis\\.venv\\lib\\site-packages\\sklearn\\metrics\\_classification.py:2399: UserWarning: y_pred contains classes not in y_true\n",
      "  warnings.warn(\"y_pred contains classes not in y_true\")\n"
     ]
    },
    {
     "name": "stdout",
     "output_type": "stream",
     "text": [
      "model_name=lr\n",
      "model_name=knn\n",
      "number_of_samples=1, selection_seed=5\n"
     ]
    },
    {
     "name": "stderr",
     "output_type": "stream",
     "text": [
      "d:\\Workspace\\thesis\\.venv\\lib\\site-packages\\sklearn\\metrics\\_classification.py:2399: UserWarning: y_pred contains classes not in y_true\n",
      "  warnings.warn(\"y_pred contains classes not in y_true\")\n",
      "d:\\Workspace\\thesis\\.venv\\lib\\site-packages\\sklearn\\metrics\\_classification.py:2399: UserWarning: y_pred contains classes not in y_true\n",
      "  warnings.warn(\"y_pred contains classes not in y_true\")\n",
      "d:\\Workspace\\thesis\\.venv\\lib\\site-packages\\sklearn\\metrics\\_classification.py:2399: UserWarning: y_pred contains classes not in y_true\n",
      "  warnings.warn(\"y_pred contains classes not in y_true\")\n"
     ]
    },
    {
     "name": "stdout",
     "output_type": "stream",
     "text": [
      "model_name=lr\n",
      "model_name=knn\n",
      "number_of_samples=1, selection_seed=6\n"
     ]
    },
    {
     "name": "stderr",
     "output_type": "stream",
     "text": [
      "d:\\Workspace\\thesis\\.venv\\lib\\site-packages\\sklearn\\metrics\\_classification.py:2399: UserWarning: y_pred contains classes not in y_true\n",
      "  warnings.warn(\"y_pred contains classes not in y_true\")\n",
      "d:\\Workspace\\thesis\\.venv\\lib\\site-packages\\sklearn\\metrics\\_classification.py:2399: UserWarning: y_pred contains classes not in y_true\n",
      "  warnings.warn(\"y_pred contains classes not in y_true\")\n"
     ]
    },
    {
     "name": "stdout",
     "output_type": "stream",
     "text": [
      "model_name=lr\n",
      "model_name=knn\n",
      "number_of_samples=1, selection_seed=7\n"
     ]
    },
    {
     "name": "stderr",
     "output_type": "stream",
     "text": [
      "d:\\Workspace\\thesis\\.venv\\lib\\site-packages\\sklearn\\metrics\\_classification.py:2399: UserWarning: y_pred contains classes not in y_true\n",
      "  warnings.warn(\"y_pred contains classes not in y_true\")\n"
     ]
    },
    {
     "name": "stdout",
     "output_type": "stream",
     "text": [
      "model_name=lr\n",
      "model_name=knn\n",
      "number_of_samples=1, selection_seed=8\n",
      "model_name=lr\n",
      "model_name=knn\n",
      "number_of_samples=1, selection_seed=9\n"
     ]
    },
    {
     "name": "stderr",
     "output_type": "stream",
     "text": [
      "d:\\Workspace\\thesis\\.venv\\lib\\site-packages\\sklearn\\metrics\\_classification.py:2399: UserWarning: y_pred contains classes not in y_true\n",
      "  warnings.warn(\"y_pred contains classes not in y_true\")\n",
      "d:\\Workspace\\thesis\\.venv\\lib\\site-packages\\sklearn\\metrics\\_classification.py:2399: UserWarning: y_pred contains classes not in y_true\n",
      "  warnings.warn(\"y_pred contains classes not in y_true\")\n",
      "d:\\Workspace\\thesis\\.venv\\lib\\site-packages\\sklearn\\metrics\\_classification.py:2399: UserWarning: y_pred contains classes not in y_true\n",
      "  warnings.warn(\"y_pred contains classes not in y_true\")\n"
     ]
    },
    {
     "name": "stdout",
     "output_type": "stream",
     "text": [
      "model_name=lr\n",
      "model_name=knn\n",
      "number_of_samples=3, selection_seed=0\n",
      "model_name=lr\n",
      "model_name=knn\n",
      "number_of_samples=3, selection_seed=1\n"
     ]
    },
    {
     "name": "stderr",
     "output_type": "stream",
     "text": [
      "d:\\Workspace\\thesis\\.venv\\lib\\site-packages\\sklearn\\metrics\\_classification.py:2399: UserWarning: y_pred contains classes not in y_true\n",
      "  warnings.warn(\"y_pred contains classes not in y_true\")\n"
     ]
    },
    {
     "name": "stdout",
     "output_type": "stream",
     "text": [
      "model_name=lr\n",
      "model_name=knn\n",
      "number_of_samples=3, selection_seed=2\n",
      "model_name=lr\n",
      "model_name=knn\n",
      "number_of_samples=3, selection_seed=3\n",
      "model_name=lr\n",
      "model_name=knn\n",
      "number_of_samples=3, selection_seed=4\n"
     ]
    },
    {
     "name": "stderr",
     "output_type": "stream",
     "text": [
      "d:\\Workspace\\thesis\\.venv\\lib\\site-packages\\sklearn\\metrics\\_classification.py:2399: UserWarning: y_pred contains classes not in y_true\n",
      "  warnings.warn(\"y_pred contains classes not in y_true\")\n"
     ]
    },
    {
     "name": "stdout",
     "output_type": "stream",
     "text": [
      "model_name=lr\n",
      "model_name=knn\n",
      "number_of_samples=3, selection_seed=5\n"
     ]
    },
    {
     "name": "stderr",
     "output_type": "stream",
     "text": [
      "d:\\Workspace\\thesis\\.venv\\lib\\site-packages\\sklearn\\metrics\\_classification.py:2399: UserWarning: y_pred contains classes not in y_true\n",
      "  warnings.warn(\"y_pred contains classes not in y_true\")\n"
     ]
    },
    {
     "name": "stdout",
     "output_type": "stream",
     "text": [
      "model_name=lr\n",
      "model_name=knn\n",
      "number_of_samples=3, selection_seed=6\n"
     ]
    },
    {
     "name": "stderr",
     "output_type": "stream",
     "text": [
      "d:\\Workspace\\thesis\\.venv\\lib\\site-packages\\sklearn\\metrics\\_classification.py:2399: UserWarning: y_pred contains classes not in y_true\n",
      "  warnings.warn(\"y_pred contains classes not in y_true\")\n"
     ]
    },
    {
     "name": "stdout",
     "output_type": "stream",
     "text": [
      "model_name=lr\n",
      "model_name=knn\n",
      "number_of_samples=3, selection_seed=7\n"
     ]
    },
    {
     "name": "stderr",
     "output_type": "stream",
     "text": [
      "d:\\Workspace\\thesis\\.venv\\lib\\site-packages\\sklearn\\metrics\\_classification.py:2399: UserWarning: y_pred contains classes not in y_true\n",
      "  warnings.warn(\"y_pred contains classes not in y_true\")\n"
     ]
    },
    {
     "name": "stdout",
     "output_type": "stream",
     "text": [
      "model_name=lr\n",
      "model_name=knn\n",
      "number_of_samples=3, selection_seed=8\n",
      "model_name=lr\n",
      "model_name=knn\n",
      "number_of_samples=3, selection_seed=9\n",
      "model_name=lr\n",
      "model_name=knn\n",
      "number_of_samples=10, selection_seed=0\n",
      "model_name=lr\n",
      "model_name=knn\n",
      "number_of_samples=10, selection_seed=1\n",
      "model_name=lr\n",
      "model_name=knn\n",
      "number_of_samples=10, selection_seed=2\n",
      "model_name=lr\n",
      "model_name=knn\n",
      "number_of_samples=10, selection_seed=3\n",
      "model_name=lr\n",
      "model_name=knn\n",
      "number_of_samples=10, selection_seed=4\n",
      "model_name=lr\n",
      "model_name=knn\n",
      "number_of_samples=10, selection_seed=5\n",
      "model_name=lr\n",
      "model_name=knn\n",
      "number_of_samples=10, selection_seed=6\n",
      "model_name=lr\n",
      "model_name=knn\n",
      "number_of_samples=10, selection_seed=7\n"
     ]
    },
    {
     "name": "stderr",
     "output_type": "stream",
     "text": [
      "d:\\Workspace\\thesis\\.venv\\lib\\site-packages\\sklearn\\metrics\\_classification.py:2399: UserWarning: y_pred contains classes not in y_true\n",
      "  warnings.warn(\"y_pred contains classes not in y_true\")\n"
     ]
    },
    {
     "name": "stdout",
     "output_type": "stream",
     "text": [
      "model_name=lr\n",
      "model_name=knn\n",
      "number_of_samples=10, selection_seed=8\n",
      "model_name=lr\n",
      "model_name=knn\n",
      "number_of_samples=10, selection_seed=9\n",
      "model_name=lr\n",
      "model_name=knn\n",
      "number_of_samples=30, selection_seed=0\n"
     ]
    },
    {
     "name": "stderr",
     "output_type": "stream",
     "text": [
      "d:\\Workspace\\thesis\\.venv\\lib\\site-packages\\sklearn\\metrics\\_classification.py:2399: UserWarning: y_pred contains classes not in y_true\n",
      "  warnings.warn(\"y_pred contains classes not in y_true\")\n"
     ]
    },
    {
     "name": "stdout",
     "output_type": "stream",
     "text": [
      "model_name=lr\n",
      "model_name=knn\n",
      "number_of_samples=30, selection_seed=1\n",
      "model_name=lr\n",
      "model_name=knn\n",
      "number_of_samples=30, selection_seed=2\n"
     ]
    },
    {
     "name": "stderr",
     "output_type": "stream",
     "text": [
      "d:\\Workspace\\thesis\\.venv\\lib\\site-packages\\sklearn\\metrics\\_classification.py:2399: UserWarning: y_pred contains classes not in y_true\n",
      "  warnings.warn(\"y_pred contains classes not in y_true\")\n"
     ]
    },
    {
     "name": "stdout",
     "output_type": "stream",
     "text": [
      "model_name=lr\n",
      "model_name=knn\n",
      "number_of_samples=30, selection_seed=3\n"
     ]
    },
    {
     "name": "stderr",
     "output_type": "stream",
     "text": [
      "d:\\Workspace\\thesis\\.venv\\lib\\site-packages\\sklearn\\metrics\\_classification.py:2399: UserWarning: y_pred contains classes not in y_true\n",
      "  warnings.warn(\"y_pred contains classes not in y_true\")\n"
     ]
    },
    {
     "name": "stdout",
     "output_type": "stream",
     "text": [
      "model_name=lr\n",
      "model_name=knn\n",
      "number_of_samples=30, selection_seed=4\n"
     ]
    },
    {
     "name": "stderr",
     "output_type": "stream",
     "text": [
      "d:\\Workspace\\thesis\\.venv\\lib\\site-packages\\sklearn\\metrics\\_classification.py:2399: UserWarning: y_pred contains classes not in y_true\n",
      "  warnings.warn(\"y_pred contains classes not in y_true\")\n"
     ]
    },
    {
     "name": "stdout",
     "output_type": "stream",
     "text": [
      "model_name=lr\n",
      "model_name=knn\n",
      "number_of_samples=30, selection_seed=5\n"
     ]
    },
    {
     "name": "stderr",
     "output_type": "stream",
     "text": [
      "d:\\Workspace\\thesis\\.venv\\lib\\site-packages\\sklearn\\metrics\\_classification.py:2399: UserWarning: y_pred contains classes not in y_true\n",
      "  warnings.warn(\"y_pred contains classes not in y_true\")\n"
     ]
    },
    {
     "name": "stdout",
     "output_type": "stream",
     "text": [
      "model_name=lr\n",
      "model_name=knn\n",
      "number_of_samples=30, selection_seed=6\n",
      "model_name=lr\n",
      "model_name=knn\n",
      "number_of_samples=30, selection_seed=7\n",
      "model_name=lr\n",
      "model_name=knn\n",
      "number_of_samples=30, selection_seed=8\n",
      "model_name=lr\n",
      "model_name=knn\n",
      "number_of_samples=30, selection_seed=9\n",
      "model_name=lr\n",
      "model_name=knn\n",
      "number_of_samples=None, selection_seed=None\n",
      "model_name=lr\n",
      "model_name=knn\n",
      "loading: ../datasets/intermediate-features/PlantDoc-ViT_B16-Random_21.csv\n",
      "number_of_samples=1, selection_seed=0\n"
     ]
    },
    {
     "name": "stderr",
     "output_type": "stream",
     "text": [
      "d:\\Workspace\\thesis\\.venv\\lib\\site-packages\\sklearn\\metrics\\_classification.py:2399: UserWarning: y_pred contains classes not in y_true\n",
      "  warnings.warn(\"y_pred contains classes not in y_true\")\n",
      "d:\\Workspace\\thesis\\.venv\\lib\\site-packages\\sklearn\\metrics\\_classification.py:2399: UserWarning: y_pred contains classes not in y_true\n",
      "  warnings.warn(\"y_pred contains classes not in y_true\")\n"
     ]
    },
    {
     "name": "stdout",
     "output_type": "stream",
     "text": [
      "model_name=lr\n",
      "model_name=knn\n",
      "number_of_samples=1, selection_seed=1\n",
      "model_name=lr\n",
      "model_name=knn\n",
      "number_of_samples=1, selection_seed=2\n"
     ]
    },
    {
     "name": "stderr",
     "output_type": "stream",
     "text": [
      "d:\\Workspace\\thesis\\.venv\\lib\\site-packages\\sklearn\\metrics\\_classification.py:2399: UserWarning: y_pred contains classes not in y_true\n",
      "  warnings.warn(\"y_pred contains classes not in y_true\")\n",
      "d:\\Workspace\\thesis\\.venv\\lib\\site-packages\\sklearn\\metrics\\_classification.py:2399: UserWarning: y_pred contains classes not in y_true\n",
      "  warnings.warn(\"y_pred contains classes not in y_true\")\n",
      "d:\\Workspace\\thesis\\.venv\\lib\\site-packages\\sklearn\\metrics\\_classification.py:2399: UserWarning: y_pred contains classes not in y_true\n",
      "  warnings.warn(\"y_pred contains classes not in y_true\")\n"
     ]
    },
    {
     "name": "stdout",
     "output_type": "stream",
     "text": [
      "model_name=lr\n",
      "model_name=knn\n",
      "number_of_samples=1, selection_seed=3\n"
     ]
    },
    {
     "name": "stderr",
     "output_type": "stream",
     "text": [
      "d:\\Workspace\\thesis\\.venv\\lib\\site-packages\\sklearn\\metrics\\_classification.py:2399: UserWarning: y_pred contains classes not in y_true\n",
      "  warnings.warn(\"y_pred contains classes not in y_true\")\n"
     ]
    },
    {
     "name": "stdout",
     "output_type": "stream",
     "text": [
      "model_name=lr\n",
      "model_name=knn\n",
      "number_of_samples=1, selection_seed=4\n"
     ]
    },
    {
     "name": "stderr",
     "output_type": "stream",
     "text": [
      "d:\\Workspace\\thesis\\.venv\\lib\\site-packages\\sklearn\\metrics\\_classification.py:2399: UserWarning: y_pred contains classes not in y_true\n",
      "  warnings.warn(\"y_pred contains classes not in y_true\")\n",
      "d:\\Workspace\\thesis\\.venv\\lib\\site-packages\\sklearn\\metrics\\_classification.py:2399: UserWarning: y_pred contains classes not in y_true\n",
      "  warnings.warn(\"y_pred contains classes not in y_true\")\n"
     ]
    },
    {
     "name": "stdout",
     "output_type": "stream",
     "text": [
      "model_name=lr\n",
      "model_name=knn\n",
      "number_of_samples=1, selection_seed=5\n"
     ]
    },
    {
     "name": "stderr",
     "output_type": "stream",
     "text": [
      "d:\\Workspace\\thesis\\.venv\\lib\\site-packages\\sklearn\\metrics\\_classification.py:2399: UserWarning: y_pred contains classes not in y_true\n",
      "  warnings.warn(\"y_pred contains classes not in y_true\")\n",
      "d:\\Workspace\\thesis\\.venv\\lib\\site-packages\\sklearn\\metrics\\_classification.py:2399: UserWarning: y_pred contains classes not in y_true\n",
      "  warnings.warn(\"y_pred contains classes not in y_true\")\n"
     ]
    },
    {
     "name": "stdout",
     "output_type": "stream",
     "text": [
      "model_name=lr\n",
      "model_name=knn\n",
      "number_of_samples=1, selection_seed=6\n"
     ]
    },
    {
     "name": "stderr",
     "output_type": "stream",
     "text": [
      "d:\\Workspace\\thesis\\.venv\\lib\\site-packages\\sklearn\\metrics\\_classification.py:2399: UserWarning: y_pred contains classes not in y_true\n",
      "  warnings.warn(\"y_pred contains classes not in y_true\")\n",
      "d:\\Workspace\\thesis\\.venv\\lib\\site-packages\\sklearn\\metrics\\_classification.py:2399: UserWarning: y_pred contains classes not in y_true\n",
      "  warnings.warn(\"y_pred contains classes not in y_true\")\n"
     ]
    },
    {
     "name": "stdout",
     "output_type": "stream",
     "text": [
      "model_name=lr\n",
      "model_name=knn\n",
      "number_of_samples=1, selection_seed=7\n",
      "model_name=lr\n",
      "model_name=knn\n",
      "number_of_samples=1, selection_seed=8\n"
     ]
    },
    {
     "name": "stderr",
     "output_type": "stream",
     "text": [
      "d:\\Workspace\\thesis\\.venv\\lib\\site-packages\\sklearn\\metrics\\_classification.py:2399: UserWarning: y_pred contains classes not in y_true\n",
      "  warnings.warn(\"y_pred contains classes not in y_true\")\n",
      "d:\\Workspace\\thesis\\.venv\\lib\\site-packages\\sklearn\\metrics\\_classification.py:2399: UserWarning: y_pred contains classes not in y_true\n",
      "  warnings.warn(\"y_pred contains classes not in y_true\")\n",
      "d:\\Workspace\\thesis\\.venv\\lib\\site-packages\\sklearn\\metrics\\_classification.py:2399: UserWarning: y_pred contains classes not in y_true\n",
      "  warnings.warn(\"y_pred contains classes not in y_true\")\n"
     ]
    },
    {
     "name": "stdout",
     "output_type": "stream",
     "text": [
      "model_name=lr\n",
      "model_name=knn\n",
      "number_of_samples=1, selection_seed=9\n"
     ]
    },
    {
     "name": "stderr",
     "output_type": "stream",
     "text": [
      "d:\\Workspace\\thesis\\.venv\\lib\\site-packages\\sklearn\\metrics\\_classification.py:2399: UserWarning: y_pred contains classes not in y_true\n",
      "  warnings.warn(\"y_pred contains classes not in y_true\")\n",
      "d:\\Workspace\\thesis\\.venv\\lib\\site-packages\\sklearn\\metrics\\_classification.py:2399: UserWarning: y_pred contains classes not in y_true\n",
      "  warnings.warn(\"y_pred contains classes not in y_true\")\n"
     ]
    },
    {
     "name": "stdout",
     "output_type": "stream",
     "text": [
      "model_name=lr\n",
      "model_name=knn\n",
      "number_of_samples=3, selection_seed=0\n"
     ]
    },
    {
     "name": "stderr",
     "output_type": "stream",
     "text": [
      "d:\\Workspace\\thesis\\.venv\\lib\\site-packages\\sklearn\\metrics\\_classification.py:2399: UserWarning: y_pred contains classes not in y_true\n",
      "  warnings.warn(\"y_pred contains classes not in y_true\")\n"
     ]
    },
    {
     "name": "stdout",
     "output_type": "stream",
     "text": [
      "model_name=lr\n",
      "model_name=knn\n",
      "number_of_samples=3, selection_seed=1\n"
     ]
    },
    {
     "name": "stderr",
     "output_type": "stream",
     "text": [
      "d:\\Workspace\\thesis\\.venv\\lib\\site-packages\\sklearn\\metrics\\_classification.py:2399: UserWarning: y_pred contains classes not in y_true\n",
      "  warnings.warn(\"y_pred contains classes not in y_true\")\n"
     ]
    },
    {
     "name": "stdout",
     "output_type": "stream",
     "text": [
      "model_name=lr\n",
      "model_name=knn\n",
      "number_of_samples=3, selection_seed=2\n",
      "model_name=lr\n",
      "model_name=knn\n",
      "number_of_samples=3, selection_seed=3\n"
     ]
    },
    {
     "name": "stderr",
     "output_type": "stream",
     "text": [
      "d:\\Workspace\\thesis\\.venv\\lib\\site-packages\\sklearn\\metrics\\_classification.py:2399: UserWarning: y_pred contains classes not in y_true\n",
      "  warnings.warn(\"y_pred contains classes not in y_true\")\n",
      "d:\\Workspace\\thesis\\.venv\\lib\\site-packages\\sklearn\\metrics\\_classification.py:2399: UserWarning: y_pred contains classes not in y_true\n",
      "  warnings.warn(\"y_pred contains classes not in y_true\")\n",
      "d:\\Workspace\\thesis\\.venv\\lib\\site-packages\\sklearn\\metrics\\_classification.py:2399: UserWarning: y_pred contains classes not in y_true\n",
      "  warnings.warn(\"y_pred contains classes not in y_true\")\n"
     ]
    },
    {
     "name": "stdout",
     "output_type": "stream",
     "text": [
      "model_name=lr\n",
      "model_name=knn\n",
      "number_of_samples=3, selection_seed=4\n",
      "model_name=lr\n",
      "model_name=knn\n",
      "number_of_samples=3, selection_seed=5\n"
     ]
    },
    {
     "name": "stderr",
     "output_type": "stream",
     "text": [
      "d:\\Workspace\\thesis\\.venv\\lib\\site-packages\\sklearn\\metrics\\_classification.py:2399: UserWarning: y_pred contains classes not in y_true\n",
      "  warnings.warn(\"y_pred contains classes not in y_true\")\n",
      "d:\\Workspace\\thesis\\.venv\\lib\\site-packages\\sklearn\\metrics\\_classification.py:2399: UserWarning: y_pred contains classes not in y_true\n",
      "  warnings.warn(\"y_pred contains classes not in y_true\")\n",
      "d:\\Workspace\\thesis\\.venv\\lib\\site-packages\\sklearn\\metrics\\_classification.py:2399: UserWarning: y_pred contains classes not in y_true\n",
      "  warnings.warn(\"y_pred contains classes not in y_true\")\n"
     ]
    },
    {
     "name": "stdout",
     "output_type": "stream",
     "text": [
      "model_name=lr\n",
      "model_name=knn\n",
      "number_of_samples=3, selection_seed=6\n",
      "model_name=lr\n",
      "model_name=knn\n",
      "number_of_samples=3, selection_seed=7\n"
     ]
    },
    {
     "name": "stderr",
     "output_type": "stream",
     "text": [
      "d:\\Workspace\\thesis\\.venv\\lib\\site-packages\\sklearn\\metrics\\_classification.py:2399: UserWarning: y_pred contains classes not in y_true\n",
      "  warnings.warn(\"y_pred contains classes not in y_true\")\n"
     ]
    },
    {
     "name": "stdout",
     "output_type": "stream",
     "text": [
      "model_name=lr\n",
      "model_name=knn\n",
      "number_of_samples=3, selection_seed=8\n",
      "model_name=lr\n",
      "model_name=knn\n",
      "number_of_samples=3, selection_seed=9\n",
      "model_name=lr\n",
      "model_name=knn\n",
      "number_of_samples=10, selection_seed=0\n",
      "model_name=lr\n",
      "model_name=knn\n",
      "number_of_samples=10, selection_seed=1\n"
     ]
    },
    {
     "name": "stderr",
     "output_type": "stream",
     "text": [
      "d:\\Workspace\\thesis\\.venv\\lib\\site-packages\\sklearn\\metrics\\_classification.py:2399: UserWarning: y_pred contains classes not in y_true\n",
      "  warnings.warn(\"y_pred contains classes not in y_true\")\n"
     ]
    },
    {
     "name": "stdout",
     "output_type": "stream",
     "text": [
      "model_name=lr\n",
      "model_name=knn\n",
      "number_of_samples=10, selection_seed=2\n",
      "model_name=lr\n",
      "model_name=knn\n",
      "number_of_samples=10, selection_seed=3\n"
     ]
    },
    {
     "name": "stderr",
     "output_type": "stream",
     "text": [
      "d:\\Workspace\\thesis\\.venv\\lib\\site-packages\\sklearn\\metrics\\_classification.py:2399: UserWarning: y_pred contains classes not in y_true\n",
      "  warnings.warn(\"y_pred contains classes not in y_true\")\n"
     ]
    },
    {
     "name": "stdout",
     "output_type": "stream",
     "text": [
      "model_name=lr\n",
      "model_name=knn\n",
      "number_of_samples=10, selection_seed=4\n",
      "model_name=lr\n",
      "model_name=knn\n",
      "number_of_samples=10, selection_seed=5\n"
     ]
    },
    {
     "name": "stderr",
     "output_type": "stream",
     "text": [
      "d:\\Workspace\\thesis\\.venv\\lib\\site-packages\\sklearn\\metrics\\_classification.py:2399: UserWarning: y_pred contains classes not in y_true\n",
      "  warnings.warn(\"y_pred contains classes not in y_true\")\n"
     ]
    },
    {
     "name": "stdout",
     "output_type": "stream",
     "text": [
      "model_name=lr\n",
      "model_name=knn\n",
      "number_of_samples=10, selection_seed=6\n",
      "model_name=lr\n",
      "model_name=knn\n",
      "number_of_samples=10, selection_seed=7\n"
     ]
    },
    {
     "name": "stderr",
     "output_type": "stream",
     "text": [
      "d:\\Workspace\\thesis\\.venv\\lib\\site-packages\\sklearn\\metrics\\_classification.py:2399: UserWarning: y_pred contains classes not in y_true\n",
      "  warnings.warn(\"y_pred contains classes not in y_true\")\n"
     ]
    },
    {
     "name": "stdout",
     "output_type": "stream",
     "text": [
      "model_name=lr\n",
      "model_name=knn\n",
      "number_of_samples=10, selection_seed=8\n",
      "model_name=lr\n",
      "model_name=knn\n",
      "number_of_samples=10, selection_seed=9\n",
      "model_name=lr\n",
      "model_name=knn\n",
      "number_of_samples=30, selection_seed=0\n"
     ]
    },
    {
     "name": "stderr",
     "output_type": "stream",
     "text": [
      "d:\\Workspace\\thesis\\.venv\\lib\\site-packages\\sklearn\\metrics\\_classification.py:2399: UserWarning: y_pred contains classes not in y_true\n",
      "  warnings.warn(\"y_pred contains classes not in y_true\")\n"
     ]
    },
    {
     "name": "stdout",
     "output_type": "stream",
     "text": [
      "model_name=lr\n",
      "model_name=knn\n",
      "number_of_samples=30, selection_seed=1\n",
      "model_name=lr\n",
      "model_name=knn\n",
      "number_of_samples=30, selection_seed=2\n",
      "model_name=lr\n",
      "model_name=knn\n",
      "number_of_samples=30, selection_seed=3\n",
      "model_name=lr\n",
      "model_name=knn\n",
      "number_of_samples=30, selection_seed=4\n",
      "model_name=lr\n",
      "model_name=knn\n",
      "number_of_samples=30, selection_seed=5\n",
      "model_name=lr\n",
      "model_name=knn\n",
      "number_of_samples=30, selection_seed=6\n",
      "model_name=lr\n",
      "model_name=knn\n",
      "number_of_samples=30, selection_seed=7\n",
      "model_name=lr\n",
      "model_name=knn\n",
      "number_of_samples=30, selection_seed=8\n",
      "model_name=lr\n",
      "model_name=knn\n",
      "number_of_samples=30, selection_seed=9\n",
      "model_name=lr\n",
      "model_name=knn\n",
      "number_of_samples=None, selection_seed=None\n",
      "model_name=lr\n",
      "model_name=knn\n"
     ]
    }
   ],
   "source": [
    "for i, path in enumerate(csv_paths):\n",
    "    csv_path = os.path.join(csv_root_path, path)\n",
    "    calculate_scores_of_file(csv_path)"
   ]
  }
 ],
 "metadata": {
  "kernelspec": {
   "display_name": "Python 3.9.7 ('.venv': venv)",
   "language": "python",
   "name": "python3"
  },
  "language_info": {
   "codemirror_mode": {
    "name": "ipython",
    "version": 3
   },
   "file_extension": ".py",
   "mimetype": "text/x-python",
   "name": "python",
   "nbconvert_exporter": "python",
   "pygments_lexer": "ipython3",
   "version": "3.8.10"
  },
  "orig_nbformat": 4,
  "vscode": {
   "interpreter": {
    "hash": "412f64844b7b8af74bdbb265a073648c443bf75ef51a1e949163ab9198702ceb"
   }
  }
 },
 "nbformat": 4,
 "nbformat_minor": 2
}
