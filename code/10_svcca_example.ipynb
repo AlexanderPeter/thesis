{
 "cells": [
  {
   "cell_type": "markdown",
   "metadata": {},
   "source": [
    "Largely copied from [svcca tutorial](https://github.com/google/svcca/blob/master/tutorials/001_Introduction.ipynb)\n"
   ]
  },
  {
   "cell_type": "code",
   "execution_count": 4,
   "metadata": {},
   "outputs": [],
   "source": [
    "import numpy as np\n",
    "\n",
    "import sys\n",
    "\n",
    "sys.path.append(\"python\")\n",
    "import cca_core\n"
   ]
  },
  {
   "cell_type": "code",
   "execution_count": 8,
   "metadata": {},
   "outputs": [],
   "source": [
    "m_1 = 100\n",
    "m_2 = 50\n",
    "m = 1000\n",
    "\n",
    "random_layer_1 = np.random.randn(m_1, m)\n",
    "random_layer_2 = np.random.randn(m_2, m)\n"
   ]
  },
  {
   "cell_type": "code",
   "execution_count": 9,
   "metadata": {},
   "outputs": [
    {
     "name": "stdout",
     "output_type": "stream",
     "text": [
      "0.2998\n"
     ]
    }
   ],
   "source": [
    "results = cca_core.get_cca_similarity(random_layer_1, random_layer_2, verbose=False)\n",
    "print(\"{:.4f}\".format(np.mean(results[\"cca_coef1\"])))\n"
   ]
  },
  {
   "cell_type": "markdown",
   "metadata": {},
   "source": [
    "Ideally we have an order of magnitude more data points than neurons that we're applying CCA over e.g. 5x -- 10x the amount of data."
   ]
  }
 ],
 "metadata": {
  "kernelspec": {
   "display_name": "Python 3.9.7 ('.venv': venv)",
   "language": "python",
   "name": "python3"
  },
  "language_info": {
   "codemirror_mode": {
    "name": "ipython",
    "version": 3
   },
   "file_extension": ".py",
   "mimetype": "text/x-python",
   "name": "python",
   "nbconvert_exporter": "python",
   "pygments_lexer": "ipython3",
   "version": "3.9.7"
  },
  "orig_nbformat": 4,
  "vscode": {
   "interpreter": {
    "hash": "412f64844b7b8af74bdbb265a073648c443bf75ef51a1e949163ab9198702ceb"
   }
  }
 },
 "nbformat": 4,
 "nbformat_minor": 2
}
